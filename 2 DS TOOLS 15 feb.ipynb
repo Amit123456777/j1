{
 "cells": [
  {
   "cell_type": "code",
   "execution_count": 20,
   "id": "eda4849c-f8e3-4b21-8a4d-b7a0d9896391",
   "metadata": {
    "scrolled": true
   },
   "outputs": [
    {
     "name": "stdout",
     "output_type": "stream",
     "text": [
      "      name  Score      Sport Sex\n",
      "0     Bill     90  Wrestling   M\n",
      "1      Tom     80   Football   M\n",
      "2      Tim     85     Skiing   M\n",
      "3     John     75   Swimming   M\n",
      "4     Alex     95     Tennis   F\n",
      "5  Vanessa     60     Karete   F\n",
      "6     Kate     65    Surfing   F\n"
     ]
    }
   ],
   "source": [
    "# series is a component of data frame\n",
    "import pandas as pd \n",
    "dis = {\n",
    "    \"name\" :[\"Bill\", \"Tom\", \"Tim\", \"John\", \"Alex\", \"Vanessa\", \"Kate\"],\n",
    "       \"Score\" :[90,80,85,75,95,60,65],\n",
    "       \"Sport\" : [\"Wrestling\", \"Football\", \"Skiing\", \"Swimming\", \"Tennis\", \"Karete\", \"Surfing\"],\n",
    "       \"Sex\" : [\"M\", \"M\",\"M\", \"M\", \"F\",\"F\", \"F\"]\n",
    "}\n",
    "\n",
    "var = pd.DataFrame(dis)\n",
    "print(var)"
   ]
  },
  {
   "cell_type": "code",
   "execution_count": null,
   "id": "d7184dd6-e057-4ed3-bb7f-d84bb35515cb",
   "metadata": {},
   "outputs": [],
   "source": []
  },
  {
   "cell_type": "code",
   "execution_count": 21,
   "id": "1bf59b9e-79b7-4658-a9a8-a6e575617251",
   "metadata": {},
   "outputs": [
    {
     "name": "stdout",
     "output_type": "stream",
     "text": [
      "      name Sex      Sport  Score\n",
      "0     Bill   M  Wrestling     90\n",
      "1      Tom   M   Football     80\n",
      "2      Tim   M     Skiing     85\n",
      "3     John   M   Swimming     75\n",
      "4     Alex   F     Tennis     95\n",
      "5  Vanessa   F     Karete     60\n",
      "6     Kate   F    Surfing     65\n"
     ]
    }
   ],
   "source": [
    "# change column order\n",
    "import pandas as pd \n",
    "dis = {\n",
    "    \"Sex\" : [\"M\", \"M\",\"M\", \"M\", \"F\",\"F\", \"F\"],\n",
    "    \"Sport\" : [\"Wrestling\", \"Football\", \"Skiing\", \"Swimming\", \"Tennis\", \"Karete\", \"Surfing\"],\n",
    "    \"Score\" :[90,80,85,75,95,60,65],\n",
    "    \"name\" :[\"Bill\", \"Tom\", \"Tim\", \"John\", \"Alex\", \"Vanessa\", \"Kate\"]       \n",
    "}\n",
    "\n",
    "var = pd.DataFrame(dis, columns = [\"name\", \"Sex\", \"Sport\", \"Score\"])\n",
    "\n",
    "print(var)"
   ]
  },
  {
   "cell_type": "code",
   "execution_count": null,
   "id": "8d76c492-eccd-43d3-8c6e-a3a15dee0092",
   "metadata": {},
   "outputs": [],
   "source": []
  },
  {
   "cell_type": "code",
   "execution_count": 31,
   "id": "842a41b1-fe14-4d4d-a7fc-4a2f12062555",
   "metadata": {},
   "outputs": [
    {
     "name": "stdout",
     "output_type": "stream",
     "text": [
      "      name Sex Sport  Score gender\n",
      "0     Bill   M   NaN     90    NaN\n",
      "1      Tom   M   NaN     80    NaN\n",
      "2      Tim   M   NaN     85    NaN\n",
      "3     John   M   NaN     75    NaN\n",
      "4     Alex   F   NaN     95    NaN\n",
      "5  Vanessa   F   NaN     60    NaN\n",
      "6     Kate   F   NaN     65    NaN\n"
     ]
    }
   ],
   "source": [
    "# add new col = gender\n",
    "# change column order\n",
    "import pandas as pd \n",
    "dis = {\n",
    "    \"Sex\" : [\"M\", \"M\",\"M\", \"M\", \"F\",\"F\", \"F\"],\n",
    "    \"sport\" : [\"Wrestling\", \"Football\", \"Skiing\", \"Swimming\", \"Tennis\", \"Karete\", \"Surfing\"],\n",
    "    \"Score\" :[90,80,85,75,95,60,65],\n",
    "    \"name\" :[\"Bill\", \"Tom\", \"Tim\", \"John\", \"Alex\", \"Vanessa\", \"Kate\"]       \n",
    "}\n",
    "\n",
    "var = pd.DataFrame(dis, columns = [\"name\", \"Sex\", \"Sport\", \"Score\", \"gender\"])\n",
    "\n",
    "print(var)"
   ]
  },
  {
   "cell_type": "code",
   "execution_count": null,
   "id": "b1aa3d38-0864-483f-ab06-6ea0d510016f",
   "metadata": {},
   "outputs": [],
   "source": []
  },
  {
   "cell_type": "code",
   "execution_count": 38,
   "id": "dd461ee9-4595-47fd-98d8-c65ef7ffc307",
   "metadata": {},
   "outputs": [
    {
     "name": "stdout",
     "output_type": "stream",
     "text": [
      "      name Sex Sport  Score gender  Gender\n",
      "0     Bill   M   NaN     90    NaN    Male\n",
      "1      Tom   M   NaN     80    NaN    Male\n",
      "2      Tim   M   NaN     85    NaN    Male\n",
      "3     John   M   NaN     75    NaN    Male\n",
      "4     Alex   F   NaN     95    NaN  Female\n",
      "5  Vanessa   F   NaN     60    NaN  Female\n",
      "6     Kate   F   NaN     65    NaN  Female\n"
     ]
    }
   ],
   "source": [
    "# add new col = gender\n",
    "# change column order\n",
    "import pandas as pd \n",
    "dis = {\n",
    "    \"Sex\" : [\"M\", \"M\",\"M\", \"M\", \"F\",\"F\", \"F\"],\n",
    "    \"sport\" : [\"Wrestling\", \"Football\", \"Skiing\", \"Swimming\", \"Tennis\", \"Karete\", \"Surfing\"],\n",
    "    \"Score\" :[90,80,85,75,95,60,65],\n",
    "    \"name\" :[\"Bill\", \"Tom\", \"Tim\", \"John\", \"Alex\", \"Vanessa\", \"Kate\"]       \n",
    "}\n",
    "\n",
    "df = pd.DataFrame(dis, columns = [\"name\", \"Sex\", \"Sport\", \"Score\", \"gender\"])\n",
    "\n",
    "df['Gender'] = df['Sex'].map({'M':'Male','F':'Female'})\n",
    "print(df)"
   ]
  },
  {
   "cell_type": "code",
   "execution_count": 44,
   "id": "0a10ca46-d912-4925-b60b-1a09b8e2aee7",
   "metadata": {},
   "outputs": [
    {
     "name": "stdout",
     "output_type": "stream",
     "text": [
      "      name Sex Sport  Score gender  Num_Gender\n",
      "0     Bill   M   NaN     90    NaN           0\n",
      "1      Tom   M   NaN     80    NaN           0\n",
      "2      Tim   M   NaN     85    NaN           0\n",
      "3     John   M   NaN     75    NaN           0\n",
      "4     Alex   F   NaN     95    NaN           1\n",
      "5  Vanessa   F   NaN     60    NaN           1\n",
      "6     Kate   F   NaN     65    NaN           1\n"
     ]
    }
   ],
   "source": [
    "import pandas as pd \n",
    "dis = {\n",
    "    \"Sex\" : [\"M\", \"M\",\"M\", \"M\", \"F\",\"F\", \"F\"],\n",
    "    \"sport\" : [\"Wrestling\", \"Football\", \"Skiing\", \"Swimming\", \"Tennis\", \"Karete\", \"Surfing\"],\n",
    "    \"Score\" :[90,80,85,75,95,60,65],\n",
    "    \"name\" :[\"Bill\", \"Tom\", \"Tim\", \"John\", \"Alex\", \"Vanessa\", \"Kate\"]       \n",
    "}\n",
    "\n",
    "df = pd.DataFrame(dis, columns = [\"name\", \"Sex\", \"Sport\", \"Score\", \"gender\"])\n",
    "\n",
    "df['Num_Gender'] = df['Sex'].map({'M':0,'F':1})\n",
    "print(df)\n",
    "\n",
    "df.drop(\"Sex\", axis=1)\n",
    "\n",
    "print(df)"
   ]
  },
  {
   "cell_type": "code",
   "execution_count": 53,
   "id": "77839797-c759-42d4-a4cd-b87251bf76ab",
   "metadata": {},
   "outputs": [
    {
     "name": "stdout",
     "output_type": "stream",
     "text": [
      "DataFrame before dropping 'Sex' column:\n",
      "      Name Sex      Sport  Score  Num_Gender\n",
      "0     Bill   M  Wrestling     90           0\n",
      "1      Tom   M   Football     80           0\n",
      "2      Tim   M     Skiing     85           0\n",
      "3     John   M   Swimming     75           0\n",
      "4     Alex   F     Tennis     95           1\n",
      "5  Vanessa   F     Karate     60           1\n",
      "6     Kate   F    Surfing     65           1\n",
      "\n",
      "DataFrame after dropping 'Sex' column:\n",
      "      Name      Sport  Score  Num_Gender\n",
      "0     Bill  Wrestling     90           0\n",
      "1      Tom   Football     80           0\n",
      "2      Tim     Skiing     85           0\n",
      "3     John   Swimming     75           0\n",
      "4     Alex     Tennis     95           1\n",
      "5  Vanessa     Karate     60           1\n",
      "6     Kate    Surfing     65           1\n"
     ]
    }
   ],
   "source": [
    "import pandas as pd\n",
    "\n",
    "dis = {\n",
    "    \"Sex\": [\"M\", \"M\", \"M\", \"M\", \"F\", \"F\", \"F\"],\n",
    "    \"Sport\": [\"Wrestling\", \"Football\", \"Skiing\", \"Swimming\", \"Tennis\", \"Karate\", \"Surfing\"],\n",
    "    \"Score\": [90, 80, 85, 75, 95, 60, 65],\n",
    "    \"Name\": [\"Bill\", \"Tom\", \"Tim\", \"John\", \"Alex\", \"Vanessa\", \"Kate\"]\n",
    "}\n",
    "\n",
    "df = pd.DataFrame(dis, columns=[\"Name\", \"Sex\", \"Sport\", \"Score\"])\n",
    "\n",
    "df['Num_Gender'] = df['Sex'].map({'M': 0, 'F': 1})\n",
    "\n",
    "print(\"DataFrame before dropping 'Sex' column:\")\n",
    "print(df)\n",
    "\n",
    "df = df.drop(\"Sex\", axis=1)\n",
    "\n",
    "print(\"\\nDataFrame after dropping 'Sex' column:\")\n",
    "print(df)\n"
   ]
  },
  {
   "cell_type": "code",
   "execution_count": 50,
   "id": "23f70564-3427-4e1c-b1e0-1c8292030f2f",
   "metadata": {},
   "outputs": [
    {
     "name": "stdout",
     "output_type": "stream",
     "text": [
      "      name Sport  Score gender  Num_Gender\n",
      "0     Bill   NaN     90    NaN           0\n",
      "1      Tom   NaN     80    NaN           0\n",
      "2      Tim   NaN     85    NaN           0\n",
      "3     John   NaN     75    NaN           0\n",
      "4     Alex   NaN     95    NaN           1\n",
      "5  Vanessa   NaN     60    NaN           1\n",
      "6     Kate   NaN     65    NaN           1\n"
     ]
    }
   ],
   "source": [
    "import pandas as pd\n",
    "\n",
    "\n",
    "dis = {\n",
    "    \"Sex\": [\"M\", \"M\", \"M\", \"M\", \"F\", \"F\", \"F\"],\n",
    "    \"sport\": [\"Wrestling\", \"Football\", \"Skiing\", \"Swimming\", \"Tennis\", \"Karete\", \"Surfing\"],\n",
    "    \"Score\": [90, 80, 85, 75, 95, 60, 65],\n",
    "    \"name\": [\"Bill\", \"Tom\", \"Tim\", \"John\", \"Alex\", \"Vanessa\", \"Kate\"],\n",
    "}\n",
    "\n",
    "df = pd.DataFrame(dis, columns=[\"name\", \"Sex\", \"Sport\", \"Score\", \"gender\"])\n",
    "\n",
    "df[\"Num_Gender\"] = df[\"Sex\"].map({\"M\": 0, \"F\": 1})\n",
    "\n",
    "# Drop the 'Sex' column (case-insensitive)\n",
    "df.drop(\"Sex\", axis=1, inplace=True)\n",
    "\n",
    "print(df)"
   ]
  },
  {
   "cell_type": "code",
   "execution_count": null,
   "id": "e8792734-391e-42c5-8122-4ca23633ca40",
   "metadata": {},
   "outputs": [],
   "source": []
  }
 ],
 "metadata": {
  "kernelspec": {
   "display_name": "Python 3 (ipykernel)",
   "language": "python",
   "name": "python3"
  },
  "language_info": {
   "codemirror_mode": {
    "name": "ipython",
    "version": 3
   },
   "file_extension": ".py",
   "mimetype": "text/x-python",
   "name": "python",
   "nbconvert_exporter": "python",
   "pygments_lexer": "ipython3",
   "version": "3.11.4"
  }
 },
 "nbformat": 4,
 "nbformat_minor": 5
}
