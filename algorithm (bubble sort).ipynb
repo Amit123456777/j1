{
 "cells": [
  {
   "cell_type": "code",
   "execution_count": 1,
   "id": "e265788e",
   "metadata": {},
   "outputs": [
    {
     "name": "stdout",
     "output_type": "stream",
     "text": [
      "x is :  2\n",
      "y is :  1\n"
     ]
    }
   ],
   "source": [
    "x = 1\n",
    "y = 2\n",
    "print(\"x is : \",y)\n",
    "print(\"y is : \",x)"
   ]
  },
  {
   "cell_type": "code",
   "execution_count": 2,
   "id": "ba72edfb",
   "metadata": {},
   "outputs": [
    {
     "name": "stdout",
     "output_type": "stream",
     "text": [
      "2\n",
      "1\n"
     ]
    }
   ],
   "source": [
    "# swapping\n",
    "\n",
    "x = 1\n",
    "y = 2\n",
    "x,y = y,x\n",
    "print(x)\n",
    "print(y)"
   ]
  },
  {
   "cell_type": "code",
   "execution_count": 3,
   "id": "83a15c8c",
   "metadata": {},
   "outputs": [
    {
     "name": "stdout",
     "output_type": "stream",
     "text": [
      "[2, 1, 3, 4, 5]\n"
     ]
    }
   ],
   "source": [
    "# swaping elements in list\n",
    "\n",
    "l = [1,2,3,4,5]\n",
    "l[0],l[1] = l[1],l[0]\n",
    "print(l)"
   ]
  },
  {
   "cell_type": "code",
   "execution_count": 4,
   "id": "3f353a88",
   "metadata": {},
   "outputs": [
    {
     "name": "stdout",
     "output_type": "stream",
     "text": [
      "array('i', [1, 2, 3, 4, 5])\n"
     ]
    }
   ],
   "source": [
    "import array\n",
    "from array import *\n",
    "arr = array('i',[1,2,3,4,5])\n",
    "print(arr)"
   ]
  },
  {
   "cell_type": "code",
   "execution_count": 5,
   "id": "baf865a5",
   "metadata": {},
   "outputs": [
    {
     "name": "stdout",
     "output_type": "stream",
     "text": [
      "<class 'array.array'>\n"
     ]
    }
   ],
   "source": [
    "print(type(arr))"
   ]
  },
  {
   "cell_type": "code",
   "execution_count": 6,
   "id": "2af0cd6a",
   "metadata": {},
   "outputs": [
    {
     "name": "stdout",
     "output_type": "stream",
     "text": [
      "array('i', [2, 1, 3, 4, 5])\n"
     ]
    }
   ],
   "source": [
    "arr[0],arr[1] = arr[1],arr[0]\n",
    "print(arr)"
   ]
  },
  {
   "cell_type": "code",
   "execution_count": 2,
   "id": "27713fff",
   "metadata": {},
   "outputs": [
    {
     "name": "stdout",
     "output_type": "stream",
     "text": [
      "array('i', [5, 6, 4, 6, 7, 8, 2, 9])\n"
     ]
    },
    {
     "ename": "NameError",
     "evalue": "name 'arr' is not defined",
     "output_type": "error",
     "traceback": [
      "\u001b[1;31m---------------------------------------------------------------------------\u001b[0m",
      "\u001b[1;31mNameError\u001b[0m                                 Traceback (most recent call last)",
      "Cell \u001b[1;32mIn[2], line 9\u001b[0m\n\u001b[0;32m      6\u001b[0m \u001b[38;5;28;01mdef\u001b[39;00m \u001b[38;5;21mswapn_fnc\u001b[39m(array,element1,element2):\n\u001b[0;32m      7\u001b[0m     array[element1],array[element2]\u001b[38;5;241m=\u001b[39marray[element2],arr[element1]\n\u001b[1;32m----> 9\u001b[0m \u001b[43mswapn_fnc\u001b[49m\u001b[43m(\u001b[49m\u001b[43marr1\u001b[49m\u001b[43m,\u001b[49m\u001b[38;5;241;43m0\u001b[39;49m\u001b[43m,\u001b[49m\u001b[38;5;241;43m0\u001b[39;49m\u001b[43m)\u001b[49m\n\u001b[0;32m     10\u001b[0m \u001b[38;5;28mprint\u001b[39m(arr1)\n",
      "Cell \u001b[1;32mIn[2], line 7\u001b[0m, in \u001b[0;36mswapn_fnc\u001b[1;34m(array, element1, element2)\u001b[0m\n\u001b[0;32m      6\u001b[0m \u001b[38;5;28;01mdef\u001b[39;00m \u001b[38;5;21mswapn_fnc\u001b[39m(array,element1,element2):\n\u001b[1;32m----> 7\u001b[0m     array[element1],array[element2]\u001b[38;5;241m=\u001b[39marray[element2],\u001b[43marr\u001b[49m[element1]\n",
      "\u001b[1;31mNameError\u001b[0m: name 'arr' is not defined"
     ]
    }
   ],
   "source": [
    "# swapping elements in array\n",
    "from array import *\n",
    "arr1 = array('i',[5,6,4,6,7,8,2,9])\n",
    "print(arr1)\n",
    "\n",
    "def swapn_fnc(array,element1,element2):\n",
    "    array[element1],array[element2]=array[element2],arr[element1]\n",
    "    \n",
    "swapn_fnc(arr1,0,0)\n",
    "print(arr1)"
   ]
  },
  {
   "cell_type": "code",
   "execution_count": 2,
   "id": "68aa2409",
   "metadata": {},
   "outputs": [
    {
     "name": "stdout",
     "output_type": "stream",
     "text": [
      "array('i', [21, 34, 45, 58, 99, 100])\n"
     ]
    }
   ],
   "source": [
    "# bubble sort (sorting array)\n",
    "\n",
    "import array\n",
    "from array import *\n",
    "#defining a funtion\n",
    "def pairwise_swap(arr):\n",
    "    n=len(arr)\n",
    "    for i in range(0, n-1):\n",
    "        for j in range (0, n-i-1):\n",
    "            if arr[j]>arr[j+1]:\n",
    "                arr[j],arr[j+1]=arr[j+1],arr[j]\n",
    "                \n",
    "#ending the definition\n",
    "\n",
    "#defining the array\n",
    "\n",
    "arr1 = array('i',[100,99,58,45,34,21])\n",
    "\n",
    "# calling the fucntion\n",
    "pairwise_swap(arr1)\n",
    "print(arr1)"
   ]
  },
  {
   "cell_type": "code",
   "execution_count": 3,
   "id": "07cc33d4",
   "metadata": {},
   "outputs": [
    {
     "name": "stdout",
     "output_type": "stream",
     "text": [
      "Sorted array: [5, 6, 11, 12, 13]\n"
     ]
    }
   ],
   "source": [
    "def insertion_sort(arr):\n",
    "    for i in range(1, len(arr)):\n",
    "        key = arr[i]\n",
    "        j = i - 1\n",
    "        while j >= 0 and key < arr[j]:\n",
    "            arr[j + 1] = arr[j]\n",
    "            j -= 1\n",
    "        arr[j + 1] = key\n",
    "\n",
    "# Example usage:\n",
    "my_array = [12, 11, 13, 5, 6]\n",
    "insertion_sort(my_array)\n",
    "\n",
    "print(\"Sorted array:\", my_array)\n"
   ]
  },
  {
   "cell_type": "code",
   "execution_count": 4,
   "id": "ab92d828",
   "metadata": {},
   "outputs": [
    {
     "name": "stdout",
     "output_type": "stream",
     "text": [
      "Sorted array: [11, 12, 22, 25, 64]\n"
     ]
    }
   ],
   "source": [
    "def selection_sort(arr):\n",
    "    n = len(arr)\n",
    "\n",
    "    for i in range(n - 1):\n",
    "        # Assume the current index is the minimum\n",
    "        min_index = i\n",
    "\n",
    "        # Find the index of the minimum element in the unsorted part\n",
    "        for j in range(i + 1, n):\n",
    "            if arr[j] < arr[min_index]:\n",
    "                min_index = j\n",
    "\n",
    "        # Swap the found minimum element with the first element\n",
    "        arr[i], arr[min_index] = arr[min_index], arr[i]\n",
    "\n",
    "# Example usage:\n",
    "my_array = [64, 25, 12, 22, 11]\n",
    "selection_sort(my_array)\n",
    "\n",
    "print(\"Sorted array:\", my_array)\n"
   ]
  },
  {
   "cell_type": "code",
   "execution_count": 1,
   "id": "6be8df65",
   "metadata": {},
   "outputs": [
    {
     "name": "stdout",
     "output_type": "stream",
     "text": [
      "Target 7 found at index 2\n"
     ]
    }
   ],
   "source": [
    "def linear_search(arr, target):\n",
    "    for i in range(len(arr)):\n",
    "        if arr[i] == target:\n",
    "            return i  # Return the index of the target if found\n",
    "    return -1  # Return -1 if the target is not in the list\n",
    "\n",
    "# Example usage:\n",
    "my_list = [4, 2, 7, 1, 9, 5]\n",
    "target_value = 7\n",
    "\n",
    "result = linear_search(my_list, target_value)\n",
    "\n",
    "if result != -1:\n",
    "    print(f\"Target {target_value} found at index {result}\")\n",
    "else:\n",
    "    print(f\"Target {target_value} not found in the list\")\n"
   ]
  },
  {
   "cell_type": "code",
   "execution_count": null,
   "id": "c979ea7a-3d60-4d7b-b10b-62e41b644e5e",
   "metadata": {},
   "outputs": [],
   "source": []
  },
  {
   "cell_type": "code",
   "execution_count": null,
   "id": "f444febd-b782-479f-892f-0fdb553a579e",
   "metadata": {},
   "outputs": [],
   "source": []
  },
  {
   "cell_type": "code",
   "execution_count": 2,
   "id": "c9951479-9461-4f93-a0ba-b14444469e34",
   "metadata": {},
   "outputs": [
    {
     "name": "stdout",
     "output_type": "stream",
     "text": [
      "array('i', [100, 99, 58, 45, 34, 21])\n"
     ]
    }
   ],
   "source": [
    "# bubble sort  descending (sorting array)\n",
    "\n",
    "import array\n",
    "from array import *\n",
    "#defining a funtion\n",
    "def pairwise_swap(arr):\n",
    "    n=len(arr)\n",
    "    for i in range(0, n-1):\n",
    "        for j in range (0, n-i-1):\n",
    "            if arr[j+1]>arr[j]:\n",
    "                arr[j],arr[j+1]=arr[j+1],arr[j]\n",
    "                \n",
    "#ending the definition\n",
    "\n",
    "#defining the array\n",
    "\n",
    "arr1 = array('i',[100,99,58,45,34,21])\n",
    "\n",
    "# calling the fucntion\n",
    "pairwise_swap(arr1)\n",
    "print(arr1)"
   ]
  },
  {
   "cell_type": "code",
   "execution_count": null,
   "id": "8a0e889d-bb2d-4592-9662-616ecfffb8c9",
   "metadata": {},
   "outputs": [],
   "source": []
  }
 ],
 "metadata": {
  "kernelspec": {
   "display_name": "Python 3 (ipykernel)",
   "language": "python",
   "name": "python3"
  },
  "language_info": {
   "codemirror_mode": {
    "name": "ipython",
    "version": 3
   },
   "file_extension": ".py",
   "mimetype": "text/x-python",
   "name": "python",
   "nbconvert_exporter": "python",
   "pygments_lexer": "ipython3",
   "version": "3.11.4"
  }
 },
 "nbformat": 4,
 "nbformat_minor": 5
}
