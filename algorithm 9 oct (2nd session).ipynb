{
 "cells": [
  {
   "cell_type": "code",
   "execution_count": 7,
   "id": "f0285526",
   "metadata": {},
   "outputs": [
    {
     "name": "stdout",
     "output_type": "stream",
     "text": [
      "enter a: 1\n",
      "enter b: 4\n",
      "enter c: 4\n",
      "-2.0\n"
     ]
    }
   ],
   "source": [
    "def find_roots(a,b,c):\n",
    "    delta = (b**2-4*a*c)\n",
    "    if delta >0:\n",
    "        root1=(-b+((delta)**0.5))/(2*a)\n",
    "        root2=(-b-((delta)**0.5))/(2*a)\n",
    "        print(root1,root2)\n",
    "    elif delta == 0:\n",
    "        root = -b/(2*a)\n",
    "        print(root)\n",
    "    else:\n",
    "        print(\"Roots are imaginary\")\n",
    "num1 = float(input(\"enter a: \"))\n",
    "num2 = float(input(\"enter b: \"))\n",
    "num3 = float(input(\"enter c: \"))\n",
    "\n",
    "find_roots(num1,num2,num3)\n"
   ]
  },
  {
   "cell_type": "code",
   "execution_count": 12,
   "id": "a2999fd4",
   "metadata": {},
   "outputs": [],
   "source": [
    "# ques : built an input prompt user defined fumction that calculates and returns the roots of \n",
    "# quadratic equation  'ax^2 + bx + c = 0, where constant a,b,c are obtained by users."
   ]
  },
  {
   "cell_type": "code",
   "execution_count": 13,
   "id": "a870daa1",
   "metadata": {},
   "outputs": [
    {
     "name": "stdout",
     "output_type": "stream",
     "text": [
      "HELLO\n"
     ]
    }
   ],
   "source": [
    "count=0\n",
    "if count<3:\n",
    "    print(\"HELLO\")\n",
    "    count=count+1"
   ]
  },
  {
   "cell_type": "code",
   "execution_count": 14,
   "id": "51634ec0",
   "metadata": {},
   "outputs": [
    {
     "name": "stdout",
     "output_type": "stream",
     "text": [
      "HELLO\n",
      "HELLO\n",
      "HELLO\n"
     ]
    }
   ],
   "source": [
    "count=0\n",
    "while(count<3):\n",
    "    print(\"HELLO\")\n",
    "    count=count+1"
   ]
  },
  {
   "cell_type": "code",
   "execution_count": null,
   "id": "38d55e1b",
   "metadata": {},
   "outputs": [],
   "source": [
    "a=5\n",
    "while(a>5):\n",
    "    print(a)\n",
    "    a=a-1"
   ]
  },
  {
   "cell_type": "code",
   "execution_count": null,
   "id": "153f1251",
   "metadata": {},
   "outputs": [],
   "source": []
  },
  {
   "cell_type": "code",
   "execution_count": null,
   "id": "bcf8ac42",
   "metadata": {},
   "outputs": [],
   "source": []
  }
 ],
 "metadata": {
  "kernelspec": {
   "display_name": "Python 3 (ipykernel)",
   "language": "python",
   "name": "python3"
  },
  "language_info": {
   "codemirror_mode": {
    "name": "ipython",
    "version": 3
   },
   "file_extension": ".py",
   "mimetype": "text/x-python",
   "name": "python",
   "nbconvert_exporter": "python",
   "pygments_lexer": "ipython3",
   "version": "3.11.4"
  }
 },
 "nbformat": 4,
 "nbformat_minor": 5
}
