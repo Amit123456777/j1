{
 "cells": [
  {
   "cell_type": "code",
   "execution_count": 12,
   "id": "d2b60306-51ac-42d7-8d65-b29556c6664a",
   "metadata": {},
   "outputs": [
    {
     "name": "stdin",
     "output_type": "stream",
     "text": [
      "enter a number :  5\n"
     ]
    },
    {
     "data": {
      "text/plain": [
       "24"
      ]
     },
     "execution_count": 12,
     "metadata": {},
     "output_type": "execute_result"
    }
   ],
   "source": [
    "\n",
    "\n",
    "n = int(input(\"enter a number : \"))\n",
    "def factorial(n):\n",
    "    if n==0:\n",
    "        return 1\n",
    "    else:\n",
    "        return n*factorial(n-1)\n",
    "factorial(4)"
   ]
  },
  {
   "cell_type": "code",
   "execution_count": 3,
   "id": "8aa1a871-6250-47b2-9ccc-db7c8a197edb",
   "metadata": {},
   "outputs": [
    {
     "name": "stdout",
     "output_type": "stream",
     "text": [
      "24\n"
     ]
    }
   ],
   "source": [
    "number=1037\n",
    "table=[number*i for i in range(1,11)]\n",
    "print(table)"
   ]
  },
  {
   "cell_type": "code",
   "execution_count": 5,
   "id": "e4dde929-8781-4809-b823-a52dbd32062f",
   "metadata": {},
   "outputs": [
    {
     "name": "stdout",
     "output_type": "stream",
     "text": [
      "factorial of n is : 120\n"
     ]
    }
   ],
   "source": [
    "def factorial(n):\n",
    "    if (n==0 or n==1):\n",
    "        return 1\n",
    "    else:\n",
    "        return n * factorial(n-1)\n",
    "\n",
    "print(f\"factorial of n is : {factorial(5)}\")"
   ]
  },
  {
   "cell_type": "code",
   "execution_count": 13,
   "id": "bc643cc8-1357-4eec-adcc-eb8d0622d227",
   "metadata": {},
   "outputs": [],
   "source": [
    "# for i in range list.append(i)"
   ]
  },
  {
   "cell_type": "code",
   "execution_count": 14,
   "id": "976f30a7-c4fc-4037-a1d5-26a10458d7df",
   "metadata": {},
   "outputs": [],
   "source": [
    "# x is iterator\n",
    "# list is itrerable"
   ]
  },
  {
   "cell_type": "code",
   "execution_count": 19,
   "id": "38bc7334-43db-42c4-9943-e3578a74ee7d",
   "metadata": {},
   "outputs": [
    {
     "name": "stdout",
     "output_type": "stream",
     "text": [
      " elements divisible by 2 is : [6, 4, 8, 0, 10, 20] \n"
     ]
    }
   ],
   "source": [
    "# add the no. in a new list which is divisible by 2\n",
    "\n",
    "l1 = [5,6,3,4,8,9,0,10,20,77]\n",
    "new_list = [x for x in l1 if x % 2==0]\n",
    "print(f\" elements divisible by 2 is : {new_list} \")"
   ]
  },
  {
   "cell_type": "code",
   "execution_count": 28,
   "id": "ab6f0bd3-cf84-44ce-a788-3e6053a5186f",
   "metadata": {},
   "outputs": [
    {
     "name": "stdin",
     "output_type": "stream",
     "text": [
      "Enter number  10 20 40 33 55 77 11 22\n"
     ]
    },
    {
     "name": "stdout",
     "output_type": "stream",
     "text": [
      "Elements divisible by 2 are: [10, 20, 40, 22]\n"
     ]
    }
   ],
   "source": [
    "# TAKING LIST INPUT\n",
    "\n",
    "l1 = input(\"Enter number \").split()\n",
    "new_list = [int(x) for x in l1 if int(x) % 2 == 0]\n",
    "print(f\"Elements divisible by 2 are: {new_list}\")\n"
   ]
  },
  {
   "cell_type": "code",
   "execution_count": null,
   "id": "df2204c5-3825-4e5e-8133-ccdab8697bde",
   "metadata": {},
   "outputs": [],
   "source": []
  },
  {
   "cell_type": "code",
   "execution_count": 29,
   "id": "ea113f57-2f4c-47dc-8196-48fcd1bbae6f",
   "metadata": {},
   "outputs": [],
   "source": [
    "# THE SYNTAX FOR LIST COMPREHENSION IS \n",
    "\n",
    "# SYNTAX = [EXPRESSION X FOR ITEM IN ITERABLES IF CONDITION==Tru]"
   ]
  },
  {
   "cell_type": "code",
   "execution_count": 46,
   "id": "26d46c74-3e7f-4c4d-a03b-f847ecc6d138",
   "metadata": {},
   "outputs": [
    {
     "name": "stdin",
     "output_type": "stream",
     "text": [
      "enter the number :  1 2 3\n"
     ]
    },
    {
     "ename": "ValueError",
     "evalue": "invalid literal for int() with base 10: '1 2 3'",
     "output_type": "error",
     "traceback": [
      "\u001b[1;31m---------------------------------------------------------------------------\u001b[0m",
      "\u001b[1;31mValueError\u001b[0m                                Traceback (most recent call last)",
      "Cell \u001b[1;32mIn[46], line 1\u001b[0m\n\u001b[1;32m----> 1\u001b[0m l2 \u001b[38;5;241m=\u001b[39m \u001b[38;5;28;43mint\u001b[39;49m\u001b[43m(\u001b[49m\u001b[38;5;28;43minput\u001b[39;49m\u001b[43m(\u001b[49m\u001b[38;5;124;43m\"\u001b[39;49m\u001b[38;5;124;43menter the number : \u001b[39;49m\u001b[38;5;124;43m\"\u001b[39;49m\u001b[43m)\u001b[49m\u001b[43m)\u001b[49m\n\u001b[0;32m      2\u001b[0m new_list \u001b[38;5;241m=\u001b[39m [l2\u001b[38;5;241m*\u001b[39mi  \u001b[38;5;28;01mfor\u001b[39;00m i \u001b[38;5;129;01min\u001b[39;00m \u001b[38;5;28mrange\u001b[39m(\u001b[38;5;241m1\u001b[39m,\u001b[38;5;241m11\u001b[39m)]\n\u001b[0;32m      3\u001b[0m \u001b[38;5;28mprint\u001b[39m(\u001b[38;5;124mf\u001b[39m\u001b[38;5;124m\"\u001b[39m\u001b[38;5;132;01m{\u001b[39;00ml2\u001b[38;5;132;01m}\u001b[39;00m\u001b[38;5;132;01m{\u001b[39;00mnew_list\u001b[38;5;132;01m}\u001b[39;00m\u001b[38;5;124m\"\u001b[39m)\n",
      "\u001b[1;31mValueError\u001b[0m: invalid literal for int() with base 10: '1 2 3'"
     ]
    }
   ],
   "source": [
    "\n",
    "l2 = int(input(\"enter the number : \"))\n",
    "new_list = [l2*i  for i in range(1,11)]\n",
    "print(f\"{l2}{new_list}\")\n"
   ]
  },
  {
   "cell_type": "code",
   "execution_count": 49,
   "id": "cb6aa8cf-5674-46a6-bc94-a89a691385d9",
   "metadata": {},
   "outputs": [
    {
     "name": "stdin",
     "output_type": "stream",
     "text": [
      "Enter the number:  5\n"
     ]
    },
    {
     "name": "stdout",
     "output_type": "stream",
     "text": [
      "The table for no. 5 is: [5, 10, 15, 20, 25, 30, 35, 40, 45, 50]\n"
     ]
    }
   ],
   "source": [
    "l2 = int(input(\"Enter the number: \"))\n",
    "new_list = [l2*i for i in range(1, 11)]\n",
    "print(f\"The table for no. {l2} is: {new_list}\")\n"
   ]
  },
  {
   "cell_type": "code",
   "execution_count": null,
   "id": "6776df61-956a-43d4-b98b-43baa0dff019",
   "metadata": {},
   "outputs": [],
   "source": []
  }
 ],
 "metadata": {
  "kernelspec": {
   "display_name": "Python 3 (ipykernel)",
   "language": "python",
   "name": "python3"
  },
  "language_info": {
   "codemirror_mode": {
    "name": "ipython",
    "version": 3
   },
   "file_extension": ".py",
   "mimetype": "text/x-python",
   "name": "python",
   "nbconvert_exporter": "python",
   "pygments_lexer": "ipython3",
   "version": "3.11.4"
  }
 },
 "nbformat": 4,
 "nbformat_minor": 5
}
