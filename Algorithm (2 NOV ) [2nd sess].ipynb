{
 "cells": [
  {
   "cell_type": "code",
   "execution_count": 1,
   "id": "26a38e30",
   "metadata": {},
   "outputs": [],
   "source": [
    "# quest: 1\n",
    "# construct and array conting 4 integers find the sum and the difference of the largest two numbers"
   ]
  },
  {
   "cell_type": "code",
   "execution_count": 8,
   "id": "bc8ca04c",
   "metadata": {},
   "outputs": [
    {
     "name": "stdout",
     "output_type": "stream",
     "text": [
      "array('i', [13, 20, 34, 65, 94, 200])\n",
      "The max num is :  200\n",
      "The min num is :  20\n",
      "sum of max and min no. is :  220\n",
      "difference of max and min no. is :  180\n"
     ]
    }
   ],
   "source": [
    "import array\n",
    "from array import *\n",
    "def pairwise_swap(arr):\n",
    "    n=len(arr)\n",
    "    for i in range(0, n-1):\n",
    "        for j in range (0, n-i-1):\n",
    "            if arr[j]>arr[j+1]:\n",
    "                arr[j],arr[j+1]=arr[j+1],arr[j]\n",
    "                \n",
    "#ending the definition\n",
    "\n",
    "#defining the array\n",
    "\n",
    "arr1 = array('i',[200,94,13,65,34,20])\n",
    "\n",
    "# calling the fucntion\n",
    "pairwise_swap(arr1)\n",
    "print(arr1)\n",
    "\n",
    "\n",
    "max = arr1[-1]\n",
    "print(\"The max num is : \",max)\n",
    "min = arr1[1]\n",
    "print(\"The min num is : \",min)\n",
    "\n",
    "sum = max + min\n",
    "print(\"sum of max and min no. is : \",sum)\n",
    "\n",
    "difference = max - min\n",
    "print(\"difference of max and min no. is : \",difference)"
   ]
  },
  {
   "cell_type": "code",
   "execution_count": 5,
   "id": "48960b15",
   "metadata": {},
   "outputs": [
    {
     "name": "stdout",
     "output_type": "stream",
     "text": [
      "array('i', [76, 94, 13, 65, 34, 20, 65, 12])\n",
      "8\n",
      "array('i', [76, 94, 13, 65])\n",
      "array('i', [34, 20, 65, 12])\n",
      "4\n"
     ]
    }
   ],
   "source": [
    "#  a no. of 8 numbers\n",
    "import array \n",
    "from array import *\n",
    "arr1 = array('i',[76,94,13,65,34,20,65,12])\n",
    "print(arr1)\n",
    "n = len(arr1)\n",
    "print(n)\n",
    "mid = n//2\n",
    "part1 = arr1[:mid]\n",
    "part2 = arr1[mid:]\n",
    "print(part1)\n",
    "print(part2)\n",
    "\n",
    "\n",
    "part1 = n//2\n",
    "print(part1)\n"
   ]
  },
  {
   "cell_type": "code",
   "execution_count": null,
   "id": "76acb98a",
   "metadata": {},
   "outputs": [],
   "source": []
  },
  {
   "cell_type": "code",
   "execution_count": null,
   "id": "8bc1a85b",
   "metadata": {},
   "outputs": [],
   "source": []
  },
  {
   "cell_type": "code",
   "execution_count": null,
   "id": "ac4f68b1",
   "metadata": {},
   "outputs": [],
   "source": []
  },
  {
   "cell_type": "code",
   "execution_count": null,
   "id": "a0f0c923",
   "metadata": {},
   "outputs": [],
   "source": []
  },
  {
   "cell_type": "code",
   "execution_count": 3,
   "id": "7b16562e",
   "metadata": {},
   "outputs": [
    {
     "name": "stdout",
     "output_type": "stream",
     "text": [
      "hello world\n"
     ]
    }
   ],
   "source": [
    "\n",
    "    \n"
   ]
  },
  {
   "cell_type": "code",
   "execution_count": null,
   "id": "6e799249",
   "metadata": {},
   "outputs": [],
   "source": []
  },
  {
   "cell_type": "code",
   "execution_count": null,
   "id": "d492e8e1",
   "metadata": {},
   "outputs": [],
   "source": []
  }
 ],
 "metadata": {
  "kernelspec": {
   "display_name": "Python 3 (ipykernel)",
   "language": "python",
   "name": "python3"
  },
  "language_info": {
   "codemirror_mode": {
    "name": "ipython",
    "version": 3
   },
   "file_extension": ".py",
   "mimetype": "text/x-python",
   "name": "python",
   "nbconvert_exporter": "python",
   "pygments_lexer": "ipython3",
   "version": "3.11.4"
  }
 },
 "nbformat": 4,
 "nbformat_minor": 5
}
