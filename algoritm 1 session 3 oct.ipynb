{
 "cells": [
  {
   "cell_type": "code",
   "execution_count": 6,
   "id": "2ab8bed9",
   "metadata": {},
   "outputs": [
    {
     "name": "stdout",
     "output_type": "stream",
     "text": [
      "enter any values3\n",
      "it's a chilly day\n",
      "it's a beautiful day\n"
     ]
    }
   ],
   "source": [
    "temp = int(input(\"enter any values\"))\n",
    "if temp > 30:\n",
    "    print(\"it's a hot day\")\n",
    "elif temp > 25:\n",
    "    print(\"it's a pleasant day\")\n",
    "elif temp > 10:\n",
    "    print(\"it's a cold day\")\n",
    "else:\n",
    "    print(\"it's a chilly day\")\n",
    "print(\"it's a beautiful day\")"
   ]
  },
  {
   "cell_type": "code",
   "execution_count": 2,
   "id": "ece021ef",
   "metadata": {},
   "outputs": [],
   "source": [
    "if temp > 30:\n",
    "    print(\"it's a hot day\")"
   ]
  },
  {
   "cell_type": "code",
   "execution_count": 5,
   "id": "a84f31ea",
   "metadata": {},
   "outputs": [
    {
     "ename": "SyntaxError",
     "evalue": "invalid syntax (3088900674.py, line 1)",
     "output_type": "error",
     "traceback": [
      "\u001b[1;36m  Cell \u001b[1;32mIn[5], line 1\u001b[1;36m\u001b[0m\n\u001b[1;33m    elif temp > 25:\u001b[0m\n\u001b[1;37m    ^\u001b[0m\n\u001b[1;31mSyntaxError\u001b[0m\u001b[1;31m:\u001b[0m invalid syntax\n"
     ]
    }
   ],
   "source": [
    "elif temp > 25:\n",
    "    print(\"it's a pleasant day\")\n",
    "elif temp > 10:\n",
    "    print(\"it's a cold day\")\n",
    "else:\n",
    "    print(\"it's a chilly day\")\n",
    "print(\"it's a beautiful day\")"
   ]
  },
  {
   "cell_type": "code",
   "execution_count": 8,
   "id": "cabcb69c",
   "metadata": {},
   "outputs": [
    {
     "name": "stdout",
     "output_type": "stream",
     "text": [
      "marks a : 99\n",
      "marks b : 99\n",
      "marks c : 99\n",
      "marks d : 99\n",
      "marks e : 100\n",
      "416.0\n"
     ]
    }
   ],
   "source": [
    "a = float(input(\"marks a : \"))\n",
    "b = float(input(\"marks b : \"))\n",
    "c = float(input(\"marks c : \"))\n",
    "d = float(input(\"marks d : \"))\n",
    "e = float(input(\"marks e : \"))\n",
    "percentage = (a+b+c+d+e/500*100)\n",
    "print(percentage)\n",
    "\n",
    "marks = float(input(\"enter marks in percentage :\"))\n",
    "if marks > 95:\n",
    "    print(\"A+\")\n",
    "elif marks > 90:\n",
    "    print(\"A\")\n",
    "elif marks > 80:\n",
    "    print(\"B+\")\n",
    "elif mat"
   ]
  },
  {
   "cell_type": "code",
   "execution_count": null,
   "id": "9dbb44df",
   "metadata": {},
   "outputs": [],
   "source": []
  },
  {
   "cell_type": "code",
   "execution_count": null,
   "id": "e7725035",
   "metadata": {},
   "outputs": [],
   "source": []
  },
  {
   "cell_type": "code",
   "execution_count": null,
   "id": "f6741d4a",
   "metadata": {},
   "outputs": [],
   "source": []
  }
 ],
 "metadata": {
  "kernelspec": {
   "display_name": "Python 3 (ipykernel)",
   "language": "python",
   "name": "python3"
  },
  "language_info": {
   "codemirror_mode": {
    "name": "ipython",
    "version": 3
   },
   "file_extension": ".py",
   "mimetype": "text/x-python",
   "name": "python",
   "nbconvert_exporter": "python",
   "pygments_lexer": "ipython3",
   "version": "3.11.4"
  }
 },
 "nbformat": 4,
 "nbformat_minor": 5
}
