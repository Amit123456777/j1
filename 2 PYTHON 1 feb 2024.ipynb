{
 "cells": [
  {
   "cell_type": "code",
   "execution_count": 1,
   "id": "260013a5-d31e-44a7-b5ae-cc4f8cf1c6c2",
   "metadata": {},
   "outputs": [],
   "source": [
    "# when we have n no. of parameters then use\n",
    "# *args\n",
    "# **kwargs\n",
    "\n"
   ]
  },
  {
   "cell_type": "code",
   "execution_count": 2,
   "id": "5c9902af-bb3a-45c6-91dd-1c16fa9d28d9",
   "metadata": {},
   "outputs": [
    {
     "name": "stdout",
     "output_type": "stream",
     "text": [
      "('Amit', 'Sharma')\n",
      "<class 'tuple'>\n",
      "{'subject': 'AI', 'Institute': 'AAFT'}\n",
      "<class 'dict'>\n"
     ]
    }
   ],
   "source": [
    "def hello(*args,**kwargs):\n",
    "    print(args)\n",
    "    print(type(args))\n",
    "    print(kwargs)\n",
    "    print(type(kwargs))\n",
    "\n",
    "# calling the function\n",
    "hello(\"Amit\" ,\"Sharma\",subject=\"AI\",Institute= \"AAFT\")"
   ]
  },
  {
   "cell_type": "code",
   "execution_count": null,
   "id": "38dab58a-71e1-4ff2-b52c-58edaa8adc9b",
   "metadata": {},
   "outputs": [],
   "source": []
  },
  {
   "cell_type": "code",
   "execution_count": 8,
   "id": "14b9633b-6426-4dd7-a97a-b1786d26617b",
   "metadata": {},
   "outputs": [],
   "source": [
    "# question\n",
    "# calculate the product of price and quantity."
   ]
  },
  {
   "cell_type": "code",
   "execution_count": 16,
   "id": "0c31aa2b-fcc3-4265-8e1a-2ced3fccdedf",
   "metadata": {},
   "outputs": [
    {
     "name": "stdout",
     "output_type": "stream",
     "text": [
      "1\n"
     ]
    }
   ],
   "source": [
    "def calculate_total(price,quantity=1): quant is default\n",
    "    print(price*quantity)\n",
    "calculate_total(1)"
   ]
  },
  {
   "cell_type": "code",
   "execution_count": 17,
   "id": "a0afe2b9-c3ce-4155-bdda-56375899c142",
   "metadata": {},
   "outputs": [
    {
     "name": "stdout",
     "output_type": "stream",
     "text": [
      "100\n"
     ]
    }
   ],
   "source": [
    "def calculate_total(price,quantity=1):\n",
    "    print(price*quantity)\n",
    "calculate_total(2,50)"
   ]
  },
  {
   "cell_type": "code",
   "execution_count": null,
   "id": "2bf3bd84-f8c3-49cf-8c3d-5a49af519095",
   "metadata": {},
   "outputs": [],
   "source": []
  },
  {
   "cell_type": "code",
   "execution_count": 24,
   "id": "3f67ca45-94d9-4f0a-af58-b1677ba46465",
   "metadata": {},
   "outputs": [
    {
     "data": {
      "text/plain": [
       "3.5"
      ]
     },
     "execution_count": 24,
     "metadata": {},
     "output_type": "execute_result"
    }
   ],
   "source": [
    "# find average \n",
    "def avg(*args):\n",
    "    return sum(args) / len(args)\n",
    "avg(2,3,4,5)\n"
   ]
  },
  {
   "cell_type": "code",
   "execution_count": null,
   "id": "cc19a48d-cbe0-402d-9df6-96980f1d2121",
   "metadata": {},
   "outputs": [],
   "source": [
    "        \n",
    "    "
   ]
  },
  {
   "cell_type": "code",
   "execution_count": 46,
   "id": "60358c6f-baa1-4651-ad16-3dd51d922162",
   "metadata": {},
   "outputs": [
    {
     "data": {
      "text/plain": [
       "9"
      ]
     },
     "execution_count": 46,
     "metadata": {},
     "output_type": "execute_result"
    }
   ],
   "source": [
    "# question- keyword and positional arguments.\n",
    "\n",
    "def calc(operation,*args):\n",
    "    if operation == \"add\":\n",
    "        return sum(args)\n",
    "    elif operation == \"subtract\":\n",
    "        result == args[0]\n",
    "        for num in args[1]:\n",
    "            result -= num\n",
    "        return result\n",
    "    elif operation == \"multiply\":\n",
    "        result = 1\n",
    "        for num in args:\n",
    "            result *= num\n",
    "        return result\n",
    "    elif operation == \"divide\":\n",
    "        result == args[0]\n",
    "        for num in args[1]:\n",
    "            result /= num\n",
    "        return result\n",
    "\n",
    "calc(\"add\",2,3,4)"
   ]
  },
  {
   "cell_type": "code",
   "execution_count": 47,
   "id": "98dd7f15-bda2-4ea2-aff8-7f6473ace4d0",
   "metadata": {},
   "outputs": [
    {
     "data": {
      "text/plain": [
       "24"
      ]
     },
     "execution_count": 47,
     "metadata": {},
     "output_type": "execute_result"
    }
   ],
   "source": [
    "# question- keyword and positional arguments.\n",
    "\n",
    "def calc(operation,*args):\n",
    "    if operation == \"add\":\n",
    "        return sum(args)\n",
    "    elif operation == \"subtract\":\n",
    "        result == args[0]\n",
    "        for num in args[1]:\n",
    "            result -= num\n",
    "        return result\n",
    "    elif operation == \"multiply\":\n",
    "        result = 1\n",
    "        for num in args:\n",
    "            result *= num\n",
    "        return result\n",
    "    elif operation == \"divide\":\n",
    "        result == args[0]\n",
    "        for num in args[1]:\n",
    "            result /= num\n",
    "        return result\n",
    "\n",
    "calc(\"multiply\",2,3,4)"
   ]
  },
  {
   "cell_type": "code",
   "execution_count": null,
   "id": "e195af12-d983-4656-9766-d1f754b0b19b",
   "metadata": {},
   "outputs": [],
   "source": []
  },
  {
   "cell_type": "code",
   "execution_count": 50,
   "id": "b0562a8d-94a6-4893-8030-897af934ae87",
   "metadata": {},
   "outputs": [],
   "source": [
    "# function library info that takes in a person name (position argument), ther age (keyword argument) and andy additioanl information\n"
   ]
  },
  {
   "cell_type": "code",
   "execution_count": 51,
   "id": "127156e1-3482-4a2d-945a-fb450fd5f276",
   "metadata": {},
   "outputs": [
    {
     "ename": "NameError",
     "evalue": "name 'age' is not defined",
     "output_type": "error",
     "traceback": [
      "\u001b[1;31m---------------------------------------------------------------------------\u001b[0m",
      "\u001b[1;31mNameError\u001b[0m                                 Traceback (most recent call last)",
      "Cell \u001b[1;32mIn[51], line 1\u001b[0m\n\u001b[1;32m----> 1\u001b[0m name : \u001b[43mage\u001b[49m\n",
      "\u001b[1;31mNameError\u001b[0m: name 'age' is not defined"
     ]
    }
   ],
   "source": [
    "name : age\n",
    "age "
   ]
  },
  {
   "cell_type": "code",
   "execution_count": null,
   "id": "dc86f189-43de-4679-896a-e2cb31df4712",
   "metadata": {},
   "outputs": [],
   "source": []
  }
 ],
 "metadata": {
  "kernelspec": {
   "display_name": "Python 3 (ipykernel)",
   "language": "python",
   "name": "python3"
  },
  "language_info": {
   "codemirror_mode": {
    "name": "ipython",
    "version": 3
   },
   "file_extension": ".py",
   "mimetype": "text/x-python",
   "name": "python",
   "nbconvert_exporter": "python",
   "pygments_lexer": "ipython3",
   "version": "3.11.4"
  }
 },
 "nbformat": 4,
 "nbformat_minor": 5
}
