{
 "cells": [
  {
   "cell_type": "code",
   "execution_count": 1,
   "id": "23c382a7-dba9-47b5-9bc2-3d2ccfecafd3",
   "metadata": {},
   "outputs": [],
   "source": [
    "# q1"
   ]
  },
  {
   "cell_type": "code",
   "execution_count": 4,
   "id": "1e75f816-bc9f-4aa9-8291-8714ef471341",
   "metadata": {},
   "outputs": [
    {
     "data": {
      "text/plain": [
       "array([4, 3, 5, 2, 1, 6, 7, 8, 9])"
      ]
     },
     "execution_count": 4,
     "metadata": {},
     "output_type": "execute_result"
    }
   ],
   "source": [
    "import numpy as np\n",
    "var = np.array([4,3,5,2,1,6,7,8,9])\n",
    "var"
   ]
  },
  {
   "cell_type": "code",
   "execution_count": 5,
   "id": "84065861-f25d-497a-987f-8df2966b86e3",
   "metadata": {},
   "outputs": [
    {
     "data": {
      "text/plain": [
       "numpy.ndarray"
      ]
     },
     "execution_count": 5,
     "metadata": {},
     "output_type": "execute_result"
    }
   ],
   "source": [
    "type(var)"
   ]
  },
  {
   "cell_type": "code",
   "execution_count": 16,
   "id": "7ce65c72-937c-4b34-ab41-3c6d58afa888",
   "metadata": {
    "scrolled": true
   },
   "outputs": [
    {
     "data": {
      "text/plain": [
       "array([[ 1,  2],\n",
       "       [15,  6]])"
      ]
     },
     "execution_count": 16,
     "metadata": {},
     "output_type": "execute_result"
    }
   ],
   "source": [
    "# q2\n",
    "\n",
    "import numpy as np\n",
    "var1 = np.array([[1,2],[15,6]])\n",
    "var1"
   ]
  },
  {
   "cell_type": "code",
   "execution_count": null,
   "id": "59d4533c-e09b-4c0d-9c7f-57fb175581db",
   "metadata": {},
   "outputs": [],
   "source": [
    "# q3"
   ]
  },
  {
   "cell_type": "code",
   "execution_count": 29,
   "id": "d59a4dce-2727-485a-89ee-3402b33d39bb",
   "metadata": {},
   "outputs": [
    {
     "data": {
      "text/plain": [
       "array([1, 2, 3, 4])"
      ]
     },
     "execution_count": 29,
     "metadata": {},
     "output_type": "execute_result"
    }
   ],
   "source": [
    "import numpy as np\n",
    "ar = np.array([1,2,3,4])\n",
    "ar"
   ]
  },
  {
   "cell_type": "code",
   "execution_count": 27,
   "id": "dacdd9fd-0608-42bd-90ea-69d3be211935",
   "metadata": {},
   "outputs": [
    {
     "data": {
      "text/plain": [
       "'add by 2 is : [3 4 5 6]'"
      ]
     },
     "execution_count": 27,
     "metadata": {},
     "output_type": "execute_result"
    }
   ],
   "source": [
    "sum = f\"add by 2 is : {ar+2}\"\n",
    "sum"
   ]
  },
  {
   "cell_type": "code",
   "execution_count": 24,
   "id": "96d987a8-ad91-4dbc-9dcc-4761db06927d",
   "metadata": {},
   "outputs": [
    {
     "data": {
      "text/plain": [
       "'sub by 2 is : [-1  0  1  2]'"
      ]
     },
     "execution_count": 24,
     "metadata": {},
     "output_type": "execute_result"
    }
   ],
   "source": [
    "sub = f\"sub by 2 is : {ar-2}\"\n",
    "sub\n"
   ]
  },
  {
   "cell_type": "code",
   "execution_count": 32,
   "id": "7d75c592-21de-4664-8814-a4268409b6cf",
   "metadata": {},
   "outputs": [
    {
     "data": {
      "text/plain": [
       "'mul by 2 is : [2 4 6 8]'"
      ]
     },
     "execution_count": 32,
     "metadata": {},
     "output_type": "execute_result"
    }
   ],
   "source": [
    "mul = f\"mul by 2 is : {ar*2}\"\n",
    "mul"
   ]
  },
  {
   "cell_type": "code",
   "execution_count": 31,
   "id": "5b2d7416-c2d1-4c6c-a9e5-808a80ec7fbf",
   "metadata": {},
   "outputs": [
    {
     "data": {
      "text/plain": [
       "'div by 2 is : [0.5 1.  1.5 2. ]'"
      ]
     },
     "execution_count": 31,
     "metadata": {},
     "output_type": "execute_result"
    }
   ],
   "source": [
    "div = f\"div by 2 is : {ar/2}\"\n",
    "div"
   ]
  },
  {
   "cell_type": "code",
   "execution_count": null,
   "id": "7c548a76-3840-4cab-b483-486a01d67142",
   "metadata": {},
   "outputs": [],
   "source": []
  },
  {
   "cell_type": "code",
   "execution_count": null,
   "id": "7803b0b4-01dd-4581-b5ca-4803998a134e",
   "metadata": {},
   "outputs": [],
   "source": [
    "# q 4"
   ]
  },
  {
   "cell_type": "code",
   "execution_count": 40,
   "id": "b89eab89-6d65-4ad2-b628-4ad62e2b0800",
   "metadata": {},
   "outputs": [
    {
     "data": {
      "text/plain": [
       "array([1, 2, 3, 4])"
      ]
     },
     "execution_count": 40,
     "metadata": {},
     "output_type": "execute_result"
    }
   ],
   "source": [
    "# 1d\n",
    "import numpy as np\n",
    "ar1 = np.array([1,2,3,4])\n",
    "ar1\n"
   ]
  },
  {
   "cell_type": "code",
   "execution_count": 41,
   "id": "7e5e9469-54ff-40de-8f9b-3c633c2ec4e9",
   "metadata": {},
   "outputs": [
    {
     "data": {
      "text/plain": [
       "4"
      ]
     },
     "execution_count": 41,
     "metadata": {},
     "output_type": "execute_result"
    }
   ],
   "source": [
    "np.max(ar1)"
   ]
  },
  {
   "cell_type": "code",
   "execution_count": 42,
   "id": "87ddd49c-ab1d-4d03-a21c-f90aaf1cd16d",
   "metadata": {},
   "outputs": [
    {
     "data": {
      "text/plain": [
       "1"
      ]
     },
     "execution_count": 42,
     "metadata": {},
     "output_type": "execute_result"
    }
   ],
   "source": [
    "np.min(ar1)"
   ]
  },
  {
   "cell_type": "code",
   "execution_count": 43,
   "id": "cdaacab1-a951-4c15-ae79-48deeeb8df94",
   "metadata": {},
   "outputs": [
    {
     "data": {
      "text/plain": [
       "2.5"
      ]
     },
     "execution_count": 43,
     "metadata": {},
     "output_type": "execute_result"
    }
   ],
   "source": [
    "np.mean(ar1)"
   ]
  },
  {
   "cell_type": "code",
   "execution_count": 44,
   "id": "af91215b-7324-4353-907e-9e1fa4428749",
   "metadata": {},
   "outputs": [],
   "source": [
    "# 2d"
   ]
  },
  {
   "cell_type": "code",
   "execution_count": 51,
   "id": "4fd78025-7a13-40a7-9092-eb755db05597",
   "metadata": {},
   "outputs": [
    {
     "data": {
      "text/plain": [
       "array([[1, 2, 3, 4],\n",
       "       [5, 6, 7, 8]])"
      ]
     },
     "execution_count": 51,
     "metadata": {},
     "output_type": "execute_result"
    }
   ],
   "source": [
    "import numpy as np\n",
    "ar2 = np.array([[1,2,3,4],[5,6,7,8]])\n",
    "ar2"
   ]
  },
  {
   "cell_type": "code",
   "execution_count": 52,
   "id": "57e21136-00b4-474b-9fe4-53e9b8ec2361",
   "metadata": {},
   "outputs": [
    {
     "data": {
      "text/plain": [
       "8"
      ]
     },
     "execution_count": 52,
     "metadata": {},
     "output_type": "execute_result"
    }
   ],
   "source": [
    "np.max(ar2)"
   ]
  },
  {
   "cell_type": "code",
   "execution_count": 53,
   "id": "e5e38fbd-1b62-43ea-bf5c-0eec048463df",
   "metadata": {},
   "outputs": [
    {
     "data": {
      "text/plain": [
       "1"
      ]
     },
     "execution_count": 53,
     "metadata": {},
     "output_type": "execute_result"
    }
   ],
   "source": [
    "np.min(ar2)"
   ]
  },
  {
   "cell_type": "code",
   "execution_count": 54,
   "id": "c9b8c01f-79df-4dd8-afa3-45be534bb3bb",
   "metadata": {
    "scrolled": true
   },
   "outputs": [
    {
     "data": {
      "text/plain": [
       "4.5"
      ]
     },
     "execution_count": 54,
     "metadata": {},
     "output_type": "execute_result"
    }
   ],
   "source": [
    "np.mean(ar2)"
   ]
  },
  {
   "cell_type": "code",
   "execution_count": null,
   "id": "5f448e7e-d370-4c0b-915a-69f16bbb7f33",
   "metadata": {},
   "outputs": [],
   "source": []
  },
  {
   "cell_type": "code",
   "execution_count": 59,
   "id": "a95e13cf-bc9d-4a59-8158-3e08d842b6db",
   "metadata": {},
   "outputs": [],
   "source": [
    "# question 5"
   ]
  },
  {
   "cell_type": "code",
   "execution_count": 57,
   "id": "d3091ac7-5bd2-4479-a0db-e357d1eae7af",
   "metadata": {},
   "outputs": [
    {
     "data": {
      "text/plain": [
       "3"
      ]
     },
     "execution_count": 57,
     "metadata": {},
     "output_type": "execute_result"
    }
   ],
   "source": [
    "import numpy as np\n",
    "ar1 = np.array([1,2,3,4])\n",
    "ar1\n",
    "ar1[2]"
   ]
  },
  {
   "cell_type": "code",
   "execution_count": null,
   "id": "0dfb1547-37bf-424c-aabb-1c22157ee1ae",
   "metadata": {},
   "outputs": [],
   "source": []
  },
  {
   "cell_type": "code",
   "execution_count": null,
   "id": "e4b7f72e-c484-4ad2-aabc-da8b43a1a1c9",
   "metadata": {},
   "outputs": [],
   "source": []
  },
  {
   "cell_type": "code",
   "execution_count": 60,
   "id": "9c2a3cbc-fbeb-4226-ae11-09281214f233",
   "metadata": {},
   "outputs": [
    {
     "data": {
      "text/plain": [
       "array([[1, 2, 3, 4],\n",
       "       [5, 6, 7, 8]])"
      ]
     },
     "execution_count": 60,
     "metadata": {},
     "output_type": "execute_result"
    }
   ],
   "source": [
    "# quest 6\n",
    "\n",
    "import numpy as np\n",
    "ar1 = np.array([[1,2,3,4],[5,6,7,8]])\n",
    "ar1"
   ]
  },
  {
   "cell_type": "code",
   "execution_count": 61,
   "id": "8ce8e6a3-1622-476f-beaa-53c43b921f9b",
   "metadata": {},
   "outputs": [
    {
     "data": {
      "text/plain": [
       "array([[5, 6, 7, 8]])"
      ]
     },
     "execution_count": 61,
     "metadata": {},
     "output_type": "execute_result"
    }
   ],
   "source": [
    "ar1[1:]"
   ]
  },
  {
   "cell_type": "code",
   "execution_count": null,
   "id": "3d7d8a86-8af8-473e-bc8a-45e8e984b374",
   "metadata": {},
   "outputs": [],
   "source": []
  },
  {
   "cell_type": "code",
   "execution_count": null,
   "id": "6f67ce76-535c-47ec-a71e-6f6001dde285",
   "metadata": {},
   "outputs": [],
   "source": []
  },
  {
   "cell_type": "code",
   "execution_count": null,
   "id": "887408f4-7e6d-4850-b95b-e8f69f48a36d",
   "metadata": {},
   "outputs": [],
   "source": [
    "# que 2 using arange and reshape"
   ]
  },
  {
   "cell_type": "code",
   "execution_count": 66,
   "id": "ed4e2fa8-7c4e-49de-ae80-d63cb5099a4f",
   "metadata": {},
   "outputs": [
    {
     "data": {
      "text/plain": [
       "array([[0, 1],\n",
       "       [2, 3]])"
      ]
     },
     "execution_count": 66,
     "metadata": {},
     "output_type": "execute_result"
    }
   ],
   "source": [
    "var4 = np.arange(4).reshape(2,2)\n",
    "var4"
   ]
  },
  {
   "cell_type": "code",
   "execution_count": 69,
   "id": "394362d9-5187-43f7-a286-8571d42b0907",
   "metadata": {},
   "outputs": [
    {
     "data": {
      "text/plain": [
       "array([[0.22669303, 0.51812255],\n",
       "       [0.8514247 , 0.12222071]])"
      ]
     },
     "execution_count": 69,
     "metadata": {},
     "output_type": "execute_result"
    }
   ],
   "source": [
    "# que 2 using rand\n",
    "np.random.rand(2,2)"
   ]
  },
  {
   "cell_type": "code",
   "execution_count": 71,
   "id": "1939cb0f-c143-4897-928a-a886aca8d3b9",
   "metadata": {},
   "outputs": [
    {
     "data": {
      "text/plain": [
       "array([[0.39241762, 0.47423749],\n",
       "       [0.58188178, 0.27209566]])"
      ]
     },
     "execution_count": 71,
     "metadata": {},
     "output_type": "execute_result"
    }
   ],
   "source": [
    "np.random.rand(2,2)"
   ]
  },
  {
   "cell_type": "code",
   "execution_count": 73,
   "id": "b1fe9cc3-4891-4957-b107-dcfe03956a30",
   "metadata": {},
   "outputs": [
    {
     "data": {
      "text/plain": [
       "array([16, 17, 13, 17, 14])"
      ]
     },
     "execution_count": 73,
     "metadata": {},
     "output_type": "execute_result"
    }
   ],
   "source": [
    "np.random.randint(5,20,5)"
   ]
  },
  {
   "cell_type": "code",
   "execution_count": null,
   "id": "24a36ae1-bb2f-4917-a1a6-492f230d26ae",
   "metadata": {},
   "outputs": [],
   "source": []
  }
 ],
 "metadata": {
  "kernelspec": {
   "display_name": "Python 3 (ipykernel)",
   "language": "python",
   "name": "python3"
  },
  "language_info": {
   "codemirror_mode": {
    "name": "ipython",
    "version": 3
   },
   "file_extension": ".py",
   "mimetype": "text/x-python",
   "name": "python",
   "nbconvert_exporter": "python",
   "pygments_lexer": "ipython3",
   "version": "3.11.4"
  }
 },
 "nbformat": 4,
 "nbformat_minor": 5
}
