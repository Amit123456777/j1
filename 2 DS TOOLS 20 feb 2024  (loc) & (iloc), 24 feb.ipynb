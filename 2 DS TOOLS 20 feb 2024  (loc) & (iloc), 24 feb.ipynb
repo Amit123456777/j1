{
 "cells": [
  {
   "cell_type": "code",
   "execution_count": 6,
   "id": "9062f7c7-2fcb-4f2c-ac8b-46d619ac26f9",
   "metadata": {},
   "outputs": [
    {
     "name": "stdout",
     "output_type": "stream",
     "text": [
      "   A  B\n",
      "0  1  4\n",
      "1  2  5\n",
      "2  3  6\n"
     ]
    }
   ],
   "source": [
    "# location finder\n",
    "import pandas as pd\n",
    "df = pd.DataFrame({\"A\" : [1,2,3], \"B\":[4,5,6]})\n",
    "print(df)"
   ]
  },
  {
   "cell_type": "code",
   "execution_count": null,
   "id": "2e1dad3d-f93b-4fd8-bb25-234248be3009",
   "metadata": {},
   "outputs": [],
   "source": []
  },
  {
   "cell_type": "code",
   "execution_count": 7,
   "id": "8f6e2a69-1791-44c1-9f5e-023a0f5d7fed",
   "metadata": {},
   "outputs": [
    {
     "data": {
      "text/html": [
       "<div>\n",
       "<style scoped>\n",
       "    .dataframe tbody tr th:only-of-type {\n",
       "        vertical-align: middle;\n",
       "    }\n",
       "\n",
       "    .dataframe tbody tr th {\n",
       "        vertical-align: top;\n",
       "    }\n",
       "\n",
       "    .dataframe thead th {\n",
       "        text-align: right;\n",
       "    }\n",
       "</style>\n",
       "<table border=\"1\" class=\"dataframe\">\n",
       "  <thead>\n",
       "    <tr style=\"text-align: right;\">\n",
       "      <th></th>\n",
       "      <th>A</th>\n",
       "      <th>B</th>\n",
       "    </tr>\n",
       "  </thead>\n",
       "  <tbody>\n",
       "    <tr>\n",
       "      <th>row1</th>\n",
       "      <td>1</td>\n",
       "      <td>4</td>\n",
       "    </tr>\n",
       "    <tr>\n",
       "      <th>row2</th>\n",
       "      <td>2</td>\n",
       "      <td>5</td>\n",
       "    </tr>\n",
       "    <tr>\n",
       "      <th>row3</th>\n",
       "      <td>3</td>\n",
       "      <td>6</td>\n",
       "    </tr>\n",
       "  </tbody>\n",
       "</table>\n",
       "</div>"
      ],
      "text/plain": [
       "      A  B\n",
       "row1  1  4\n",
       "row2  2  5\n",
       "row3  3  6"
      ]
     },
     "execution_count": 7,
     "metadata": {},
     "output_type": "execute_result"
    }
   ],
   "source": [
    "import pandas as pd\n",
    "df = pd.DataFrame({\"A\" : [1,2,3], \"B\":[4,5,6]}, index=[\"row1\", \"row2\", \"row3\"])\n",
    "df"
   ]
  },
  {
   "cell_type": "code",
   "execution_count": 8,
   "id": "8e85fece-b92f-46dd-919d-8da4419e2de8",
   "metadata": {},
   "outputs": [
    {
     "data": {
      "text/plain": [
       "5"
      ]
     },
     "execution_count": 8,
     "metadata": {},
     "output_type": "execute_result"
    }
   ],
   "source": [
    "df.loc[\"row2\",\"B\"]"
   ]
  },
  {
   "cell_type": "code",
   "execution_count": 10,
   "id": "9a3ca496-dc4b-48ed-b57a-f63aea1c0048",
   "metadata": {},
   "outputs": [
    {
     "data": {
      "text/plain": [
       "5"
      ]
     },
     "execution_count": 10,
     "metadata": {},
     "output_type": "execute_result"
    }
   ],
   "source": [
    "df.iloc[1,1]"
   ]
  },
  {
   "cell_type": "code",
   "execution_count": null,
   "id": "32e7cfe5-1054-40eb-8881-693d946b5d58",
   "metadata": {},
   "outputs": [],
   "source": []
  },
  {
   "cell_type": "code",
   "execution_count": 16,
   "id": "449c0796-eab0-4b78-86d2-1a8d29bff399",
   "metadata": {},
   "outputs": [
    {
     "name": "stdout",
     "output_type": "stream",
     "text": [
      "   weight  height  age\n",
      "0      45     sam   14\n",
      "1      88  andrea   25\n",
      "2      56    alex   55\n",
      "3      15   robin    8\n",
      "4      71     kia   21\n"
     ]
    }
   ],
   "source": [
    "import pandas as pd\n",
    "df = pd.DataFrame({'weight' :[45,88,56,15,71], \n",
    "                   'height' : [\"sam\", \"andrea\", \"alex\", \"robin\", \"kia\"],\n",
    "                   'age' :[14,25,55,8,21]})\n",
    "print(df)"
   ]
  },
  {
   "cell_type": "code",
   "execution_count": null,
   "id": "65a84b00-da3a-46b1-ab0f-c74376e2ca97",
   "metadata": {},
   "outputs": [],
   "source": []
  },
  {
   "cell_type": "code",
   "execution_count": 17,
   "id": "337f5b45-dde6-4749-aec9-8fea1f550a1c",
   "metadata": {},
   "outputs": [],
   "source": [
    "# index 2 way to create \n",
    "# inside df\n",
    "# or out df"
   ]
  },
  {
   "cell_type": "code",
   "execution_count": 24,
   "id": "4c5c9d1c-07ff-4a2f-b99f-ef7f19d97b36",
   "metadata": {},
   "outputs": [
    {
     "name": "stdout",
     "output_type": "stream",
     "text": [
      "      weight  height  age\n",
      "row1      45     sam   14\n",
      "row2      88  andrea   25\n",
      "row3      56    alex   55\n",
      "row4      15   robin    8\n",
      "row5      71     kia   21\n"
     ]
    }
   ],
   "source": [
    "import pandas as pd\n",
    "df = pd.DataFrame({'weight' :[45,88,56,15,71], \n",
    "                   'height' : [\"sam\", \"andrea\", \"alex\", \"robin\", \"kia\"],\n",
    "                   'age' :[14,25,55,8,21]},index = [\"row1\", \"row2\", \"row3\", \"row4\", \"row5\"])\n",
    "print(df)"
   ]
  },
  {
   "cell_type": "code",
   "execution_count": 25,
   "id": "58c9f4ec-2258-4b24-9860-31584dcf1eb0",
   "metadata": {},
   "outputs": [
    {
     "data": {
      "text/html": [
       "<div>\n",
       "<style scoped>\n",
       "    .dataframe tbody tr th:only-of-type {\n",
       "        vertical-align: middle;\n",
       "    }\n",
       "\n",
       "    .dataframe tbody tr th {\n",
       "        vertical-align: top;\n",
       "    }\n",
       "\n",
       "    .dataframe thead th {\n",
       "        text-align: right;\n",
       "    }\n",
       "</style>\n",
       "<table border=\"1\" class=\"dataframe\">\n",
       "  <thead>\n",
       "    <tr style=\"text-align: right;\">\n",
       "      <th></th>\n",
       "      <th>weight</th>\n",
       "      <th>height</th>\n",
       "      <th>age</th>\n",
       "    </tr>\n",
       "  </thead>\n",
       "  <tbody>\n",
       "    <tr>\n",
       "      <th>row1</th>\n",
       "      <td>45</td>\n",
       "      <td>sam</td>\n",
       "      <td>14</td>\n",
       "    </tr>\n",
       "    <tr>\n",
       "      <th>row2</th>\n",
       "      <td>88</td>\n",
       "      <td>andrea</td>\n",
       "      <td>25</td>\n",
       "    </tr>\n",
       "    <tr>\n",
       "      <th>row3</th>\n",
       "      <td>56</td>\n",
       "      <td>alex</td>\n",
       "      <td>55</td>\n",
       "    </tr>\n",
       "    <tr>\n",
       "      <th>row4</th>\n",
       "      <td>15</td>\n",
       "      <td>robin</td>\n",
       "      <td>8</td>\n",
       "    </tr>\n",
       "    <tr>\n",
       "      <th>row5</th>\n",
       "      <td>71</td>\n",
       "      <td>kia</td>\n",
       "      <td>21</td>\n",
       "    </tr>\n",
       "  </tbody>\n",
       "</table>\n",
       "</div>"
      ],
      "text/plain": [
       "      weight  height  age\n",
       "row1      45     sam   14\n",
       "row2      88  andrea   25\n",
       "row3      56    alex   55\n",
       "row4      15   robin    8\n",
       "row5      71     kia   21"
      ]
     },
     "execution_count": 25,
     "metadata": {},
     "output_type": "execute_result"
    }
   ],
   "source": [
    "index = [\"row1\", \"row2\", \"row3\", \"row4\", \"row5\"]\n",
    "df.index = index\n",
    "df"
   ]
  },
  {
   "cell_type": "code",
   "execution_count": 109,
   "id": "ba9c551a-7de1-42bf-aab7-046787498d1b",
   "metadata": {},
   "outputs": [
    {
     "data": {
      "text/plain": [
       "88"
      ]
     },
     "execution_count": 109,
     "metadata": {},
     "output_type": "execute_result"
    }
   ],
   "source": [
    "df.loc[\"row2\",\"weight\"]"
   ]
  },
  {
   "cell_type": "code",
   "execution_count": 110,
   "id": "fd5ee77f-7919-4144-8b8d-e7f0ff5d0a81",
   "metadata": {},
   "outputs": [
    {
     "data": {
      "text/plain": [
       "'andrea'"
      ]
     },
     "execution_count": 110,
     "metadata": {},
     "output_type": "execute_result"
    }
   ],
   "source": [
    "df.iloc[1,1]"
   ]
  },
  {
   "cell_type": "code",
   "execution_count": null,
   "id": "9d0715fd-4662-4a90-bc5f-25b291bee403",
   "metadata": {},
   "outputs": [],
   "source": []
  },
  {
   "cell_type": "code",
   "execution_count": 38,
   "id": "8b424615-bbbf-4acf-bbdb-085182aa7095",
   "metadata": {},
   "outputs": [
    {
     "data": {
      "text/plain": [
       "weight        88\n",
       "height    andrea\n",
       "age           25\n",
       "Name: row2, dtype: object"
      ]
     },
     "execution_count": 38,
     "metadata": {},
     "output_type": "execute_result"
    }
   ],
   "source": [
    "# acces entire row or entire colu\n",
    "\n",
    "df.loc[\"row2\",()]    #  column blank if we want row "
   ]
  },
  {
   "cell_type": "code",
   "execution_count": 112,
   "id": "f43ee2df-9c4c-48d0-a979-3b2e9b79cd88",
   "metadata": {},
   "outputs": [
    {
     "data": {
      "text/plain": [
       "weight        88\n",
       "height    andrea\n",
       "age           25\n",
       "Name: row2, dtype: object"
      ]
     },
     "execution_count": 112,
     "metadata": {},
     "output_type": "execute_result"
    }
   ],
   "source": [
    "df.loc[\"row2\",:]"
   ]
  },
  {
   "cell_type": "code",
   "execution_count": 52,
   "id": "a5de2c65-d983-41ab-b26b-fed9db09eaf7",
   "metadata": {},
   "outputs": [
    {
     "data": {
      "text/plain": [
       "row1       sam\n",
       "row2    andrea\n",
       "row3      alex\n",
       "row4     robin\n",
       "row5       kia\n",
       "Name: height, dtype: object"
      ]
     },
     "execution_count": 52,
     "metadata": {},
     "output_type": "execute_result"
    }
   ],
   "source": [
    "# similarly for column\n",
    "\n",
    "df.iloc[:,1]"
   ]
  },
  {
   "cell_type": "code",
   "execution_count": null,
   "id": "1080c66e-1e40-4824-a16c-905ebb255bd2",
   "metadata": {},
   "outputs": [],
   "source": []
  },
  {
   "cell_type": "code",
   "execution_count": 66,
   "id": "d57600c6-d476-4d72-b02c-1d3dacd38618",
   "metadata": {},
   "outputs": [
    {
     "name": "stdout",
     "output_type": "stream",
     "text": [
      "         A     B   C     D\n",
      "row1  12.0     7  20  14.0\n",
      "row2  45.0     5  16   3.0\n",
      "row3   5.0    54  11   NaN\n",
      "row4   NaN     3   3   2.0\n",
      "row5   1.0  None   4   6.0\n"
     ]
    }
   ],
   "source": [
    "df1 = pd.DataFrame({\"A\":[12,45,5,None,1], \"B\" : [7,5,54,3,\"None\"], \"C\" :[20,16,11,3,4], \"D\" : [14,3,None,2,6]},index = [\"row1\", \"row2\", \"row3\", \"row4\", \"row5\"] )\n",
    "print(df1)          "
   ]
  },
  {
   "cell_type": "code",
   "execution_count": 54,
   "id": "64e646e3-be76-4be4-9869-a029a45e5f84",
   "metadata": {},
   "outputs": [],
   "source": [
    "# use df1 access col a and column d"
   ]
  },
  {
   "cell_type": "code",
   "execution_count": 67,
   "id": "445292a6-e2fd-4a18-836b-3a5eff034a27",
   "metadata": {},
   "outputs": [
    {
     "data": {
      "text/plain": [
       "row1    12.0\n",
       "row2    45.0\n",
       "row3     5.0\n",
       "row4     NaN\n",
       "row5     1.0\n",
       "Name: A, dtype: float64"
      ]
     },
     "execution_count": 67,
     "metadata": {},
     "output_type": "execute_result"
    }
   ],
   "source": [
    "#\n",
    "\n",
    "df1.loc[(),\"A\"]"
   ]
  },
  {
   "cell_type": "code",
   "execution_count": 68,
   "id": "e669a2b1-c767-44a6-ad8b-6bd5c17487fe",
   "metadata": {
    "scrolled": true
   },
   "outputs": [
    {
     "data": {
      "text/plain": [
       "row1    14.0\n",
       "row2     3.0\n",
       "row3     NaN\n",
       "row4     2.0\n",
       "row5     6.0\n",
       "Name: D, dtype: float64"
      ]
     },
     "execution_count": 68,
     "metadata": {},
     "output_type": "execute_result"
    }
   ],
   "source": [
    "df1.loc[(),\"D\"]"
   ]
  },
  {
   "cell_type": "code",
   "execution_count": 1,
   "id": "5aa8f82b-18dc-4441-ba7a-396111d7c714",
   "metadata": {},
   "outputs": [
    {
     "ename": "SyntaxError",
     "evalue": "invalid syntax (2064058597.py, line 1)",
     "output_type": "error",
     "traceback": [
      "\u001b[1;36m  Cell \u001b[1;32mIn[1], line 1\u001b[1;36m\u001b[0m\n\u001b[1;33m    df1.loc[(),[\"A\":\"D\"]]\u001b[0m\n\u001b[1;37m                   ^\u001b[0m\n\u001b[1;31mSyntaxError\u001b[0m\u001b[1;31m:\u001b[0m invalid syntax\n"
     ]
    }
   ],
   "source": [
    "df1.loc[(),[\"A\":\"D\"]]"
   ]
  },
  {
   "cell_type": "code",
   "execution_count": 70,
   "id": "2487f7e0-3853-4a09-ab85-e5263a4adc60",
   "metadata": {},
   "outputs": [
    {
     "data": {
      "text/plain": [
       "row1    12.0\n",
       "row2    45.0\n",
       "row3     5.0\n",
       "row4     NaN\n",
       "row5     1.0\n",
       "Name: A, dtype: float64"
      ]
     },
     "execution_count": 70,
     "metadata": {},
     "output_type": "execute_result"
    }
   ],
   "source": [
    "# using iloc\n",
    "df1.iloc[:,0]   # zero is col index"
   ]
  },
  {
   "cell_type": "code",
   "execution_count": 71,
   "id": "cfc42304-92e8-4645-8654-b6d81c475f30",
   "metadata": {},
   "outputs": [
    {
     "data": {
      "text/plain": [
       "row1    14.0\n",
       "row2     3.0\n",
       "row3     NaN\n",
       "row4     2.0\n",
       "row5     6.0\n",
       "Name: D, dtype: float64"
      ]
     },
     "execution_count": 71,
     "metadata": {},
     "output_type": "execute_result"
    }
   ],
   "source": [
    "df1.iloc[:,3]   \n",
    "\n",
    "\n",
    "# syntax to access 4th row\n",
    "# df1.iloc[row,col]"
   ]
  },
  {
   "cell_type": "code",
   "execution_count": null,
   "id": "338cba9d-eb56-426c-a1c7-a649507857dc",
   "metadata": {},
   "outputs": [],
   "source": []
  },
  {
   "cell_type": "code",
   "execution_count": null,
   "id": "c3f8885a-227b-4895-8308-3a9d3888bdf2",
   "metadata": {},
   "outputs": [],
   "source": [
    "# select between two rows and two columns"
   ]
  },
  {
   "cell_type": "code",
   "execution_count": 83,
   "id": "7f218900-de66-44b4-97c4-e45971b94b68",
   "metadata": {},
   "outputs": [
    {
     "data": {
      "text/html": [
       "<div>\n",
       "<style scoped>\n",
       "    .dataframe tbody tr th:only-of-type {\n",
       "        vertical-align: middle;\n",
       "    }\n",
       "\n",
       "    .dataframe tbody tr th {\n",
       "        vertical-align: top;\n",
       "    }\n",
       "\n",
       "    .dataframe thead th {\n",
       "        text-align: right;\n",
       "    }\n",
       "</style>\n",
       "<table border=\"1\" class=\"dataframe\">\n",
       "  <thead>\n",
       "    <tr style=\"text-align: right;\">\n",
       "      <th></th>\n",
       "      <th>B</th>\n",
       "      <th>C</th>\n",
       "      <th>D</th>\n",
       "    </tr>\n",
       "  </thead>\n",
       "  <tbody>\n",
       "    <tr>\n",
       "      <th>row1</th>\n",
       "      <td>7</td>\n",
       "      <td>20</td>\n",
       "      <td>14.0</td>\n",
       "    </tr>\n",
       "    <tr>\n",
       "      <th>row2</th>\n",
       "      <td>5</td>\n",
       "      <td>16</td>\n",
       "      <td>3.0</td>\n",
       "    </tr>\n",
       "    <tr>\n",
       "      <th>row3</th>\n",
       "      <td>54</td>\n",
       "      <td>11</td>\n",
       "      <td>NaN</td>\n",
       "    </tr>\n",
       "    <tr>\n",
       "      <th>row4</th>\n",
       "      <td>3</td>\n",
       "      <td>3</td>\n",
       "      <td>2.0</td>\n",
       "    </tr>\n",
       "    <tr>\n",
       "      <th>row5</th>\n",
       "      <td>None</td>\n",
       "      <td>4</td>\n",
       "      <td>6.0</td>\n",
       "    </tr>\n",
       "  </tbody>\n",
       "</table>\n",
       "</div>"
      ],
      "text/plain": [
       "         B   C     D\n",
       "row1     7  20  14.0\n",
       "row2     5  16   3.0\n",
       "row3    54  11   NaN\n",
       "row4     3   3   2.0\n",
       "row5  None   4   6.0"
      ]
     },
     "execution_count": 83,
     "metadata": {},
     "output_type": "execute_result"
    }
   ],
   "source": [
    "df1.loc[:,\"B\":]"
   ]
  },
  {
   "cell_type": "code",
   "execution_count": 86,
   "id": "014fa425-109b-4c15-807b-c00c54d3631a",
   "metadata": {},
   "outputs": [
    {
     "data": {
      "text/html": [
       "<div>\n",
       "<style scoped>\n",
       "    .dataframe tbody tr th:only-of-type {\n",
       "        vertical-align: middle;\n",
       "    }\n",
       "\n",
       "    .dataframe tbody tr th {\n",
       "        vertical-align: top;\n",
       "    }\n",
       "\n",
       "    .dataframe thead th {\n",
       "        text-align: right;\n",
       "    }\n",
       "</style>\n",
       "<table border=\"1\" class=\"dataframe\">\n",
       "  <thead>\n",
       "    <tr style=\"text-align: right;\">\n",
       "      <th></th>\n",
       "      <th>B</th>\n",
       "      <th>C</th>\n",
       "      <th>D</th>\n",
       "    </tr>\n",
       "  </thead>\n",
       "  <tbody>\n",
       "    <tr>\n",
       "      <th>row1</th>\n",
       "      <td>7</td>\n",
       "      <td>20</td>\n",
       "      <td>14.0</td>\n",
       "    </tr>\n",
       "    <tr>\n",
       "      <th>row2</th>\n",
       "      <td>5</td>\n",
       "      <td>16</td>\n",
       "      <td>3.0</td>\n",
       "    </tr>\n",
       "    <tr>\n",
       "      <th>row3</th>\n",
       "      <td>54</td>\n",
       "      <td>11</td>\n",
       "      <td>NaN</td>\n",
       "    </tr>\n",
       "    <tr>\n",
       "      <th>row4</th>\n",
       "      <td>3</td>\n",
       "      <td>3</td>\n",
       "      <td>2.0</td>\n",
       "    </tr>\n",
       "    <tr>\n",
       "      <th>row5</th>\n",
       "      <td>None</td>\n",
       "      <td>4</td>\n",
       "      <td>6.0</td>\n",
       "    </tr>\n",
       "  </tbody>\n",
       "</table>\n",
       "</div>"
      ],
      "text/plain": [
       "         B   C     D\n",
       "row1     7  20  14.0\n",
       "row2     5  16   3.0\n",
       "row3    54  11   NaN\n",
       "row4     3   3   2.0\n",
       "row5  None   4   6.0"
      ]
     },
     "execution_count": 86,
     "metadata": {},
     "output_type": "execute_result"
    }
   ],
   "source": [
    "df1.iloc[:,1:]   # row, column"
   ]
  },
  {
   "cell_type": "code",
   "execution_count": 87,
   "id": "f2c414cb-ad22-4866-97c2-6441af9f7b3f",
   "metadata": {},
   "outputs": [
    {
     "data": {
      "text/html": [
       "<div>\n",
       "<style scoped>\n",
       "    .dataframe tbody tr th:only-of-type {\n",
       "        vertical-align: middle;\n",
       "    }\n",
       "\n",
       "    .dataframe tbody tr th {\n",
       "        vertical-align: top;\n",
       "    }\n",
       "\n",
       "    .dataframe thead th {\n",
       "        text-align: right;\n",
       "    }\n",
       "</style>\n",
       "<table border=\"1\" class=\"dataframe\">\n",
       "  <thead>\n",
       "    <tr style=\"text-align: right;\">\n",
       "      <th></th>\n",
       "      <th>B</th>\n",
       "      <th>C</th>\n",
       "    </tr>\n",
       "  </thead>\n",
       "  <tbody>\n",
       "    <tr>\n",
       "      <th>row1</th>\n",
       "      <td>7</td>\n",
       "      <td>20</td>\n",
       "    </tr>\n",
       "    <tr>\n",
       "      <th>row2</th>\n",
       "      <td>5</td>\n",
       "      <td>16</td>\n",
       "    </tr>\n",
       "    <tr>\n",
       "      <th>row3</th>\n",
       "      <td>54</td>\n",
       "      <td>11</td>\n",
       "    </tr>\n",
       "    <tr>\n",
       "      <th>row4</th>\n",
       "      <td>3</td>\n",
       "      <td>3</td>\n",
       "    </tr>\n",
       "    <tr>\n",
       "      <th>row5</th>\n",
       "      <td>None</td>\n",
       "      <td>4</td>\n",
       "    </tr>\n",
       "  </tbody>\n",
       "</table>\n",
       "</div>"
      ],
      "text/plain": [
       "         B   C\n",
       "row1     7  20\n",
       "row2     5  16\n",
       "row3    54  11\n",
       "row4     3   3\n",
       "row5  None   4"
      ]
     },
     "execution_count": 87,
     "metadata": {},
     "output_type": "execute_result"
    }
   ],
   "source": [
    "df1.iloc[:,1:3]  "
   ]
  },
  {
   "cell_type": "code",
   "execution_count": 102,
   "id": "dae88cfa-d45a-429f-8bb0-3122003d653e",
   "metadata": {},
   "outputs": [
    {
     "data": {
      "text/html": [
       "<div>\n",
       "<style scoped>\n",
       "    .dataframe tbody tr th:only-of-type {\n",
       "        vertical-align: middle;\n",
       "    }\n",
       "\n",
       "    .dataframe tbody tr th {\n",
       "        vertical-align: top;\n",
       "    }\n",
       "\n",
       "    .dataframe thead th {\n",
       "        text-align: right;\n",
       "    }\n",
       "</style>\n",
       "<table border=\"1\" class=\"dataframe\">\n",
       "  <thead>\n",
       "    <tr style=\"text-align: right;\">\n",
       "      <th></th>\n",
       "      <th>B</th>\n",
       "      <th>D</th>\n",
       "    </tr>\n",
       "  </thead>\n",
       "  <tbody>\n",
       "    <tr>\n",
       "      <th>row1</th>\n",
       "      <td>7</td>\n",
       "      <td>14.0</td>\n",
       "    </tr>\n",
       "    <tr>\n",
       "      <th>row2</th>\n",
       "      <td>5</td>\n",
       "      <td>3.0</td>\n",
       "    </tr>\n",
       "    <tr>\n",
       "      <th>row3</th>\n",
       "      <td>54</td>\n",
       "      <td>NaN</td>\n",
       "    </tr>\n",
       "    <tr>\n",
       "      <th>row4</th>\n",
       "      <td>3</td>\n",
       "      <td>2.0</td>\n",
       "    </tr>\n",
       "    <tr>\n",
       "      <th>row5</th>\n",
       "      <td>None</td>\n",
       "      <td>6.0</td>\n",
       "    </tr>\n",
       "  </tbody>\n",
       "</table>\n",
       "</div>"
      ],
      "text/plain": [
       "         B     D\n",
       "row1     7  14.0\n",
       "row2     5   3.0\n",
       "row3    54   NaN\n",
       "row4     3   2.0\n",
       "row5  None   6.0"
      ]
     },
     "execution_count": 102,
     "metadata": {},
     "output_type": "execute_result"
    }
   ],
   "source": [
    "# Alternate rows and columns\n",
    "\n",
    "# a c  or b d\n",
    "\n",
    "df1.iloc[:,[1,3]]\n"
   ]
  },
  {
   "cell_type": "code",
   "execution_count": null,
   "id": "6a84adb9-bee4-4e43-a548-c0c05e214b14",
   "metadata": {},
   "outputs": [],
   "source": []
  },
  {
   "cell_type": "code",
   "execution_count": 104,
   "id": "8134c2e1-0f72-4603-8ac8-16801f2d8523",
   "metadata": {},
   "outputs": [
    {
     "data": {
      "text/html": [
       "<div>\n",
       "<style scoped>\n",
       "    .dataframe tbody tr th:only-of-type {\n",
       "        vertical-align: middle;\n",
       "    }\n",
       "\n",
       "    .dataframe tbody tr th {\n",
       "        vertical-align: top;\n",
       "    }\n",
       "\n",
       "    .dataframe thead th {\n",
       "        text-align: right;\n",
       "    }\n",
       "</style>\n",
       "<table border=\"1\" class=\"dataframe\">\n",
       "  <thead>\n",
       "    <tr style=\"text-align: right;\">\n",
       "      <th></th>\n",
       "      <th>B</th>\n",
       "      <th>D</th>\n",
       "    </tr>\n",
       "  </thead>\n",
       "  <tbody>\n",
       "    <tr>\n",
       "      <th>row1</th>\n",
       "      <td>7</td>\n",
       "      <td>14.0</td>\n",
       "    </tr>\n",
       "    <tr>\n",
       "      <th>row2</th>\n",
       "      <td>5</td>\n",
       "      <td>3.0</td>\n",
       "    </tr>\n",
       "    <tr>\n",
       "      <th>row3</th>\n",
       "      <td>54</td>\n",
       "      <td>NaN</td>\n",
       "    </tr>\n",
       "    <tr>\n",
       "      <th>row4</th>\n",
       "      <td>3</td>\n",
       "      <td>2.0</td>\n",
       "    </tr>\n",
       "    <tr>\n",
       "      <th>row5</th>\n",
       "      <td>None</td>\n",
       "      <td>6.0</td>\n",
       "    </tr>\n",
       "  </tbody>\n",
       "</table>\n",
       "</div>"
      ],
      "text/plain": [
       "         B     D\n",
       "row1     7  14.0\n",
       "row2     5   3.0\n",
       "row3    54   NaN\n",
       "row4     3   2.0\n",
       "row5  None   6.0"
      ]
     },
     "execution_count": 104,
     "metadata": {},
     "output_type": "execute_result"
    }
   ],
   "source": [
    "\n",
    "\n",
    "df1.iloc[:,1::2]   # 2 is step"
   ]
  },
  {
   "cell_type": "code",
   "execution_count": null,
   "id": "c937d352-ae1b-439c-b97d-c868c7d385a5",
   "metadata": {},
   "outputs": [],
   "source": []
  },
  {
   "cell_type": "code",
   "execution_count": 107,
   "id": "3fbecad6-c34f-486b-9028-c67460f8c84f",
   "metadata": {},
   "outputs": [],
   "source": [
    "# howe work\n",
    "\n",
    "\n",
    "# create a dataframe containing 5 rows and 15 columns \n",
    "# print the column alternatively\n",
    "# 1. living 1 column in between\n",
    "# 2. living 2 columns in between"
   ]
  },
  {
   "cell_type": "code",
   "execution_count": 10,
   "id": "b0e60c68-968d-4955-bdbe-0b621bf3f0e4",
   "metadata": {},
   "outputs": [
    {
     "data": {
      "text/html": [
       "<div>\n",
       "<style scoped>\n",
       "    .dataframe tbody tr th:only-of-type {\n",
       "        vertical-align: middle;\n",
       "    }\n",
       "\n",
       "    .dataframe tbody tr th {\n",
       "        vertical-align: top;\n",
       "    }\n",
       "\n",
       "    .dataframe thead th {\n",
       "        text-align: right;\n",
       "    }\n",
       "</style>\n",
       "<table border=\"1\" class=\"dataframe\">\n",
       "  <thead>\n",
       "    <tr style=\"text-align: right;\">\n",
       "      <th></th>\n",
       "      <th>nobita</th>\n",
       "      <th>shizuka</th>\n",
       "      <th>happy</th>\n",
       "      <th>lucky</th>\n",
       "      <th>doraemon</th>\n",
       "      <th>barbi</th>\n",
       "      <th>anamika</th>\n",
       "      <th>pokemon</th>\n",
       "      <th>cindrella</th>\n",
       "      <th>alien</th>\n",
       "      <th>pikachu</th>\n",
       "      <th>raichu</th>\n",
       "      <th>spiderman</th>\n",
       "      <th>dinosaur</th>\n",
       "      <th>ben10</th>\n",
       "    </tr>\n",
       "  </thead>\n",
       "  <tbody>\n",
       "    <tr>\n",
       "      <th>python</th>\n",
       "      <td>97</td>\n",
       "      <td>90</td>\n",
       "      <td>91</td>\n",
       "      <td>90</td>\n",
       "      <td>56</td>\n",
       "      <td>78</td>\n",
       "      <td>96</td>\n",
       "      <td>78</td>\n",
       "      <td>78</td>\n",
       "      <td>89</td>\n",
       "      <td>89</td>\n",
       "      <td>34</td>\n",
       "      <td>78</td>\n",
       "      <td>45</td>\n",
       "      <td>67</td>\n",
       "    </tr>\n",
       "    <tr>\n",
       "      <th>ml</th>\n",
       "      <td>99</td>\n",
       "      <td>98</td>\n",
       "      <td>89</td>\n",
       "      <td>65</td>\n",
       "      <td>78</td>\n",
       "      <td>98</td>\n",
       "      <td>78</td>\n",
       "      <td>90</td>\n",
       "      <td>90</td>\n",
       "      <td>78</td>\n",
       "      <td>56</td>\n",
       "      <td>67</td>\n",
       "      <td>65</td>\n",
       "      <td>67</td>\n",
       "      <td>87</td>\n",
       "    </tr>\n",
       "    <tr>\n",
       "      <th>sql</th>\n",
       "      <td>98</td>\n",
       "      <td>94</td>\n",
       "      <td>56</td>\n",
       "      <td>45</td>\n",
       "      <td>54</td>\n",
       "      <td>67</td>\n",
       "      <td>57</td>\n",
       "      <td>65</td>\n",
       "      <td>91</td>\n",
       "      <td>90</td>\n",
       "      <td>67</td>\n",
       "      <td>89</td>\n",
       "      <td>45</td>\n",
       "      <td>87</td>\n",
       "      <td>56</td>\n",
       "    </tr>\n",
       "    <tr>\n",
       "      <th>pandas</th>\n",
       "      <td>96</td>\n",
       "      <td>90</td>\n",
       "      <td>78</td>\n",
       "      <td>78</td>\n",
       "      <td>78</td>\n",
       "      <td>90</td>\n",
       "      <td>90</td>\n",
       "      <td>45</td>\n",
       "      <td>92</td>\n",
       "      <td>76</td>\n",
       "      <td>34</td>\n",
       "      <td>54</td>\n",
       "      <td>67</td>\n",
       "      <td>90</td>\n",
       "      <td>78</td>\n",
       "    </tr>\n",
       "    <tr>\n",
       "      <th>big_data</th>\n",
       "      <td>99</td>\n",
       "      <td>78</td>\n",
       "      <td>56</td>\n",
       "      <td>78</td>\n",
       "      <td>23</td>\n",
       "      <td>13</td>\n",
       "      <td>56</td>\n",
       "      <td>78</td>\n",
       "      <td>90</td>\n",
       "      <td>56</td>\n",
       "      <td>78</td>\n",
       "      <td>68</td>\n",
       "      <td>78</td>\n",
       "      <td>89</td>\n",
       "      <td>24</td>\n",
       "    </tr>\n",
       "  </tbody>\n",
       "</table>\n",
       "</div>"
      ],
      "text/plain": [
       "          nobita  shizuka  happy  lucky  doraemon  barbi  anamika  pokemon  \\\n",
       "python        97       90     91     90        56     78       96       78   \n",
       "ml            99       98     89     65        78     98       78       90   \n",
       "sql           98       94     56     45        54     67       57       65   \n",
       "pandas        96       90     78     78        78     90       90       45   \n",
       "big_data      99       78     56     78        23     13       56       78   \n",
       "\n",
       "          cindrella  alien  pikachu  raichu  spiderman  dinosaur  ben10  \n",
       "python           78     89       89      34         78        45     67  \n",
       "ml               90     78       56      67         65        67     87  \n",
       "sql              91     90       67      89         45        87     56  \n",
       "pandas           92     76       34      54         67        90     78  \n",
       "big_data         90     56       78      68         78        89     24  "
      ]
     },
     "execution_count": 10,
     "metadata": {},
     "output_type": "execute_result"
    }
   ],
   "source": [
    "# LIVING 1 COLUMN BETWEEN\n",
    "\n",
    "import pandas as pd\n",
    "\n",
    "df2 = pd.DataFrame({\"nobita\":[97,99,98,96,99],\n",
    "                   \"shizuka\":[90,98,94,90,78],\n",
    "                   \"happy\":[91,89,56,78,56],\n",
    "                   \"lucky\":[90,65,45,78,78],\n",
    "                   \"doraemon\":[56,78,54,78,23],\n",
    "                   \"barbi\":[78,98,67,90,13],\n",
    "                   \"anamika\":[96,78,57,90,56],\n",
    "                   \"pokemon\":[78,90,65,45,78],\n",
    "                   \"cindrella\":[78,90,91,92,90],\n",
    "                   \"alien\":[89,78,90,76,56],\n",
    "                   \"pikachu\":[89,56,67,34,78],\n",
    "                   \"raichu\":[34,67,89,54,68],\n",
    "                   \"spiderman\":[78,65,45,67,78],\n",
    "                   \"dinosaur\":[45,67,87,90,89],\n",
    "                   \"ben10\":[67,87,56,78,24]}, index=[\"python\",\"ml\",\"sql\",\"pandas\",\"big_data\"])\n",
    "df2\n",
    "                   \n"
   ]
  },
  {
   "cell_type": "code",
   "execution_count": 11,
   "id": "bc44a3ba-c42a-4b47-a9dd-6a6b2eba2556",
   "metadata": {},
   "outputs": [
    {
     "data": {
      "text/html": [
       "<div>\n",
       "<style scoped>\n",
       "    .dataframe tbody tr th:only-of-type {\n",
       "        vertical-align: middle;\n",
       "    }\n",
       "\n",
       "    .dataframe tbody tr th {\n",
       "        vertical-align: top;\n",
       "    }\n",
       "\n",
       "    .dataframe thead th {\n",
       "        text-align: right;\n",
       "    }\n",
       "</style>\n",
       "<table border=\"1\" class=\"dataframe\">\n",
       "  <thead>\n",
       "    <tr style=\"text-align: right;\">\n",
       "      <th></th>\n",
       "      <th>shizuka</th>\n",
       "      <th>lucky</th>\n",
       "      <th>barbi</th>\n",
       "      <th>pokemon</th>\n",
       "      <th>alien</th>\n",
       "      <th>raichu</th>\n",
       "      <th>dinosaur</th>\n",
       "    </tr>\n",
       "  </thead>\n",
       "  <tbody>\n",
       "    <tr>\n",
       "      <th>python</th>\n",
       "      <td>90</td>\n",
       "      <td>90</td>\n",
       "      <td>78</td>\n",
       "      <td>78</td>\n",
       "      <td>89</td>\n",
       "      <td>34</td>\n",
       "      <td>45</td>\n",
       "    </tr>\n",
       "    <tr>\n",
       "      <th>ml</th>\n",
       "      <td>98</td>\n",
       "      <td>65</td>\n",
       "      <td>98</td>\n",
       "      <td>90</td>\n",
       "      <td>78</td>\n",
       "      <td>67</td>\n",
       "      <td>67</td>\n",
       "    </tr>\n",
       "    <tr>\n",
       "      <th>sql</th>\n",
       "      <td>94</td>\n",
       "      <td>45</td>\n",
       "      <td>67</td>\n",
       "      <td>65</td>\n",
       "      <td>90</td>\n",
       "      <td>89</td>\n",
       "      <td>87</td>\n",
       "    </tr>\n",
       "    <tr>\n",
       "      <th>pandas</th>\n",
       "      <td>90</td>\n",
       "      <td>78</td>\n",
       "      <td>90</td>\n",
       "      <td>45</td>\n",
       "      <td>76</td>\n",
       "      <td>54</td>\n",
       "      <td>90</td>\n",
       "    </tr>\n",
       "    <tr>\n",
       "      <th>big_data</th>\n",
       "      <td>78</td>\n",
       "      <td>78</td>\n",
       "      <td>13</td>\n",
       "      <td>78</td>\n",
       "      <td>56</td>\n",
       "      <td>68</td>\n",
       "      <td>89</td>\n",
       "    </tr>\n",
       "  </tbody>\n",
       "</table>\n",
       "</div>"
      ],
      "text/plain": [
       "          shizuka  lucky  barbi  pokemon  alien  raichu  dinosaur\n",
       "python         90     90     78       78     89      34        45\n",
       "ml             98     65     98       90     78      67        67\n",
       "sql            94     45     67       65     90      89        87\n",
       "pandas         90     78     90       45     76      54        90\n",
       "big_data       78     78     13       78     56      68        89"
      ]
     },
     "execution_count": 11,
     "metadata": {},
     "output_type": "execute_result"
    }
   ],
   "source": [
    "df2.iloc[:,1::2]"
   ]
  },
  {
   "cell_type": "code",
   "execution_count": null,
   "id": "55fa37c8-95d2-4ffe-87cd-2b6222a61b7d",
   "metadata": {},
   "outputs": [],
   "source": []
  },
  {
   "cell_type": "code",
   "execution_count": 12,
   "id": "b8af1c3e-fe92-493b-9a9f-adec316bef2f",
   "metadata": {},
   "outputs": [
    {
     "data": {
      "text/html": [
       "<div>\n",
       "<style scoped>\n",
       "    .dataframe tbody tr th:only-of-type {\n",
       "        vertical-align: middle;\n",
       "    }\n",
       "\n",
       "    .dataframe tbody tr th {\n",
       "        vertical-align: top;\n",
       "    }\n",
       "\n",
       "    .dataframe thead th {\n",
       "        text-align: right;\n",
       "    }\n",
       "</style>\n",
       "<table border=\"1\" class=\"dataframe\">\n",
       "  <thead>\n",
       "    <tr style=\"text-align: right;\">\n",
       "      <th></th>\n",
       "      <th>happy</th>\n",
       "      <th>doraemon</th>\n",
       "      <th>anamika</th>\n",
       "      <th>cindrella</th>\n",
       "      <th>pikachu</th>\n",
       "      <th>spiderman</th>\n",
       "      <th>ben10</th>\n",
       "    </tr>\n",
       "  </thead>\n",
       "  <tbody>\n",
       "    <tr>\n",
       "      <th>python</th>\n",
       "      <td>91</td>\n",
       "      <td>56</td>\n",
       "      <td>96</td>\n",
       "      <td>78</td>\n",
       "      <td>89</td>\n",
       "      <td>78</td>\n",
       "      <td>67</td>\n",
       "    </tr>\n",
       "    <tr>\n",
       "      <th>ml</th>\n",
       "      <td>89</td>\n",
       "      <td>78</td>\n",
       "      <td>78</td>\n",
       "      <td>90</td>\n",
       "      <td>56</td>\n",
       "      <td>65</td>\n",
       "      <td>87</td>\n",
       "    </tr>\n",
       "    <tr>\n",
       "      <th>sql</th>\n",
       "      <td>56</td>\n",
       "      <td>54</td>\n",
       "      <td>57</td>\n",
       "      <td>91</td>\n",
       "      <td>67</td>\n",
       "      <td>45</td>\n",
       "      <td>56</td>\n",
       "    </tr>\n",
       "    <tr>\n",
       "      <th>pandas</th>\n",
       "      <td>78</td>\n",
       "      <td>78</td>\n",
       "      <td>90</td>\n",
       "      <td>92</td>\n",
       "      <td>34</td>\n",
       "      <td>67</td>\n",
       "      <td>78</td>\n",
       "    </tr>\n",
       "    <tr>\n",
       "      <th>big_data</th>\n",
       "      <td>56</td>\n",
       "      <td>23</td>\n",
       "      <td>56</td>\n",
       "      <td>90</td>\n",
       "      <td>78</td>\n",
       "      <td>78</td>\n",
       "      <td>24</td>\n",
       "    </tr>\n",
       "  </tbody>\n",
       "</table>\n",
       "</div>"
      ],
      "text/plain": [
       "          happy  doraemon  anamika  cindrella  pikachu  spiderman  ben10\n",
       "python       91        56       96         78       89         78     67\n",
       "ml           89        78       78         90       56         65     87\n",
       "sql          56        54       57         91       67         45     56\n",
       "pandas       78        78       90         92       34         67     78\n",
       "big_data     56        23       56         90       78         78     24"
      ]
     },
     "execution_count": 12,
     "metadata": {},
     "output_type": "execute_result"
    }
   ],
   "source": [
    "df2.loc[:,\"happy\"::2]"
   ]
  },
  {
   "cell_type": "code",
   "execution_count": 13,
   "id": "481b216b-c62f-43fe-bba0-5b4873b6edc5",
   "metadata": {},
   "outputs": [],
   "source": [
    "# LIVING 2 COLUMN BETWEEN"
   ]
  },
  {
   "cell_type": "code",
   "execution_count": 14,
   "id": "a4811709-17e8-4e04-af21-2d147471b797",
   "metadata": {},
   "outputs": [
    {
     "data": {
      "text/html": [
       "<div>\n",
       "<style scoped>\n",
       "    .dataframe tbody tr th:only-of-type {\n",
       "        vertical-align: middle;\n",
       "    }\n",
       "\n",
       "    .dataframe tbody tr th {\n",
       "        vertical-align: top;\n",
       "    }\n",
       "\n",
       "    .dataframe thead th {\n",
       "        text-align: right;\n",
       "    }\n",
       "</style>\n",
       "<table border=\"1\" class=\"dataframe\">\n",
       "  <thead>\n",
       "    <tr style=\"text-align: right;\">\n",
       "      <th></th>\n",
       "      <th>nobita</th>\n",
       "      <th>lucky</th>\n",
       "      <th>anamika</th>\n",
       "      <th>alien</th>\n",
       "      <th>spiderman</th>\n",
       "    </tr>\n",
       "  </thead>\n",
       "  <tbody>\n",
       "    <tr>\n",
       "      <th>python</th>\n",
       "      <td>97</td>\n",
       "      <td>90</td>\n",
       "      <td>96</td>\n",
       "      <td>89</td>\n",
       "      <td>78</td>\n",
       "    </tr>\n",
       "    <tr>\n",
       "      <th>ml</th>\n",
       "      <td>99</td>\n",
       "      <td>65</td>\n",
       "      <td>78</td>\n",
       "      <td>78</td>\n",
       "      <td>65</td>\n",
       "    </tr>\n",
       "    <tr>\n",
       "      <th>sql</th>\n",
       "      <td>98</td>\n",
       "      <td>45</td>\n",
       "      <td>57</td>\n",
       "      <td>90</td>\n",
       "      <td>45</td>\n",
       "    </tr>\n",
       "    <tr>\n",
       "      <th>pandas</th>\n",
       "      <td>96</td>\n",
       "      <td>78</td>\n",
       "      <td>90</td>\n",
       "      <td>76</td>\n",
       "      <td>67</td>\n",
       "    </tr>\n",
       "    <tr>\n",
       "      <th>big_data</th>\n",
       "      <td>99</td>\n",
       "      <td>78</td>\n",
       "      <td>56</td>\n",
       "      <td>56</td>\n",
       "      <td>78</td>\n",
       "    </tr>\n",
       "  </tbody>\n",
       "</table>\n",
       "</div>"
      ],
      "text/plain": [
       "          nobita  lucky  anamika  alien  spiderman\n",
       "python        97     90       96     89         78\n",
       "ml            99     65       78     78         65\n",
       "sql           98     45       57     90         45\n",
       "pandas        96     78       90     76         67\n",
       "big_data      99     78       56     56         78"
      ]
     },
     "execution_count": 14,
     "metadata": {},
     "output_type": "execute_result"
    }
   ],
   "source": [
    "df2.iloc[:,0::3]"
   ]
  },
  {
   "cell_type": "code",
   "execution_count": 15,
   "id": "3a032135-645b-4f20-b647-f97692b15b28",
   "metadata": {},
   "outputs": [
    {
     "data": {
      "text/html": [
       "<div>\n",
       "<style scoped>\n",
       "    .dataframe tbody tr th:only-of-type {\n",
       "        vertical-align: middle;\n",
       "    }\n",
       "\n",
       "    .dataframe tbody tr th {\n",
       "        vertical-align: top;\n",
       "    }\n",
       "\n",
       "    .dataframe thead th {\n",
       "        text-align: right;\n",
       "    }\n",
       "</style>\n",
       "<table border=\"1\" class=\"dataframe\">\n",
       "  <thead>\n",
       "    <tr style=\"text-align: right;\">\n",
       "      <th></th>\n",
       "      <th>nobita</th>\n",
       "      <th>lucky</th>\n",
       "      <th>anamika</th>\n",
       "      <th>alien</th>\n",
       "      <th>spiderman</th>\n",
       "    </tr>\n",
       "  </thead>\n",
       "  <tbody>\n",
       "    <tr>\n",
       "      <th>python</th>\n",
       "      <td>97</td>\n",
       "      <td>90</td>\n",
       "      <td>96</td>\n",
       "      <td>89</td>\n",
       "      <td>78</td>\n",
       "    </tr>\n",
       "    <tr>\n",
       "      <th>ml</th>\n",
       "      <td>99</td>\n",
       "      <td>65</td>\n",
       "      <td>78</td>\n",
       "      <td>78</td>\n",
       "      <td>65</td>\n",
       "    </tr>\n",
       "    <tr>\n",
       "      <th>sql</th>\n",
       "      <td>98</td>\n",
       "      <td>45</td>\n",
       "      <td>57</td>\n",
       "      <td>90</td>\n",
       "      <td>45</td>\n",
       "    </tr>\n",
       "    <tr>\n",
       "      <th>pandas</th>\n",
       "      <td>96</td>\n",
       "      <td>78</td>\n",
       "      <td>90</td>\n",
       "      <td>76</td>\n",
       "      <td>67</td>\n",
       "    </tr>\n",
       "    <tr>\n",
       "      <th>big_data</th>\n",
       "      <td>99</td>\n",
       "      <td>78</td>\n",
       "      <td>56</td>\n",
       "      <td>56</td>\n",
       "      <td>78</td>\n",
       "    </tr>\n",
       "  </tbody>\n",
       "</table>\n",
       "</div>"
      ],
      "text/plain": [
       "          nobita  lucky  anamika  alien  spiderman\n",
       "python        97     90       96     89         78\n",
       "ml            99     65       78     78         65\n",
       "sql           98     45       57     90         45\n",
       "pandas        96     78       90     76         67\n",
       "big_data      99     78       56     56         78"
      ]
     },
     "execution_count": 15,
     "metadata": {},
     "output_type": "execute_result"
    }
   ],
   "source": [
    "df2.loc[:,\"nobita\"::3]"
   ]
  },
  {
   "cell_type": "code",
   "execution_count": null,
   "id": "5e08b2c2-f023-4561-9583-b89289095d8c",
   "metadata": {},
   "outputs": [],
   "source": []
  },
  {
   "cell_type": "code",
   "execution_count": 25,
   "id": "4ff040b7-0f34-4eae-bc6f-9010c24929d6",
   "metadata": {},
   "outputs": [
    {
     "data": {
      "text/html": [
       "<div>\n",
       "<style scoped>\n",
       "    .dataframe tbody tr th:only-of-type {\n",
       "        vertical-align: middle;\n",
       "    }\n",
       "\n",
       "    .dataframe tbody tr th {\n",
       "        vertical-align: top;\n",
       "    }\n",
       "\n",
       "    .dataframe thead th {\n",
       "        text-align: right;\n",
       "    }\n",
       "</style>\n",
       "<table border=\"1\" class=\"dataframe\">\n",
       "  <thead>\n",
       "    <tr style=\"text-align: right;\">\n",
       "      <th></th>\n",
       "      <th>nobita</th>\n",
       "      <th>shizuka</th>\n",
       "      <th>happy</th>\n",
       "      <th>lucky</th>\n",
       "      <th>doraemon</th>\n",
       "      <th>barbi</th>\n",
       "      <th>anamika</th>\n",
       "      <th>pokemon</th>\n",
       "      <th>cindrella</th>\n",
       "      <th>alien</th>\n",
       "      <th>pikachu</th>\n",
       "      <th>raichu</th>\n",
       "      <th>spiderman</th>\n",
       "      <th>dinosaur</th>\n",
       "      <th>ben10</th>\n",
       "    </tr>\n",
       "  </thead>\n",
       "  <tbody>\n",
       "  </tbody>\n",
       "</table>\n",
       "</div>"
      ],
      "text/plain": [
       "Empty DataFrame\n",
       "Columns: [nobita, shizuka, happy, lucky, doraemon, barbi, anamika, pokemon, cindrella, alien, pikachu, raichu, spiderman, dinosaur, ben10]\n",
       "Index: []"
      ]
     },
     "execution_count": 25,
     "metadata": {},
     "output_type": "execute_result"
    }
   ],
   "source": [
    "selected_rows = df2.loc[df2['nobita']>100]\n",
    "selected_rows"
   ]
  },
  {
   "cell_type": "code",
   "execution_count": 42,
   "id": "a07dd79f-3fc4-4fc4-9662-101613bd9d69",
   "metadata": {},
   "outputs": [
    {
     "data": {
      "text/html": [
       "<div>\n",
       "<style scoped>\n",
       "    .dataframe tbody tr th:only-of-type {\n",
       "        vertical-align: middle;\n",
       "    }\n",
       "\n",
       "    .dataframe tbody tr th {\n",
       "        vertical-align: top;\n",
       "    }\n",
       "\n",
       "    .dataframe thead th {\n",
       "        text-align: right;\n",
       "    }\n",
       "</style>\n",
       "<table border=\"1\" class=\"dataframe\">\n",
       "  <thead>\n",
       "    <tr style=\"text-align: right;\">\n",
       "      <th></th>\n",
       "      <th>nobita</th>\n",
       "      <th>shizuka</th>\n",
       "      <th>happy</th>\n",
       "      <th>lucky</th>\n",
       "      <th>doraemon</th>\n",
       "      <th>barbi</th>\n",
       "      <th>anamika</th>\n",
       "      <th>pokemon</th>\n",
       "      <th>cindrella</th>\n",
       "      <th>alien</th>\n",
       "      <th>pikachu</th>\n",
       "      <th>raichu</th>\n",
       "      <th>spiderman</th>\n",
       "      <th>dinosaur</th>\n",
       "      <th>ben10</th>\n",
       "    </tr>\n",
       "  </thead>\n",
       "  <tbody>\n",
       "    <tr>\n",
       "      <th>ml</th>\n",
       "      <td>99</td>\n",
       "      <td>98</td>\n",
       "      <td>89</td>\n",
       "      <td>65</td>\n",
       "      <td>78</td>\n",
       "      <td>98</td>\n",
       "      <td>78</td>\n",
       "      <td>90</td>\n",
       "      <td>90</td>\n",
       "      <td>78</td>\n",
       "      <td>56</td>\n",
       "      <td>67</td>\n",
       "      <td>65</td>\n",
       "      <td>67</td>\n",
       "      <td>87</td>\n",
       "    </tr>\n",
       "  </tbody>\n",
       "</table>\n",
       "</div>"
      ],
      "text/plain": [
       "    nobita  shizuka  happy  lucky  doraemon  barbi  anamika  pokemon  \\\n",
       "ml      99       98     89     65        78     98       78       90   \n",
       "\n",
       "    cindrella  alien  pikachu  raichu  spiderman  dinosaur  ben10  \n",
       "ml         90     78       56      67         65        67     87  "
      ]
     },
     "execution_count": 42,
     "metadata": {},
     "output_type": "execute_result"
    }
   ],
   "source": [
    "import pandas as pd\n",
    "\n",
    "# Assuming df2 is your DataFrame\n",
    "selected_rows = df2[df2.iloc[:, 1] > 97]\n",
    "selected_rows"
   ]
  },
  {
   "cell_type": "code",
   "execution_count": null,
   "id": "17756810-c60d-413c-bf52-0be2d0db60fa",
   "metadata": {},
   "outputs": [],
   "source": []
  },
  {
   "cell_type": "code",
   "execution_count": null,
   "id": "67a68f73-c36e-46a0-bab6-11a0a2e4c527",
   "metadata": {},
   "outputs": [],
   "source": []
  },
  {
   "cell_type": "code",
   "execution_count": 6,
   "id": "d48bda1c-20fc-442c-b3a0-561342867874",
   "metadata": {},
   "outputs": [],
   "source": [
    "# rough\n",
    "# use loc to sum in row axis\n",
    "import pandas as pd\n",
    "\n",
    "sales_df = pd.DataFrame({\"jan\": [1000, 2000, 3000], \n",
    "                           \"feb\": [5000, 2000, 1000], \n",
    "                           \"mar\": [7000, 2000, 1000]}, \n",
    "                          index=[\"p1\", \"p2\", \"p3\"])\n"
   ]
  },
  {
   "cell_type": "code",
   "execution_count": 7,
   "id": "86db5b51-4552-41b8-9bfc-025b39c087c7",
   "metadata": {},
   "outputs": [
    {
     "data": {
      "text/plain": [
       "13000"
      ]
     },
     "execution_count": 7,
     "metadata": {},
     "output_type": "execute_result"
    }
   ],
   "source": [
    "p1_sum = sales_df.loc['p1'].sum()\n",
    "p1_sum"
   ]
  },
  {
   "cell_type": "code",
   "execution_count": null,
   "id": "8367f1c4-90bb-449a-bfe2-bd8ca9322a21",
   "metadata": {},
   "outputs": [],
   "source": []
  }
 ],
 "metadata": {
  "kernelspec": {
   "display_name": "Python 3 (ipykernel)",
   "language": "python",
   "name": "python3"
  },
  "language_info": {
   "codemirror_mode": {
    "name": "ipython",
    "version": 3
   },
   "file_extension": ".py",
   "mimetype": "text/x-python",
   "name": "python",
   "nbconvert_exporter": "python",
   "pygments_lexer": "ipython3",
   "version": "3.11.4"
  }
 },
 "nbformat": 4,
 "nbformat_minor": 5
}
