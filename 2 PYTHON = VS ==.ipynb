{
 "cells": [
  {
   "cell_type": "markdown",
   "id": "c34563e6-be2e-467f-a778-7bcce3edcf3f",
   "metadata": {},
   "source": [
    "# 1 \"=\" vs \"==\""
   ]
  },
  {
   "cell_type": "code",
   "execution_count": 6,
   "id": "95813e10-c0c1-4f54-89a5-a293f5995e57",
   "metadata": {},
   "outputs": [],
   "source": [
    "# equals(=) : it is used to assignment operator. it is used to assign values.\n",
    "# x = 5\n",
    "\n",
    "# double equals(==) : is used as equality operator. It is used to compare two values to check they are equal."
   ]
  },
  {
   "cell_type": "code",
   "execution_count": 9,
   "id": "a0c954f8-c6ba-4176-bd8b-d6d617ea78f8",
   "metadata": {},
   "outputs": [
    {
     "name": "stdout",
     "output_type": "stream",
     "text": [
      "12\n"
     ]
    }
   ],
   "source": [
    "# 2\n",
    "\n",
    "n = 5\n",
    "if n>2 and n< 10:\n",
    "    print(5+7)\n",
    "else:\n",
    "    print(\"out of range)"
   ]
  },
  {
   "cell_type": "code",
   "execution_count": 15,
   "id": "b9b86491-c764-4c50-a5a4-780f6183ce9a",
   "metadata": {},
   "outputs": [
    {
     "name": "stdout",
     "output_type": "stream",
     "text": [
      "out of range\n"
     ]
    }
   ],
   "source": [
    "n = 5\n",
    "if n in range(1,2):\n",
    "    print(5+7)\n",
    "else:\n",
    "    print(\"out of range\")"
   ]
  },
  {
   "cell_type": "code",
   "execution_count": null,
   "id": "e3a9c7cd-59ce-4418-827d-a819515282fc",
   "metadata": {},
   "outputs": [],
   "source": []
  }
 ],
 "metadata": {
  "kernelspec": {
   "display_name": "Python 3 (ipykernel)",
   "language": "python",
   "name": "python3"
  },
  "language_info": {
   "codemirror_mode": {
    "name": "ipython",
    "version": 3
   },
   "file_extension": ".py",
   "mimetype": "text/x-python",
   "name": "python",
   "nbconvert_exporter": "python",
   "pygments_lexer": "ipython3",
   "version": "3.11.4"
  }
 },
 "nbformat": 4,
 "nbformat_minor": 5
}
