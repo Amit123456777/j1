{
 "cells": [
  {
   "cell_type": "code",
   "execution_count": 1,
   "id": "83fab7af-1dae-4fab-a1c8-08894c6fdd5a",
   "metadata": {},
   "outputs": [
    {
     "name": "stdout",
     "output_type": "stream",
     "text": [
      "('i', [1, 2, 3, 4])\n"
     ]
    }
   ],
   "source": [
    "import\n",
    "from array import *\n",
    "\n",
    "arr = ('i', [1,2,3,4])\n",
    "print(arr)\n"
   ]
  },
  {
   "cell_type": "code",
   "execution_count": 6,
   "id": "618ab550-36c5-41e7-9711-83446325b431",
   "metadata": {},
   "outputs": [
    {
     "name": "stdout",
     "output_type": "stream",
     "text": [
      "array('i', [1, 2, 3, 4])\n"
     ]
    }
   ],
   "source": [
    "import array\n",
    "from array import *\n",
    "arr = array('i',[1,2,3,4])\n",
    "print(arr)\n"
   ]
  },
  {
   "cell_type": "code",
   "execution_count": 4,
   "id": "dda5b88c-9b12-4cb1-8d7c-c6fc9410ae1b",
   "metadata": {
    "scrolled": true
   },
   "outputs": [
    {
     "data": {
      "text/plain": [
       "array.array"
      ]
     },
     "execution_count": 4,
     "metadata": {},
     "output_type": "execute_result"
    }
   ],
   "source": [
    "type(arr)"
   ]
  },
  {
   "cell_type": "code",
   "execution_count": null,
   "id": "96112b03-1024-4c09-af8e-50270460db2e",
   "metadata": {},
   "outputs": [],
   "source": []
  },
  {
   "cell_type": "code",
   "execution_count": 18,
   "id": "27a6384d-7843-4140-9bd9-ae5452604414",
   "metadata": {},
   "outputs": [],
   "source": [
    "import numpy as np"
   ]
  },
  {
   "cell_type": "code",
   "execution_count": 19,
   "id": "3015bebd-eba7-43aa-93be-280386c31093",
   "metadata": {},
   "outputs": [
    {
     "name": "stdout",
     "output_type": "stream",
     "text": [
      "[1 2 3 4 5]\n"
     ]
    },
    {
     "data": {
      "text/plain": [
       "numpy.ndarray"
      ]
     },
     "execution_count": 19,
     "metadata": {},
     "output_type": "execute_result"
    }
   ],
   "source": [
    "arr1 = np.array([1,2,3,4,5])\n",
    "print(arr1)\n",
    "type(arr1)"
   ]
  },
  {
   "cell_type": "code",
   "execution_count": 20,
   "id": "eb4c9557-f340-48d1-b32d-367716875084",
   "metadata": {},
   "outputs": [
    {
     "name": "stdout",
     "output_type": "stream",
     "text": [
      "[1 2 3 4 5]\n"
     ]
    },
    {
     "data": {
      "text/plain": [
       "numpy.ndarray"
      ]
     },
     "execution_count": 20,
     "metadata": {},
     "output_type": "execute_result"
    }
   ],
   "source": [
    "import numpy as np\n",
    "\n",
    "arr1 = np.array((1,2,3,4,5))\n",
    "print(arr1)\n",
    "type(arr1)"
   ]
  },
  {
   "cell_type": "code",
   "execution_count": 42,
   "id": "6b95ff0d-555e-4b9c-a5a8-d9b3ea52dff6",
   "metadata": {},
   "outputs": [
    {
     "data": {
      "text/plain": [
       "array([0, 1, 2, 3, 4, 5, 6, 7, 8, 9])"
      ]
     },
     "execution_count": 42,
     "metadata": {},
     "output_type": "execute_result"
    }
   ],
   "source": [
    "arr = np.array(range(10))\n",
    "arr"
   ]
  },
  {
   "cell_type": "code",
   "execution_count": 41,
   "id": "f574eec7-cb93-46a3-bbee-6dd8bc538ba6",
   "metadata": {},
   "outputs": [
    {
     "data": {
      "text/plain": [
       "array([ 0,  2,  4,  6,  8, 10, 12, 14, 16, 18])"
      ]
     },
     "execution_count": 41,
     "metadata": {},
     "output_type": "execute_result"
    }
   ],
   "source": [
    "# start, stop, step\n",
    "\n",
    "arr4 = np.arange(0,20,2)\n",
    "arr4"
   ]
  },
  {
   "cell_type": "code",
   "execution_count": 40,
   "id": "9d58eb47-7a75-4d41-acbc-157cda70d560",
   "metadata": {},
   "outputs": [
    {
     "data": {
      "text/plain": [
       "array([[0.95794258, 0.65374913, 0.05009819],\n",
       "       [0.31882833, 0.99534943, 0.60381738],\n",
       "       [0.52334227, 0.94837291, 0.40892086]])"
      ]
     },
     "execution_count": 40,
     "metadata": {},
     "output_type": "execute_result"
    }
   ],
   "source": [
    "arr5 = np.random.rand(3,3)\n",
    "arr5\n",
    "\n",
    "# rand fucntion gives values 0 to 1 . 1 is excluded"
   ]
  },
  {
   "cell_type": "code",
   "execution_count": null,
   "id": "c71b7062-bc82-47fe-a5a2-0a817a8d4ed0",
   "metadata": {},
   "outputs": [],
   "source": []
  },
  {
   "cell_type": "code",
   "execution_count": 39,
   "id": "308c1aa0-f2e3-428e-aa06-a253a3762d7b",
   "metadata": {},
   "outputs": [
    {
     "data": {
      "text/plain": [
       "array([[0., 0., 0.],\n",
       "       [0., 0., 0.]])"
      ]
     },
     "execution_count": 39,
     "metadata": {},
     "output_type": "execute_result"
    }
   ],
   "source": [
    "zeros = np.zeros((2,3))\n",
    "zeros"
   ]
  },
  {
   "cell_type": "code",
   "execution_count": 38,
   "id": "270632a2-c758-4788-8377-0a5ab35c1b5b",
   "metadata": {},
   "outputs": [
    {
     "data": {
      "text/plain": [
       "array([[1., 1., 1.],\n",
       "       [1., 1., 1.]])"
      ]
     },
     "execution_count": 38,
     "metadata": {},
     "output_type": "execute_result"
    }
   ],
   "source": [
    "ones = np.ones((2,3))\n",
    "ones"
   ]
  },
  {
   "cell_type": "code",
   "execution_count": 37,
   "id": "a4624e70-dd7c-45d2-96ed-8a5826fb7f94",
   "metadata": {},
   "outputs": [
    {
     "data": {
      "text/plain": [
       "array([[5, 5, 5],\n",
       "       [5, 5, 5],\n",
       "       [5, 5, 5],\n",
       "       [5, 5, 5]])"
      ]
     },
     "execution_count": 37,
     "metadata": {},
     "output_type": "execute_result"
    }
   ],
   "source": [
    "full = np.full((4,3),5)\n",
    "full"
   ]
  },
  {
   "cell_type": "code",
   "execution_count": 47,
   "id": "51e0e149-7c18-407e-93a5-dbfd3a4cb0cc",
   "metadata": {},
   "outputs": [
    {
     "data": {
      "text/plain": [
       "array([[1, 0, 0, 0, 0, 0],\n",
       "       [0, 2, 0, 0, 0, 0],\n",
       "       [0, 0, 3, 0, 0, 0],\n",
       "       [0, 0, 0, 4, 0, 0],\n",
       "       [0, 0, 0, 0, 5, 0],\n",
       "       [0, 0, 0, 0, 0, 6]])"
      ]
     },
     "execution_count": 47,
     "metadata": {},
     "output_type": "execute_result"
    }
   ],
   "source": [
    "# diagonal matrices\n",
    "arr6 = np.diag([1,2,3,4,5,6])\n",
    "arr6"
   ]
  },
  {
   "cell_type": "code",
   "execution_count": 45,
   "id": "74d7721b-0e5b-4130-85bc-6f96816a080c",
   "metadata": {},
   "outputs": [
    {
     "name": "stdout",
     "output_type": "stream",
     "text": [
      "[10 11 12 13 14 15 16 17 18 19]\n"
     ]
    }
   ],
   "source": [
    "arr7 = np.random.rand(5,5)\n",
    "print(arr+10)"
   ]
  },
  {
   "cell_type": "code",
   "execution_count": 46,
   "id": "16d26fdf-cc5f-46c2-85f8-06afc92d44b8",
   "metadata": {},
   "outputs": [
    {
     "name": "stdout",
     "output_type": "stream",
     "text": [
      "[-10  -9  -8  -7  -6  -5  -4  -3  -2  -1]\n"
     ]
    }
   ],
   "source": [
    "arr7 = np.random.rand(5,5)\n",
    "print(arr-10)"
   ]
  },
  {
   "cell_type": "code",
   "execution_count": 48,
   "id": "f85f4cf4-5e17-455d-b8b0-ee4136e205e8",
   "metadata": {},
   "outputs": [
    {
     "name": "stdout",
     "output_type": "stream",
     "text": [
      "[ 0 10 20 30 40 50 60 70 80 90]\n"
     ]
    }
   ],
   "source": [
    "arr7 = np.random.rand(5,5)\n",
    "print(arr*10)"
   ]
  },
  {
   "cell_type": "code",
   "execution_count": null,
   "id": "eac403e4-23b1-4178-9b5c-4c6a31bf6ac2",
   "metadata": {},
   "outputs": [],
   "source": []
  },
  {
   "cell_type": "code",
   "execution_count": 50,
   "id": "e822b2f9-23d9-47a3-b05a-dde96165b1ad",
   "metadata": {},
   "outputs": [
    {
     "data": {
      "text/plain": [
       "array([[ 0,  1,  2,  3,  4,  5,  6,  7,  8,  9],\n",
       "       [10, 11, 12, 13, 14, 15, 16, 17, 18, 19],\n",
       "       [20, 21, 22, 23, 24, 25, 26, 27, 28, 29],\n",
       "       [30, 31, 32, 33, 34, 35, 36, 37, 38, 39],\n",
       "       [40, 41, 42, 43, 44, 45, 46, 47, 48, 49],\n",
       "       [50, 51, 52, 53, 54, 55, 56, 57, 58, 59],\n",
       "       [60, 61, 62, 63, 64, 65, 66, 67, 68, 69],\n",
       "       [70, 71, 72, 73, 74, 75, 76, 77, 78, 79],\n",
       "       [80, 81, 82, 83, 84, 85, 86, 87, 88, 89],\n",
       "       [90, 91, 92, 93, 94, 95, 96, 97, 98, 99]])"
      ]
     },
     "execution_count": 50,
     "metadata": {},
     "output_type": "execute_result"
    }
   ],
   "source": [
    "import numpy as np\n",
    "arr8 = np.array(range(100)).reshape((10,10))\n",
    "arr8"
   ]
  },
  {
   "cell_type": "code",
   "execution_count": 55,
   "id": "a99473e9-3bd6-4fd0-aa16-325009ce1f2b",
   "metadata": {},
   "outputs": [
    {
     "name": "stdout",
     "output_type": "stream",
     "text": [
      "55\n"
     ]
    }
   ],
   "source": [
    "print(arr8[5][5])"
   ]
  },
  {
   "cell_type": "code",
   "execution_count": 58,
   "id": "10284b92-af03-47d5-996b-1cd1b0b26027",
   "metadata": {},
   "outputs": [
    {
     "ename": "SyntaxError",
     "evalue": "invalid syntax (133011787.py, line 2)",
     "output_type": "error",
     "traceback": [
      "\u001b[1;36m  Cell \u001b[1;32mIn[58], line 2\u001b[1;36m\u001b[0m\n\u001b[1;33m    print(arr([1:3],[ 4:6])\u001b[0m\n\u001b[1;37m                ^\u001b[0m\n\u001b[1;31mSyntaxError\u001b[0m\u001b[1;31m:\u001b[0m invalid syntax\n"
     ]
    }
   ],
   "source": [
    "# one more consisle\n",
    "print(arr([1:3],[ 4:6])\n",
    "dd\n"
   ]
  },
  {
   "cell_type": "code",
   "execution_count": null,
   "id": "c3159ac6-1080-45fe-8f9d-e75f6107943f",
   "metadata": {},
   "outputs": [],
   "source": []
  },
  {
   "cell_type": "code",
   "execution_count": null,
   "id": "d2fbb706-1f32-4a71-9f21-58835f2d6af3",
   "metadata": {},
   "outputs": [],
   "source": []
  },
  {
   "cell_type": "code",
   "execution_count": null,
   "id": "6116e502-fd14-4e79-acb8-394f5590d633",
   "metadata": {},
   "outputs": [],
   "source": []
  },
  {
   "cell_type": "code",
   "execution_count": null,
   "id": "37a842bc-72ad-4a1c-af9f-f82dc0672a34",
   "metadata": {},
   "outputs": [],
   "source": []
  },
  {
   "cell_type": "code",
   "execution_count": 1,
   "id": "8fc436e7-2595-41ef-b57a-969479ec8101",
   "metadata": {},
   "outputs": [],
   "source": [
    "# 26 copy and view"
   ]
  },
  {
   "cell_type": "code",
   "execution_count": 2,
   "id": "07f5fa27-a570-4c0a-bd4a-f4e741cffa04",
   "metadata": {},
   "outputs": [],
   "source": [
    "# 28 iterating over array\n",
    "\n"
   ]
  },
  {
   "cell_type": "code",
   "execution_count": 6,
   "id": "4e4ef9be-172f-4c0d-9049-07222354deb7",
   "metadata": {},
   "outputs": [
    {
     "data": {
      "text/plain": [
       "array([9, 8, 7, 6, 5, 4, 3])"
      ]
     },
     "execution_count": 6,
     "metadata": {},
     "output_type": "execute_result"
    }
   ],
   "source": [
    "import numpy as np\n",
    "arr2 = np.array([9,8,7,6,5,4,3])\n",
    "arr2\n"
   ]
  },
  {
   "cell_type": "code",
   "execution_count": 7,
   "id": "5da2debf-dd23-4fa9-a140-95103372e1e2",
   "metadata": {},
   "outputs": [
    {
     "data": {
      "text/plain": [
       "numpy.ndarray"
      ]
     },
     "execution_count": 7,
     "metadata": {},
     "output_type": "execute_result"
    }
   ],
   "source": [
    "type(arr2)"
   ]
  },
  {
   "cell_type": "code",
   "execution_count": 12,
   "id": "b572fe7c-684b-4aba-9e1a-bc03108c07aa",
   "metadata": {},
   "outputs": [
    {
     "name": "stdout",
     "output_type": "stream",
     "text": [
      "9\n",
      "8\n",
      "7\n",
      "6\n",
      "5\n",
      "4\n",
      "3\n"
     ]
    }
   ],
   "source": [
    "# iterating over array\n",
    "for i in arr2:\n",
    "    print(i)"
   ]
  },
  {
   "cell_type": "code",
   "execution_count": 13,
   "id": "e8da03e9-153b-43a1-8179-cb56e0907873",
   "metadata": {},
   "outputs": [],
   "source": [
    "# creating 2d array"
   ]
  },
  {
   "cell_type": "code",
   "execution_count": 18,
   "id": "9d328595-dfbb-4b7a-8446-22e3a24ea705",
   "metadata": {},
   "outputs": [
    {
     "data": {
      "text/plain": [
       "array([[9, 8, 7, 6, 5, 4, 3],\n",
       "       [1, 2, 3, 4, 5, 6, 7]])"
      ]
     },
     "execution_count": 18,
     "metadata": {},
     "output_type": "execute_result"
    }
   ],
   "source": [
    "\n",
    "arr3 = np.array([[9,8,7,6,5,4,3], [1,2,3,4,5,6,7]])\n",
    "arr3\n"
   ]
  },
  {
   "cell_type": "code",
   "execution_count": 23,
   "id": "6a024c61-059e-44f4-9beb-5bb6cedb8584",
   "metadata": {},
   "outputs": [
    {
     "name": "stdout",
     "output_type": "stream",
     "text": [
      "[9 8 7 6 5 4 3]\n",
      "[1 2 3 4 5 6 7]\n"
     ]
    }
   ],
   "source": [
    "# this is wrong\n",
    "for i in arr3:\n",
    "    print(i)"
   ]
  },
  {
   "cell_type": "code",
   "execution_count": 21,
   "id": "2a39007b-40f4-4ff6-afe3-c2085b2d70d7",
   "metadata": {},
   "outputs": [
    {
     "name": "stdout",
     "output_type": "stream",
     "text": [
      "9\n",
      "8\n",
      "7\n",
      "6\n",
      "5\n",
      "4\n",
      "3\n",
      "1\n",
      "2\n",
      "3\n",
      "4\n",
      "5\n",
      "6\n",
      "7\n"
     ]
    }
   ],
   "source": [
    "# this is correct\n",
    "# how to iterate over 2nd array and so on...\n",
    "\n",
    "for i in arr3:\n",
    "    for j in i:\n",
    "        print(j)"
   ]
  },
  {
   "cell_type": "code",
   "execution_count": 24,
   "id": "a1924aa8-2218-4f7d-9200-eb7bc7a4cc91",
   "metadata": {},
   "outputs": [],
   "source": [
    "# joining arrays =  order of array should be same."
   ]
  },
  {
   "cell_type": "code",
   "execution_count": 32,
   "id": "fd44329c-d62a-467d-a479-f3683152a18d",
   "metadata": {},
   "outputs": [],
   "source": [
    "# merge ke liye ek common thing hone chahiye\n",
    "# join means order ( row, column) same. so we can extend. extend can horizontally or vertivally. \n",
    "# add me kuch bi same ni hota."
   ]
  },
  {
   "cell_type": "code",
   "execution_count": null,
   "id": "86c8076b-98fb-4f17-93f2-157eaa1324d1",
   "metadata": {},
   "outputs": [],
   "source": [
    "# make 2   1d array."
   ]
  },
  {
   "cell_type": "code",
   "execution_count": 33,
   "id": "df1069a1-0f5b-4e9f-b5db-eca0d7d0b96d",
   "metadata": {},
   "outputs": [
    {
     "data": {
      "text/plain": [
       "array([1, 2, 3])"
      ]
     },
     "execution_count": 33,
     "metadata": {},
     "output_type": "execute_result"
    }
   ],
   "source": [
    "arr2 = np.array([1,2,3])\n",
    "arr2\n"
   ]
  },
  {
   "cell_type": "code",
   "execution_count": 34,
   "id": "51677fff-f333-4764-884c-e41fab32cc5c",
   "metadata": {},
   "outputs": [
    {
     "data": {
      "text/plain": [
       "array([3, 4, 5, 6])"
      ]
     },
     "execution_count": 34,
     "metadata": {},
     "output_type": "execute_result"
    }
   ],
   "source": [
    "arr3 = np.array([3,4,5,6])\n",
    "arr3"
   ]
  },
  {
   "cell_type": "code",
   "execution_count": 45,
   "id": "b72bec81-2424-492c-bc18-eb174cc7baf7",
   "metadata": {},
   "outputs": [
    {
     "name": "stdout",
     "output_type": "stream",
     "text": [
      "[1 2 3 3 4 5 6]\n"
     ]
    }
   ],
   "source": [
    "a = np.concatenate((arr2,arr3), axis = 0)\n",
    "print(a)"
   ]
  },
  {
   "cell_type": "code",
   "execution_count": null,
   "id": "a05b0b92-e5da-4c35-b4c1-6f254dcbab8b",
   "metadata": {},
   "outputs": [],
   "source": [
    "# note in 1d no axis. only x axis no y . becoz y means 2d"
   ]
  },
  {
   "cell_type": "code",
   "execution_count": null,
   "id": "b38cf6f3-a75e-41af-be6b-62534a67cd36",
   "metadata": {},
   "outputs": [],
   "source": []
  },
  {
   "cell_type": "code",
   "execution_count": 42,
   "id": "98a504f2-413c-4ad6-8067-b40ae23ded7d",
   "metadata": {},
   "outputs": [
    {
     "data": {
      "text/plain": [
       "array([[3, 4, 5, 6],\n",
       "       [7, 8, 9, 0]])"
      ]
     },
     "execution_count": 42,
     "metadata": {},
     "output_type": "execute_result"
    }
   ],
   "source": [
    "# make 2d array\n",
    "\n",
    "arr4 = np.array([[3,4,5,6],[7,8,9,0]])\n",
    "arr4"
   ]
  },
  {
   "cell_type": "code",
   "execution_count": 44,
   "id": "98215abb-13ec-4452-b511-a00f763b6e55",
   "metadata": {},
   "outputs": [
    {
     "name": "stdout",
     "output_type": "stream",
     "text": [
      "[[1 2 3 4]\n",
      " [5 6 7 8]]\n"
     ]
    }
   ],
   "source": [
    "arr5 = np.array([[1,2,3,4],[5,6,7,8]])\n",
    "print(arr5)"
   ]
  },
  {
   "cell_type": "code",
   "execution_count": 49,
   "id": "45593ad5-7e8e-45e2-9f92-fe3148927dc0",
   "metadata": {},
   "outputs": [
    {
     "name": "stdout",
     "output_type": "stream",
     "text": [
      "[[3 4 5 6]\n",
      " [7 8 9 0]\n",
      " [1 2 3 4]\n",
      " [5 6 7 8]]\n"
     ]
    }
   ],
   "source": [
    "a = np.concatenate((arr4,arr5), axis = 0)\n",
    "print(a)"
   ]
  },
  {
   "cell_type": "code",
   "execution_count": 50,
   "id": "8af97fc6-4e2d-4dae-b6ee-a55f30c8cdd5",
   "metadata": {},
   "outputs": [
    {
     "name": "stdout",
     "output_type": "stream",
     "text": [
      "[[3 4 5 6 1 2 3 4]\n",
      " [7 8 9 0 5 6 7 8]]\n"
     ]
    }
   ],
   "source": [
    "a = np.concatenate((arr4,arr5), axis = 1)\n",
    "print(a)"
   ]
  },
  {
   "cell_type": "code",
   "execution_count": null,
   "id": "53d66dc2-7c20-441b-98c3-68a6ee7bddc5",
   "metadata": {},
   "outputs": [],
   "source": []
  },
  {
   "cell_type": "code",
   "execution_count": null,
   "id": "b541da0e-ec1d-48a4-8491-5a7832bcca86",
   "metadata": {},
   "outputs": [],
   "source": []
  },
  {
   "cell_type": "code",
   "execution_count": 54,
   "id": "e810badc-d8d1-4522-89a1-6ae030b8e544",
   "metadata": {},
   "outputs": [
    {
     "name": "stdout",
     "output_type": "stream",
     "text": [
      "[1 2 3 4]\n"
     ]
    }
   ],
   "source": [
    "a = np.array([1,2,3,4])\n",
    "b = np.array([5,6,7,8])\n",
    "print(a)\n"
   ]
  },
  {
   "cell_type": "code",
   "execution_count": 55,
   "id": "4bc9c406-6810-41d0-8a39-22929ae38ee5",
   "metadata": {},
   "outputs": [
    {
     "name": "stdout",
     "output_type": "stream",
     "text": [
      "[5 6 7 8]\n"
     ]
    }
   ],
   "source": [
    "print(b)"
   ]
  },
  {
   "cell_type": "code",
   "execution_count": 57,
   "id": "8b74ea54-1beb-436f-8dfd-9c04d3182fd7",
   "metadata": {},
   "outputs": [
    {
     "data": {
      "text/plain": [
       "array([[1, 2, 3, 4],\n",
       "       [5, 6, 7, 8]])"
      ]
     },
     "execution_count": 57,
     "metadata": {},
     "output_type": "execute_result"
    }
   ],
   "source": [
    "new_arr = np.stack((a,b), axis = 0)\n",
    "new_arr"
   ]
  },
  {
   "cell_type": "code",
   "execution_count": 59,
   "id": "8f604614-2bc6-4a9f-8998-c848ae2a33d5",
   "metadata": {},
   "outputs": [
    {
     "data": {
      "text/plain": [
       "array([[1, 5],\n",
       "       [2, 6],\n",
       "       [3, 7],\n",
       "       [4, 8]])"
      ]
     },
     "execution_count": 59,
     "metadata": {},
     "output_type": "execute_result"
    }
   ],
   "source": [
    "new_arr = np.stack((a,b), axis = 1)\n",
    "new_arr"
   ]
  },
  {
   "cell_type": "code",
   "execution_count": null,
   "id": "d45b8b9a-c31e-478e-98bf-8c321939a652",
   "metadata": {},
   "outputs": [],
   "source": []
  },
  {
   "cell_type": "code",
   "execution_count": 60,
   "id": "641864b1-3a44-4b07-b3fc-ae4206e1e6b6",
   "metadata": {},
   "outputs": [],
   "source": [
    "# difference bet join conccate and spilit\n",
    "# copy and view"
   ]
  },
  {
   "cell_type": "code",
   "execution_count": null,
   "id": "da746b1a-70f6-4c89-ab37-fa931cfaa7f3",
   "metadata": {},
   "outputs": [],
   "source": [
    "# questn : 1 fill in the blanks.\n",
    "# make 1d array or 2d array"
   ]
  }
 ],
 "metadata": {
  "kernelspec": {
   "display_name": "Python 3 (ipykernel)",
   "language": "python",
   "name": "python3"
  },
  "language_info": {
   "codemirror_mode": {
    "name": "ipython",
    "version": 3
   },
   "file_extension": ".py",
   "mimetype": "text/x-python",
   "name": "python",
   "nbconvert_exporter": "python",
   "pygments_lexer": "ipython3",
   "version": "3.11.4"
  }
 },
 "nbformat": 4,
 "nbformat_minor": 5
}
