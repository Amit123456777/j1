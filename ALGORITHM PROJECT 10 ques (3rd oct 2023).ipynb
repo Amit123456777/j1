{
 "cells": [
  {
   "cell_type": "code",
   "execution_count": 1,
   "id": "b6139fda",
   "metadata": {},
   "outputs": [],
   "source": [
    "# ques: 1 Temp. ques."
   ]
  },
  {
   "cell_type": "code",
   "execution_count": 2,
   "id": "325f0b5b",
   "metadata": {},
   "outputs": [
    {
     "name": "stdout",
     "output_type": "stream",
     "text": [
      "enter any values : 3\n",
      "it's a chilly day\n",
      "it's a beautiful day\n"
     ]
    }
   ],
   "source": [
    "temp = int(input(\"enter any values : \"))\n",
    "if temp > 30:\n",
    "    print(\"it's a hot day\")\n",
    "elif temp > 25:\n",
    "    print(\"it's a pleasant day\")\n",
    "elif temp >10:\n",
    "    print(\"it's a cold day\")\n",
    "else:\n",
    "    print(\"it's a chilly day\")\n",
    "print(\"it's a beautiful day\")"
   ]
  },
  {
   "cell_type": "code",
   "execution_count": 5,
   "id": "f12c555f",
   "metadata": {},
   "outputs": [],
   "source": [
    "# ques:2  Result (% + grading)"
   ]
  },
  {
   "cell_type": "code",
   "execution_count": 9,
   "id": "1ffd6918",
   "metadata": {},
   "outputs": [
    {
     "name": "stdout",
     "output_type": "stream",
     "text": [
      "marks a : 100\n",
      "marks b : 99\n",
      "marks c : 99\n",
      "marks d : 99\n",
      "marks e : 99\n",
      "99.2\n",
      "enter marks in percentage : 97\n",
      "A+\n"
     ]
    }
   ],
   "source": [
    "a = float(input(\"marks a : \"))\n",
    "b = float(input(\"marks b : \"))\n",
    "c = float(input(\"marks c : \"))\n",
    "d = float(input(\"marks d : \"))\n",
    "e = float(input(\"marks e : \"))\n",
    "\n",
    "percentage = (a+b+c+d+e)/500*100\n",
    "print(percentage)\n",
    "\n",
    "marks = float(input(\"enter marks in percentage : \"))\n",
    "if marks > 95:\n",
    "    print(\"A+\")\n",
    "elif marks > 90:\n",
    "    print(\"A\")\n",
    "elif marks > 80:\n",
    "    print(\"B+\")\n",
    "elif marks > 70:\n",
    "    print(\"B\")\n",
    "elif marks > 60:\n",
    "    print(\"C+\")\n",
    "elif marks > 50:\n",
    "    print(\"C\")\n",
    "elif marks > 40:\n",
    "    print(\"D+\")\n",
    "elif marks > 33:\n",
    "    print(\"D\")\n",
    "else:\n",
    "    print(\"F\")\n"
   ]
  },
  {
   "cell_type": "code",
   "execution_count": 10,
   "id": "a525faff",
   "metadata": {},
   "outputs": [],
   "source": [
    "# ques:3  Area of triangle"
   ]
  },
  {
   "cell_type": "code",
   "execution_count": 11,
   "id": "0b4dabab",
   "metadata": {},
   "outputs": [],
   "source": [
    "# for right angled triangle."
   ]
  },
  {
   "cell_type": "code",
   "execution_count": 12,
   "id": "5662c17d",
   "metadata": {},
   "outputs": [
    {
     "name": "stdout",
     "output_type": "stream",
     "text": [
      "enter base :5\n",
      "enter height :8\n",
      "The sum is : 20.0\n"
     ]
    }
   ],
   "source": [
    "base = float(input(\"enter base :\"))\n",
    "height = float(input(\"enter height :\"))\n",
    "\n",
    "sum = 0.5 * base * height\n",
    "print(\"The sum is :\", sum)"
   ]
  },
  {
   "cell_type": "code",
   "execution_count": 13,
   "id": "ea4604df",
   "metadata": {},
   "outputs": [],
   "source": [
    "# if sides are given"
   ]
  },
  {
   "cell_type": "code",
   "execution_count": 3,
   "id": "bfd73464",
   "metadata": {},
   "outputs": [
    {
     "name": "stdout",
     "output_type": "stream",
     "text": [
      "enter side a :3\n",
      "enter side b :4\n",
      "enter side c :5\n",
      "<built-in function sum>\n",
      "6.0\n"
     ]
    }
   ],
   "source": [
    "a = int(input(\"enter side a :\"))\n",
    "b = int(input(\"enter side b :\"))\n",
    "c = int(input(\"enter side c :\"))\n",
    "\n",
    "# calculate semi-perimeter\n",
    "\n",
    "s = (a+b+c)/2\n",
    "print(sum)\n",
    "\n",
    "# calculate area \n",
    "\n",
    "area = (s*(s-a)*(s-b)*(s-c))**0.5\n",
    "print(area)"
   ]
  },
  {
   "cell_type": "code",
   "execution_count": 9,
   "id": "d9d51d54",
   "metadata": {},
   "outputs": [],
   "source": [
    "# DEF FUNCTION\n",
    "\n",
    "# ques:4 Hello WOrld\n"
   ]
  },
  {
   "cell_type": "code",
   "execution_count": 10,
   "id": "d01e1541",
   "metadata": {},
   "outputs": [
    {
     "name": "stdout",
     "output_type": "stream",
     "text": [
      "Hello World\n"
     ]
    }
   ],
   "source": [
    "def myfunction():\n",
    "    print(\"Hello World\")\n",
    "myfunction()"
   ]
  },
  {
   "cell_type": "code",
   "execution_count": 12,
   "id": "06f375df",
   "metadata": {},
   "outputs": [],
   "source": [
    "# ques: 5  Happy Birthday!\n",
    "\n"
   ]
  },
  {
   "cell_type": "code",
   "execution_count": 15,
   "id": "c76821f8",
   "metadata": {},
   "outputs": [
    {
     "name": "stdout",
     "output_type": "stream",
     "text": [
      "Happy birday to you !may god bless you !Happy birthday to you !\n",
      "Happy birday to you !may god bless you !Happy birthday to you !\n",
      "Happy birday to you !may god bless you !Happy birthday to you !\n"
     ]
    }
   ],
   "source": [
    "def myfunction():\n",
    "    print(\"Happy birday to you !may god bless you !Happy birthday to you !\")\n",
    "myfunction()\n",
    "myfunction()\n",
    "myfunction()"
   ]
  },
  {
   "cell_type": "code",
   "execution_count": 25,
   "id": "1eb89bf3",
   "metadata": {},
   "outputs": [],
   "source": [
    "# ques: 6 calculator (using def) :- (+,-,*,/)\n",
    "\n"
   ]
  },
  {
   "cell_type": "code",
   "execution_count": 27,
   "id": "92c4b026",
   "metadata": {},
   "outputs": [
    {
     "name": "stdout",
     "output_type": "stream",
     "text": [
      "70\n"
     ]
    }
   ],
   "source": [
    "def add():\n",
    "    print(20+50)\n",
    "add()"
   ]
  },
  {
   "cell_type": "code",
   "execution_count": 28,
   "id": "557d2c64",
   "metadata": {},
   "outputs": [
    {
     "name": "stdout",
     "output_type": "stream",
     "text": [
      "30\n"
     ]
    }
   ],
   "source": [
    "def sub():\n",
    "    print(50-20)\n",
    "sub()"
   ]
  },
  {
   "cell_type": "code",
   "execution_count": 29,
   "id": "791893a0",
   "metadata": {},
   "outputs": [
    {
     "name": "stdout",
     "output_type": "stream",
     "text": [
      "1500\n"
     ]
    }
   ],
   "source": [
    "def multiply():\n",
    "    print(30*50)\n",
    "multiply()"
   ]
  },
  {
   "cell_type": "code",
   "execution_count": 30,
   "id": "9881dd9f",
   "metadata": {},
   "outputs": [
    {
     "name": "stdout",
     "output_type": "stream",
     "text": [
      "5.0\n"
     ]
    }
   ],
   "source": [
    "def divide():\n",
    "    print(100/20)\n",
    "divide()"
   ]
  },
  {
   "cell_type": "code",
   "execution_count": 31,
   "id": "29343d70",
   "metadata": {},
   "outputs": [],
   "source": [
    "# ques 7: calculator with arguments in call command.\n",
    "\n"
   ]
  },
  {
   "cell_type": "code",
   "execution_count": 32,
   "id": "2bf5f299",
   "metadata": {},
   "outputs": [
    {
     "name": "stdout",
     "output_type": "stream",
     "text": [
      "70\n"
     ]
    }
   ],
   "source": [
    "def add(num1,num2):\n",
    "    sum = num1+num2\n",
    "    print(sum)\n",
    "add(30,40)"
   ]
  },
  {
   "cell_type": "code",
   "execution_count": 35,
   "id": "3ce27276",
   "metadata": {},
   "outputs": [],
   "source": [
    "# ques: 8 multiple of 8 (input prompt)\n",
    "# BUILD A PROGRAM THAT RETURN MULTIPLY OF 8 FOR EVERY NO. INSERTED ?\n",
    "\n"
   ]
  },
  {
   "cell_type": "code",
   "execution_count": 6,
   "id": "ae8c9f0c",
   "metadata": {},
   "outputs": [
    {
     "name": "stdout",
     "output_type": "stream",
     "text": [
      "56\n",
      "64\n"
     ]
    }
   ],
   "source": [
    "def multiply(num1):\n",
    "    sum=num1*8\n",
    "    print(sum)\n",
    "multiply(7)\n",
    "\n",
    "multiply(8)\n"
   ]
  },
  {
   "cell_type": "code",
   "execution_count": null,
   "id": "fb9df878",
   "metadata": {},
   "outputs": [],
   "source": [
    "# ques: 9 create a funtion that checks weather the given integer is +ve, -ve, and 0 ( using define function)\n",
    "\n"
   ]
  },
  {
   "cell_type": "code",
   "execution_count": 37,
   "id": "3176f493",
   "metadata": {},
   "outputs": [
    {
     "name": "stdout",
     "output_type": "stream",
     "text": [
      "enter a number5\n",
      "positive number\n"
     ]
    }
   ],
   "source": [
    "def checker(n):\n",
    "    if n>0:\n",
    "        print(\"positive number\")\n",
    "    elif n<0:\n",
    "        print(\"negative number\")\n",
    "    else:\n",
    "        print(\"it;s a zero\")\n",
    "num = int(input(\"enter a number\"))\n",
    "checker(num)"
   ]
  },
  {
   "cell_type": "code",
   "execution_count": 40,
   "id": "3b73846f",
   "metadata": {},
   "outputs": [],
   "source": [
    "# ques: 10 calculate gross salary of a person considering the following information.\n",
    "\n"
   ]
  },
  {
   "cell_type": "code",
   "execution_count": 1,
   "id": "9ad97d8c",
   "metadata": {},
   "outputs": [
    {
     "name": "stdout",
     "output_type": "stream",
     "text": [
      "what is basics ?1000\n",
      "200.0\n",
      "500.0\n",
      "110.0\n",
      "1300\n",
      "2890.0\n"
     ]
    }
   ],
   "source": [
    "basic = int(input(\"what is basics ?\"))\n",
    "hra = 0.20 * basic\n",
    "da = 0.50 * basic\n",
    "pf = 0.11 * basic\n",
    "print(hra)\n",
    "print(da)\n",
    "print(pf)\n",
    "if basic > 10000:\n",
    "    allowance = 1700\n",
    "elif basic > 5000:\n",
    "    allowance = 15000\n",
    "else:\n",
    "    allowance = 1300\n",
    "print(allowance)\n",
    "gs = basic + hra + da + allowance - pf\n",
    "print(gs)"
   ]
  },
  {
   "cell_type": "code",
   "execution_count": null,
   "id": "af975429",
   "metadata": {},
   "outputs": [],
   "source": []
  },
  {
   "cell_type": "code",
   "execution_count": null,
   "id": "5113943e",
   "metadata": {},
   "outputs": [],
   "source": []
  }
 ],
 "metadata": {
  "kernelspec": {
   "display_name": "Python 3 (ipykernel)",
   "language": "python",
   "name": "python3"
  },
  "language_info": {
   "codemirror_mode": {
    "name": "ipython",
    "version": 3
   },
   "file_extension": ".py",
   "mimetype": "text/x-python",
   "name": "python",
   "nbconvert_exporter": "python",
   "pygments_lexer": "ipython3",
   "version": "3.11.4"
  }
 },
 "nbformat": 4,
 "nbformat_minor": 5
}
