{
 "cells": [
  {
   "cell_type": "code",
   "execution_count": 2,
   "id": "860c8f2d-3084-4603-94e2-68e4db757f07",
   "metadata": {},
   "outputs": [
    {
     "name": "stdout",
     "output_type": "stream",
     "text": [
      "<class 'bool'>\n"
     ]
    }
   ],
   "source": [
    "# variables\n",
    "# local variable vs global variable\n",
    "\n",
    "\"\"\"data types \n",
    "built in \n",
    "Built-in Python Data types are:\n",
    "Numeric\n",
    "Text Type\n",
    "Sequence Type (Python list, Python tuple, Python range)\n",
    "Boolean\n",
    "Set\n",
    "Dictionary\n",
    "\"\"\"\n",
    "\n",
    "\"\"\"Python Data Types\n",
    "Python programming, data types are classes and variables are\n",
    "instances (objects) of these classes. The following are the standard\n",
    "or built-in data types in Python:\n",
    "\n",
    "Numeric\n",
    "Sequence Type\n",
    "Boolean\n",
    "Set\n",
    "Dictionary\n",
    "Binary Types( memoryview, bytearray, bytes)\n",
    "\n"
   ]
  },
  {
   "cell_type": "code",
   "execution_count": 3,
   "id": "7ccef1c4-478a-4957-9c57-8ecbb3e37dc9",
   "metadata": {},
   "outputs": [
    {
     "name": "stdout",
     "output_type": "stream",
     "text": [
      "<class 'int'>\n"
     ]
    }
   ],
   "source": [
    "a = 3\n",
    "print(type(a))"
   ]
  },
  {
   "cell_type": "code",
   "execution_count": 5,
   "id": "aae4b709-ef64-4ff4-a56e-ce7a9d313e1f",
   "metadata": {},
   "outputs": [
    {
     "name": "stdout",
     "output_type": "stream",
     "text": [
      "<class 'bool'>\n"
     ]
    }
   ],
   "source": [
    "print(type(True))"
   ]
  },
  {
   "cell_type": "code",
   "execution_count": 6,
   "id": "e38987c4-1cfc-4d8b-a41f-5be71ababcb8",
   "metadata": {},
   "outputs": [],
   "source": [
    "# note \n",
    "# built in data types and user define data types."
   ]
  },
  {
   "cell_type": "code",
   "execution_count": 9,
   "id": "e077dcbe-0147-4f8d-ac23-84cc1d64ae45",
   "metadata": {},
   "outputs": [
    {
     "name": "stdout",
     "output_type": "stream",
     "text": [
      "b\n"
     ]
    }
   ],
   "source": [
    "# strings\n",
    "# accessing values of strings\n",
    "a = \"abcdef\"\n",
    "print(a[1])"
   ]
  },
  {
   "cell_type": "code",
   "execution_count": 11,
   "id": "f06ee6cc-7b36-4f25-9883-aaecb8932fe2",
   "metadata": {},
   "outputs": [
    {
     "name": "stdout",
     "output_type": "stream",
     "text": [
      "f\n"
     ]
    }
   ],
   "source": [
    "# negative indexing\n",
    "print(a[-1])"
   ]
  },
  {
   "cell_type": "code",
   "execution_count": 12,
   "id": "6782eba8-69b3-47d0-b7b4-81654a095dee",
   "metadata": {},
   "outputs": [],
   "source": [
    "# list, tuple, set, dictionary.\n",
    "# accessing values see in my notes"
   ]
  },
  {
   "cell_type": "code",
   "execution_count": 13,
   "id": "8f81a30f-0b32-413a-8703-b19f3d6cb1ec",
   "metadata": {},
   "outputs": [
    {
     "name": "stdout",
     "output_type": "stream",
     "text": [
      "2\n"
     ]
    }
   ],
   "source": [
    "l = [1,2,3,4]\n",
    "print(l[1])"
   ]
  },
  {
   "cell_type": "code",
   "execution_count": 14,
   "id": "cec7e540-6998-4ab7-b2cb-67662a0504c4",
   "metadata": {},
   "outputs": [
    {
     "name": "stdout",
     "output_type": "stream",
     "text": [
      "2\n"
     ]
    }
   ],
   "source": [
    "tup = (1,2,3,4)\n",
    "print(tup[1])"
   ]
  },
  {
   "cell_type": "code",
   "execution_count": 16,
   "id": "70bc4c34-6070-4cad-84db-9b9fb4c0d875",
   "metadata": {},
   "outputs": [
    {
     "ename": "TypeError",
     "evalue": "'set' object is not subscriptable",
     "output_type": "error",
     "traceback": [
      "\u001b[1;31m---------------------------------------------------------------------------\u001b[0m",
      "\u001b[1;31mTypeError\u001b[0m                                 Traceback (most recent call last)",
      "Cell \u001b[1;32mIn[16], line 2\u001b[0m\n\u001b[0;32m      1\u001b[0m s \u001b[38;5;241m=\u001b[39m {\u001b[38;5;241m1\u001b[39m,\u001b[38;5;241m2\u001b[39m,\u001b[38;5;241m3\u001b[39m,\u001b[38;5;241m4\u001b[39m}\n\u001b[1;32m----> 2\u001b[0m \u001b[38;5;28mprint\u001b[39m(\u001b[43ms\u001b[49m\u001b[43m[\u001b[49m\u001b[38;5;241;43m1\u001b[39;49m\u001b[43m]\u001b[49m)\n\u001b[0;32m      3\u001b[0m \u001b[38;5;66;03m# set in unordered collection of items. so we can't indexing its elements.\u001b[39;00m\n",
      "\u001b[1;31mTypeError\u001b[0m: 'set' object is not subscriptable"
     ]
    }
   ],
   "source": [
    "s = {1,2,3,4}\n",
    "print(s[1])\n",
    "# set in unordered collection of items. so we can't indexing its elements."
   ]
  },
  {
   "cell_type": "code",
   "execution_count": 30,
   "id": "ef116904-416a-40fb-9a41-dd60a81a653d",
   "metadata": {},
   "outputs": [
    {
     "name": "stdout",
     "output_type": "stream",
     "text": [
      "ford\n",
      "python\n"
     ]
    },
    {
     "data": {
      "text/plain": [
       "dict_values(['ford', 'python'])"
      ]
     },
     "execution_count": 30,
     "metadata": {},
     "output_type": "execute_result"
    }
   ],
   "source": [
    "# dictionary = key pair values\n",
    "\n",
    "dic = {\"car\":\"ford\", \"language\": \"python\"}\n",
    "# print(dic)\n",
    "# print(type(dic))\n",
    "print(dic[\"car\"])\n",
    "print(dic[\"language\"])\n"
   ]
  },
  {
   "cell_type": "code",
   "execution_count": 33,
   "id": "8cf3d24a-1c8e-44e8-b0dc-da3d02f9ad6a",
   "metadata": {},
   "outputs": [
    {
     "data": {
      "text/plain": [
       "dict_keys(['car', 'language'])"
      ]
     },
     "execution_count": 33,
     "metadata": {},
     "output_type": "execute_result"
    }
   ],
   "source": [
    "k = dic.keys()\n",
    "k\n"
   ]
  },
  {
   "cell_type": "code",
   "execution_count": 34,
   "id": "ec9c3a30-3adb-4bda-93a3-235b843c221f",
   "metadata": {},
   "outputs": [
    {
     "data": {
      "text/plain": [
       "dict_values(['ford', 'python'])"
      ]
     },
     "execution_count": 34,
     "metadata": {},
     "output_type": "execute_result"
    }
   ],
   "source": [
    "v = dic.values()\n",
    "v"
   ]
  },
  {
   "cell_type": "code",
   "execution_count": null,
   "id": "be210b16-b5c0-4272-b379-ec678a4362a3",
   "metadata": {},
   "outputs": [],
   "source": []
  },
  {
   "cell_type": "code",
   "execution_count": 49,
   "id": "7d9c8b07-d3a6-4e1e-9b5c-7ac818f8463f",
   "metadata": {},
   "outputs": [
    {
     "name": "stdout",
     "output_type": "stream",
     "text": [
      "['apple', 'mango', 'banana']\n",
      "['mango', 'banana']\n"
     ]
    }
   ],
   "source": [
    "# questions\n",
    "fruits = [\"apple\", \"mango\"]\n",
    "# print(fruits)\n",
    "fruits.append(\"banana\")\n",
    "print(fruits)\n",
    "fruits.remove(\"apple\")\n",
    "print(fruits)"
   ]
  },
  {
   "cell_type": "code",
   "execution_count": 48,
   "id": "537564ee-f007-484d-a170-2cd0d20bda1c",
   "metadata": {},
   "outputs": [],
   "source": [
    "# fruits.pop()\n",
    "# print(fruits)"
   ]
  },
  {
   "cell_type": "raw",
   "id": "5bee5550-bcba-4ebb-a6c2-918b80e446a4",
   "metadata": {},
   "source": []
  },
  {
   "cell_type": "code",
   "execution_count": 51,
   "id": "54f7f72c-f018-4f2b-81c6-9fe878bfb403",
   "metadata": {},
   "outputs": [],
   "source": [
    "# # python operators pg 25\n",
    "# Python Operators\n",
    "# Operators are used to perform operations on variables and values.\n",
    "# In the example below, we use the + operator to add together two values:\n",
    "# Example \n",
    "# print(10 + 5)\n",
    "# Python divides the operators in the following groups:\n",
    "# Arithmetic operators =, -=, +=s\n",
    "# Assignment operators\n",
    "# Comparison operators\n",
    "# # Logical operators\n",
    "# Identity operators\n",
    "# Membership operators\n",
    "# Bitwise operators\n"
   ]
  },
  {
   "cell_type": "code",
   "execution_count": 52,
   "id": "e2aed243-ca05-4d2c-8fea-b31cd97106d5",
   "metadata": {},
   "outputs": [],
   "source": [
    "# operator precedence"
   ]
  },
  {
   "cell_type": "code",
   "execution_count": 58,
   "id": "bc9ec3a2-53b3-4f7d-9316-5bb94dd74955",
   "metadata": {},
   "outputs": [
    {
     "name": "stdout",
     "output_type": "stream",
     "text": [
      "odd numbers 1\n",
      "even numbers 2\n",
      "odd numbers 3\n",
      "even numbers 4\n",
      "odd numbers 5\n",
      "even numbers 6\n",
      "odd numbers 7\n"
     ]
    }
   ],
   "source": [
    "# write a program to filter even and odd number from list.\n",
    "l = [1,2,3,4,5,6,7]\n",
    "for i in l:\n",
    "    if i%2==0:\n",
    "        print(f\"even numbers {i}\")\n",
    "    elif i%2!=0:\n",
    "        print(f\"odd numbers {i}\")"
   ]
  },
  {
   "cell_type": "code",
   "execution_count": 64,
   "id": "c5787f4f-6d37-45cb-8ff3-6dcc6714589f",
   "metadata": {},
   "outputs": [
    {
     "name": "stdout",
     "output_type": "stream",
     "text": [
      "even: [2, 4, 6, 8, 10]\n",
      "odd:  [1, 3, 5, 7, 9]\n"
     ]
    }
   ],
   "source": [
    "even = []\n",
    "odd = []\n",
    "l = [1,2,3,4,5,6,7,8,9,10]\n",
    "for i in l:\n",
    "    if i%2==0:\n",
    "        even.append(i)\n",
    "    elif i%2!=0:\n",
    "        odd.append(i)\n",
    "\n",
    "print(f\"even: {even}\")\n",
    "print(f\"odd:  {odd}\")"
   ]
  },
  {
   "cell_type": "code",
   "execution_count": 79,
   "id": "2501b162-dae8-416e-939e-e9794e8f6fa6",
   "metadata": {},
   "outputs": [
    {
     "name": "stdout",
     "output_type": "stream",
     "text": [
      "[1, 2, 10, 3, 4]\n"
     ]
    }
   ],
   "source": [
    "l1 = [1,2,3,4]\n",
    "l1.insert(2,10) # 2nd index pe 10 insert\n",
    "print(l1)"
   ]
  },
  {
   "cell_type": "code",
   "execution_count": 88,
   "id": "94ffa6d3-e55c-4003-91fd-8a5a7c89283b",
   "metadata": {},
   "outputs": [
    {
     "name": "stdout",
     "output_type": "stream",
     "text": [
      "10\n"
     ]
    }
   ],
   "source": [
    "# sum of list elements\n",
    "l2 = [1,2,3,4]\n",
    "sum = 0\n",
    "for i in l2:\n",
    "    sum = sum + i\n",
    "print(sum)"
   ]
  },
  {
   "cell_type": "code",
   "execution_count": 90,
   "id": "7e3f89a6-e548-4ca6-a61d-2169af9befef",
   "metadata": {},
   "outputs": [
    {
     "name": "stdout",
     "output_type": "stream",
     "text": [
      "sum of even numbers: 12\n"
     ]
    }
   ],
   "source": [
    "# sum of even numbers\n",
    "\n",
    "l3 = [1,2,3,4,5,6]\n",
    "sum = 0\n",
    "for i in l3:\n",
    "    if i %2==0:\n",
    "        sum = sum + i\n",
    "\n",
    "print(f\"sum of even numbers: {sum}\")"
   ]
  },
  {
   "cell_type": "code",
   "execution_count": 93,
   "id": "94a9fa2a-74b8-40a2-88ce-14f687566d2a",
   "metadata": {},
   "outputs": [
    {
     "name": "stdout",
     "output_type": "stream",
     "text": [
      "3\n",
      "6\n",
      "9\n",
      "12\n",
      "15\n",
      "18\n",
      "21\n",
      "24\n",
      "27\n",
      "30\n"
     ]
    }
   ],
   "source": [
    "# print the table of any number using loop\n",
    "# method 1\n",
    "for i in range(1,11):\n",
    "    print(3*i)"
   ]
  },
  {
   "cell_type": "code",
   "execution_count": 99,
   "id": "1bbc31ff-6e4f-4d88-8374-ccfbc61a6451",
   "metadata": {},
   "outputs": [
    {
     "name": "stdout",
     "output_type": "stream",
     "text": [
      "3 x 1 = 3\n",
      "3 x 2 = 6\n",
      "3 x 3 = 9\n",
      "3 x 4 = 12\n",
      "3 x 5 = 15\n",
      "3 x 6 = 18\n",
      "3 x 7 = 21\n",
      "3 x 8 = 24\n",
      "3 x 9 = 27\n",
      "3 x 10 = 30\n"
     ]
    }
   ],
   "source": [
    "# method 2\n",
    "for i in range(1,11):\n",
    "    print(\"3\",\"x\",i, \"=\", (3*i))"
   ]
  },
  {
   "cell_type": "code",
   "execution_count": null,
   "id": "dc2d0849-94cf-463c-9064-07ba0b481e62",
   "metadata": {},
   "outputs": [],
   "source": []
  },
  {
   "cell_type": "code",
   "execution_count": null,
   "id": "31dd4982-6250-433e-bf37-4fb0c157136b",
   "metadata": {},
   "outputs": [],
   "source": []
  },
  {
   "cell_type": "code",
   "execution_count": 101,
   "id": "16838fb6-1a94-4b94-ac7a-9077a6304572",
   "metadata": {},
   "outputs": [],
   "source": [
    "a = 1\n",
    "b = 2\n",
    "c = 3\n",
    "if a >"
   ]
  },
  {
   "cell_type": "code",
   "execution_count": null,
   "id": "21b8df76-f7f0-45d9-b0e6-014e2b6728c5",
   "metadata": {},
   "outputs": [],
   "source": [
    "# recursion"
   ]
  }
 ],
 "metadata": {
  "kernelspec": {
   "display_name": "Python 3 (ipykernel)",
   "language": "python",
   "name": "python3"
  },
  "language_info": {
   "codemirror_mode": {
    "name": "ipython",
    "version": 3
   },
   "file_extension": ".py",
   "mimetype": "text/x-python",
   "name": "python",
   "nbconvert_exporter": "python",
   "pygments_lexer": "ipython3",
   "version": "3.11.4"
  }
 },
 "nbformat": 4,
 "nbformat_minor": 5
}
