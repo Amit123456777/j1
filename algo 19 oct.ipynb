{
 "cells": [
  {
   "cell_type": "code",
   "execution_count": 1,
   "id": "dfdee083",
   "metadata": {},
   "outputs": [
    {
     "name": "stdout",
     "output_type": "stream",
     "text": [
      "array('i', [21, 23, 34, 45, 54, 56, 58, 78, 99, 100])\n",
      "100\n"
     ]
    }
   ],
   "source": [
    "# write a program such that the bubble sort works from the ascending order now.\n",
    "\n",
    "import array\n",
    "from array import *\n",
    "#defining a funtion\n",
    "def pairwise_swap(arr):\n",
    "    n=len(arr)\n",
    "    for i in range(0, n-1):\n",
    "        for j in range (0, n-i-1):\n",
    "            if arr[j]>arr[j+1]:\n",
    "                arr[j],arr[j+1]=arr[j+1],arr[j]\n",
    "            \n",
    "            \n",
    "# ending the function\n",
    "# Defining the array\n",
    "            \n",
    "arr1 = array('i',[100,99,58,45,34,21,23,56,78,54])\n",
    "\n",
    "# calling the function\n",
    "\n",
    "pairwise_swap(arr1)\n",
    "print(arr1)"
   ]
  },
  {
   "cell_type": "code",
   "execution_count": 3,
   "id": "312803a3",
   "metadata": {},
   "outputs": [],
   "source": [
    "# write a program such that the bubble sort works from the descending order now."
   ]
  },
  {
   "cell_type": "code",
   "execution_count": 9,
   "id": "34cd499e",
   "metadata": {},
   "outputs": [
    {
     "name": "stdout",
     "output_type": "stream",
     "text": [
      "array('i', [79878, 2167, 511, 108, 99, 56, 54, 45, 34, 1])\n"
     ]
    }
   ],
   "source": [
    "import array\n",
    "from array import *\n",
    "#defining a funtion\n",
    "def pairwise_swap(arr):\n",
    "    n=len(arr)\n",
    "    for i in range(0, n-1):\n",
    "        for j in range (0, n-i-1):\n",
    "            if arr[j]<arr[j+1]:\n",
    "                arr[j+1],arr[j]=arr[j],arr[j+1]\n",
    "            \n",
    "            \n",
    "# ending the function\n",
    "# Defining the array\n",
    "            \n",
    "arr1 = array('i',[108,99,511,45,34,2167,1,56,79878,54])\n",
    "\n",
    "# calling the function\n",
    "\n",
    "pairwise_swap(arr1)\n",
    "print(arr1)"
   ]
  },
  {
   "cell_type": "code",
   "execution_count": 10,
   "id": "d23a6601",
   "metadata": {},
   "outputs": [],
   "source": [
    "# ques: creat an array cointaing 10 numbers, break the array into two parts, and print individual sub array."
   ]
  },
  {
   "cell_type": "code",
   "execution_count": 30,
   "id": "fff61338",
   "metadata": {},
   "outputs": [
    {
     "name": "stdout",
     "output_type": "stream",
     "text": [
      "10\n",
      "5\n",
      "array('i', [2, 3, 4, 6, 7])\n",
      "array('i', [9, 7, 1, 4, 7])\n",
      "<class 'array.array'>\n",
      "<class 'array.array'>\n"
     ]
    }
   ],
   "source": [
    "import array\n",
    "from array import *\n",
    "arr2 = array('i',[2,3,4,6,7,9,7,1,4,7])\n",
    "n=len(arr2)\n",
    "print(n)\n",
    "mid=n//2\n",
    "print(mid)\n",
    "part1 = arr2[:mid]\n",
    "part2=arr2[mid:]\n",
    "print(part1)\n",
    "print(part2)\n",
    "\n",
    "print(type(part1))\n",
    "print(type(part2))\n"
   ]
  },
  {
   "cell_type": "code",
   "execution_count": null,
   "id": "f9d8c9d9",
   "metadata": {},
   "outputs": [],
   "source": []
  },
  {
   "cell_type": "code",
   "execution_count": 33,
   "id": "ec665f31",
   "metadata": {},
   "outputs": [],
   "source": [
    "# ques : write a python program who splilit a given array into theree parts."
   ]
  },
  {
   "cell_type": "code",
   "execution_count": 50,
   "id": "dc9c99f4",
   "metadata": {},
   "outputs": [
    {
     "name": "stdout",
     "output_type": "stream",
     "text": [
      "9\n",
      "3\n",
      "array('i', [5, 6, 7])\n",
      "array('i', [3, 4, 5])\n",
      "array('i', [5, 1, 2])\n",
      "<class 'array.array'>\n",
      "<class 'array.array'>\n",
      "<class 'array.array'>\n"
     ]
    }
   ],
   "source": [
    "import array\n",
    "from array import *\n",
    "\n",
    "\n",
    "\n",
    "arr4 = array('i',[5,6,7,3,4,5,1,2,3])\n",
    "n=len(arr4)\n",
    "print(n)\n",
    "\n",
    "mid=n//3\n",
    "print(mid)\n",
    "part1 = arr4[:mid]\n",
    "part2=arr4[mid:mid*2]\n",
    "part3=arr4[mid*2:]\n",
    "print(part1)\n",
    "print(part2)\n",
    "print(part3)\n",
    "\n",
    "print(type(part1))\n",
    "print(type(part2))\n",
    "print(type(part3))"
   ]
  },
  {
   "cell_type": "code",
   "execution_count": 31,
   "id": "506c8b18",
   "metadata": {},
   "outputs": [],
   "source": [
    "arr4 = (input(\"enter any array\"))"
   ]
  },
  {
   "cell_type": "code",
   "execution_count": 69,
   "id": "975a5e55",
   "metadata": {},
   "outputs": [
    {
     "name": "stdout",
     "output_type": "stream",
     "text": [
      "enter array : 1,2,3,4,5,7,6,8,9\n"
     ]
    },
    {
     "ename": "ValueError",
     "evalue": "invalid literal for int() with base 10: '1,2,3,4,5,7,6,8,9'",
     "output_type": "error",
     "traceback": [
      "\u001b[1;31m---------------------------------------------------------------------------\u001b[0m",
      "\u001b[1;31mValueError\u001b[0m                                Traceback (most recent call last)",
      "Cell \u001b[1;32mIn[69], line 7\u001b[0m\n\u001b[0;32m      1\u001b[0m \u001b[38;5;28;01mimport\u001b[39;00m \u001b[38;5;21;01marray\u001b[39;00m\n\u001b[0;32m      2\u001b[0m \u001b[38;5;28;01mfrom\u001b[39;00m \u001b[38;5;21;01marray\u001b[39;00m \u001b[38;5;28;01mimport\u001b[39;00m \u001b[38;5;241m*\u001b[39m\n\u001b[1;32m----> 7\u001b[0m arr4 \u001b[38;5;241m=\u001b[39m \u001b[38;5;28mint\u001b[39m(\u001b[38;5;28minput\u001b[39m(\u001b[38;5;124m\"\u001b[39m\u001b[38;5;124menter array : \u001b[39m\u001b[38;5;124m\"\u001b[39m))\n\u001b[0;32m      8\u001b[0m \u001b[38;5;28mprint\u001b[39m(arr4)\n\u001b[0;32m      9\u001b[0m n\u001b[38;5;241m=\u001b[39m\u001b[38;5;28mlen\u001b[39m(arr4)\n",
      "\u001b[1;31mValueError\u001b[0m: invalid literal for int() with base 10: '1,2,3,4,5,7,6,8,9'"
     ]
    }
   ],
   "source": [
    "import array\n",
    "from array import *\n",
    "\n",
    "\n",
    "\n",
    "\n",
    "arr4 = int(input(\"enter array : \"))\n",
    "print(arr4)\n",
    "n=len(arr4)\n",
    "print(n)\n",
    "\n",
    "mid=n//3\n",
    "print(mid)\n",
    "part1 = arr4[0:2]\n",
    "part2=arr4[3:5]\n",
    "part3=arr4[5:8]\n",
    "print(part1)\n",
    "print(part2)\n",
    "print(part3)\n",
    "\n",
    "print(type(part1))\n",
    "print(type(part2))\n",
    "print(type(part3))"
   ]
  },
  {
   "cell_type": "code",
   "execution_count": 71,
   "id": "82ddd7c0",
   "metadata": {},
   "outputs": [
    {
     "name": "stdout",
     "output_type": "stream",
     "text": [
      "array('i', [1, 2, 3, 4, 5])\n"
     ]
    }
   ],
   "source": [
    "import array\n",
    "list=[1,2,3,4,5]\n",
    "arr=array.array('i',list)\n",
    "print(arr)"
   ]
  },
  {
   "cell_type": "code",
   "execution_count": null,
   "id": "6b5e9123",
   "metadata": {},
   "outputs": [],
   "source": []
  }
 ],
 "metadata": {
  "kernelspec": {
   "display_name": "Python 3 (ipykernel)",
   "language": "python",
   "name": "python3"
  },
  "language_info": {
   "codemirror_mode": {
    "name": "ipython",
    "version": 3
   },
   "file_extension": ".py",
   "mimetype": "text/x-python",
   "name": "python",
   "nbconvert_exporter": "python",
   "pygments_lexer": "ipython3",
   "version": "3.11.4"
  }
 },
 "nbformat": 4,
 "nbformat_minor": 5
}
