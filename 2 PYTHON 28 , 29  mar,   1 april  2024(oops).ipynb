{
 "cells": [
  {
   "cell_type": "code",
   "execution_count": 2,
   "id": "e263f706-c880-45e6-a676-dd7876646bca",
   "metadata": {},
   "outputs": [],
   "source": [
    "# a class is a blueprint for creating objects. it defines the attributes and methods.\n"
   ]
  },
  {
   "cell_type": "code",
   "execution_count": null,
   "id": "6e7e365a-c842-473f-a928-4455e5bbccec",
   "metadata": {},
   "outputs": [],
   "source": []
  },
  {
   "cell_type": "code",
   "execution_count": 5,
   "id": "7e4af2ca-2535-4891-96c9-9900ff2bc252",
   "metadata": {},
   "outputs": [],
   "source": [
    "# empty car\n",
    "\n",
    "class car:          # class keyword and class name.\n",
    "    pass"
   ]
  },
  {
   "cell_type": "code",
   "execution_count": 6,
   "id": "43df8359-9170-4171-8fc3-7d4467ae9101",
   "metadata": {},
   "outputs": [
    {
     "data": {
      "text/plain": [
       "module"
      ]
     },
     "execution_count": 6,
     "metadata": {},
     "output_type": "execute_result"
    }
   ],
   "source": [
    "import pandas\n",
    "type(pandas)"
   ]
  },
  {
   "cell_type": "code",
   "execution_count": 7,
   "id": "a19b5735-6246-4b13-a577-cfd546e0148f",
   "metadata": {},
   "outputs": [],
   "source": [
    "# object"
   ]
  },
  {
   "cell_type": "code",
   "execution_count": 11,
   "id": "89e64c25-11b6-45e2-829b-efb7ac04ea1e",
   "metadata": {},
   "outputs": [],
   "source": [
    "my_car = car()"
   ]
  },
  {
   "cell_type": "code",
   "execution_count": 10,
   "id": "65062c1c-f126-43f5-a628-0d7e3adde334",
   "metadata": {},
   "outputs": [],
   "source": [
    "# attributes = are the charateristics and properties."
   ]
  },
  {
   "cell_type": "code",
   "execution_count": 20,
   "id": "d91e70b0-c546-4e3a-8cee-fecd99fc42d7",
   "metadata": {},
   "outputs": [],
   "source": [
    "class car:\n",
    "    def __init__(self,brand,model):\n",
    "        self.brand = brand\n",
    "        self.model= model"
   ]
  },
  {
   "cell_type": "code",
   "execution_count": 21,
   "id": "210d5513-69a0-4d4a-a7c5-f7b2ac568b24",
   "metadata": {},
   "outputs": [],
   "source": [
    "# init = initialization\n",
    "# class are defined using self"
   ]
  },
  {
   "cell_type": "code",
   "execution_count": 22,
   "id": "a6a0c605-94d1-4a3f-8a9e-6071d0eeb932",
   "metadata": {},
   "outputs": [
    {
     "name": "stdout",
     "output_type": "stream",
     "text": [
      "Toyoto\n",
      "Corola\n"
     ]
    }
   ],
   "source": [
    "my_car = car(\"Toyoto\",\"Corola\")\n",
    "print(my_car.brand)\n",
    "print(my_car.model)"
   ]
  },
  {
   "cell_type": "code",
   "execution_count": null,
   "id": "daa45b40-8243-466e-8b33-966aa6953257",
   "metadata": {},
   "outputs": [],
   "source": [
    "# ques = add fuel"
   ]
  },
  {
   "cell_type": "code",
   "execution_count": 25,
   "id": "a341ec46-6132-4deb-9ba9-109f4e87ab6c",
   "metadata": {},
   "outputs": [
    {
     "name": "stdout",
     "output_type": "stream",
     "text": [
      "Toyoto\n",
      "Corola\n",
      "abc\n"
     ]
    }
   ],
   "source": [
    "class car:\n",
    "    def __init__(self,brand,model,fuel):   # defining attributes of class\n",
    "        self.brand = brand\n",
    "        self.model= model\n",
    "        self.fuel = fuel\n",
    "\n",
    "my_car = car(\"Toyoto\",\"Corola\",\"abc\")\n",
    "print(my_car.brand)     # accessing attributes or methods\n",
    "print(my_car.model)\n",
    "print(my_car.fuel)"
   ]
  },
  {
   "cell_type": "code",
   "execution_count": 26,
   "id": "d4fe1442-59bf-4bac-ad00-0bf7816d7e82",
   "metadata": {},
   "outputs": [],
   "source": [
    "# methods \n",
    "# methods are functn define within class. They represent the behaviour of objects."
   ]
  },
  {
   "cell_type": "code",
   "execution_count": 27,
   "id": "d3262c65-61a2-4f90-aeb7-f448076135bb",
   "metadata": {},
   "outputs": [],
   "source": [
    "class car:\n",
    "    def __init__(self,brand,model):\n",
    "        self.brand = brand\n",
    "        self.model = model\n",
    "\n",
    "    def drive(self):\n",
    "        return f\"{self.brand} {self.model} is driving \"\n",
    "\n",
    "    "
   ]
  },
  {
   "cell_type": "code",
   "execution_count": null,
   "id": "7bac12c0-34b7-4833-bfd5-3d6556fca463",
   "metadata": {},
   "outputs": [],
   "source": [
    "# EXPLANATION"
   ]
  },
  {
   "cell_type": "code",
   "execution_count": 33,
   "id": "07ea2807-3cb2-4a9c-a02c-8432312abf62",
   "metadata": {},
   "outputs": [],
   "source": [
    "# how to access attributes and methods\n",
    "\n",
    "# class.att1\n",
    "# class.att2\n",
    "\n",
    "# my_class.method1\n",
    "# my_calss.method2"
   ]
  },
  {
   "cell_type": "code",
   "execution_count": 29,
   "id": "f030c512-d671-40fe-9330-665f71c9887a",
   "metadata": {},
   "outputs": [],
   "source": [
    "\n",
    "# class\n",
    "# instances\n",
    "# attributes"
   ]
  },
  {
   "cell_type": "code",
   "execution_count": 31,
   "id": "cd84e337-4267-4dc1-a5b9-1aeb8947d7af",
   "metadata": {},
   "outputs": [],
   "source": [
    "# instances\n",
    "\n",
    "# ho hm object create krte hai is called instance\n",
    "\n",
    "# class ko var me store kiya . jise hm kehte hai create object.\n",
    "# isee object / var name ki help se jm acces krte hai. att and methods\n",
    "# class.att1\n",
    "# class.att2\n",
    "\n",
    "# my_class.method1\n",
    "# my_calss.method2"
   ]
  },
  {
   "cell_type": "code",
   "execution_count": null,
   "id": "efa021a2-7c48-4a92-a4e6-1bd638cc0d77",
   "metadata": {},
   "outputs": [],
   "source": []
  },
  {
   "cell_type": "code",
   "execution_count": 32,
   "id": "1308a2a4-3e77-40d2-8e9d-acfcc5cd25a9",
   "metadata": {},
   "outputs": [],
   "source": [
    "# scientific caluculator"
   ]
  },
  {
   "cell_type": "code",
   "execution_count": 42,
   "id": "8f6b1eff-c363-4ac1-8a0f-298891b3aafb",
   "metadata": {},
   "outputs": [],
   "source": [
    "class calculator:\n",
    "    def add(self,x,y):\n",
    "            return x + y\n",
    "    def subtract(self,x,y):\n",
    "            return x - y\n",
    "    def multiply(self,x,y):\n",
    "        return x*y\n",
    "    def divide(self, x, y):\n",
    "        if y == 0:\n",
    "            raise valueerror(\"Division by zero is not allowed\")\n",
    "        return x/y\n"
   ]
  },
  {
   "cell_type": "code",
   "execution_count": 64,
   "id": "bf9b312e-1f70-4da4-a57e-a45db2df3708",
   "metadata": {},
   "outputs": [
    {
     "data": {
      "text/plain": [
       "11"
      ]
     },
     "execution_count": 64,
     "metadata": {},
     "output_type": "execute_result"
    }
   ],
   "source": [
    "calc = calculator()\n",
    "# addition\n",
    "result_add = calc.add(5,6)\n",
    "result_add"
   ]
  },
  {
   "cell_type": "code",
   "execution_count": null,
   "id": "839ab6ad-a8e0-457b-96a4-df424a341fe5",
   "metadata": {},
   "outputs": [],
   "source": []
  },
  {
   "cell_type": "code",
   "execution_count": 46,
   "id": "cfb40036-9aa9-4090-b1e8-b1cec91dcf22",
   "metadata": {},
   "outputs": [],
   "source": [
    "# homework define a class to find  mean, mode, median of list."
   ]
  },
  {
   "cell_type": "code",
   "execution_count": null,
   "id": "4b5daf13-2699-4476-bf11-08e2bc56757f",
   "metadata": {},
   "outputs": [],
   "source": []
  },
  {
   "cell_type": "code",
   "execution_count": null,
   "id": "1a406d85-adf0-41a1-b857-45275bf2ac57",
   "metadata": {},
   "outputs": [],
   "source": []
  },
  {
   "cell_type": "code",
   "execution_count": 2,
   "id": "2669c82d-000b-43fe-9108-dd881423de34",
   "metadata": {},
   "outputs": [],
   "source": [
    "class describe:\n",
    "    def mean(self, x,y,z):\n",
    "        return (x + y + z) / 2\n",
    "    def median(self, x,y,z):\n",
    "        return (x + y + z) + 1/2\n",
    "    def mode(self, x, y, z):\n",
    "        numbers = [x, y, z]\n",
    "        counts = {num: numbers.count(num) for num in numbers}\n",
    "        max_count = max(counts.values())\n",
    "        modes = [num for num, count in counts.items() if count == max_count]\n",
    "        \n",
    "        if len(modes) == len(numbers):\n",
    "            return \"No mode\"\n",
    "        else:\n",
    "            return modes"
   ]
  },
  {
   "cell_type": "code",
   "execution_count": 3,
   "id": "0e88f6e1-87a2-4407-844f-b2af8198d3ca",
   "metadata": {},
   "outputs": [
    {
     "data": {
      "text/plain": [
       "30.0"
      ]
     },
     "execution_count": 3,
     "metadata": {},
     "output_type": "execute_result"
    }
   ],
   "source": [
    "desc = describe()\n",
    "mean = desc.mean(10,20,30)\n",
    "mean"
   ]
  },
  {
   "cell_type": "code",
   "execution_count": 70,
   "id": "d5dfcd6b-07e1-4db4-95e4-79c03ba35d69",
   "metadata": {},
   "outputs": [
    {
     "data": {
      "text/plain": [
       "60.5"
      ]
     },
     "execution_count": 70,
     "metadata": {},
     "output_type": "execute_result"
    }
   ],
   "source": [
    "median = desc.median(10,20,30)\n",
    "median"
   ]
  },
  {
   "cell_type": "code",
   "execution_count": 5,
   "id": "b1226c30-1ec5-4b11-b506-881cc809a59d",
   "metadata": {},
   "outputs": [
    {
     "ename": "AttributeError",
     "evalue": "'describe' object has no attribute 'mode'",
     "output_type": "error",
     "traceback": [
      "\u001b[1;31m---------------------------------------------------------------------------\u001b[0m",
      "\u001b[1;31mAttributeError\u001b[0m                            Traceback (most recent call last)",
      "Cell \u001b[1;32mIn[5], line 1\u001b[0m\n\u001b[1;32m----> 1\u001b[0m mode \u001b[38;5;241m=\u001b[39m \u001b[43mdesc\u001b[49m\u001b[38;5;241;43m.\u001b[39;49m\u001b[43mmode\u001b[49m(\u001b[38;5;241m20\u001b[39m,\u001b[38;5;241m20\u001b[39m,\u001b[38;5;241m10\u001b[39m)\n\u001b[0;32m      2\u001b[0m mode\n",
      "\u001b[1;31mAttributeError\u001b[0m: 'describe' object has no attribute 'mode'"
     ]
    }
   ],
   "source": [
    "mode = desc.mode(20,20,10)\n",
    "mode"
   ]
  },
  {
   "cell_type": "code",
   "execution_count": 1,
   "id": "a3959f7f-6344-474a-8468-79738704b9d7",
   "metadata": {},
   "outputs": [
    {
     "name": "stdout",
     "output_type": "stream",
     "text": [
      "Mean: 1.6666666666666667\n",
      "Median: 2\n",
      "Mode: [2]\n"
     ]
    }
   ],
   "source": [
    "class describe:\n",
    "    def mean(self, x, y, z):\n",
    "        return (x + y + z) / 3\n",
    "    \n",
    "    def median(self, x, y, z):\n",
    "        return sorted([x, y, z])[1]\n",
    "    \n",
    "    def mode(self, x, y, z):\n",
    "        numbers = [x, y, z]\n",
    "        counts = {num: numbers.count(num) for num in numbers}\n",
    "        max_count = max(counts.values())\n",
    "        modes = [num for num, count in counts.items() if count == max_count]\n",
    "        \n",
    "        if len(modes) == len(numbers):\n",
    "            return \"No mode\"\n",
    "        else:\n",
    "            return modes\n",
    "\n",
    "# Example usage:\n",
    "d = describe()\n",
    "x, y, z = 1, 2, 2\n",
    "print(\"Mean:\", d.mean(x, y, z))\n",
    "print(\"Median:\", d.median(x, y, z))\n",
    "print(\"Mode:\", d.mode(x, y, z))\n"
   ]
  },
  {
   "cell_type": "code",
   "execution_count": null,
   "id": "f7d88237-b5de-40a3-84d3-4bee1414594f",
   "metadata": {},
   "outputs": [],
   "source": []
  },
  {
   "cell_type": "code",
   "execution_count": null,
   "id": "27515cc9-317a-46a1-b713-202076c2106a",
   "metadata": {},
   "outputs": [],
   "source": []
  },
  {
   "cell_type": "code",
   "execution_count": null,
   "id": "bb92956a-02a0-4138-8f54-41b07df9e002",
   "metadata": {},
   "outputs": [],
   "source": [
    "# objects = class ko variable me store krna. is called objects."
   ]
  },
  {
   "cell_type": "code",
   "execution_count": null,
   "id": "4a38f3df-b542-40bf-95cf-079c40413547",
   "metadata": {},
   "outputs": [],
   "source": []
  },
  {
   "cell_type": "code",
   "execution_count": null,
   "id": "6f10a07f-9965-4be8-93d9-4189be9c6e98",
   "metadata": {},
   "outputs": [],
   "source": []
  },
  {
   "cell_type": "code",
   "execution_count": null,
   "id": "808b6a1a-340f-4085-a396-1e48940e1cce",
   "metadata": {},
   "outputs": [],
   "source": [
    "# create a class"
   ]
  },
  {
   "cell_type": "code",
   "execution_count": 10,
   "id": "91a04fd5-9d89-4342-9afa-ebaa111d27c8",
   "metadata": {},
   "outputs": [
    {
     "name": "stdout",
     "output_type": "stream",
     "text": [
      "vivo\n",
      "blue\n"
     ]
    }
   ],
   "source": [
    "class phone:\n",
    "    def __init__(self,brand,color):   # defining attributes of class\n",
    "        self.brand = brand\n",
    "        self.color= color\n",
    "        \n",
    "\n",
    "my_phone = phone(\"vivo\", \"blue\")\n",
    "print(my_phone.brand)     # accessing attributes or methods\n",
    "print(my_phone.color)\n",
    "  "
   ]
  },
  {
   "cell_type": "code",
   "execution_count": 11,
   "id": "c9f936db-0086-4555-b373-c51748409677",
   "metadata": {},
   "outputs": [],
   "source": [
    "# create a table class"
   ]
  },
  {
   "cell_type": "code",
   "execution_count": 22,
   "id": "f97be77e-c5b1-43ca-9da9-7d79b8b9eb65",
   "metadata": {},
   "outputs": [
    {
     "name": "stdout",
     "output_type": "stream",
     "text": [
      "num\n"
     ]
    }
   ],
   "source": [
    "class table:\n",
    "    def __init__(self,num):   # defining attributes of class\n",
    "        self.num = num\n",
    "       \n",
    "my_table = table(\"num\")\n",
    "print(my_table.num)     # accessing attributes or methods\n",
    "\n",
    "  "
   ]
  },
  {
   "cell_type": "code",
   "execution_count": null,
   "id": "4af9ec14-51d5-423f-bbbe-8be24c4fc274",
   "metadata": {},
   "outputs": [],
   "source": [
    "class Employee:\n",
    "    def __init__(self, name, emp_id)\n",
    "    self.name = name\n",
    "    self.emp.id = emp_id\n",
    "# abstract method to calculate salary to be implemented by emp_id attribute\n",
    "def calculate_salary(self):\n",
    "    raise "
   ]
  },
  {
   "cell_type": "code",
   "execution_count": null,
   "id": "889a33c0-74fb-4707-a191-bc5548b71253",
   "metadata": {},
   "outputs": [],
   "source": [
    "# child class (subclass)\n",
    "class fullTimeemployee(Employee):\n",
    "    # constructor (_init__ method to initialize name, emp_id, hours, worker and \n",
    "    def __init__(self, name, emp_id, hours_worked, hourly_rate):\n",
    "    # call superclass"
   ]
  },
  {
   "cell_type": "code",
   "execution_count": null,
   "id": "cc019160-453c-4844-b8a6-048867434171",
   "metadata": {},
   "outputs": [],
   "source": []
  },
  {
   "cell_type": "code",
   "execution_count": null,
   "id": "112eb4b4-2f6b-4f2d-b931-07be943c1cac",
   "metadata": {},
   "outputs": [],
   "source": []
  },
  {
   "cell_type": "code",
   "execution_count": null,
   "id": "2e55af53-a8d1-4dee-91e5-d75dcfb65726",
   "metadata": {},
   "outputs": [],
   "source": []
  },
  {
   "cell_type": "code",
   "execution_count": null,
   "id": "9569a5ff-8247-4176-b2e5-13ccfe9acbe4",
   "metadata": {},
   "outputs": [],
   "source": [
    "# 1 april 2024"
   ]
  },
  {
   "cell_type": "code",
   "execution_count": 1,
   "id": "6b77dfb3-8e68-4c0d-a627-eda2f1802bca",
   "metadata": {},
   "outputs": [],
   "source": [
    "\n",
    "\n",
    "# what is abstraction  (very important)\n",
    "# abst refers to the process of abst classes and the method provid .\n",
    "# it allows us to dine common attributes .\n",
    "# and behaviours can be shared among \n",
    "\n",
    "# 5th step - define sub class"
   ]
  },
  {
   "cell_type": "code",
   "execution_count": 2,
   "id": "bc3609ad-21e5-49fe-8bb2-7d66bf82b467",
   "metadata": {},
   "outputs": [],
   "source": [
    "# abstract base class == it is define by using abc module.\n",
    "\n",
    "\n",
    "# abstract me hm bhut sara method apply kr denge \n",
    "# and usko use krenge apne classes ke andr."
   ]
  },
  {
   "cell_type": "code",
   "execution_count": 25,
   "id": "5af62f58-bde0-4ae2-b2e9-66c3c93443aa",
   "metadata": {},
   "outputs": [],
   "source": [
    "# defining abstraction\n",
    "\n",
    "from abc import ABC, abstractmethod\n",
    "class car(ABC):\n",
    "    @abstractmethod \n",
    "    def mileage(self):\n",
    "        pass\n",
    "class tesla(car):\n",
    "    def mileage(self):\n",
    "        print(\"The mileage 20kmph\")\n",
    "class audi(car):\n",
    "    def mileage(self,brand,color):\n",
    "        print(\"The mileage 5kmph\")"
   ]
  },
  {
   "cell_type": "code",
   "execution_count": 26,
   "id": "ea22227c-115b-4fc6-94f1-5e27da14f203",
   "metadata": {},
   "outputs": [],
   "source": [
    "tesla_car = Tesla()\n",
    "audi_car = Audi()"
   ]
  },
  {
   "cell_type": "code",
   "execution_count": 27,
   "id": "759fb8f7-ee1c-4489-a337-cfa83a7bbb1b",
   "metadata": {},
   "outputs": [
    {
     "name": "stdout",
     "output_type": "stream",
     "text": [
      "The mileage is 20kmph\n",
      "The mileage is 5kmph\n"
     ]
    }
   ],
   "source": [
    "tesla_car.mileage()\n",
    "audi_car.mileage()\n",
    "\n"
   ]
  },
  {
   "cell_type": "code",
   "execution_count": 34,
   "id": "f54b2e25-8079-465e-9801-2967f3d17af2",
   "metadata": {},
   "outputs": [
    {
     "ename": "TypeError",
     "evalue": "list expected at most 1 argument, got 3",
     "output_type": "error",
     "traceback": [
      "\u001b[1;31m---------------------------------------------------------------------------\u001b[0m",
      "\u001b[1;31mTypeError\u001b[0m                                 Traceback (most recent call last)",
      "Cell \u001b[1;32mIn[34], line 2\u001b[0m\n\u001b[0;32m      1\u001b[0m list1 \u001b[38;5;241m=\u001b[39m [\u001b[38;5;241m5\u001b[39m,\u001b[38;5;241m4\u001b[39m,\u001b[38;5;241m8\u001b[39m,\u001b[38;5;241m7\u001b[39m,\u001b[38;5;241m1\u001b[39m,\u001b[38;5;241m10\u001b[39m]\n\u001b[1;32m----> 2\u001b[0m \u001b[38;5;28;43;01mclass\u001b[39;49;00m\u001b[43m \u001b[49m\u001b[38;5;21;43;01meven_odd\u001b[39;49;00m\u001b[43m(\u001b[49m\u001b[43mlist1\u001b[49m\u001b[43m)\u001b[49m\u001b[43m:\u001b[49m\n\u001b[0;32m      3\u001b[0m \u001b[43m    \u001b[49m\u001b[38;5;28;43;01mdef\u001b[39;49;00m\u001b[43m \u001b[49m\u001b[38;5;21;43m__init__\u001b[39;49m\u001b[43m(\u001b[49m\u001b[38;5;28;43mself\u001b[39;49m\u001b[43m,\u001b[49m\u001b[43meven\u001b[49m\u001b[43m,\u001b[49m\u001b[43m \u001b[49m\u001b[43modd\u001b[49m\u001b[43m)\u001b[49m\u001b[43m:\u001b[49m\n\u001b[0;32m      5\u001b[0m \u001b[43m        \u001b[49m\u001b[43meven\u001b[49m\u001b[43m \u001b[49m\u001b[38;5;241;43m=\u001b[39;49m\u001b[43m \u001b[49m\u001b[43mlist1\u001b[49m\u001b[38;5;241;43m%\u001b[39;49m\u001b[38;5;241;43m2\u001b[39;49m\u001b[38;5;241;43m==\u001b[39;49m\u001b[38;5;241;43m0\u001b[39;49m\n",
      "\u001b[1;31mTypeError\u001b[0m: list expected at most 1 argument, got 3"
     ]
    }
   ],
   "source": [
    "list1 = [5,4,8,7,1,10]\n",
    "class even_odd(list1):\n",
    "    def __init__(self,even, odd):\n",
    "        \n",
    "        even = list1%2==0\n",
    "        odd = list1%2!=0\n",
    "        self.even = even\n",
    "        self.odd = odd\n",
    "\n",
    "        \n",
    "         "
   ]
  },
  {
   "cell_type": "code",
   "execution_count": 36,
   "id": "f8de3663-818f-4bdb-b6b8-f7202310e68c",
   "metadata": {},
   "outputs": [
    {
     "ename": "NameError",
     "evalue": "name 'a' is not defined",
     "output_type": "error",
     "traceback": [
      "\u001b[1;31m---------------------------------------------------------------------------\u001b[0m",
      "\u001b[1;31mNameError\u001b[0m                                 Traceback (most recent call last)",
      "Cell \u001b[1;32mIn[36], line 1\u001b[0m\n\u001b[1;32m----> 1\u001b[0m a \u001b[38;5;241m=\u001b[39m \u001b[43ma\u001b[49m(\u001b[38;5;124m\"\u001b[39m\u001b[38;5;124meven\u001b[39m\u001b[38;5;124m\"\u001b[39m, \u001b[38;5;124m\"\u001b[39m\u001b[38;5;124modd\u001b[39m\u001b[38;5;124m\"\u001b[39m)\n\u001b[0;32m      2\u001b[0m \u001b[38;5;28mprint\u001b[39m(a\u001b[38;5;241m.\u001b[39meven)\n\u001b[0;32m      3\u001b[0m \u001b[38;5;28mprint\u001b[39m(a\u001b[38;5;241m.\u001b[39modd)\n",
      "\u001b[1;31mNameError\u001b[0m: name 'a' is not defined"
     ]
    }
   ],
   "source": [
    "a = a(\"even\", \"odd\")\n",
    "print(a.even)\n",
    "print(a.odd)"
   ]
  },
  {
   "cell_type": "code",
   "execution_count": null,
   "id": "7c8fa4c1-47e0-431f-a2b5-1fee1cea73ba",
   "metadata": {},
   "outputs": [],
   "source": []
  },
  {
   "cell_type": "code",
   "execution_count": 28,
   "id": "8c0d3a00-9734-435c-9cee-93e7b8c3d35f",
   "metadata": {},
   "outputs": [],
   "source": [
    "# question\n",
    "# define a class. as a parameter list.\n",
    "# print event number \n",
    "# 2nd class print odd number:\n"
   ]
  },
  {
   "cell_type": "code",
   "execution_count": null,
   "id": "17953fcb-e9dd-44f0-a1e0-f8d97794ba53",
   "metadata": {},
   "outputs": [],
   "source": [
    "# defining abstraction\n",
    "\n"
   ]
  }
 ],
 "metadata": {
  "kernelspec": {
   "display_name": "Python 3 (ipykernel)",
   "language": "python",
   "name": "python3"
  },
  "language_info": {
   "codemirror_mode": {
    "name": "ipython",
    "version": 3
   },
   "file_extension": ".py",
   "mimetype": "text/x-python",
   "name": "python",
   "nbconvert_exporter": "python",
   "pygments_lexer": "ipython3",
   "version": "3.11.4"
  }
 },
 "nbformat": 4,
 "nbformat_minor": 5
}
