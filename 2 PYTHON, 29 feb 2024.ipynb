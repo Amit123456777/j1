{
 "cells": [
  {
   "cell_type": "code",
   "execution_count": 5,
   "id": "9ce266e3-1ad1-4489-92fc-34e88ba466a1",
   "metadata": {},
   "outputs": [
    {
     "name": "stdout",
     "output_type": "stream",
     "text": [
      "Hello\n"
     ]
    }
   ],
   "source": [
    "# simple functions\n",
    "\n",
    "\n",
    "# ques 1\n",
    "def greet():\n",
    "    print(\"Hello\")\n",
    "greet()"
   ]
  },
  {
   "cell_type": "code",
   "execution_count": 15,
   "id": "aaa9085b-5bde-4d91-9099-86cfd51d6274",
   "metadata": {},
   "outputs": [
    {
     "name": "stdout",
     "output_type": "stream",
     "text": [
      "my percentage is : 1.0\n"
     ]
    }
   ],
   "source": [
    "# ques 2\n",
    "def percentage(marks):\n",
    "    per = marks / 100\n",
    "    return per\n",
    "print(\"my percentage is :\",percentage(100))"
   ]
  },
  {
   "cell_type": "code",
   "execution_count": null,
   "id": "9d811231-fb6c-4970-bbe8-0dc8340e8fcc",
   "metadata": {},
   "outputs": [],
   "source": [
    "# question 3"
   ]
  },
  {
   "cell_type": "code",
   "execution_count": 4,
   "id": "934dcd3a-5863-47c3-9a52-4cb08fcf525b",
   "metadata": {},
   "outputs": [
    {
     "name": "stdout",
     "output_type": "stream",
     "text": [
      "sum of my 3 numbers is 6 \n"
     ]
    }
   ],
   "source": [
    "def sum1(a,b,c):\n",
    "    print(f\"sum of my 3 numbers is {a+b+c} \")  # use f string\n",
    "\n",
    "sum1(1,2,3)"
   ]
  },
  {
   "cell_type": "code",
   "execution_count": null,
   "id": "5e1c90a1-5ef4-4fb3-b377-2f39afbd83c4",
   "metadata": {},
   "outputs": [],
   "source": []
  },
  {
   "cell_type": "code",
   "execution_count": 16,
   "id": "19abe694-62ee-45c0-87c1-1b1ac3d8ee8a",
   "metadata": {},
   "outputs": [],
   "source": [
    "# arguments\n",
    "# information can be passed into the funtion is called arguments.\n",
    "\n"
   ]
  },
  {
   "cell_type": "code",
   "execution_count": 17,
   "id": "4bc3b2ac-e1d5-4d10-b9c1-87c93dd02e59",
   "metadata": {},
   "outputs": [],
   "source": [
    "# ques: what is funtion\n",
    "# what is arguments.\n",
    "\n",
    "\n",
    "# arguments, parameters dono me jada difference ni hai.\n",
    "# argu inside function\n",
    "# parameters when calling.\n"
   ]
  },
  {
   "cell_type": "code",
   "execution_count": 25,
   "id": "18cd5253-4252-4816-9a95-992b28be5bc3",
   "metadata": {},
   "outputs": [
    {
     "name": "stdout",
     "output_type": "stream",
     "text": [
      "The youngest children is  Linus\n"
     ]
    }
   ],
   "source": [
    "# arbitary means - not pre defined, unknown\n",
    "# *arcs\n",
    "\n",
    "\n",
    "def my_function(*kids):\n",
    "    print(\"The youngest children is \" , kids[2])\n",
    "my_function(\"Email\",\"Tobias\",\"Linus\")\n",
    "    "
   ]
  },
  {
   "cell_type": "code",
   "execution_count": 26,
   "id": "fd77323f-5275-4d6c-8b52-68c461d27dc5",
   "metadata": {},
   "outputs": [
    {
     "name": "stdout",
     "output_type": "stream",
     "text": [
      "()\n"
     ]
    }
   ],
   "source": [
    "def n_sum(*n):\n",
    "    \n",
    "n_sum()"
   ]
  },
  {
   "cell_type": "code",
   "execution_count": 1,
   "id": "1b27cb82-81d4-421b-bc04-57165c84eb2f",
   "metadata": {},
   "outputs": [
    {
     "name": "stdout",
     "output_type": "stream",
     "text": [
      "3\n"
     ]
    }
   ],
   "source": [
    "sum = 0\n",
    "for i in range(3):\n",
    "    sum = sum + i\n",
    "    i = i+1\n",
    "print(sum)"
   ]
  },
  {
   "cell_type": "code",
   "execution_count": null,
   "id": "da10e914-3292-47f8-9dc8-418cadd79f45",
   "metadata": {},
   "outputs": [],
   "source": []
  },
  {
   "cell_type": "code",
   "execution_count": null,
   "id": "e8482f20-b906-49a7-9560-3dd97d557780",
   "metadata": {},
   "outputs": [],
   "source": []
  },
  {
   "cell_type": "code",
   "execution_count": 2,
   "id": "ede6b37c-d88b-4fd4-aad1-5f296df48b89",
   "metadata": {},
   "outputs": [],
   "source": [
    "# types of arguments"
   ]
  },
  {
   "cell_type": "code",
   "execution_count": 16,
   "id": "c49de3f7-8cbe-4e4c-9c53-fe6dd053b3ce",
   "metadata": {},
   "outputs": [
    {
     "name": "stdout",
     "output_type": "stream",
     "text": [
      "hello\n",
      "11\n"
     ]
    }
   ],
   "source": [
    "# keyword \n",
    "def my_func(a=\"hello\",b=10):\n",
    "    print(a)\n",
    "    print(b)\n",
    "my_func(b)"
   ]
  },
  {
   "cell_type": "code",
   "execution_count": 6,
   "id": "527e5245-761b-4eae-9a21-901e3d78c3d0",
   "metadata": {},
   "outputs": [],
   "source": [
    "# *arcs\n",
    "# **quarks is used when n number of keyword arguments."
   ]
  },
  {
   "cell_type": "code",
   "execution_count": null,
   "id": "ac21f825-56e0-4294-ad51-d7c4429496f3",
   "metadata": {},
   "outputs": [],
   "source": []
  },
  {
   "cell_type": "code",
   "execution_count": 7,
   "id": "b661a749-a613-4a28-8bf8-ec5477e0c7a4",
   "metadata": {},
   "outputs": [],
   "source": [
    "# default arguments \n",
    "# keyword arguments\n",
    "# positional arguments - order of key as same as order of passing values when calling"
   ]
  },
  {
   "cell_type": "code",
   "execution_count": 24,
   "id": "0c5969b7-7c55-40c0-928c-f94036e9acff",
   "metadata": {},
   "outputs": [
    {
     "name": "stdout",
     "output_type": "stream",
     "text": [
      "The lname is  Refsenes\n"
     ]
    }
   ],
   "source": [
    "def my_function(**kid):\n",
    "    print(f\"The lname is \", kid[\"lname\"])\n",
    "my_function(fname=\"Tobias\", lname= \"Refsenes\")"
   ]
  },
  {
   "cell_type": "code",
   "execution_count": 20,
   "id": "e1546a20-8391-450d-8322-5291f52e9cae",
   "metadata": {},
   "outputs": [
    {
     "name": "stdout",
     "output_type": "stream",
     "text": [
      "15\n"
     ]
    }
   ],
   "source": [
    "def a(a,b,c):\n",
    "    sum = a+b+c\n",
    "    print(sum)\n",
    "a(4,5,6)\n"
   ]
  },
  {
   "cell_type": "code",
   "execution_count": 26,
   "id": "9be73fd0-ea02-49b6-9641-d005cc2c402f",
   "metadata": {},
   "outputs": [
    {
     "name": "stdout",
     "output_type": "stream",
     "text": [
      "The lname is  Tobias\n",
      "The lname is  Refsenes\n"
     ]
    }
   ],
   "source": [
    "# add fname and lname\n",
    "\n",
    "def my_function(**kid):\n",
    "    print(f\"The lname is \", kid[\"fname\"])\n",
    "    print(f\"The lname is \", kid[\"lname\"])\n",
    "my_function(fname=\"Tobias\", lname= \"Refsenes\")"
   ]
  },
  {
   "cell_type": "code",
   "execution_count": null,
   "id": "e27d7d48-093c-4b3e-9b52-c721f06b3e87",
   "metadata": {},
   "outputs": [],
   "source": []
  },
  {
   "cell_type": "code",
   "execution_count": null,
   "id": "19193da4-105b-4523-ad01-b4b80d7833cc",
   "metadata": {},
   "outputs": [],
   "source": [
    "# home work \n",
    "#   *arcs \n",
    "# **quarks"
   ]
  }
 ],
 "metadata": {
  "kernelspec": {
   "display_name": "Python 3 (ipykernel)",
   "language": "python",
   "name": "python3"
  },
  "language_info": {
   "codemirror_mode": {
    "name": "ipython",
    "version": 3
   },
   "file_extension": ".py",
   "mimetype": "text/x-python",
   "name": "python",
   "nbconvert_exporter": "python",
   "pygments_lexer": "ipython3",
   "version": "3.11.4"
  }
 },
 "nbformat": 4,
 "nbformat_minor": 5
}
