{
 "cells": [
  {
   "cell_type": "markdown",
   "id": "45ce0640-44bc-48a3-94a3-070972ef34c8",
   "metadata": {},
   "source": [
    "# Problem statment:"
   ]
  },
  {
   "cell_type": "code",
   "execution_count": null,
   "id": "2fbae0e9-7dde-42b2-8878-398d0649ee51",
   "metadata": {},
   "outputs": [],
   "source": [
    "# We have to predict the sentiment of fiancial news using nltk"
   ]
  },
  {
   "cell_type": "markdown",
   "id": "fa595781-2083-43c9-9537-7dcf48d7a15e",
   "metadata": {},
   "source": [
    "# About Dataset"
   ]
  },
  {
   "cell_type": "code",
   "execution_count": null,
   "id": "c8f9fc89-1c05-49b4-99a8-e07d82d8b8a7",
   "metadata": {},
   "outputs": [],
   "source": [
    "# This dataset contains 3 csv file\n",
    "# cnbc headline (3080, 3)\n",
    "# gaurdian headline (17800, 2)\n",
    "# reuters headline (32770, 3)\n",
    "# Columns Provided in the Dataset\n",
    "\n",
    "# cnbc headline\n",
    "# 1. time\n",
    "# 2. headlines\n",
    "# 3. Description\n",
    "\n",
    "# gaurdian headline\n",
    "# 1. time\n",
    "# 2. headline\n",
    "\n",
    "# reuters headline\n",
    "# 1. time\n",
    "# 2. headline\n",
    "# 3. description"
   ]
  },
  {
   "cell_type": "markdown",
   "id": "b871bfc3-f407-4789-9021-290980f40e29",
   "metadata": {},
   "source": [
    "# What is NLTK ?\n"
   ]
  },
  {
   "cell_type": "code",
   "execution_count": 170,
   "id": "befbd84a-42e6-4e0f-9ffe-4a08285ea4a5",
   "metadata": {},
   "outputs": [],
   "source": [
    "# The Natural Language Toolkit (NLTK) is a platform used for building Python programs that work with human language data for applying in statistical natural language processing (NLP).\n",
    "# It contains text processing libraries for tokenization, parsing, classification, stemming, tagging and semantic reasoning."
   ]
  },
  {
   "cell_type": "markdown",
   "id": "54a06b6c-0078-440b-90c6-207265cd779c",
   "metadata": {},
   "source": [
    "# What is sentiment analysis ?"
   ]
  },
  {
   "cell_type": "code",
   "execution_count": null,
   "id": "405153b1-d959-4e56-a79c-59e0c88c25c7",
   "metadata": {},
   "outputs": [],
   "source": [
    "# Sentiment analysis is the process of detecting positive or negative sentiment in text. It’s often used by businesses to detect sentiment in social data, gauge brand reputation, and understand customers."
   ]
  },
  {
   "cell_type": "code",
   "execution_count": 1,
   "id": "5feee9de-419b-49e7-9f28-227cf7424aff",
   "metadata": {},
   "outputs": [
    {
     "name": "stdout",
     "output_type": "stream",
     "text": [
      "Requirement already satisfied: emoji in c:\\users\\rahul\\anaconda3\\lib\\site-packages (2.12.0)\n",
      "Requirement already satisfied: typing-extensions in c:\\users\\rahul\\appdata\\roaming\\python\\python311\\site-packages (from emoji) (4.8.0)\n"
     ]
    },
    {
     "name": "stderr",
     "output_type": "stream",
     "text": [
      "[nltk_data] Downloading collection 'all'\n",
      "[nltk_data]    | \n",
      "[nltk_data]    | Downloading package abc to\n",
      "[nltk_data]    |     C:\\Users\\Rahul\\AppData\\Roaming\\nltk_data...\n",
      "[nltk_data]    |   Package abc is already up-to-date!\n",
      "[nltk_data]    | Downloading package alpino to\n",
      "[nltk_data]    |     C:\\Users\\Rahul\\AppData\\Roaming\\nltk_data...\n",
      "[nltk_data]    |   Package alpino is already up-to-date!\n",
      "[nltk_data]    | Downloading package averaged_perceptron_tagger to\n",
      "[nltk_data]    |     C:\\Users\\Rahul\\AppData\\Roaming\\nltk_data...\n",
      "[nltk_data]    |   Package averaged_perceptron_tagger is already up-\n",
      "[nltk_data]    |       to-date!\n",
      "[nltk_data]    | Downloading package averaged_perceptron_tagger_ru to\n",
      "[nltk_data]    |     C:\\Users\\Rahul\\AppData\\Roaming\\nltk_data...\n",
      "[nltk_data]    |   Package averaged_perceptron_tagger_ru is already\n",
      "[nltk_data]    |       up-to-date!\n",
      "[nltk_data]    | Downloading package basque_grammars to\n",
      "[nltk_data]    |     C:\\Users\\Rahul\\AppData\\Roaming\\nltk_data...\n",
      "[nltk_data]    |   Package basque_grammars is already up-to-date!\n",
      "[nltk_data]    | Downloading package bcp47 to\n",
      "[nltk_data]    |     C:\\Users\\Rahul\\AppData\\Roaming\\nltk_data...\n",
      "[nltk_data]    |   Package bcp47 is already up-to-date!\n",
      "[nltk_data]    | Downloading package biocreative_ppi to\n",
      "[nltk_data]    |     C:\\Users\\Rahul\\AppData\\Roaming\\nltk_data...\n",
      "[nltk_data]    |   Package biocreative_ppi is already up-to-date!\n",
      "[nltk_data]    | Downloading package bllip_wsj_no_aux to\n",
      "[nltk_data]    |     C:\\Users\\Rahul\\AppData\\Roaming\\nltk_data...\n",
      "[nltk_data]    |   Package bllip_wsj_no_aux is already up-to-date!\n",
      "[nltk_data]    | Downloading package book_grammars to\n",
      "[nltk_data]    |     C:\\Users\\Rahul\\AppData\\Roaming\\nltk_data...\n",
      "[nltk_data]    |   Package book_grammars is already up-to-date!\n",
      "[nltk_data]    | Downloading package brown to\n",
      "[nltk_data]    |     C:\\Users\\Rahul\\AppData\\Roaming\\nltk_data...\n",
      "[nltk_data]    |   Package brown is already up-to-date!\n",
      "[nltk_data]    | Downloading package brown_tei to\n",
      "[nltk_data]    |     C:\\Users\\Rahul\\AppData\\Roaming\\nltk_data...\n",
      "[nltk_data]    |   Package brown_tei is already up-to-date!\n",
      "[nltk_data]    | Downloading package cess_cat to\n",
      "[nltk_data]    |     C:\\Users\\Rahul\\AppData\\Roaming\\nltk_data...\n",
      "[nltk_data]    |   Package cess_cat is already up-to-date!\n",
      "[nltk_data]    | Downloading package cess_esp to\n",
      "[nltk_data]    |     C:\\Users\\Rahul\\AppData\\Roaming\\nltk_data...\n",
      "[nltk_data]    |   Package cess_esp is already up-to-date!\n",
      "[nltk_data]    | Downloading package chat80 to\n",
      "[nltk_data]    |     C:\\Users\\Rahul\\AppData\\Roaming\\nltk_data...\n",
      "[nltk_data]    |   Package chat80 is already up-to-date!\n",
      "[nltk_data]    | Downloading package city_database to\n",
      "[nltk_data]    |     C:\\Users\\Rahul\\AppData\\Roaming\\nltk_data...\n",
      "[nltk_data]    |   Package city_database is already up-to-date!\n",
      "[nltk_data]    | Downloading package cmudict to\n",
      "[nltk_data]    |     C:\\Users\\Rahul\\AppData\\Roaming\\nltk_data...\n",
      "[nltk_data]    |   Package cmudict is already up-to-date!\n",
      "[nltk_data]    | Downloading package comparative_sentences to\n",
      "[nltk_data]    |     C:\\Users\\Rahul\\AppData\\Roaming\\nltk_data...\n",
      "[nltk_data]    |   Package comparative_sentences is already up-to-\n",
      "[nltk_data]    |       date!\n",
      "[nltk_data]    | Downloading package comtrans to\n",
      "[nltk_data]    |     C:\\Users\\Rahul\\AppData\\Roaming\\nltk_data...\n",
      "[nltk_data]    |   Package comtrans is already up-to-date!\n",
      "[nltk_data]    | Downloading package conll2000 to\n",
      "[nltk_data]    |     C:\\Users\\Rahul\\AppData\\Roaming\\nltk_data...\n",
      "[nltk_data]    |   Package conll2000 is already up-to-date!\n",
      "[nltk_data]    | Downloading package conll2002 to\n",
      "[nltk_data]    |     C:\\Users\\Rahul\\AppData\\Roaming\\nltk_data...\n",
      "[nltk_data]    |   Package conll2002 is already up-to-date!\n",
      "[nltk_data]    | Downloading package conll2007 to\n",
      "[nltk_data]    |     C:\\Users\\Rahul\\AppData\\Roaming\\nltk_data...\n",
      "[nltk_data]    |   Package conll2007 is already up-to-date!\n",
      "[nltk_data]    | Downloading package crubadan to\n",
      "[nltk_data]    |     C:\\Users\\Rahul\\AppData\\Roaming\\nltk_data...\n",
      "[nltk_data]    |   Package crubadan is already up-to-date!\n",
      "[nltk_data]    | Downloading package dependency_treebank to\n",
      "[nltk_data]    |     C:\\Users\\Rahul\\AppData\\Roaming\\nltk_data...\n",
      "[nltk_data]    |   Package dependency_treebank is already up-to-date!\n",
      "[nltk_data]    | Downloading package dolch to\n",
      "[nltk_data]    |     C:\\Users\\Rahul\\AppData\\Roaming\\nltk_data...\n",
      "[nltk_data]    |   Package dolch is already up-to-date!\n",
      "[nltk_data]    | Downloading package europarl_raw to\n",
      "[nltk_data]    |     C:\\Users\\Rahul\\AppData\\Roaming\\nltk_data...\n",
      "[nltk_data]    |   Package europarl_raw is already up-to-date!\n",
      "[nltk_data]    | Downloading package extended_omw to\n",
      "[nltk_data]    |     C:\\Users\\Rahul\\AppData\\Roaming\\nltk_data...\n",
      "[nltk_data]    |   Package extended_omw is already up-to-date!\n",
      "[nltk_data]    | Downloading package floresta to\n",
      "[nltk_data]    |     C:\\Users\\Rahul\\AppData\\Roaming\\nltk_data...\n",
      "[nltk_data]    |   Package floresta is already up-to-date!\n",
      "[nltk_data]    | Downloading package framenet_v15 to\n",
      "[nltk_data]    |     C:\\Users\\Rahul\\AppData\\Roaming\\nltk_data...\n",
      "[nltk_data]    |   Package framenet_v15 is already up-to-date!\n",
      "[nltk_data]    | Downloading package framenet_v17 to\n",
      "[nltk_data]    |     C:\\Users\\Rahul\\AppData\\Roaming\\nltk_data...\n",
      "[nltk_data]    |   Package framenet_v17 is already up-to-date!\n",
      "[nltk_data]    | Downloading package gazetteers to\n",
      "[nltk_data]    |     C:\\Users\\Rahul\\AppData\\Roaming\\nltk_data...\n",
      "[nltk_data]    |   Package gazetteers is already up-to-date!\n",
      "[nltk_data]    | Downloading package genesis to\n",
      "[nltk_data]    |     C:\\Users\\Rahul\\AppData\\Roaming\\nltk_data...\n",
      "[nltk_data]    |   Package genesis is already up-to-date!\n",
      "[nltk_data]    | Downloading package gutenberg to\n",
      "[nltk_data]    |     C:\\Users\\Rahul\\AppData\\Roaming\\nltk_data...\n",
      "[nltk_data]    |   Package gutenberg is already up-to-date!\n",
      "[nltk_data]    | Downloading package ieer to\n",
      "[nltk_data]    |     C:\\Users\\Rahul\\AppData\\Roaming\\nltk_data...\n",
      "[nltk_data]    |   Package ieer is already up-to-date!\n",
      "[nltk_data]    | Downloading package inaugural to\n",
      "[nltk_data]    |     C:\\Users\\Rahul\\AppData\\Roaming\\nltk_data...\n",
      "[nltk_data]    |   Package inaugural is already up-to-date!\n",
      "[nltk_data]    | Downloading package indian to\n",
      "[nltk_data]    |     C:\\Users\\Rahul\\AppData\\Roaming\\nltk_data...\n",
      "[nltk_data]    |   Package indian is already up-to-date!\n",
      "[nltk_data]    | Downloading package jeita to\n",
      "[nltk_data]    |     C:\\Users\\Rahul\\AppData\\Roaming\\nltk_data...\n",
      "[nltk_data]    |   Package jeita is already up-to-date!\n",
      "[nltk_data]    | Downloading package kimmo to\n",
      "[nltk_data]    |     C:\\Users\\Rahul\\AppData\\Roaming\\nltk_data...\n",
      "[nltk_data]    |   Package kimmo is already up-to-date!\n",
      "[nltk_data]    | Downloading package knbc to\n",
      "[nltk_data]    |     C:\\Users\\Rahul\\AppData\\Roaming\\nltk_data...\n",
      "[nltk_data]    |   Package knbc is already up-to-date!\n",
      "[nltk_data]    | Downloading package large_grammars to\n",
      "[nltk_data]    |     C:\\Users\\Rahul\\AppData\\Roaming\\nltk_data...\n",
      "[nltk_data]    |   Package large_grammars is already up-to-date!\n",
      "[nltk_data]    | Downloading package lin_thesaurus to\n",
      "[nltk_data]    |     C:\\Users\\Rahul\\AppData\\Roaming\\nltk_data...\n",
      "[nltk_data]    |   Package lin_thesaurus is already up-to-date!\n",
      "[nltk_data]    | Downloading package mac_morpho to\n",
      "[nltk_data]    |     C:\\Users\\Rahul\\AppData\\Roaming\\nltk_data...\n",
      "[nltk_data]    |   Package mac_morpho is already up-to-date!\n",
      "[nltk_data]    | Downloading package machado to\n",
      "[nltk_data]    |     C:\\Users\\Rahul\\AppData\\Roaming\\nltk_data...\n",
      "[nltk_data]    |   Package machado is already up-to-date!\n",
      "[nltk_data]    | Downloading package masc_tagged to\n",
      "[nltk_data]    |     C:\\Users\\Rahul\\AppData\\Roaming\\nltk_data...\n",
      "[nltk_data]    |   Package masc_tagged is already up-to-date!\n",
      "[nltk_data]    | Downloading package maxent_ne_chunker to\n",
      "[nltk_data]    |     C:\\Users\\Rahul\\AppData\\Roaming\\nltk_data...\n",
      "[nltk_data]    |   Package maxent_ne_chunker is already up-to-date!\n",
      "[nltk_data]    | Downloading package maxent_treebank_pos_tagger to\n",
      "[nltk_data]    |     C:\\Users\\Rahul\\AppData\\Roaming\\nltk_data...\n",
      "[nltk_data]    |   Package maxent_treebank_pos_tagger is already up-\n",
      "[nltk_data]    |       to-date!\n",
      "[nltk_data]    | Downloading package moses_sample to\n",
      "[nltk_data]    |     C:\\Users\\Rahul\\AppData\\Roaming\\nltk_data...\n",
      "[nltk_data]    |   Package moses_sample is already up-to-date!\n",
      "[nltk_data]    | Downloading package movie_reviews to\n",
      "[nltk_data]    |     C:\\Users\\Rahul\\AppData\\Roaming\\nltk_data...\n",
      "[nltk_data]    |   Package movie_reviews is already up-to-date!\n",
      "[nltk_data]    | Downloading package mte_teip5 to\n",
      "[nltk_data]    |     C:\\Users\\Rahul\\AppData\\Roaming\\nltk_data...\n",
      "[nltk_data]    |   Package mte_teip5 is already up-to-date!\n",
      "[nltk_data]    | Downloading package mwa_ppdb to\n",
      "[nltk_data]    |     C:\\Users\\Rahul\\AppData\\Roaming\\nltk_data...\n",
      "[nltk_data]    |   Package mwa_ppdb is already up-to-date!\n",
      "[nltk_data]    | Downloading package names to\n",
      "[nltk_data]    |     C:\\Users\\Rahul\\AppData\\Roaming\\nltk_data...\n",
      "[nltk_data]    |   Package names is already up-to-date!\n",
      "[nltk_data]    | Downloading package nombank.1.0 to\n",
      "[nltk_data]    |     C:\\Users\\Rahul\\AppData\\Roaming\\nltk_data...\n",
      "[nltk_data]    |   Package nombank.1.0 is already up-to-date!\n",
      "[nltk_data]    | Downloading package nonbreaking_prefixes to\n",
      "[nltk_data]    |     C:\\Users\\Rahul\\AppData\\Roaming\\nltk_data...\n",
      "[nltk_data]    |   Package nonbreaking_prefixes is already up-to-date!\n",
      "[nltk_data]    | Downloading package nps_chat to\n",
      "[nltk_data]    |     C:\\Users\\Rahul\\AppData\\Roaming\\nltk_data...\n",
      "[nltk_data]    |   Package nps_chat is already up-to-date!\n",
      "[nltk_data]    | Downloading package omw to\n",
      "[nltk_data]    |     C:\\Users\\Rahul\\AppData\\Roaming\\nltk_data...\n",
      "[nltk_data]    |   Package omw is already up-to-date!\n",
      "[nltk_data]    | Downloading package omw-1.4 to\n",
      "[nltk_data]    |     C:\\Users\\Rahul\\AppData\\Roaming\\nltk_data...\n",
      "[nltk_data]    |   Package omw-1.4 is already up-to-date!\n",
      "[nltk_data]    | Downloading package opinion_lexicon to\n",
      "[nltk_data]    |     C:\\Users\\Rahul\\AppData\\Roaming\\nltk_data...\n",
      "[nltk_data]    |   Package opinion_lexicon is already up-to-date!\n",
      "[nltk_data]    | Downloading package panlex_swadesh to\n",
      "[nltk_data]    |     C:\\Users\\Rahul\\AppData\\Roaming\\nltk_data...\n",
      "[nltk_data]    |   Package panlex_swadesh is already up-to-date!\n",
      "[nltk_data]    | Downloading package paradigms to\n",
      "[nltk_data]    |     C:\\Users\\Rahul\\AppData\\Roaming\\nltk_data...\n",
      "[nltk_data]    |   Package paradigms is already up-to-date!\n",
      "[nltk_data]    | Downloading package pe08 to\n",
      "[nltk_data]    |     C:\\Users\\Rahul\\AppData\\Roaming\\nltk_data...\n",
      "[nltk_data]    |   Package pe08 is already up-to-date!\n",
      "[nltk_data]    | Downloading package perluniprops to\n",
      "[nltk_data]    |     C:\\Users\\Rahul\\AppData\\Roaming\\nltk_data...\n",
      "[nltk_data]    |   Package perluniprops is already up-to-date!\n",
      "[nltk_data]    | Downloading package pil to\n",
      "[nltk_data]    |     C:\\Users\\Rahul\\AppData\\Roaming\\nltk_data...\n",
      "[nltk_data]    |   Package pil is already up-to-date!\n",
      "[nltk_data]    | Downloading package pl196x to\n",
      "[nltk_data]    |     C:\\Users\\Rahul\\AppData\\Roaming\\nltk_data...\n",
      "[nltk_data]    |   Package pl196x is already up-to-date!\n",
      "[nltk_data]    | Downloading package porter_test to\n",
      "[nltk_data]    |     C:\\Users\\Rahul\\AppData\\Roaming\\nltk_data...\n",
      "[nltk_data]    |   Package porter_test is already up-to-date!\n",
      "[nltk_data]    | Downloading package ppattach to\n",
      "[nltk_data]    |     C:\\Users\\Rahul\\AppData\\Roaming\\nltk_data...\n",
      "[nltk_data]    |   Package ppattach is already up-to-date!\n",
      "[nltk_data]    | Downloading package problem_reports to\n",
      "[nltk_data]    |     C:\\Users\\Rahul\\AppData\\Roaming\\nltk_data...\n",
      "[nltk_data]    |   Package problem_reports is already up-to-date!\n",
      "[nltk_data]    | Downloading package product_reviews_1 to\n",
      "[nltk_data]    |     C:\\Users\\Rahul\\AppData\\Roaming\\nltk_data...\n",
      "[nltk_data]    |   Package product_reviews_1 is already up-to-date!\n",
      "[nltk_data]    | Downloading package product_reviews_2 to\n",
      "[nltk_data]    |     C:\\Users\\Rahul\\AppData\\Roaming\\nltk_data...\n",
      "[nltk_data]    |   Package product_reviews_2 is already up-to-date!\n",
      "[nltk_data]    | Downloading package propbank to\n",
      "[nltk_data]    |     C:\\Users\\Rahul\\AppData\\Roaming\\nltk_data...\n",
      "[nltk_data]    |   Package propbank is already up-to-date!\n",
      "[nltk_data]    | Downloading package pros_cons to\n",
      "[nltk_data]    |     C:\\Users\\Rahul\\AppData\\Roaming\\nltk_data...\n",
      "[nltk_data]    |   Package pros_cons is already up-to-date!\n",
      "[nltk_data]    | Downloading package ptb to\n",
      "[nltk_data]    |     C:\\Users\\Rahul\\AppData\\Roaming\\nltk_data...\n",
      "[nltk_data]    |   Package ptb is already up-to-date!\n",
      "[nltk_data]    | Downloading package punkt to\n",
      "[nltk_data]    |     C:\\Users\\Rahul\\AppData\\Roaming\\nltk_data...\n",
      "[nltk_data]    |   Package punkt is already up-to-date!\n",
      "[nltk_data]    | Downloading package qc to\n",
      "[nltk_data]    |     C:\\Users\\Rahul\\AppData\\Roaming\\nltk_data...\n",
      "[nltk_data]    |   Package qc is already up-to-date!\n",
      "[nltk_data]    | Downloading package reuters to\n",
      "[nltk_data]    |     C:\\Users\\Rahul\\AppData\\Roaming\\nltk_data...\n",
      "[nltk_data]    |   Package reuters is already up-to-date!\n",
      "[nltk_data]    | Downloading package rslp to\n",
      "[nltk_data]    |     C:\\Users\\Rahul\\AppData\\Roaming\\nltk_data...\n",
      "[nltk_data]    |   Package rslp is already up-to-date!\n",
      "[nltk_data]    | Downloading package rte to\n",
      "[nltk_data]    |     C:\\Users\\Rahul\\AppData\\Roaming\\nltk_data...\n",
      "[nltk_data]    |   Package rte is already up-to-date!\n",
      "[nltk_data]    | Downloading package sample_grammars to\n",
      "[nltk_data]    |     C:\\Users\\Rahul\\AppData\\Roaming\\nltk_data...\n",
      "[nltk_data]    |   Package sample_grammars is already up-to-date!\n",
      "[nltk_data]    | Downloading package semcor to\n",
      "[nltk_data]    |     C:\\Users\\Rahul\\AppData\\Roaming\\nltk_data...\n",
      "[nltk_data]    |   Package semcor is already up-to-date!\n",
      "[nltk_data]    | Downloading package senseval to\n",
      "[nltk_data]    |     C:\\Users\\Rahul\\AppData\\Roaming\\nltk_data...\n",
      "[nltk_data]    |   Package senseval is already up-to-date!\n",
      "[nltk_data]    | Downloading package sentence_polarity to\n",
      "[nltk_data]    |     C:\\Users\\Rahul\\AppData\\Roaming\\nltk_data...\n",
      "[nltk_data]    |   Package sentence_polarity is already up-to-date!\n",
      "[nltk_data]    | Downloading package sentiwordnet to\n",
      "[nltk_data]    |     C:\\Users\\Rahul\\AppData\\Roaming\\nltk_data...\n",
      "[nltk_data]    |   Package sentiwordnet is already up-to-date!\n",
      "[nltk_data]    | Downloading package shakespeare to\n",
      "[nltk_data]    |     C:\\Users\\Rahul\\AppData\\Roaming\\nltk_data...\n",
      "[nltk_data]    |   Package shakespeare is already up-to-date!\n",
      "[nltk_data]    | Downloading package sinica_treebank to\n",
      "[nltk_data]    |     C:\\Users\\Rahul\\AppData\\Roaming\\nltk_data...\n",
      "[nltk_data]    |   Package sinica_treebank is already up-to-date!\n",
      "[nltk_data]    | Downloading package smultron to\n",
      "[nltk_data]    |     C:\\Users\\Rahul\\AppData\\Roaming\\nltk_data...\n",
      "[nltk_data]    |   Package smultron is already up-to-date!\n",
      "[nltk_data]    | Downloading package snowball_data to\n",
      "[nltk_data]    |     C:\\Users\\Rahul\\AppData\\Roaming\\nltk_data...\n",
      "[nltk_data]    |   Package snowball_data is already up-to-date!\n",
      "[nltk_data]    | Downloading package spanish_grammars to\n",
      "[nltk_data]    |     C:\\Users\\Rahul\\AppData\\Roaming\\nltk_data...\n",
      "[nltk_data]    |   Package spanish_grammars is already up-to-date!\n",
      "[nltk_data]    | Downloading package state_union to\n",
      "[nltk_data]    |     C:\\Users\\Rahul\\AppData\\Roaming\\nltk_data...\n",
      "[nltk_data]    |   Package state_union is already up-to-date!\n",
      "[nltk_data]    | Downloading package stopwords to\n",
      "[nltk_data]    |     C:\\Users\\Rahul\\AppData\\Roaming\\nltk_data...\n",
      "[nltk_data]    |   Package stopwords is already up-to-date!\n",
      "[nltk_data]    | Downloading package subjectivity to\n",
      "[nltk_data]    |     C:\\Users\\Rahul\\AppData\\Roaming\\nltk_data...\n",
      "[nltk_data]    |   Package subjectivity is already up-to-date!\n",
      "[nltk_data]    | Downloading package swadesh to\n",
      "[nltk_data]    |     C:\\Users\\Rahul\\AppData\\Roaming\\nltk_data...\n",
      "[nltk_data]    |   Package swadesh is already up-to-date!\n",
      "[nltk_data]    | Downloading package switchboard to\n",
      "[nltk_data]    |     C:\\Users\\Rahul\\AppData\\Roaming\\nltk_data...\n",
      "[nltk_data]    |   Package switchboard is already up-to-date!\n",
      "[nltk_data]    | Downloading package tagsets to\n",
      "[nltk_data]    |     C:\\Users\\Rahul\\AppData\\Roaming\\nltk_data...\n",
      "[nltk_data]    |   Package tagsets is already up-to-date!\n",
      "[nltk_data]    | Downloading package timit to\n",
      "[nltk_data]    |     C:\\Users\\Rahul\\AppData\\Roaming\\nltk_data...\n",
      "[nltk_data]    |   Package timit is already up-to-date!\n",
      "[nltk_data]    | Downloading package toolbox to\n",
      "[nltk_data]    |     C:\\Users\\Rahul\\AppData\\Roaming\\nltk_data...\n",
      "[nltk_data]    |   Package toolbox is already up-to-date!\n",
      "[nltk_data]    | Downloading package treebank to\n",
      "[nltk_data]    |     C:\\Users\\Rahul\\AppData\\Roaming\\nltk_data...\n",
      "[nltk_data]    |   Package treebank is already up-to-date!\n",
      "[nltk_data]    | Downloading package twitter_samples to\n",
      "[nltk_data]    |     C:\\Users\\Rahul\\AppData\\Roaming\\nltk_data...\n",
      "[nltk_data]    |   Package twitter_samples is already up-to-date!\n",
      "[nltk_data]    | Downloading package udhr to\n",
      "[nltk_data]    |     C:\\Users\\Rahul\\AppData\\Roaming\\nltk_data...\n",
      "[nltk_data]    |   Package udhr is already up-to-date!\n",
      "[nltk_data]    | Downloading package udhr2 to\n",
      "[nltk_data]    |     C:\\Users\\Rahul\\AppData\\Roaming\\nltk_data...\n",
      "[nltk_data]    |   Package udhr2 is already up-to-date!\n",
      "[nltk_data]    | Downloading package unicode_samples to\n",
      "[nltk_data]    |     C:\\Users\\Rahul\\AppData\\Roaming\\nltk_data...\n",
      "[nltk_data]    |   Package unicode_samples is already up-to-date!\n",
      "[nltk_data]    | Downloading package universal_tagset to\n",
      "[nltk_data]    |     C:\\Users\\Rahul\\AppData\\Roaming\\nltk_data...\n",
      "[nltk_data]    |   Package universal_tagset is already up-to-date!\n",
      "[nltk_data]    | Downloading package universal_treebanks_v20 to\n",
      "[nltk_data]    |     C:\\Users\\Rahul\\AppData\\Roaming\\nltk_data...\n",
      "[nltk_data]    |   Package universal_treebanks_v20 is already up-to-\n",
      "[nltk_data]    |       date!\n",
      "[nltk_data]    | Downloading package vader_lexicon to\n",
      "[nltk_data]    |     C:\\Users\\Rahul\\AppData\\Roaming\\nltk_data...\n",
      "[nltk_data]    |   Package vader_lexicon is already up-to-date!\n",
      "[nltk_data]    | Downloading package verbnet to\n",
      "[nltk_data]    |     C:\\Users\\Rahul\\AppData\\Roaming\\nltk_data...\n",
      "[nltk_data]    |   Package verbnet is already up-to-date!\n",
      "[nltk_data]    | Downloading package verbnet3 to\n",
      "[nltk_data]    |     C:\\Users\\Rahul\\AppData\\Roaming\\nltk_data...\n",
      "[nltk_data]    |   Package verbnet3 is already up-to-date!\n",
      "[nltk_data]    | Downloading package webtext to\n",
      "[nltk_data]    |     C:\\Users\\Rahul\\AppData\\Roaming\\nltk_data...\n",
      "[nltk_data]    |   Package webtext is already up-to-date!\n",
      "[nltk_data]    | Downloading package wmt15_eval to\n",
      "[nltk_data]    |     C:\\Users\\Rahul\\AppData\\Roaming\\nltk_data...\n",
      "[nltk_data]    |   Package wmt15_eval is already up-to-date!\n",
      "[nltk_data]    | Downloading package word2vec_sample to\n",
      "[nltk_data]    |     C:\\Users\\Rahul\\AppData\\Roaming\\nltk_data...\n",
      "[nltk_data]    |   Package word2vec_sample is already up-to-date!\n",
      "[nltk_data]    | Downloading package wordnet to\n",
      "[nltk_data]    |     C:\\Users\\Rahul\\AppData\\Roaming\\nltk_data...\n",
      "[nltk_data]    |   Package wordnet is already up-to-date!\n",
      "[nltk_data]    | Downloading package wordnet2021 to\n",
      "[nltk_data]    |     C:\\Users\\Rahul\\AppData\\Roaming\\nltk_data...\n",
      "[nltk_data]    |   Package wordnet2021 is already up-to-date!\n",
      "[nltk_data]    | Downloading package wordnet2022 to\n",
      "[nltk_data]    |     C:\\Users\\Rahul\\AppData\\Roaming\\nltk_data...\n",
      "[nltk_data]    |   Package wordnet2022 is already up-to-date!\n",
      "[nltk_data]    | Downloading package wordnet31 to\n",
      "[nltk_data]    |     C:\\Users\\Rahul\\AppData\\Roaming\\nltk_data...\n",
      "[nltk_data]    |   Package wordnet31 is already up-to-date!\n",
      "[nltk_data]    | Downloading package wordnet_ic to\n",
      "[nltk_data]    |     C:\\Users\\Rahul\\AppData\\Roaming\\nltk_data...\n",
      "[nltk_data]    |   Package wordnet_ic is already up-to-date!\n",
      "[nltk_data]    | Downloading package words to\n",
      "[nltk_data]    |     C:\\Users\\Rahul\\AppData\\Roaming\\nltk_data...\n",
      "[nltk_data]    |   Package words is already up-to-date!\n",
      "[nltk_data]    | Downloading package ycoe to\n",
      "[nltk_data]    |     C:\\Users\\Rahul\\AppData\\Roaming\\nltk_data...\n",
      "[nltk_data]    |   Package ycoe is already up-to-date!\n",
      "[nltk_data]    | \n",
      "[nltk_data]  Done downloading collection all\n",
      "[nltk_data] Downloading package punkt to\n",
      "[nltk_data]     C:\\Users\\Rahul\\AppData\\Roaming\\nltk_data...\n",
      "[nltk_data]   Package punkt is already up-to-date!\n",
      "[nltk_data] Downloading package stopwords to\n",
      "[nltk_data]     C:\\Users\\Rahul\\AppData\\Roaming\\nltk_data...\n",
      "[nltk_data]   Package stopwords is already up-to-date!\n"
     ]
    }
   ],
   "source": [
    "# Import all the required libraries \n",
    "import re\n",
    "import pandas as pd\n",
    "import numpy as np\n",
    "import os\n",
    "import datetime as dt\n",
    "from matplotlib import pyplot as plt\n",
    "%matplotlib inline\n",
    "import seaborn as sns\n",
    "from collections import Counter\n",
    "import string\n",
    "!pip install emoji\n",
    "import emoji\n",
    "pd.set_option('display.max_rows',500)\n",
    "import warnings\n",
    "warnings.filterwarnings(\"ignore\")\n",
    "#import stopwords and text processing libraries\n",
    "from collections import Counter\n",
    "import string\n",
    "import unicodedata\n",
    "import nltk\n",
    "nltk.download('all')\n",
    "nltk.download('punkt')\n",
    "nltk.download('stopwords')\n",
    "from nltk.tokenize import word_tokenize\n",
    "from nltk.corpus import stopwords\n",
    "from sklearn.feature_extraction.text import TfidfVectorizer\n",
    "from sklearn.decomposition import NMF\n",
    "from nltk.stem.porter import *\n",
    "from nltk.stem.wordnet import WordNetLemmatizer"
   ]
  },
  {
   "cell_type": "code",
   "execution_count": 2,
   "id": "581da97e-762e-4bd8-abe3-5a8c0e1506ca",
   "metadata": {},
   "outputs": [
    {
     "name": "stdout",
     "output_type": "stream",
     "text": [
      "Requirement already satisfied: xgboost in c:\\users\\rahul\\appdata\\roaming\\python\\python311\\site-packages (2.0.3)Note: you may need to restart the kernel to use updated packages.\n",
      "\n",
      "Requirement already satisfied: numpy in c:\\users\\rahul\\appdata\\roaming\\python\\python311\\site-packages (from xgboost) (1.26.4)\n",
      "Requirement already satisfied: scipy in c:\\users\\rahul\\appdata\\roaming\\python\\python311\\site-packages (from xgboost) (1.12.0)\n"
     ]
    }
   ],
   "source": [
    "pip install xgboost"
   ]
  },
  {
   "cell_type": "code",
   "execution_count": 3,
   "id": "3b45165b-8249-4b87-ba89-84a080d25b3c",
   "metadata": {},
   "outputs": [],
   "source": [
    "#import machine learning libraries\n",
    "from sklearn.model_selection import train_test_split\n",
    "from sklearn.feature_extraction.text import TfidfVectorizer\n",
    "from sklearn.svm import LinearSVC\n",
    "from sklearn.pipeline import make_pipeline\n",
    "from sklearn.datasets import make_classification\n",
    "from sklearn.metrics import accuracy_score\n",
    "from sklearn.metrics import confusion_matrix, ConfusionMatrixDisplay\n",
    "from sklearn.metrics import classification_report\n",
    "from sklearn.feature_extraction.text import CountVectorizer\n",
    "from sklearn.feature_extraction.text import TfidfTransformer\n",
    "from sklearn.linear_model import LogisticRegression\n",
    "from sklearn.naive_bayes import MultinomialNB\n",
    "from sklearn.naive_bayes import BernoulliNB\n",
    "from sklearn.ensemble import GradientBoostingClassifier\n",
    "import xgboost as xg\n",
    "from sklearn.tree import DecisionTreeClassifier\n",
    "from sklearn.neighbors import KNeighborsClassifier"
   ]
  },
  {
   "cell_type": "markdown",
   "id": "7a02c07e-b2ca-425d-b712-ca6da4b2d239",
   "metadata": {},
   "source": [
    "# Basic EDA on cnbc_headlines dataset"
   ]
  },
  {
   "cell_type": "code",
   "execution_count": 4,
   "id": "15709b08-dc52-4128-ae30-a5f25a536a1f",
   "metadata": {},
   "outputs": [],
   "source": [
    "# Read csv file of cnbc headlines using pandas"
   ]
  },
  {
   "cell_type": "code",
   "execution_count": 5,
   "id": "044238b2-e159-4d23-9f16-e7efa86b9d53",
   "metadata": {},
   "outputs": [
    {
     "data": {
      "text/html": [
       "<div>\n",
       "<style scoped>\n",
       "    .dataframe tbody tr th:only-of-type {\n",
       "        vertical-align: middle;\n",
       "    }\n",
       "\n",
       "    .dataframe tbody tr th {\n",
       "        vertical-align: top;\n",
       "    }\n",
       "\n",
       "    .dataframe thead th {\n",
       "        text-align: right;\n",
       "    }\n",
       "</style>\n",
       "<table border=\"1\" class=\"dataframe\">\n",
       "  <thead>\n",
       "    <tr style=\"text-align: right;\">\n",
       "      <th></th>\n",
       "      <th>Headlines</th>\n",
       "      <th>Time</th>\n",
       "      <th>Description</th>\n",
       "    </tr>\n",
       "  </thead>\n",
       "  <tbody>\n",
       "    <tr>\n",
       "      <th>0</th>\n",
       "      <td>Jim Cramer: A better way to invest in the Covi...</td>\n",
       "      <td>7:51  PM ET Fri, 17 July 2020</td>\n",
       "      <td>\"Mad Money\" host Jim Cramer recommended buying...</td>\n",
       "    </tr>\n",
       "    <tr>\n",
       "      <th>1</th>\n",
       "      <td>Cramer's lightning round: I would own Teradyne</td>\n",
       "      <td>7:33  PM ET Fri, 17 July 2020</td>\n",
       "      <td>\"Mad Money\" host Jim Cramer rings the lightnin...</td>\n",
       "    </tr>\n",
       "    <tr>\n",
       "      <th>2</th>\n",
       "      <td>NaN</td>\n",
       "      <td>NaN</td>\n",
       "      <td>NaN</td>\n",
       "    </tr>\n",
       "    <tr>\n",
       "      <th>3</th>\n",
       "      <td>Cramer's week ahead: Big week for earnings, ev...</td>\n",
       "      <td>7:25  PM ET Fri, 17 July 2020</td>\n",
       "      <td>\"We'll pay more for the earnings of the non-Co...</td>\n",
       "    </tr>\n",
       "    <tr>\n",
       "      <th>4</th>\n",
       "      <td>IQ Capital CEO Keith Bliss says tech and healt...</td>\n",
       "      <td>4:24  PM ET Fri, 17 July 2020</td>\n",
       "      <td>Keith Bliss, IQ Capital CEO, joins \"Closing Be...</td>\n",
       "    </tr>\n",
       "    <tr>\n",
       "      <th>...</th>\n",
       "      <td>...</td>\n",
       "      <td>...</td>\n",
       "      <td>...</td>\n",
       "    </tr>\n",
       "    <tr>\n",
       "      <th>3075</th>\n",
       "      <td>Markets lack Christmas cheer</td>\n",
       "      <td>10:15  AM ET Tue, 26 Dec 2017</td>\n",
       "      <td>According to Kensho, here's how markets have f...</td>\n",
       "    </tr>\n",
       "    <tr>\n",
       "      <th>3076</th>\n",
       "      <td>Cramer Remix: The biggest mistake you can make...</td>\n",
       "      <td>11:12  AM ET Thu, 20 Sept 2018</td>\n",
       "      <td>Jim Cramer revealed his top rule when it comes...</td>\n",
       "    </tr>\n",
       "    <tr>\n",
       "      <th>3077</th>\n",
       "      <td>Cramer says owning too many stocks and too lit...</td>\n",
       "      <td>7:07  PM ET Fri, 22 Dec 2017</td>\n",
       "      <td>Jim Cramer broke down why owning fewer stocks ...</td>\n",
       "    </tr>\n",
       "    <tr>\n",
       "      <th>3078</th>\n",
       "      <td>Cramer: I helped investors through the 2010 fl...</td>\n",
       "      <td>7:07  PM ET Fri, 22 Dec 2017</td>\n",
       "      <td>Jim Cramer built on his \"nobody ever made a di...</td>\n",
       "    </tr>\n",
       "    <tr>\n",
       "      <th>3079</th>\n",
       "      <td>Cramer: Never buy a stock all at once — you'll...</td>\n",
       "      <td>6:52  PM ET Fri, 22 Dec 2017</td>\n",
       "      <td>Jim Cramer doubled down on his key investing r...</td>\n",
       "    </tr>\n",
       "  </tbody>\n",
       "</table>\n",
       "<p>3080 rows × 3 columns</p>\n",
       "</div>"
      ],
      "text/plain": [
       "                                              Headlines  \\\n",
       "0     Jim Cramer: A better way to invest in the Covi...   \n",
       "1        Cramer's lightning round: I would own Teradyne   \n",
       "2                                                   NaN   \n",
       "3     Cramer's week ahead: Big week for earnings, ev...   \n",
       "4     IQ Capital CEO Keith Bliss says tech and healt...   \n",
       "...                                                 ...   \n",
       "3075                       Markets lack Christmas cheer   \n",
       "3076  Cramer Remix: The biggest mistake you can make...   \n",
       "3077  Cramer says owning too many stocks and too lit...   \n",
       "3078  Cramer: I helped investors through the 2010 fl...   \n",
       "3079  Cramer: Never buy a stock all at once — you'll...   \n",
       "\n",
       "                                Time  \\\n",
       "0      7:51  PM ET Fri, 17 July 2020   \n",
       "1      7:33  PM ET Fri, 17 July 2020   \n",
       "2                                NaN   \n",
       "3      7:25  PM ET Fri, 17 July 2020   \n",
       "4      4:24  PM ET Fri, 17 July 2020   \n",
       "...                              ...   \n",
       "3075   10:15  AM ET Tue, 26 Dec 2017   \n",
       "3076  11:12  AM ET Thu, 20 Sept 2018   \n",
       "3077    7:07  PM ET Fri, 22 Dec 2017   \n",
       "3078    7:07  PM ET Fri, 22 Dec 2017   \n",
       "3079    6:52  PM ET Fri, 22 Dec 2017   \n",
       "\n",
       "                                            Description  \n",
       "0     \"Mad Money\" host Jim Cramer recommended buying...  \n",
       "1     \"Mad Money\" host Jim Cramer rings the lightnin...  \n",
       "2                                                   NaN  \n",
       "3     \"We'll pay more for the earnings of the non-Co...  \n",
       "4     Keith Bliss, IQ Capital CEO, joins \"Closing Be...  \n",
       "...                                                 ...  \n",
       "3075  According to Kensho, here's how markets have f...  \n",
       "3076  Jim Cramer revealed his top rule when it comes...  \n",
       "3077  Jim Cramer broke down why owning fewer stocks ...  \n",
       "3078  Jim Cramer built on his \"nobody ever made a di...  \n",
       "3079  Jim Cramer doubled down on his key investing r...  \n",
       "\n",
       "[3080 rows x 3 columns]"
      ]
     },
     "execution_count": 5,
     "metadata": {},
     "output_type": "execute_result"
    }
   ],
   "source": [
    "df_cnbc = pd.read_csv(r\"C:\\Users\\Rahul\\Downloads\\Financial news headlines data\\cnbc_headlines.csv\")\n",
    "df_cnbc"
   ]
  },
  {
   "cell_type": "code",
   "execution_count": 6,
   "id": "c26c92d9-6949-4706-81c6-f2f6b2fcafee",
   "metadata": {},
   "outputs": [],
   "source": [
    "# Check the shape of cnbc headline dataset"
   ]
  },
  {
   "cell_type": "code",
   "execution_count": 7,
   "id": "f744004d-774a-47dc-954c-de0859e51ef0",
   "metadata": {},
   "outputs": [
    {
     "data": {
      "text/plain": [
       "(3080, 3)"
      ]
     },
     "execution_count": 7,
     "metadata": {},
     "output_type": "execute_result"
    }
   ],
   "source": [
    "df_cnbc.shape"
   ]
  },
  {
   "cell_type": "code",
   "execution_count": 8,
   "id": "bc6da82d-ca24-4b1f-a102-e1fbd3a55525",
   "metadata": {},
   "outputs": [],
   "source": [
    "# Check all the columns in the cnbc headline dataset"
   ]
  },
  {
   "cell_type": "code",
   "execution_count": 9,
   "id": "fcfeacdc-b47a-488c-ae80-3b434fff4460",
   "metadata": {},
   "outputs": [
    {
     "data": {
      "text/plain": [
       "Index(['Headlines', 'Time', 'Description'], dtype='object')"
      ]
     },
     "execution_count": 9,
     "metadata": {},
     "output_type": "execute_result"
    }
   ],
   "source": [
    "df_cnbc.columns"
   ]
  },
  {
   "cell_type": "code",
   "execution_count": 10,
   "id": "a619c466-7994-4048-a4ce-3851a5644325",
   "metadata": {},
   "outputs": [],
   "source": [
    "# Check which columns are having categorical, numerical or boolean values"
   ]
  },
  {
   "cell_type": "code",
   "execution_count": 11,
   "id": "702c5e7f-4fc0-452e-9e96-48e89bcb612c",
   "metadata": {},
   "outputs": [
    {
     "name": "stdout",
     "output_type": "stream",
     "text": [
      "<class 'pandas.core.frame.DataFrame'>\n",
      "RangeIndex: 3080 entries, 0 to 3079\n",
      "Data columns (total 3 columns):\n",
      " #   Column       Non-Null Count  Dtype \n",
      "---  ------       --------------  ----- \n",
      " 0   Headlines    2800 non-null   object\n",
      " 1   Time         2800 non-null   object\n",
      " 2   Description  2800 non-null   object\n",
      "dtypes: object(3)\n",
      "memory usage: 72.3+ KB\n"
     ]
    }
   ],
   "source": [
    "df_cnbc.info()"
   ]
  },
  {
   "cell_type": "code",
   "execution_count": 12,
   "id": "782b45dc-b98f-4cf1-9e1e-96bcfbb09951",
   "metadata": {},
   "outputs": [],
   "source": [
    "# Check for missing values in all the columns of cnbc headline dataset"
   ]
  },
  {
   "cell_type": "code",
   "execution_count": 13,
   "id": "c24986df-fdfd-4793-8439-982aaf5c5370",
   "metadata": {},
   "outputs": [
    {
     "data": {
      "text/plain": [
       "Headlines      280\n",
       "Time           280\n",
       "Description    280\n",
       "dtype: int64"
      ]
     },
     "execution_count": 13,
     "metadata": {},
     "output_type": "execute_result"
    }
   ],
   "source": [
    "df_cnbc.isnull().sum()"
   ]
  },
  {
   "cell_type": "code",
   "execution_count": 14,
   "id": "0556add8-c21e-4b6a-a5e9-220c93b4bb7a",
   "metadata": {},
   "outputs": [
    {
     "data": {
      "text/plain": [
       "840"
      ]
     },
     "execution_count": 14,
     "metadata": {},
     "output_type": "execute_result"
    }
   ],
   "source": [
    "df_cnbc.isnull().sum().sum()"
   ]
  },
  {
   "cell_type": "code",
   "execution_count": 15,
   "id": "f6c78875-98ec-4919-b144-32febde43f5f",
   "metadata": {},
   "outputs": [],
   "source": [
    "# Observation\n",
    "# There are 280 missing values in headlines, description and time"
   ]
  },
  {
   "cell_type": "code",
   "execution_count": 16,
   "id": "76244211-88f5-4bb7-8a59-a9c2c9390595",
   "metadata": {},
   "outputs": [],
   "source": [
    "# Drop nan values in cnbc headline dataset"
   ]
  },
  {
   "cell_type": "code",
   "execution_count": 17,
   "id": "7729b537-4077-493c-bdab-d62e0c708144",
   "metadata": {},
   "outputs": [],
   "source": [
    "df_cnbc.dropna(inplace = True)"
   ]
  },
  {
   "cell_type": "code",
   "execution_count": 18,
   "id": "ef1c0c02-4721-4e88-acbc-2862d32fdfda",
   "metadata": {},
   "outputs": [],
   "source": [
    "# Drop the duplicate rows in the dataset keep the first one"
   ]
  },
  {
   "cell_type": "code",
   "execution_count": 19,
   "id": "a86ebb39-2f68-4896-b817-73cd5b748500",
   "metadata": {},
   "outputs": [],
   "source": [
    "df_cnbc.drop_duplicates(keep = 'first', inplace = True)"
   ]
  },
  {
   "cell_type": "code",
   "execution_count": 20,
   "id": "398b09e8-c029-4ef9-a92d-fa65a6e6c23e",
   "metadata": {},
   "outputs": [],
   "source": [
    "# keep parameter\n",
    "# The \"keep\" parameter in the drop_duplicates function specifies which duplicate entries to keep.\n",
    "# When set to 'first', it keeps the first occurrence of the duplicates and removes the subsequent ones.\n",
    "# This means that the first duplicate entry encountered is kept, and any following duplicates are removed from the DataFrame.\n",
    "# So, in the given code snippet, with keep = 'first', only the first \n",
    "# occurrence of each duplicate will be retained in the DataFrame after removing duplicates.\n",
    "\n",
    "\n",
    "# it not need to write it is by default."
   ]
  },
  {
   "cell_type": "code",
   "execution_count": 21,
   "id": "446bdd62-244d-49b8-b952-6a85b693eef0",
   "metadata": {},
   "outputs": [],
   "source": [
    "# Check the shape of cnbc headline dataset"
   ]
  },
  {
   "cell_type": "code",
   "execution_count": 22,
   "id": "14ee4933-f840-4f1b-add5-cab6cfd1ba84",
   "metadata": {},
   "outputs": [
    {
     "data": {
      "text/plain": [
       "(2800, 3)"
      ]
     },
     "execution_count": 22,
     "metadata": {},
     "output_type": "execute_result"
    }
   ],
   "source": [
    "df_cnbc.shape"
   ]
  },
  {
   "cell_type": "code",
   "execution_count": 23,
   "id": "cd7225d1-c4fc-4690-ab43-1b2fce66b870",
   "metadata": {},
   "outputs": [],
   "source": [
    "# Reset index"
   ]
  },
  {
   "cell_type": "code",
   "execution_count": 24,
   "id": "b62db92d-1c87-4e8a-b4ad-08af700a585d",
   "metadata": {},
   "outputs": [],
   "source": [
    "df_cnbc.reset_index(drop = True, inplace = True)"
   ]
  },
  {
   "cell_type": "markdown",
   "id": "6fa51804-206c-4e3c-a136-82e13921b450",
   "metadata": {},
   "source": [
    "# Baisc EDA on Gaurdin headlines dataset"
   ]
  },
  {
   "cell_type": "code",
   "execution_count": 25,
   "id": "2cdf09c1-ad67-4556-bb36-e2504936542b",
   "metadata": {},
   "outputs": [],
   "source": [
    "# Read csv file of guardian headlines using pandas"
   ]
  },
  {
   "cell_type": "code",
   "execution_count": 26,
   "id": "a12df729-fe4a-4a41-8e31-fbb1715483b8",
   "metadata": {},
   "outputs": [
    {
     "data": {
      "text/html": [
       "<div>\n",
       "<style scoped>\n",
       "    .dataframe tbody tr th:only-of-type {\n",
       "        vertical-align: middle;\n",
       "    }\n",
       "\n",
       "    .dataframe tbody tr th {\n",
       "        vertical-align: top;\n",
       "    }\n",
       "\n",
       "    .dataframe thead th {\n",
       "        text-align: right;\n",
       "    }\n",
       "</style>\n",
       "<table border=\"1\" class=\"dataframe\">\n",
       "  <thead>\n",
       "    <tr style=\"text-align: right;\">\n",
       "      <th></th>\n",
       "      <th>Time</th>\n",
       "      <th>Headlines</th>\n",
       "    </tr>\n",
       "  </thead>\n",
       "  <tbody>\n",
       "    <tr>\n",
       "      <th>0</th>\n",
       "      <td>18-Jul-20</td>\n",
       "      <td>Johnson is asking Santa for a Christmas recovery</td>\n",
       "    </tr>\n",
       "    <tr>\n",
       "      <th>1</th>\n",
       "      <td>18-Jul-20</td>\n",
       "      <td>‘I now fear the worst’: four grim tales of wor...</td>\n",
       "    </tr>\n",
       "    <tr>\n",
       "      <th>2</th>\n",
       "      <td>18-Jul-20</td>\n",
       "      <td>Five key areas Sunak must tackle to serve up e...</td>\n",
       "    </tr>\n",
       "    <tr>\n",
       "      <th>3</th>\n",
       "      <td>18-Jul-20</td>\n",
       "      <td>Covid-19 leaves firms ‘fatally ill-prepared’ f...</td>\n",
       "    </tr>\n",
       "    <tr>\n",
       "      <th>4</th>\n",
       "      <td>18-Jul-20</td>\n",
       "      <td>The Week in Patriarchy  \\n\\n\\n  Bacardi's 'lad...</td>\n",
       "    </tr>\n",
       "    <tr>\n",
       "      <th>...</th>\n",
       "      <td>...</td>\n",
       "      <td>...</td>\n",
       "    </tr>\n",
       "    <tr>\n",
       "      <th>17795</th>\n",
       "      <td>17-Dec-17</td>\n",
       "      <td>How investing in solar energy can create a bri...</td>\n",
       "    </tr>\n",
       "    <tr>\n",
       "      <th>17796</th>\n",
       "      <td>17-Dec-17</td>\n",
       "      <td>Poundland suppliers hit by insurance downgrade</td>\n",
       "    </tr>\n",
       "    <tr>\n",
       "      <th>17797</th>\n",
       "      <td>17-Dec-17</td>\n",
       "      <td>Cryptocurrencies: City watchdog to investigate...</td>\n",
       "    </tr>\n",
       "    <tr>\n",
       "      <th>17798</th>\n",
       "      <td>17-Dec-17</td>\n",
       "      <td>Unilever sells household name spreads to KKR f...</td>\n",
       "    </tr>\n",
       "    <tr>\n",
       "      <th>17799</th>\n",
       "      <td>17-Dec-17</td>\n",
       "      <td>The Guardian view on Ryanair’s model: a union-...</td>\n",
       "    </tr>\n",
       "  </tbody>\n",
       "</table>\n",
       "<p>17800 rows × 2 columns</p>\n",
       "</div>"
      ],
      "text/plain": [
       "            Time                                          Headlines\n",
       "0      18-Jul-20   Johnson is asking Santa for a Christmas recovery\n",
       "1      18-Jul-20  ‘I now fear the worst’: four grim tales of wor...\n",
       "2      18-Jul-20  Five key areas Sunak must tackle to serve up e...\n",
       "3      18-Jul-20  Covid-19 leaves firms ‘fatally ill-prepared’ f...\n",
       "4      18-Jul-20  The Week in Patriarchy  \\n\\n\\n  Bacardi's 'lad...\n",
       "...          ...                                                ...\n",
       "17795  17-Dec-17  How investing in solar energy can create a bri...\n",
       "17796  17-Dec-17     Poundland suppliers hit by insurance downgrade\n",
       "17797  17-Dec-17  Cryptocurrencies: City watchdog to investigate...\n",
       "17798  17-Dec-17  Unilever sells household name spreads to KKR f...\n",
       "17799  17-Dec-17  The Guardian view on Ryanair’s model: a union-...\n",
       "\n",
       "[17800 rows x 2 columns]"
      ]
     },
     "execution_count": 26,
     "metadata": {},
     "output_type": "execute_result"
    }
   ],
   "source": [
    "df_guardian = pd.read_csv(r\"C:\\Users\\Rahul\\Downloads\\Financial news headlines data\\guardian_headlines.csv\")\n",
    "df_guardian"
   ]
  },
  {
   "cell_type": "code",
   "execution_count": 27,
   "id": "faa984be-1921-4dcc-87d3-9af25d409d86",
   "metadata": {},
   "outputs": [],
   "source": [
    "# Check the shape of guardian headline dataset"
   ]
  },
  {
   "cell_type": "code",
   "execution_count": 28,
   "id": "d055bdc1-48a4-4c96-b11f-29fd668c5a60",
   "metadata": {},
   "outputs": [
    {
     "data": {
      "text/plain": [
       "(17800, 2)"
      ]
     },
     "execution_count": 28,
     "metadata": {},
     "output_type": "execute_result"
    }
   ],
   "source": [
    "df_guardian.shape"
   ]
  },
  {
   "cell_type": "code",
   "execution_count": 29,
   "id": "eb341124-be9b-40b2-a97f-f9eeb3ca3656",
   "metadata": {},
   "outputs": [],
   "source": [
    "# Check columns of guardian headlien"
   ]
  },
  {
   "cell_type": "code",
   "execution_count": 30,
   "id": "90d2062a-4577-4f8a-b428-e84284767507",
   "metadata": {},
   "outputs": [
    {
     "data": {
      "text/plain": [
       "Index(['Time', 'Headlines'], dtype='object')"
      ]
     },
     "execution_count": 30,
     "metadata": {},
     "output_type": "execute_result"
    }
   ],
   "source": [
    "df_guardian.columns"
   ]
  },
  {
   "cell_type": "code",
   "execution_count": 31,
   "id": "1bb9f566-1ce1-4385-a40a-9f95f703fd47",
   "metadata": {},
   "outputs": [],
   "source": [
    "# Check which columns are having categorical, numerical or boolean values"
   ]
  },
  {
   "cell_type": "code",
   "execution_count": 32,
   "id": "21d3a3d2-ab74-4498-84d2-fe7a74813b38",
   "metadata": {
    "scrolled": true
   },
   "outputs": [
    {
     "name": "stdout",
     "output_type": "stream",
     "text": [
      "<class 'pandas.core.frame.DataFrame'>\n",
      "RangeIndex: 17800 entries, 0 to 17799\n",
      "Data columns (total 2 columns):\n",
      " #   Column     Non-Null Count  Dtype \n",
      "---  ------     --------------  ----- \n",
      " 0   Time       17800 non-null  object\n",
      " 1   Headlines  17800 non-null  object\n",
      "dtypes: object(2)\n",
      "memory usage: 278.3+ KB\n"
     ]
    }
   ],
   "source": [
    "df_guardian.info()"
   ]
  },
  {
   "cell_type": "code",
   "execution_count": 33,
   "id": "a9771b8a-a4c2-44c9-b53e-2562862d1baa",
   "metadata": {},
   "outputs": [
    {
     "data": {
      "text/plain": [
       "Time         0\n",
       "Headlines    0\n",
       "dtype: int64"
      ]
     },
     "execution_count": 33,
     "metadata": {},
     "output_type": "execute_result"
    }
   ],
   "source": [
    "# Check null values in guardian headlines dataset\n",
    "df_guardian.isnull().sum()"
   ]
  },
  {
   "cell_type": "code",
   "execution_count": 34,
   "id": "c3309c08-bfd3-458c-bf8f-962829795daf",
   "metadata": {},
   "outputs": [],
   "source": [
    "# Drop duplicate rows in headline and keep the first one"
   ]
  },
  {
   "cell_type": "code",
   "execution_count": 35,
   "id": "1c6ed5a0-8319-4801-86a7-53cfa38e2ced",
   "metadata": {},
   "outputs": [],
   "source": [
    "df_guardian.drop_duplicates(keep = 'first', inplace = True)"
   ]
  },
  {
   "cell_type": "code",
   "execution_count": 36,
   "id": "6eeda593-b80b-4510-8990-9d959a61be49",
   "metadata": {},
   "outputs": [],
   "source": [
    "# Reset index"
   ]
  },
  {
   "cell_type": "code",
   "execution_count": 37,
   "id": "95ff8f49-a1c1-4c3a-87e0-348cd4c1c266",
   "metadata": {},
   "outputs": [],
   "source": [
    "df_guardian.reset_index(drop = True, inplace = True)"
   ]
  },
  {
   "cell_type": "markdown",
   "id": "6e362301-1707-427b-919c-cdabd2192423",
   "metadata": {},
   "source": [
    "# Basic EDA on reuters headlines"
   ]
  },
  {
   "cell_type": "code",
   "execution_count": 38,
   "id": "c6405fae-babf-47e4-9528-24723f61bb62",
   "metadata": {},
   "outputs": [],
   "source": [
    "# Read csv file of reuters headlines using pandas"
   ]
  },
  {
   "cell_type": "code",
   "execution_count": 39,
   "id": "8e3f128a-1994-4ed8-8fd4-5e6dc8d50d3a",
   "metadata": {},
   "outputs": [
    {
     "data": {
      "text/html": [
       "<div>\n",
       "<style scoped>\n",
       "    .dataframe tbody tr th:only-of-type {\n",
       "        vertical-align: middle;\n",
       "    }\n",
       "\n",
       "    .dataframe tbody tr th {\n",
       "        vertical-align: top;\n",
       "    }\n",
       "\n",
       "    .dataframe thead th {\n",
       "        text-align: right;\n",
       "    }\n",
       "</style>\n",
       "<table border=\"1\" class=\"dataframe\">\n",
       "  <thead>\n",
       "    <tr style=\"text-align: right;\">\n",
       "      <th></th>\n",
       "      <th>Headlines</th>\n",
       "      <th>Time</th>\n",
       "      <th>Description</th>\n",
       "    </tr>\n",
       "  </thead>\n",
       "  <tbody>\n",
       "    <tr>\n",
       "      <th>0</th>\n",
       "      <td>TikTok considers London and other locations fo...</td>\n",
       "      <td>Jul 18 2020</td>\n",
       "      <td>TikTok has been in discussions with the UK gov...</td>\n",
       "    </tr>\n",
       "    <tr>\n",
       "      <th>1</th>\n",
       "      <td>Disney cuts ad spending on Facebook amid growi...</td>\n",
       "      <td>Jul 18 2020</td>\n",
       "      <td>Walt Disney  has become the latest company to ...</td>\n",
       "    </tr>\n",
       "    <tr>\n",
       "      <th>2</th>\n",
       "      <td>Trail of missing Wirecard executive leads to B...</td>\n",
       "      <td>Jul 18 2020</td>\n",
       "      <td>Former Wirecard  chief operating officer Jan M...</td>\n",
       "    </tr>\n",
       "    <tr>\n",
       "      <th>3</th>\n",
       "      <td>Twitter says attackers downloaded data from up...</td>\n",
       "      <td>Jul 18 2020</td>\n",
       "      <td>Twitter Inc said on Saturday that hackers were...</td>\n",
       "    </tr>\n",
       "    <tr>\n",
       "      <th>4</th>\n",
       "      <td>U.S. Republicans seek liability protections as...</td>\n",
       "      <td>Jul 17 2020</td>\n",
       "      <td>A battle in the U.S. Congress over a new coron...</td>\n",
       "    </tr>\n",
       "    <tr>\n",
       "      <th>...</th>\n",
       "      <td>...</td>\n",
       "      <td>...</td>\n",
       "      <td>...</td>\n",
       "    </tr>\n",
       "    <tr>\n",
       "      <th>32765</th>\n",
       "      <td>Malaysia says never hired British data firm at...</td>\n",
       "      <td>Mar 20 2018</td>\n",
       "      <td>The Malaysian government and the ruling party ...</td>\n",
       "    </tr>\n",
       "    <tr>\n",
       "      <th>32766</th>\n",
       "      <td>Prosecutors search Volkswagen headquarters in ...</td>\n",
       "      <td>Mar 20 2018</td>\n",
       "      <td>German prosecutors said on Tuesday they had se...</td>\n",
       "    </tr>\n",
       "    <tr>\n",
       "      <th>32767</th>\n",
       "      <td>McDonald's sets greenhouse gas reduction targets</td>\n",
       "      <td>Mar 20 2018</td>\n",
       "      <td>McDonald's Corp on Tuesday announced an approv...</td>\n",
       "    </tr>\n",
       "    <tr>\n",
       "      <th>32768</th>\n",
       "      <td>Pratt &amp; Whitney to deliver spare A320neo engin...</td>\n",
       "      <td>Mar 20 2018</td>\n",
       "      <td>Pratt &amp; Whitney will soon begin deliveries of ...</td>\n",
       "    </tr>\n",
       "    <tr>\n",
       "      <th>32769</th>\n",
       "      <td>UK will always consider ways to improve data l...</td>\n",
       "      <td>Mar 20 2018</td>\n",
       "      <td>Britain will consider any suggestions to give ...</td>\n",
       "    </tr>\n",
       "  </tbody>\n",
       "</table>\n",
       "<p>32770 rows × 3 columns</p>\n",
       "</div>"
      ],
      "text/plain": [
       "                                               Headlines         Time  \\\n",
       "0      TikTok considers London and other locations fo...  Jul 18 2020   \n",
       "1      Disney cuts ad spending on Facebook amid growi...  Jul 18 2020   \n",
       "2      Trail of missing Wirecard executive leads to B...  Jul 18 2020   \n",
       "3      Twitter says attackers downloaded data from up...  Jul 18 2020   \n",
       "4      U.S. Republicans seek liability protections as...  Jul 17 2020   \n",
       "...                                                  ...          ...   \n",
       "32765  Malaysia says never hired British data firm at...  Mar 20 2018   \n",
       "32766  Prosecutors search Volkswagen headquarters in ...  Mar 20 2018   \n",
       "32767   McDonald's sets greenhouse gas reduction targets  Mar 20 2018   \n",
       "32768  Pratt & Whitney to deliver spare A320neo engin...  Mar 20 2018   \n",
       "32769  UK will always consider ways to improve data l...  Mar 20 2018   \n",
       "\n",
       "                                             Description  \n",
       "0      TikTok has been in discussions with the UK gov...  \n",
       "1      Walt Disney  has become the latest company to ...  \n",
       "2      Former Wirecard  chief operating officer Jan M...  \n",
       "3      Twitter Inc said on Saturday that hackers were...  \n",
       "4      A battle in the U.S. Congress over a new coron...  \n",
       "...                                                  ...  \n",
       "32765  The Malaysian government and the ruling party ...  \n",
       "32766  German prosecutors said on Tuesday they had se...  \n",
       "32767  McDonald's Corp on Tuesday announced an approv...  \n",
       "32768  Pratt & Whitney will soon begin deliveries of ...  \n",
       "32769  Britain will consider any suggestions to give ...  \n",
       "\n",
       "[32770 rows x 3 columns]"
      ]
     },
     "execution_count": 39,
     "metadata": {},
     "output_type": "execute_result"
    }
   ],
   "source": [
    "df_reuters = pd.read_csv(r\"C:\\Users\\Rahul\\Downloads\\Financial news headlines data\\reuters_headlines.csv\")\n",
    "df_reuters"
   ]
  },
  {
   "cell_type": "code",
   "execution_count": 40,
   "id": "3bf692c8-a9fe-41a7-8cc3-d148d3ca0c9a",
   "metadata": {},
   "outputs": [
    {
     "data": {
      "text/html": [
       "<div>\n",
       "<style scoped>\n",
       "    .dataframe tbody tr th:only-of-type {\n",
       "        vertical-align: middle;\n",
       "    }\n",
       "\n",
       "    .dataframe tbody tr th {\n",
       "        vertical-align: top;\n",
       "    }\n",
       "\n",
       "    .dataframe thead th {\n",
       "        text-align: right;\n",
       "    }\n",
       "</style>\n",
       "<table border=\"1\" class=\"dataframe\">\n",
       "  <thead>\n",
       "    <tr style=\"text-align: right;\">\n",
       "      <th></th>\n",
       "      <th>Headlines</th>\n",
       "      <th>Time</th>\n",
       "      <th>Description</th>\n",
       "    </tr>\n",
       "  </thead>\n",
       "  <tbody>\n",
       "    <tr>\n",
       "      <th>0</th>\n",
       "      <td>TikTok considers London and other locations fo...</td>\n",
       "      <td>Jul 18 2020</td>\n",
       "      <td>TikTok has been in discussions with the UK gov...</td>\n",
       "    </tr>\n",
       "    <tr>\n",
       "      <th>1</th>\n",
       "      <td>Disney cuts ad spending on Facebook amid growi...</td>\n",
       "      <td>Jul 18 2020</td>\n",
       "      <td>Walt Disney  has become the latest company to ...</td>\n",
       "    </tr>\n",
       "    <tr>\n",
       "      <th>2</th>\n",
       "      <td>Trail of missing Wirecard executive leads to B...</td>\n",
       "      <td>Jul 18 2020</td>\n",
       "      <td>Former Wirecard  chief operating officer Jan M...</td>\n",
       "    </tr>\n",
       "    <tr>\n",
       "      <th>3</th>\n",
       "      <td>Twitter says attackers downloaded data from up...</td>\n",
       "      <td>Jul 18 2020</td>\n",
       "      <td>Twitter Inc said on Saturday that hackers were...</td>\n",
       "    </tr>\n",
       "    <tr>\n",
       "      <th>4</th>\n",
       "      <td>U.S. Republicans seek liability protections as...</td>\n",
       "      <td>Jul 17 2020</td>\n",
       "      <td>A battle in the U.S. Congress over a new coron...</td>\n",
       "    </tr>\n",
       "  </tbody>\n",
       "</table>\n",
       "</div>"
      ],
      "text/plain": [
       "                                           Headlines         Time  \\\n",
       "0  TikTok considers London and other locations fo...  Jul 18 2020   \n",
       "1  Disney cuts ad spending on Facebook amid growi...  Jul 18 2020   \n",
       "2  Trail of missing Wirecard executive leads to B...  Jul 18 2020   \n",
       "3  Twitter says attackers downloaded data from up...  Jul 18 2020   \n",
       "4  U.S. Republicans seek liability protections as...  Jul 17 2020   \n",
       "\n",
       "                                         Description  \n",
       "0  TikTok has been in discussions with the UK gov...  \n",
       "1  Walt Disney  has become the latest company to ...  \n",
       "2  Former Wirecard  chief operating officer Jan M...  \n",
       "3  Twitter Inc said on Saturday that hackers were...  \n",
       "4  A battle in the U.S. Congress over a new coron...  "
      ]
     },
     "execution_count": 40,
     "metadata": {},
     "output_type": "execute_result"
    }
   ],
   "source": [
    "df_reuters.head()"
   ]
  },
  {
   "cell_type": "code",
   "execution_count": 41,
   "id": "30fe8e59-8d71-4d13-91ee-2f9ac19421c9",
   "metadata": {},
   "outputs": [],
   "source": [
    "# Check the shape of reuters headlines dataset"
   ]
  },
  {
   "cell_type": "code",
   "execution_count": 42,
   "id": "ba91d89f-8d23-4a09-8ba6-35ad5e6fce32",
   "metadata": {},
   "outputs": [
    {
     "data": {
      "text/plain": [
       "(32770, 3)"
      ]
     },
     "execution_count": 42,
     "metadata": {},
     "output_type": "execute_result"
    }
   ],
   "source": [
    "df_reuters.shape"
   ]
  },
  {
   "cell_type": "code",
   "execution_count": 43,
   "id": "5c2d148b-6034-4d4f-a888-1a4f6f5162a2",
   "metadata": {},
   "outputs": [],
   "source": [
    "# Check the columns of reuters headline dataset"
   ]
  },
  {
   "cell_type": "code",
   "execution_count": 44,
   "id": "e4c06d25-79a8-4b9a-8104-042f86b21eb7",
   "metadata": {},
   "outputs": [
    {
     "data": {
      "text/plain": [
       "Index(['Headlines', 'Time', 'Description'], dtype='object')"
      ]
     },
     "execution_count": 44,
     "metadata": {},
     "output_type": "execute_result"
    }
   ],
   "source": [
    "df_reuters.columns"
   ]
  },
  {
   "cell_type": "code",
   "execution_count": 45,
   "id": "dc5b6b67-81a0-4805-95f4-b2f5e581c2ea",
   "metadata": {},
   "outputs": [],
   "source": [
    "# Check which columns are having categorical, numerical or boolean values"
   ]
  },
  {
   "cell_type": "code",
   "execution_count": 46,
   "id": "5235443d-b97b-44a6-87db-2afb91837d00",
   "metadata": {},
   "outputs": [
    {
     "name": "stdout",
     "output_type": "stream",
     "text": [
      "<class 'pandas.core.frame.DataFrame'>\n",
      "RangeIndex: 32770 entries, 0 to 32769\n",
      "Data columns (total 3 columns):\n",
      " #   Column       Non-Null Count  Dtype \n",
      "---  ------       --------------  ----- \n",
      " 0   Headlines    32770 non-null  object\n",
      " 1   Time         32770 non-null  object\n",
      " 2   Description  32770 non-null  object\n",
      "dtypes: object(3)\n",
      "memory usage: 768.2+ KB\n"
     ]
    }
   ],
   "source": [
    "df_reuters.info()"
   ]
  },
  {
   "cell_type": "code",
   "execution_count": 47,
   "id": "5c960e57-fcfe-4a7c-a0cd-75738a2dfb6b",
   "metadata": {},
   "outputs": [],
   "source": [
    "# Check for missing values in all the columns of reuters headlines dataset"
   ]
  },
  {
   "cell_type": "code",
   "execution_count": 48,
   "id": "817fd8f1-816b-4295-8ade-f6c800cecd9d",
   "metadata": {},
   "outputs": [
    {
     "data": {
      "text/plain": [
       "Headlines      0\n",
       "Time           0\n",
       "Description    0\n",
       "dtype: int64"
      ]
     },
     "execution_count": 48,
     "metadata": {},
     "output_type": "execute_result"
    }
   ],
   "source": [
    "df_reuters.isnull().sum()"
   ]
  },
  {
   "cell_type": "code",
   "execution_count": 49,
   "id": "810e1a5a-8cd0-44cb-85fb-b080af30524e",
   "metadata": {},
   "outputs": [],
   "source": [
    "# Drop the duplicate rows in reuters headlines dataset and keep the first one"
   ]
  },
  {
   "cell_type": "code",
   "execution_count": 50,
   "id": "9be2d868-38d8-4986-bfbd-042b3c8fa5e7",
   "metadata": {},
   "outputs": [],
   "source": [
    "df_reuters.drop_duplicates(keep = 'first', inplace = True)"
   ]
  },
  {
   "cell_type": "code",
   "execution_count": 51,
   "id": "c8de1bdb-4caa-42d1-93fb-7ea594347d96",
   "metadata": {},
   "outputs": [],
   "source": [
    "df_reuters.reset_index(drop = True, inplace = True)"
   ]
  },
  {
   "cell_type": "markdown",
   "id": "ea56c70e-a49f-4b6f-b223-73f82b8af867",
   "metadata": {},
   "source": [
    "# SENTIMENT ANALYSIS"
   ]
  },
  {
   "cell_type": "code",
   "execution_count": 52,
   "id": "a4868549-d990-4d95-825e-663f96182c47",
   "metadata": {},
   "outputs": [],
   "source": [
    "# Making some functions that we will need ahead"
   ]
  },
  {
   "cell_type": "code",
   "execution_count": 53,
   "id": "318ddfc9-0fd2-4926-b92b-1fe68768b69c",
   "metadata": {},
   "outputs": [],
   "source": [
    "# Preprocessing"
   ]
  },
  {
   "cell_type": "code",
   "execution_count": 54,
   "id": "cb1e6338-7551-4163-8258-22e2538c8999",
   "metadata": {},
   "outputs": [],
   "source": [
    "# 1. Lowercase - It is necessary to convert the text to lower case as it is case sensitive.\n",
    "# 2. remove punctuations - The punctuations present in the text do not add value to the data. The punctuation, when attached to any word, will create a problem in differentiating with other words. so we have to get rid of them.\n",
    "# 3. remove stopwords - Stopwords include: I, he, she, and, but, was were, being, have, etc, which do not add meaning to the data. So these words must be removed which helps to reduce the features from our data. These are\n",
    "# removed after tokenizing the text.\n",
    "# 4. stemming - A technique that takes the word to its root form. It just removes suffixes from the words. The stemmed word might not be part of the dictionary, i.e it will not necessarily give meaning.\n",
    "# 5. lemmatizing - Takes the word to its root form called Lemma. It helps to bring words to their dictionary form. It is applied to nouns by default. It is more accurate as it uses more informed analysis to create groups of words with\n",
    "# similar meanings based on the context, so it is complex and takes more time. This is used where we need to retain the contextual information.\n",
    "# https://youtu.be/lMQzEk5vht4 (https://youtu.be/lMQzEk5vht4)\n",
    "# https://www.pluralsight.com/guides/importance-of-text-pre-processing (https://www.pluralsight.com/guides/importance-of-text-pre-processing)\n"
   ]
  },
  {
   "cell_type": "code",
   "execution_count": 55,
   "id": "dd9c50e2-9c1b-496c-a343-901ab58e53ae",
   "metadata": {},
   "outputs": [],
   "source": [
    "# Create a function for preprocessing"
   ]
  },
  {
   "cell_type": "code",
   "execution_count": 56,
   "id": "85f805bd-a2ff-4b76-b5cb-2c6bf5d9eda4",
   "metadata": {},
   "outputs": [],
   "source": [
    "def preprocess(x):\n",
    "    #convert all to lowercase\n",
    "    x = x.lower()\n",
    "    #remove puntuations\n",
    "    remove_punct = str.maketrans('', '', string.punctuation)\n",
    "    x = x.translate(remove_punct)\n",
    "    #remove stopword\n",
    "    stopwordslist = stopwords.words('english')\n",
    "    tokens = word_tokenize(x)\n",
    "    result = [w for w in tokens if not w in stopwordslist]\n",
    "    #stemming\n",
    "    ps = PorterStemmer()\n",
    "    stemwords = [ps.stem(w) for w in result]\n",
    "    #lemmitizing\n",
    "    lemmatizer = WordNetLemmatizer()\n",
    "    lemmawords = [lemmatizer.lemmatize(w) for w in stemwords]\n",
    "    return ( \" \".join(lemmawords))"
   ]
  },
  {
   "cell_type": "code",
   "execution_count": 57,
   "id": "1a087b72-6b76-4906-b8d7-d4ea0d91ce5d",
   "metadata": {},
   "outputs": [],
   "source": [
    "# Import sentiment intensity analyzer"
   ]
  },
  {
   "cell_type": "code",
   "execution_count": 58,
   "id": "4a6060a9-f1bd-4774-ba30-e9b0f9993279",
   "metadata": {},
   "outputs": [],
   "source": [
    "# https://towardsdatascience.com/sentimental-analysis-using-vader-a3415fef7664 (https://towardsdatascience.com/sentimental-analysis-using-vader-a3415fef7664)"
   ]
  },
  {
   "cell_type": "code",
   "execution_count": 59,
   "id": "54f747ab-05e8-4931-967e-bcbca3495c74",
   "metadata": {},
   "outputs": [
    {
     "name": "stderr",
     "output_type": "stream",
     "text": [
      "[nltk_data] Downloading package vader_lexicon to\n",
      "[nltk_data]     C:\\Users\\Rahul\\AppData\\Roaming\\nltk_data...\n",
      "[nltk_data]   Package vader_lexicon is already up-to-date!\n"
     ]
    }
   ],
   "source": [
    "import nltk\n",
    "nltk.download('vader_lexicon')\n",
    "from nltk.sentiment.vader import SentimentIntensityAnalyzer\n",
    "# create sentiment intensity analyzer object\n",
    "sid = SentimentIntensityAnalyzer()"
   ]
  },
  {
   "cell_type": "code",
   "execution_count": 60,
   "id": "9d27356d-38e3-444f-a1ec-d21225a5cc35",
   "metadata": {},
   "outputs": [],
   "source": [
    "# Create fuction to decide sentiment as positive, negative and neutral"
   ]
  },
  {
   "cell_type": "code",
   "execution_count": 61,
   "id": "17a8e07e-75e4-4b96-8b64-c621076fd788",
   "metadata": {},
   "outputs": [],
   "source": [
    "def polarity(a):\n",
    "    return sid.polarity_scores(a)['compound']"
   ]
  },
  {
   "cell_type": "markdown",
   "id": "a94f31a4-1b72-48c9-a1d2-2e386a619541",
   "metadata": {},
   "source": [
    "# Working with description of cnbc and reuters datasets"
   ]
  },
  {
   "cell_type": "code",
   "execution_count": 62,
   "id": "c1edd536-b726-4728-8d14-e7053b87b942",
   "metadata": {},
   "outputs": [],
   "source": [
    "# Concatenate cnbc headlines dataset and reuters headline dataset"
   ]
  },
  {
   "cell_type": "code",
   "execution_count": 63,
   "id": "9f8c0757-e730-431c-955f-1b3f5a9e494d",
   "metadata": {},
   "outputs": [],
   "source": [
    "df_concatened_d = pd.concat([df_cnbc, df_reuters], axis = 0)"
   ]
  },
  {
   "cell_type": "code",
   "execution_count": 64,
   "id": "c458acca-bf33-473e-864a-a548e4a8db3d",
   "metadata": {},
   "outputs": [],
   "source": [
    "# Check the shape of this new dataset"
   ]
  },
  {
   "cell_type": "code",
   "execution_count": 65,
   "id": "737b5e87-ba4d-4a70-9636-675a0c6ef74d",
   "metadata": {},
   "outputs": [
    {
     "data": {
      "text/plain": [
       "(35515, 3)"
      ]
     },
     "execution_count": 65,
     "metadata": {},
     "output_type": "execute_result"
    }
   ],
   "source": [
    "df_concatened_d.shape"
   ]
  },
  {
   "cell_type": "code",
   "execution_count": 66,
   "id": "6bfcf262-1310-4cc6-a27f-9224d4b3994c",
   "metadata": {},
   "outputs": [],
   "source": [
    "# Make a copy of new dataset"
   ]
  },
  {
   "cell_type": "code",
   "execution_count": 67,
   "id": "a8b870aa-91f1-403a-9b04-9d862e24b96b",
   "metadata": {},
   "outputs": [],
   "source": [
    "df_concatened_d_copy = df_concatened_d.copy()"
   ]
  },
  {
   "cell_type": "code",
   "execution_count": 68,
   "id": "b1007aa9-66a0-49e3-b170-35ff0856d974",
   "metadata": {},
   "outputs": [],
   "source": [
    "# Apply preprocessing to the description of new dataset"
   ]
  },
  {
   "cell_type": "code",
   "execution_count": 69,
   "id": "653b2c89-5548-418e-9d08-e454058fbfdc",
   "metadata": {},
   "outputs": [],
   "source": [
    "df_concatened_d['Description'] = df_concatened_d['Description'].apply(lambda x : preprocess(x))"
   ]
  },
  {
   "cell_type": "code",
   "execution_count": 70,
   "id": "96b28795-9716-4d0c-b542-a58c416ba46f",
   "metadata": {},
   "outputs": [],
   "source": [
    "# Analyze polarity score of values in description and add new column of it in dataset"
   ]
  },
  {
   "cell_type": "code",
   "execution_count": 71,
   "id": "e6028b82-c873-4dc8-ac52-8e79a7ba0430",
   "metadata": {},
   "outputs": [],
   "source": [
    "df_concatened_d['ds_score'] = df_concatened_d['Description'].apply(lambda x: polarity(x))"
   ]
  },
  {
   "cell_type": "code",
   "execution_count": 72,
   "id": "6a04dc1b-093c-47a5-9a03-9b0ea77d696e",
   "metadata": {},
   "outputs": [],
   "source": [
    "# Create a function which will assign sentiment based on polarity score"
   ]
  },
  {
   "cell_type": "code",
   "execution_count": 73,
   "id": "aaea15fb-f364-4d47-ab1b-69ed43a15a12",
   "metadata": {},
   "outputs": [],
   "source": [
    "def assign_sentiment(x):\n",
    "    if x > 0:\n",
    "     return 'Positive'\n",
    "    if x < 0:\n",
    "     return 'Negative'\n",
    "    if x == 0:\n",
    "     return 'Neutral'"
   ]
  },
  {
   "cell_type": "code",
   "execution_count": 74,
   "id": "158c2a07-cec7-40d2-bff2-d54b0f3ac54b",
   "metadata": {},
   "outputs": [],
   "source": [
    "# Apply the function which decides sentiment to polarity score column"
   ]
  },
  {
   "cell_type": "code",
   "execution_count": 75,
   "id": "b69fcab0-1ea5-4aa2-a8ba-8d7dd12b08f3",
   "metadata": {},
   "outputs": [],
   "source": [
    "df_concatened_d['ds_score'] = df_concatened_d['ds_score'].apply(lambda x : assign_sentiment(x))"
   ]
  },
  {
   "cell_type": "code",
   "execution_count": 76,
   "id": "fc0fd3a3-cfcf-4eea-a732-704c9b5ad414",
   "metadata": {},
   "outputs": [
    {
     "data": {
      "text/html": [
       "<div>\n",
       "<style scoped>\n",
       "    .dataframe tbody tr th:only-of-type {\n",
       "        vertical-align: middle;\n",
       "    }\n",
       "\n",
       "    .dataframe tbody tr th {\n",
       "        vertical-align: top;\n",
       "    }\n",
       "\n",
       "    .dataframe thead th {\n",
       "        text-align: right;\n",
       "    }\n",
       "</style>\n",
       "<table border=\"1\" class=\"dataframe\">\n",
       "  <thead>\n",
       "    <tr style=\"text-align: right;\">\n",
       "      <th></th>\n",
       "      <th>Headlines</th>\n",
       "      <th>Time</th>\n",
       "      <th>Description</th>\n",
       "      <th>ds_score</th>\n",
       "    </tr>\n",
       "  </thead>\n",
       "  <tbody>\n",
       "    <tr>\n",
       "      <th>0</th>\n",
       "      <td>Jim Cramer: A better way to invest in the Covi...</td>\n",
       "      <td>7:51  PM ET Fri, 17 July 2020</td>\n",
       "      <td>mad money host jim cramer recommend buy four c...</td>\n",
       "      <td>Positive</td>\n",
       "    </tr>\n",
       "    <tr>\n",
       "      <th>1</th>\n",
       "      <td>Cramer's lightning round: I would own Teradyne</td>\n",
       "      <td>7:33  PM ET Fri, 17 July 2020</td>\n",
       "      <td>mad money host jim cramer ring lightn round be...</td>\n",
       "      <td>Negative</td>\n",
       "    </tr>\n",
       "    <tr>\n",
       "      <th>2</th>\n",
       "      <td>Cramer's week ahead: Big week for earnings, ev...</td>\n",
       "      <td>7:25  PM ET Fri, 17 July 2020</td>\n",
       "      <td>well pay earn noncovid compani lancet publish ...</td>\n",
       "      <td>Positive</td>\n",
       "    </tr>\n",
       "    <tr>\n",
       "      <th>3</th>\n",
       "      <td>IQ Capital CEO Keith Bliss says tech and healt...</td>\n",
       "      <td>4:24  PM ET Fri, 17 July 2020</td>\n",
       "      <td>keith bliss iq capit ceo join close bell talk ...</td>\n",
       "      <td>Positive</td>\n",
       "    </tr>\n",
       "    <tr>\n",
       "      <th>4</th>\n",
       "      <td>Wall Street delivered the 'kind of pullback I'...</td>\n",
       "      <td>7:36  PM ET Thu, 16 July 2020</td>\n",
       "      <td>look stock highqual compani go lower even thou...</td>\n",
       "      <td>Negative</td>\n",
       "    </tr>\n",
       "  </tbody>\n",
       "</table>\n",
       "</div>"
      ],
      "text/plain": [
       "                                           Headlines  \\\n",
       "0  Jim Cramer: A better way to invest in the Covi...   \n",
       "1     Cramer's lightning round: I would own Teradyne   \n",
       "2  Cramer's week ahead: Big week for earnings, ev...   \n",
       "3  IQ Capital CEO Keith Bliss says tech and healt...   \n",
       "4  Wall Street delivered the 'kind of pullback I'...   \n",
       "\n",
       "                             Time  \\\n",
       "0   7:51  PM ET Fri, 17 July 2020   \n",
       "1   7:33  PM ET Fri, 17 July 2020   \n",
       "2   7:25  PM ET Fri, 17 July 2020   \n",
       "3   4:24  PM ET Fri, 17 July 2020   \n",
       "4   7:36  PM ET Thu, 16 July 2020   \n",
       "\n",
       "                                         Description  ds_score  \n",
       "0  mad money host jim cramer recommend buy four c...  Positive  \n",
       "1  mad money host jim cramer ring lightn round be...  Negative  \n",
       "2  well pay earn noncovid compani lancet publish ...  Positive  \n",
       "3  keith bliss iq capit ceo join close bell talk ...  Positive  \n",
       "4  look stock highqual compani go lower even thou...  Negative  "
      ]
     },
     "execution_count": 76,
     "metadata": {},
     "output_type": "execute_result"
    }
   ],
   "source": [
    "df_concatened_d.head()"
   ]
  },
  {
   "cell_type": "code",
   "execution_count": 77,
   "id": "82575c9a-ebbb-40fb-bf42-6e8aee6a13d9",
   "metadata": {},
   "outputs": [],
   "source": [
    "# Plot a count plot on description score column"
   ]
  },
  {
   "cell_type": "code",
   "execution_count": 78,
   "id": "3a90d947-05bf-4591-84e8-019ed1ce55c6",
   "metadata": {},
   "outputs": [
    {
     "data": {
      "text/plain": [
       "<Axes: xlabel='count', ylabel='ds_score'>"
      ]
     },
     "execution_count": 78,
     "metadata": {},
     "output_type": "execute_result"
    },
    {
     "data": {
      "image/png": "[encoded data removed]",
      "text/plain": [
       "<Figure size 640x480 with 1 Axes>"
      ]
     },
     "metadata": {},
     "output_type": "display_data"
    }
   ],
   "source": [
    "sns.countplot(df_concatened_d['ds_score'])"
   ]
  },
  {
   "cell_type": "code",
   "execution_count": 79,
   "id": "53ca7dcd-4d79-44f7-b874-77b3bc8a6f5d",
   "metadata": {},
   "outputs": [],
   "source": [
    "# Observation:\n",
    "    # Descriptions contains approximately:\n",
    "        # 14000 positive statment\n",
    "        # 12000 negative statment\n",
    "        # 8000 neutral statment"
   ]
  },
  {
   "cell_type": "code",
   "execution_count": 80,
   "id": "32a99012-6fe2-4247-8c2d-7b3986935c5a",
   "metadata": {},
   "outputs": [],
   "source": [
    "# Plot a pie plot on description score column"
   ]
  },
  {
   "cell_type": "code",
   "execution_count": 81,
   "id": "816f99b4-8884-46be-8ad8-ed855bf47937",
   "metadata": {},
   "outputs": [
    {
     "data": {
      "image/png": "[encoded data removed]",
      "text/plain": [
       "<Figure size 2000x500 with 1 Axes>"
      ]
     },
     "metadata": {},
     "output_type": "display_data"
    }
   ],
   "source": [
    "# define Seaborn color palette to use\n",
    "palette_color = sns.color_palette('bright')\n",
    "# plotting data on chart\n",
    "plt.figure(figsize = (20,5))\n",
    "plt.pie(df_concatened_d['ds_score'].value_counts(normalize = True), autopct='%.2f%%', colors=palette_color)\n",
    "plt.legend(['Positive', 'Negative', 'Neutral'])\n",
    "# displaying chart\n",
    "plt.show()"
   ]
  },
  {
   "cell_type": "code",
   "execution_count": 82,
   "id": "19a422e5-6ccb-4c0b-b2ab-4b127c00cca1",
   "metadata": {},
   "outputs": [],
   "source": [
    "# Observation:\n",
    "#     Descriptions contains:\n",
    "#         42.43 % positive statments\n",
    "#         34.57 % negtive statements\n",
    "#         23.00 % neutral statments"
   ]
  },
  {
   "cell_type": "code",
   "execution_count": 83,
   "id": "f310108c-de0f-468f-9a19-42d8b8b73c68",
   "metadata": {},
   "outputs": [],
   "source": [
    "# Spliting in Independent and Dependent Features"
   ]
  },
  {
   "cell_type": "code",
   "execution_count": 84,
   "id": "4ac5593e-5daa-4d0c-bfa4-ad6dc99c1dfb",
   "metadata": {},
   "outputs": [],
   "source": [
    "X = df_concatened_d['Description']\n",
    "y = df_concatened_d['ds_score']"
   ]
  },
  {
   "cell_type": "code",
   "execution_count": null,
   "id": "e4b95af2-c8f6-4e2a-8332-026afabf4beb",
   "metadata": {},
   "outputs": [],
   "source": []
  },
  {
   "cell_type": "code",
   "execution_count": 85,
   "id": "9ab1f3b0-b5e5-40e2-b380-c9b76cf13c5c",
   "metadata": {},
   "outputs": [],
   "source": [
    "# Train test split\n",
    "    # Split the dataset into test and train\n",
    "    # 90% train , 10% test and random state 212"
   ]
  },
  {
   "cell_type": "code",
   "execution_count": 86,
   "id": "61617f3e-633f-4941-84f0-583f989cdb13",
   "metadata": {},
   "outputs": [],
   "source": [
    "X_train, X_test, y_train, y_test = train_test_split(X, y, test_size=0.10, random_state = 212)"
   ]
  },
  {
   "cell_type": "markdown",
   "id": "1a5959cd-dafa-4b90-8029-c69f3575f643",
   "metadata": {},
   "source": [
    "# Modelling on description of cnbc headlines dataset and reuters headline dataset on datasets"
   ]
  },
  {
   "cell_type": "code",
   "execution_count": 87,
   "id": "48d21d41-e427-456b-9fcb-38d58455528d",
   "metadata": {},
   "outputs": [],
   "source": [
    " '''All Models'''\n",
    "models = {\n",
    "1 : make_pipeline(TfidfVectorizer(),LinearSVC(random_state=0, tol=1e-5)),\n",
    "2 : make_pipeline(CountVectorizer(),TfidfTransformer(),LogisticRegression()),\n",
    "3 : make_pipeline(CountVectorizer(),TfidfTransformer(),MultinomialNB()),\n",
    "4 : make_pipeline(CountVectorizer(),TfidfTransformer(),BernoulliNB()),\n",
    "5 : make_pipeline(CountVectorizer(),TfidfTransformer(),GradientBoostingClassifier()),\n",
    "6 : make_pipeline(CountVectorizer(),TfidfTransformer(),xg.XGBClassifier()),\n",
    "7 : make_pipeline(CountVectorizer(),TfidfTransformer(),DecisionTreeClassifier()),\n",
    "8 : make_pipeline(CountVectorizer(),TfidfTransformer(),KNeighborsClassifier())\n",
    "}\n",
    "map_keys = list(models.keys())"
   ]
  },
  {
   "cell_type": "code",
   "execution_count": 88,
   "id": "0f2bacb5-74e9-48ab-8d4d-444702e08de2",
   "metadata": {},
   "outputs": [],
   "source": [
    "def get_model_building_technique_name(num):\n",
    "    if num == 1:\n",
    "     return 'LinearSVC'\n",
    "    if num == 2:\n",
    "     return 'LogisticRegression'\n",
    "    if num == 3:\n",
    "     return 'MultinomialNB'\n",
    "    if num == 4:\n",
    "     return 'BernoulliNB'\n",
    "    if num == 5:\n",
    "     return 'GradientBoostingClassifier'\n",
    "    if num == 6:\n",
    "     return 'XGBClassifier'\n",
    "    if num == 7:\n",
    "     return 'DecisionTreeClassifier'\n",
    "    if num == 8:\n",
    "     return 'KNeighborsClassifier'\n",
    "    return ''"
   ]
  },
  {
   "cell_type": "code",
   "execution_count": 167,
   "id": "d0781b29-87cc-4665-a60c-ec5379c76505",
   "metadata": {
    "scrolled": true
   },
   "outputs": [
    {
     "name": "stdout",
     "output_type": "stream",
     "text": [
      "1\n",
      "2\n",
      "3\n",
      "4\n",
      "5\n",
      "6\n",
      "Error\n",
      "7\n",
      "8\n",
      "Error\n"
     ]
    }
   ],
   "source": [
    "results = []\n",
    "for key_index in range(len(map_keys)):\n",
    "    try:\n",
    "        key = map_keys[key_index]\n",
    "        model = models[key]\n",
    "        print(key)\n",
    "        model.fit(X_train, y_train)\n",
    "        \n",
    "        '''Test Accuracy'''\n",
    "        y_pred = model.predict(X_test)\n",
    "        Accuracy_Test = accuracy_score(y_test, y_pred)\n",
    "        conf_mat_Test = confusion_matrix(y_test, y_pred)\n",
    "        true_positive_Test = conf_mat_Test[0][0]\n",
    "        false_positive_Test = conf_mat_Test[0][1]\n",
    "        false_negative_Test = conf_mat_Test[1][0]\n",
    "        true_negative_Test = conf_mat_Test[1][1]\n",
    "        Precision_Test = true_positive_Test / (true_positive_Test + false_positive_Test)\n",
    "        Recall_Test = true_positive_Test / (true_positive_Test + false_negative_Test)\n",
    "        F1_Score_Test = 2 * (Recall_Test * Precision_Test) / (Recall_Test + Precision_Test)\n",
    "        # AUC_Test = roc_auc_score(y_test, y_pred)\n",
    "        \n",
    "        '''Train Accuracy'''\n",
    "        y_pred_train = model.predict(X_train)\n",
    "        Accuracy_Train = accuracy_score(y_train, y_pred_train)\n",
    "        conf_mat_Train = confusion_matrix(y_train, y_pred_train)\n",
    "        true_positive_Train = conf_mat_Train[0][0]\n",
    "        false_positive_Train = conf_mat_Train[0][1]\n",
    "        false_negative_Train = conf_mat_Train[1][0]\n",
    "        true_negative_Train = conf_mat_Train[1][1]\n",
    "        Precision_Train = true_positive_Train / (true_positive_Train + false_positive_Train)\n",
    "        Recall_Train = true_positive_Train / (true_positive_Train + false_negative_Train)\n",
    "        F1_Score_Train = 2 * (Recall_Train * Precision_Train) / (Recall_Train + Precision_Train)\n",
    "        # AUC_Train = roc_auc_score(y_train, y_pred_train)\n",
    "        \n",
    "        results.append({\n",
    "            'Model Name': get_model_building_technique_name(key),\n",
    "            'Trained Model': model,\n",
    "            'Accuracy_Test': Accuracy_Test,\n",
    "            'Precision_Test': Precision_Test,\n",
    "            'Recall_Test': Recall_Test,\n",
    "            'F1_Score_Test': F1_Score_Test,\n",
    "            # 'AUC_Test': AUC_Test,\n",
    "            'Accuracy_Train': Accuracy_Train,\n",
    "            'Precision_Train': Precision_Train,\n",
    "            'Recall_Train': Recall_Train,\n",
    "            'F1_Score_Train': F1_Score_Train\n",
    "            # 'AUC_Train': AUC_Train\n",
    "        })\n",
    "    except:\n",
    "        print('Error')\n"
   ]
  },
  {
   "cell_type": "code",
   "execution_count": 90,
   "id": "0a67bddc-9075-4a04-b2cd-9c494569773d",
   "metadata": {},
   "outputs": [
    {
     "name": "stdout",
     "output_type": "stream",
     "text": [
      "[{'Model Name': 'LinearSVC', 'Trained Model': Pipeline(steps=[('tfidfvectorizer', TfidfVectorizer()),\n",
      "                ('linearsvc', LinearSVC(random_state=0, tol=1e-05))]), 'Accuracy_Test': 0.9321509009009009, 'Precision_Test': 0.9614065180102916, 'Recall_Test': 0.9816112084063048, 'F1_Score_Test': 0.9714038128249568, 'Accuracy_Train': 0.9871413822231956, 'Precision_Train': 0.9977097838035911, 'Recall_Train': 0.9927985414767548, 'F1_Score_Train': 0.9952481038106553}, {'Model Name': 'LogisticRegression', 'Trained Model': Pipeline(steps=[('countvectorizer', CountVectorizer()),\n",
      "                ('tfidftransformer', TfidfTransformer()),\n",
      "                ('logisticregression', LogisticRegression())]), 'Accuracy_Test': 0.8944256756756757, 'Precision_Test': 0.9329214474845543, 'Recall_Test': 0.967948717948718, 'F1_Score_Test': 0.9501123595505617, 'Accuracy_Train': 0.9534774583111723, 'Precision_Train': 0.9755982218859359, 'Recall_Train': 0.9864205795161136, 'F1_Score_Train': 0.9809795530194959}, {'Model Name': 'MultinomialNB', 'Trained Model': Pipeline(steps=[('countvectorizer', CountVectorizer()),\n",
      "                ('tfidftransformer', TfidfTransformer()),\n",
      "                ('multinomialnb', MultinomialNB())]), 'Accuracy_Test': 0.6399211711711712, 'Precision_Test': 0.9901960784313726, 'Recall_Test': 0.8434237995824635, 'F1_Score_Test': 0.9109357384441941, 'Accuracy_Train': 0.7165159715921534, 'Precision_Train': 0.9946170785417177, 'Recall_Train': 0.871009213627598, 'F1_Score_Train': 0.9287183002056202}, {'Model Name': 'BernoulliNB', 'Trained Model': Pipeline(steps=[('countvectorizer', CountVectorizer()),\n",
      "                ('tfidftransformer', TfidfTransformer()),\n",
      "                ('bernoullinb', BernoulliNB())]), 'Accuracy_Test': 0.7393018018018018, 'Precision_Test': 0.9425641025641026, 'Recall_Test': 0.8710900473933649, 'F1_Score_Test': 0.9054187192118227, 'Accuracy_Train': 0.827018740418609, 'Precision_Train': 0.9603183023872679, 'Recall_Train': 0.9193499238191976, 'F1_Score_Train': 0.9393876491956409}, {'Model Name': 'GradientBoostingClassifier', 'Trained Model': Pipeline(steps=[('countvectorizer', CountVectorizer()),\n",
      "                ('tfidftransformer', TfidfTransformer()),\n",
      "                ('gradientboostingclassifier', GradientBoostingClassifier())]), 'Accuracy_Test': 0.8417792792792793, 'Precision_Test': 0.8426443202979516, 'Recall_Test': 0.9879912663755459, 'F1_Score_Test': 0.9095477386934675, 'Accuracy_Train': 0.8470418921878422, 'Precision_Train': 0.8450864657761209, 'Recall_Train': 0.9920982251398006, 'F1_Score_Train': 0.9127103953475367}, {'Model Name': 'DecisionTreeClassifier', 'Trained Model': Pipeline(steps=[('countvectorizer', CountVectorizer()),\n",
      "                ('tfidftransformer', TfidfTransformer()),\n",
      "                ('decisiontreeclassifier', DecisionTreeClassifier())]), 'Accuracy_Test': 0.8741554054054054, 'Precision_Test': 0.9826589595375722, 'Recall_Test': 0.9864603481624759, 'F1_Score_Test': 0.9845559845559845, 'Accuracy_Train': 1.0, 'Precision_Train': 1.0, 'Recall_Train': 1.0, 'F1_Score_Train': 1.0}]\n"
     ]
    }
   ],
   "source": [
    "print(results)"
   ]
  },
  {
   "cell_type": "code",
   "execution_count": 91,
   "id": "189b572c-95a1-41b8-8189-7899420b4b97",
   "metadata": {},
   "outputs": [
    {
     "data": {
      "text/html": [
       "<div>\n",
       "<style scoped>\n",
       "    .dataframe tbody tr th:only-of-type {\n",
       "        vertical-align: middle;\n",
       "    }\n",
       "\n",
       "    .dataframe tbody tr th {\n",
       "        vertical-align: top;\n",
       "    }\n",
       "\n",
       "    .dataframe thead th {\n",
       "        text-align: right;\n",
       "    }\n",
       "</style>\n",
       "<table border=\"1\" class=\"dataframe\">\n",
       "  <thead>\n",
       "    <tr style=\"text-align: right;\">\n",
       "      <th></th>\n",
       "      <th>Model Name</th>\n",
       "      <th>Trained Model</th>\n",
       "      <th>Accuracy_Test</th>\n",
       "      <th>Precision_Test</th>\n",
       "      <th>Recall_Test</th>\n",
       "      <th>F1_Score_Test</th>\n",
       "      <th>Accuracy_Train</th>\n",
       "      <th>Precision_Train</th>\n",
       "      <th>Recall_Train</th>\n",
       "      <th>F1_Score_Train</th>\n",
       "      <th>difference_f1_score</th>\n",
       "    </tr>\n",
       "  </thead>\n",
       "  <tbody>\n",
       "    <tr>\n",
       "      <th>0</th>\n",
       "      <td>LinearSVC</td>\n",
       "      <td>(TfidfVectorizer(), LinearSVC(random_state=0, ...</td>\n",
       "      <td>0.932151</td>\n",
       "      <td>0.961407</td>\n",
       "      <td>0.981611</td>\n",
       "      <td>0.971404</td>\n",
       "      <td>0.987141</td>\n",
       "      <td>0.997710</td>\n",
       "      <td>0.992799</td>\n",
       "      <td>0.995248</td>\n",
       "      <td>0.023844</td>\n",
       "    </tr>\n",
       "    <tr>\n",
       "      <th>1</th>\n",
       "      <td>LogisticRegression</td>\n",
       "      <td>(CountVectorizer(), TfidfTransformer(), Logist...</td>\n",
       "      <td>0.894426</td>\n",
       "      <td>0.932921</td>\n",
       "      <td>0.967949</td>\n",
       "      <td>0.950112</td>\n",
       "      <td>0.953477</td>\n",
       "      <td>0.975598</td>\n",
       "      <td>0.986421</td>\n",
       "      <td>0.980980</td>\n",
       "      <td>0.030867</td>\n",
       "    </tr>\n",
       "    <tr>\n",
       "      <th>2</th>\n",
       "      <td>MultinomialNB</td>\n",
       "      <td>(CountVectorizer(), TfidfTransformer(), Multin...</td>\n",
       "      <td>0.639921</td>\n",
       "      <td>0.990196</td>\n",
       "      <td>0.843424</td>\n",
       "      <td>0.910936</td>\n",
       "      <td>0.716516</td>\n",
       "      <td>0.994617</td>\n",
       "      <td>0.871009</td>\n",
       "      <td>0.928718</td>\n",
       "      <td>0.017783</td>\n",
       "    </tr>\n",
       "    <tr>\n",
       "      <th>3</th>\n",
       "      <td>BernoulliNB</td>\n",
       "      <td>(CountVectorizer(), TfidfTransformer(), Bernou...</td>\n",
       "      <td>0.739302</td>\n",
       "      <td>0.942564</td>\n",
       "      <td>0.871090</td>\n",
       "      <td>0.905419</td>\n",
       "      <td>0.827019</td>\n",
       "      <td>0.960318</td>\n",
       "      <td>0.919350</td>\n",
       "      <td>0.939388</td>\n",
       "      <td>0.033969</td>\n",
       "    </tr>\n",
       "    <tr>\n",
       "      <th>4</th>\n",
       "      <td>GradientBoostingClassifier</td>\n",
       "      <td>(CountVectorizer(), TfidfTransformer(), ([Deci...</td>\n",
       "      <td>0.841779</td>\n",
       "      <td>0.842644</td>\n",
       "      <td>0.987991</td>\n",
       "      <td>0.909548</td>\n",
       "      <td>0.847042</td>\n",
       "      <td>0.845086</td>\n",
       "      <td>0.992098</td>\n",
       "      <td>0.912710</td>\n",
       "      <td>0.003163</td>\n",
       "    </tr>\n",
       "    <tr>\n",
       "      <th>5</th>\n",
       "      <td>DecisionTreeClassifier</td>\n",
       "      <td>(CountVectorizer(), TfidfTransformer(), Decisi...</td>\n",
       "      <td>0.874155</td>\n",
       "      <td>0.982659</td>\n",
       "      <td>0.986460</td>\n",
       "      <td>0.984556</td>\n",
       "      <td>1.000000</td>\n",
       "      <td>1.000000</td>\n",
       "      <td>1.000000</td>\n",
       "      <td>1.000000</td>\n",
       "      <td>0.015444</td>\n",
       "    </tr>\n",
       "  </tbody>\n",
       "</table>\n",
       "</div>"
      ],
      "text/plain": [
       "                   Model Name  \\\n",
       "0                   LinearSVC   \n",
       "1          LogisticRegression   \n",
       "2               MultinomialNB   \n",
       "3                 BernoulliNB   \n",
       "4  GradientBoostingClassifier   \n",
       "5      DecisionTreeClassifier   \n",
       "\n",
       "                                       Trained Model  Accuracy_Test  \\\n",
       "0  (TfidfVectorizer(), LinearSVC(random_state=0, ...       0.932151   \n",
       "1  (CountVectorizer(), TfidfTransformer(), Logist...       0.894426   \n",
       "2  (CountVectorizer(), TfidfTransformer(), Multin...       0.639921   \n",
       "3  (CountVectorizer(), TfidfTransformer(), Bernou...       0.739302   \n",
       "4  (CountVectorizer(), TfidfTransformer(), ([Deci...       0.841779   \n",
       "5  (CountVectorizer(), TfidfTransformer(), Decisi...       0.874155   \n",
       "\n",
       "   Precision_Test  Recall_Test  F1_Score_Test  Accuracy_Train  \\\n",
       "0        0.961407     0.981611       0.971404        0.987141   \n",
       "1        0.932921     0.967949       0.950112        0.953477   \n",
       "2        0.990196     0.843424       0.910936        0.716516   \n",
       "3        0.942564     0.871090       0.905419        0.827019   \n",
       "4        0.842644     0.987991       0.909548        0.847042   \n",
       "5        0.982659     0.986460       0.984556        1.000000   \n",
       "\n",
       "   Precision_Train  Recall_Train  F1_Score_Train  difference_f1_score  \n",
       "0         0.997710      0.992799        0.995248             0.023844  \n",
       "1         0.975598      0.986421        0.980980             0.030867  \n",
       "2         0.994617      0.871009        0.928718             0.017783  \n",
       "3         0.960318      0.919350        0.939388             0.033969  \n",
       "4         0.845086      0.992098        0.912710             0.003163  \n",
       "5         1.000000      1.000000        1.000000             0.015444  "
      ]
     },
     "execution_count": 91,
     "metadata": {},
     "output_type": "execute_result"
    }
   ],
   "source": [
    "result_df = pd.DataFrame(results)\n",
    "result_df['difference_f1_score'] = abs(result_df['F1_Score_Test'] - result_df['F1_Score_Train'])\n",
    "# result_df_test = result_df.iloc[: , [0,2,3,4,5]]\n",
    "# result_df_train = result_df.iloc[: , [0,6,7,8,9]]\n",
    "result_df"
   ]
  },
  {
   "cell_type": "code",
   "execution_count": 92,
   "id": "ffcf803b-10ce-4f05-aeb3-f710f27d0523",
   "metadata": {},
   "outputs": [],
   "source": [
    "# Save best model"
   ]
  },
  {
   "cell_type": "code",
   "execution_count": 93,
   "id": "7381913c-2362-4414-ade1-6fe5e4a2f98d",
   "metadata": {},
   "outputs": [],
   "source": [
    " Best_Model_Name = result_df[result_df['difference_f1_score'] == min(result_df['difference_f1_score'])]['Trained Model'].values[0]\n",
    "import pickle\n",
    "with open('financial_news_model_d.sav', 'wb') as best_model_pickle:\n",
    "    pickle.dump(Best_Model_Name, best_model_pickle)"
   ]
  },
  {
   "cell_type": "code",
   "execution_count": 94,
   "id": "77eed75b-1a3d-4ea6-ad91-2a9bebc113eb",
   "metadata": {},
   "outputs": [],
   "source": [
    "# Working with test dataset\n",
    "# Perforn the prediction on the test dataset"
   ]
  },
  {
   "cell_type": "code",
   "execution_count": 95,
   "id": "d2cfd3e8-5171-4426-a329-09c4e9789812",
   "metadata": {},
   "outputs": [
    {
     "data": {
      "text/html": [
       "<div>\n",
       "<style scoped>\n",
       "    .dataframe tbody tr th:only-of-type {\n",
       "        vertical-align: middle;\n",
       "    }\n",
       "\n",
       "    .dataframe tbody tr th {\n",
       "        vertical-align: top;\n",
       "    }\n",
       "\n",
       "    .dataframe thead th {\n",
       "        text-align: right;\n",
       "    }\n",
       "</style>\n",
       "<table border=\"1\" class=\"dataframe\">\n",
       "  <thead>\n",
       "    <tr style=\"text-align: right;\">\n",
       "      <th></th>\n",
       "      <th>0</th>\n",
       "    </tr>\n",
       "  </thead>\n",
       "  <tbody>\n",
       "    <tr>\n",
       "      <th>0</th>\n",
       "      <td>Negative</td>\n",
       "    </tr>\n",
       "    <tr>\n",
       "      <th>1</th>\n",
       "      <td>Neutral</td>\n",
       "    </tr>\n",
       "    <tr>\n",
       "      <th>2</th>\n",
       "      <td>Neutral</td>\n",
       "    </tr>\n",
       "    <tr>\n",
       "      <th>3</th>\n",
       "      <td>Positive</td>\n",
       "    </tr>\n",
       "    <tr>\n",
       "      <th>4</th>\n",
       "      <td>Neutral</td>\n",
       "    </tr>\n",
       "    <tr>\n",
       "      <th>...</th>\n",
       "      <td>...</td>\n",
       "    </tr>\n",
       "    <tr>\n",
       "      <th>3547</th>\n",
       "      <td>Negative</td>\n",
       "    </tr>\n",
       "    <tr>\n",
       "      <th>3548</th>\n",
       "      <td>Positive</td>\n",
       "    </tr>\n",
       "    <tr>\n",
       "      <th>3549</th>\n",
       "      <td>Neutral</td>\n",
       "    </tr>\n",
       "    <tr>\n",
       "      <th>3550</th>\n",
       "      <td>Positive</td>\n",
       "    </tr>\n",
       "    <tr>\n",
       "      <th>3551</th>\n",
       "      <td>Neutral</td>\n",
       "    </tr>\n",
       "  </tbody>\n",
       "</table>\n",
       "<p>3552 rows × 1 columns</p>\n",
       "</div>"
      ],
      "text/plain": [
       "             0\n",
       "0     Negative\n",
       "1      Neutral\n",
       "2      Neutral\n",
       "3     Positive\n",
       "4      Neutral\n",
       "...        ...\n",
       "3547  Negative\n",
       "3548  Positive\n",
       "3549   Neutral\n",
       "3550  Positive\n",
       "3551   Neutral\n",
       "\n",
       "[3552 rows x 1 columns]"
      ]
     },
     "execution_count": 95,
     "metadata": {},
     "output_type": "execute_result"
    }
   ],
   "source": [
    "loaded_model_cr = pickle.load(open('financial_news_model_d.sav', 'rb'))\n",
    "result = loaded_model_cr.predict(X_test)\n",
    "pd.DataFrame(result)"
   ]
  },
  {
   "cell_type": "code",
   "execution_count": 96,
   "id": "a3277085-9b6c-44f9-8ad3-700eedc87d10",
   "metadata": {},
   "outputs": [],
   "source": [
    "# Working with headlines + description of cnbc and reuters datasets"
   ]
  },
  {
   "cell_type": "code",
   "execution_count": 97,
   "id": "b98785f0-751a-4798-8f46-f23b031a3416",
   "metadata": {},
   "outputs": [],
   "source": [
    "# Creating copy of orifioriginalngal"
   ]
  },
  {
   "cell_type": "code",
   "execution_count": 98,
   "id": "7d96872e-0f91-4ff4-9c9f-52dfbb8a8790",
   "metadata": {},
   "outputs": [],
   "source": [
    " df_concatened_d_copied = df_concatened_d.copy()"
   ]
  },
  {
   "cell_type": "code",
   "execution_count": 99,
   "id": "f7778e2b-6407-40e8-9a15-8b69b200d7e0",
   "metadata": {},
   "outputs": [],
   "source": [
    "# Merge headlines and description of new dataset and name it info"
   ]
  },
  {
   "cell_type": "code",
   "execution_count": 100,
   "id": "8c931e9d-b906-4541-90d9-9c27df07c25f",
   "metadata": {},
   "outputs": [],
   "source": [
    "df_concatened_d['info'] = df_concatened_d['Headlines'] + ' ' + df_concatened_d['Description']"
   ]
  },
  {
   "cell_type": "code",
   "execution_count": 101,
   "id": "c4a4c85b-4d95-4398-8245-9eee77a38928",
   "metadata": {},
   "outputs": [],
   "source": [
    "# Only keep info and time column . drop all remaining columns"
   ]
  },
  {
   "cell_type": "code",
   "execution_count": 102,
   "id": "a239be31-16fc-4f12-9edf-8b009e82ef8e",
   "metadata": {},
   "outputs": [],
   "source": [
    "df_concatened_d.drop(['Headlines', 'Description', 'ds_score'], axis = 1, inplace = True)"
   ]
  },
  {
   "cell_type": "code",
   "execution_count": 103,
   "id": "4b1cd981-3495-440b-8215-29ae7621ee0b",
   "metadata": {},
   "outputs": [],
   "source": [
    "# Apply preprocessing on info column"
   ]
  },
  {
   "cell_type": "code",
   "execution_count": 104,
   "id": "49e074ff-c1cf-41c9-87cb-7a0d86da4412",
   "metadata": {},
   "outputs": [],
   "source": [
    "df_concatened_d['info'] = df_concatened_d['info'].apply(lambda x : preprocess(x))"
   ]
  },
  {
   "cell_type": "code",
   "execution_count": 105,
   "id": "2c12e05c-6335-46d8-8ef3-45182da7be86",
   "metadata": {},
   "outputs": [],
   "source": [
    "# Analyze polarity score of values in info and add new column of it in dataset"
   ]
  },
  {
   "cell_type": "code",
   "execution_count": 106,
   "id": "9c0145a8-ef59-4c88-b1da-d863c1d7afeb",
   "metadata": {},
   "outputs": [],
   "source": [
    "df_concatened_d['ds_score_info'] = df_concatened_d['info'].apply(lambda x: polarity(x))"
   ]
  },
  {
   "cell_type": "code",
   "execution_count": 107,
   "id": "e873a799-c4d1-4542-8c69-b29f1e99bb58",
   "metadata": {},
   "outputs": [],
   "source": [
    "# Apply the function which decides sentiment to polarity score column"
   ]
  },
  {
   "cell_type": "code",
   "execution_count": 108,
   "id": "5ea68b66-94d3-4505-b059-d61514ab8fd6",
   "metadata": {},
   "outputs": [],
   "source": [
    " df_concatened_d['ds_score_info'] = df_concatened_d['ds_score_info'].apply(lambda x : assign_sentiment(x))"
   ]
  },
  {
   "cell_type": "code",
   "execution_count": 109,
   "id": "1eff83e7-f5a0-469a-90a9-4141a32ae1aa",
   "metadata": {},
   "outputs": [
    {
     "data": {
      "text/html": [
       "<div>\n",
       "<style scoped>\n",
       "    .dataframe tbody tr th:only-of-type {\n",
       "        vertical-align: middle;\n",
       "    }\n",
       "\n",
       "    .dataframe tbody tr th {\n",
       "        vertical-align: top;\n",
       "    }\n",
       "\n",
       "    .dataframe thead th {\n",
       "        text-align: right;\n",
       "    }\n",
       "</style>\n",
       "<table border=\"1\" class=\"dataframe\">\n",
       "  <thead>\n",
       "    <tr style=\"text-align: right;\">\n",
       "      <th></th>\n",
       "      <th>Time</th>\n",
       "      <th>info</th>\n",
       "      <th>ds_score_info</th>\n",
       "    </tr>\n",
       "  </thead>\n",
       "  <tbody>\n",
       "    <tr>\n",
       "      <th>0</th>\n",
       "      <td>7:51  PM ET Fri, 17 July 2020</td>\n",
       "      <td>jim cramer better way invest covid19 vaccin go...</td>\n",
       "      <td>Positive</td>\n",
       "    </tr>\n",
       "    <tr>\n",
       "      <th>1</th>\n",
       "      <td>7:33  PM ET Fri, 17 July 2020</td>\n",
       "      <td>cramer lightn round would teradyn mad money ho...</td>\n",
       "      <td>Negative</td>\n",
       "    </tr>\n",
       "    <tr>\n",
       "      <th>2</th>\n",
       "      <td>7:25  PM ET Fri, 17 July 2020</td>\n",
       "      <td>cramer week ahead big week earn even bigger we...</td>\n",
       "      <td>Positive</td>\n",
       "    </tr>\n",
       "    <tr>\n",
       "      <th>3</th>\n",
       "      <td>4:24  PM ET Fri, 17 July 2020</td>\n",
       "      <td>iq capit ceo keith bliss say tech healthcar ra...</td>\n",
       "      <td>Positive</td>\n",
       "    </tr>\n",
       "    <tr>\n",
       "      <th>4</th>\n",
       "      <td>7:36  PM ET Thu, 16 July 2020</td>\n",
       "      <td>wall street deliv kind pullback ive wait jim c...</td>\n",
       "      <td>Negative</td>\n",
       "    </tr>\n",
       "  </tbody>\n",
       "</table>\n",
       "</div>"
      ],
      "text/plain": [
       "                             Time  \\\n",
       "0   7:51  PM ET Fri, 17 July 2020   \n",
       "1   7:33  PM ET Fri, 17 July 2020   \n",
       "2   7:25  PM ET Fri, 17 July 2020   \n",
       "3   4:24  PM ET Fri, 17 July 2020   \n",
       "4   7:36  PM ET Thu, 16 July 2020   \n",
       "\n",
       "                                                info ds_score_info  \n",
       "0  jim cramer better way invest covid19 vaccin go...      Positive  \n",
       "1  cramer lightn round would teradyn mad money ho...      Negative  \n",
       "2  cramer week ahead big week earn even bigger we...      Positive  \n",
       "3  iq capit ceo keith bliss say tech healthcar ra...      Positive  \n",
       "4  wall street deliv kind pullback ive wait jim c...      Negative  "
      ]
     },
     "execution_count": 109,
     "metadata": {},
     "output_type": "execute_result"
    }
   ],
   "source": [
    "df_concatened_d.head()"
   ]
  },
  {
   "cell_type": "code",
   "execution_count": 111,
   "id": "710aebbe-9971-4a16-a963-4b0def3ff33e",
   "metadata": {},
   "outputs": [],
   "source": [
    "# Create a count plot on info_score column"
   ]
  },
  {
   "cell_type": "code",
   "execution_count": 112,
   "id": "bd06db91-c73f-453c-b625-76dd60b2adfc",
   "metadata": {},
   "outputs": [
    {
     "data": {
      "text/plain": [
       "<Axes: xlabel='count', ylabel='ds_score_info'>"
      ]
     },
     "execution_count": 112,
     "metadata": {},
     "output_type": "execute_result"
    },
    {
     "data": {
      "image/png": "[encoded data removed]",
      "text/plain": [
       "<Figure size 640x480 with 1 Axes>"
      ]
     },
     "metadata": {},
     "output_type": "display_data"
    }
   ],
   "source": [
    "sns.countplot(df_concatened_d['ds_score_info'])"
   ]
  },
  {
   "cell_type": "code",
   "execution_count": 113,
   "id": "871bfafd-7649-4e64-8040-ee05593c9bd2",
   "metadata": {},
   "outputs": [],
   "source": [
    "# Observation:\n",
    "#     Headlines & Descriptions contains approximatley:\n",
    "#         15500 positive statment\n",
    "#         13000 negative statment\n",
    "#         6500 neutral statment"
   ]
  },
  {
   "cell_type": "code",
   "execution_count": 114,
   "id": "3c2ff6cd-4d4b-44ee-be12-59651a61296a",
   "metadata": {},
   "outputs": [],
   "source": [
    "# Create a pie chart on info_score column"
   ]
  },
  {
   "cell_type": "code",
   "execution_count": 115,
   "id": "962e915c-08f5-4d60-8d64-662f0fd7306d",
   "metadata": {},
   "outputs": [
    {
     "data": {
      "image/png": "[encoded data removed]",
      "text/plain": [
       "<Figure size 2000x500 with 1 Axes>"
      ]
     },
     "metadata": {},
     "output_type": "display_data"
    }
   ],
   "source": [
    "# plotting data on chart\n",
    "plt.figure(figsize = (20,5))\n",
    "plt.pie(df_concatened_d['ds_score_info'].value_counts(normalize = True), autopct='%.2f%%')\n",
    "plt.legend(['Positive', 'Negative', 'Neutral'])\n",
    "# displaying chart\n",
    "plt.show()"
   ]
  },
  {
   "cell_type": "code",
   "execution_count": 116,
   "id": "f04ec453-b9ab-4f17-8c94-a81c2663f729",
   "metadata": {},
   "outputs": [],
   "source": [
    "# Observation:\n",
    "# Headlines & Descriptions contains:\n",
    "# 44.5 % positive statments\n",
    "# 38.36 % negtive statements\n",
    "# 17.10 % neutral statments"
   ]
  },
  {
   "cell_type": "code",
   "execution_count": 117,
   "id": "c422427f-9486-4d7e-9b25-2ac009198225",
   "metadata": {},
   "outputs": [],
   "source": [
    "# Spliting in Independent and Dependent Features"
   ]
  },
  {
   "cell_type": "code",
   "execution_count": 118,
   "id": "22014493-41ad-419a-b979-10d0308f92c9",
   "metadata": {},
   "outputs": [],
   "source": [
    "X = df_concatened_d['info']\n",
    "y = df_concatened_d['ds_score_info']"
   ]
  },
  {
   "cell_type": "code",
   "execution_count": 119,
   "id": "a751270e-9418-4495-889b-088fa0af06e3",
   "metadata": {},
   "outputs": [],
   "source": [
    "# Train test split\n",
    "    # Split the dataset into test and train\n",
    "    # 90% train , 10% test and random state 212"
   ]
  },
  {
   "cell_type": "code",
   "execution_count": 120,
   "id": "5d64c691-328f-498d-90e7-d4db1cd6e5a2",
   "metadata": {},
   "outputs": [],
   "source": [
    "X_train, X_test, y_train, y_test = train_test_split(X, y, test_size=0.10, random_state = 212)"
   ]
  },
  {
   "cell_type": "markdown",
   "id": "9fef4511-f120-45ec-867e-18b3eb27fd2c",
   "metadata": {},
   "source": [
    "# Modelling on headlines + description of cnbc and reuters datasets"
   ]
  },
  {
   "cell_type": "code",
   "execution_count": 121,
   "id": "18a12735-151d-4dca-b4b4-bd05548bab16",
   "metadata": {},
   "outputs": [],
   "source": [
    " '''All Models'''\n",
    "models = {\n",
    "1 : make_pipeline(TfidfVectorizer(),LinearSVC(random_state=0, tol=1e-5)),\n",
    "2 : make_pipeline(CountVectorizer(),TfidfTransformer(),LogisticRegression()),\n",
    "3 : make_pipeline(CountVectorizer(),TfidfTransformer(),MultinomialNB()),\n",
    "4 : make_pipeline(CountVectorizer(),TfidfTransformer(),BernoulliNB()),\n",
    "5 : make_pipeline(CountVectorizer(),TfidfTransformer(),GradientBoostingClassifier()),\n",
    "6 : make_pipeline(CountVectorizer(),TfidfTransformer(),xg.XGBClassifier()),\n",
    "7 : make_pipeline(CountVectorizer(),TfidfTransformer(),DecisionTreeClassifier()),\n",
    "8 : make_pipeline(CountVectorizer(),TfidfTransformer(),KNeighborsClassifier())\n",
    "}\n",
    "map_keys = list(models.keys())"
   ]
  },
  {
   "cell_type": "code",
   "execution_count": 122,
   "id": "f206a40f-8d54-4972-a54e-44fb98eec006",
   "metadata": {},
   "outputs": [],
   "source": [
    "def get_model_building_technique_name(num):\n",
    "    if num == 1:\n",
    "     return 'LinearSVC'\n",
    "    if num == 2:\n",
    "     return 'LogisticRegression'\n",
    "    if num == 3:\n",
    "     return 'MultinomialNB'\n",
    "    if num == 4:\n",
    "     return 'BernoulliNB'\n",
    "    if num == 5:\n",
    "     return 'GradientBoostingClassifier'\n",
    "    if num == 6:\n",
    "     return 'XGBClassifier'\n",
    "    if num == 7:\n",
    "     return 'DecisionTreeClassifier'\n",
    "    if num == 8:\n",
    "     return 'KNeighborsClassifier'\n",
    "    return ''"
   ]
  },
  {
   "cell_type": "code",
   "execution_count": 168,
   "id": "1aa89372-f10c-4b8b-9c17-f0992094e280",
   "metadata": {},
   "outputs": [
    {
     "name": "stdout",
     "output_type": "stream",
     "text": [
      "1\n",
      "2\n",
      "3\n",
      "4\n",
      "5\n",
      "6\n",
      "Error\n",
      "7\n",
      "8\n",
      "Error\n"
     ]
    }
   ],
   "source": [
    "results = []\n",
    "for key_index in range(len(map_keys)):\n",
    "    try:\n",
    "        key = map_keys[key_index]\n",
    "        model = models[key]\n",
    "        print(key)\n",
    "        model.fit(X_train, y_train)\n",
    "        \n",
    "        '''Test Accuracy'''\n",
    "        y_pred = model.predict(X_test)\n",
    "        Accuracy_Test = accuracy_score(y_test, y_pred)\n",
    "        conf_mat_Test = confusion_matrix(y_test, y_pred)\n",
    "        true_positive_Test = conf_mat_Test[0][0]\n",
    "        false_positive_Test = conf_mat_Test[0][1]\n",
    "        false_negative_Test = conf_mat_Test[1][0]\n",
    "        true_negative_Test = conf_mat_Test[1][1]\n",
    "        Precision_Test = true_positive_Test / (true_positive_Test + false_positive_Test)\n",
    "        Recall_Test = true_positive_Test / (true_positive_Test + false_negative_Test)\n",
    "        F1_Score_Test = 2 * (Recall_Test * Precision_Test) / (Recall_Test + Precision_Test)\n",
    "        # AUC_Test = roc_auc_score(y_test, y_pred)\n",
    "        \n",
    "        '''Train Accuracy'''\n",
    "        y_pred_train = model.predict(X_train)\n",
    "        Accuracy_Train = accuracy_score(y_train, y_pred_train)\n",
    "        conf_mat_Train = confusion_matrix(y_train, y_pred_train)\n",
    "        true_positive_Train = conf_mat_Train[0][0]\n",
    "        false_positive_Train = conf_mat_Train[0][1]\n",
    "        false_negative_Train = conf_mat_Train[1][0]\n",
    "        true_negative_Train = conf_mat_Train[1][1]\n",
    "        Precision_Train = true_positive_Train / (true_positive_Train + false_positive_Train)\n",
    "        Recall_Train = true_positive_Train / (true_positive_Train + false_negative_Train)\n",
    "        F1_Score_Train = 2 * (Recall_Train * Precision_Train) / (Recall_Train + Precision_Train)\n",
    "        # AUC_Train = roc_auc_score(y_train, y_pred_train)\n",
    "        \n",
    "        results.append({\n",
    "            'Model Name': get_model_building_technique_name(key),\n",
    "            'Trained Model': model,\n",
    "            'Accuracy_Test': Accuracy_Test,\n",
    "            'Precision_Test': Precision_Test,\n",
    "            'Recall_Test': Recall_Test,\n",
    "            'F1_Score_Test': F1_Score_Test,\n",
    "            # 'AUC_Test': AUC_Test,\n",
    "            'Accuracy_Train': Accuracy_Train,\n",
    "            'Precision_Train': Precision_Train,\n",
    "            'Recall_Train': Recall_Train,\n",
    "            'F1_Score_Train': F1_Score_Train\n",
    "            # 'AUC_Train': AUC_Train\n",
    "        })\n",
    "    except:\n",
    "        print('Error')\n"
   ]
  },
  {
   "cell_type": "code",
   "execution_count": 169,
   "id": "f400da2c-6a5a-47a8-ac69-ea3498234289",
   "metadata": {},
   "outputs": [
    {
     "name": "stdout",
     "output_type": "stream",
     "text": [
      "[{'Model Name': 'LinearSVC', 'Trained Model': Pipeline(steps=[('tfidfvectorizer', TfidfVectorizer()),\n",
      "                ('linearsvc', LinearSVC(random_state=0, tol=1e-05))]), 'Accuracy_Test': 0.9713053263315828, 'Precision_Test': 0.9805573558003888, 'Recall_Test': 0.9960500329163924, 'F1_Score_Test': 0.9882429784454605, 'Accuracy_Train': 0.9893295542171185, 'Precision_Train': 0.996588693957115, 'Recall_Train': 0.9959646559521325, 'F1_Score_Train': 0.9962765772349237}, {'Model Name': 'LogisticRegression', 'Trained Model': Pipeline(steps=[('countvectorizer', CountVectorizer()),\n",
      "                ('tfidftransformer', TfidfTransformer()),\n",
      "                ('logisticregression', LogisticRegression())]), 'Accuracy_Test': 0.9328582145536384, 'Precision_Test': 0.9223237597911227, 'Recall_Test': 0.9950704225352113, 'F1_Score_Test': 0.9573170731707318, 'Accuracy_Train': 0.9626742804743347, 'Precision_Train': 0.9579021471312918, 'Recall_Train': 0.9962659247327573, 'F1_Score_Train': 0.9767074615080932}, {'Model Name': 'MultinomialNB', 'Trained Model': Pipeline(steps=[('countvectorizer', CountVectorizer()),\n",
      "                ('tfidftransformer', TfidfTransformer()),\n",
      "                ('multinomialnb', MultinomialNB())]), 'Accuracy_Test': 0.8394598649662416, 'Precision_Test': 0.8719790986283474, 'Recall_Test': 0.9611231101511879, 'F1_Score_Test': 0.9143835616438357, 'Accuracy_Train': 0.9077798386928704, 'Precision_Train': 0.9353384517855885, 'Recall_Train': 0.9789884989678561, 'F1_Score_Train': 0.9566658261590001}, {'Model Name': 'BernoulliNB', 'Trained Model': Pipeline(steps=[('countvectorizer', CountVectorizer()),\n",
      "                ('tfidftransformer', TfidfTransformer()),\n",
      "                ('bernoullinb', BernoulliNB())]), 'Accuracy_Test': 0.88615903975994, 'Precision_Test': 0.9580514208389715, 'Recall_Test': 0.9200779727095516, 'F1_Score_Test': 0.9386808087504144, 'Accuracy_Train': 0.9369151574515975, 'Precision_Train': 0.9827325706885387, 'Recall_Train': 0.9511176101942762, 'F1_Score_Train': 0.9666666666666666}, {'Model Name': 'GradientBoostingClassifier', 'Trained Model': Pipeline(steps=[('countvectorizer', CountVectorizer()),\n",
      "                ('tfidftransformer', TfidfTransformer()),\n",
      "                ('gradientboostingclassifier', GradientBoostingClassifier())]), 'Accuracy_Test': 0.7893848462115529, 'Precision_Test': 0.6541005291005291, 'Recall_Test': 0.9969758064516129, 'F1_Score_Test': 0.7899361022364217, 'Accuracy_Train': 0.8018464872975846, 'Precision_Train': 0.6678635547576302, 'Recall_Train': 0.9975329829454038, 'F1_Score_Train': 0.8000688231245698}, {'Model Name': 'DecisionTreeClassifier', 'Trained Model': Pipeline(steps=[('countvectorizer', CountVectorizer()),\n",
      "                ('tfidftransformer', TfidfTransformer()),\n",
      "                ('decisiontreeclassifier', DecisionTreeClassifier())]), 'Accuracy_Test': 0.9504876219054764, 'Precision_Test': 0.9865138233310856, 'Recall_Test': 0.9952380952380953, 'F1_Score_Test': 0.9908567558415171, 'Accuracy_Train': 1.0, 'Precision_Train': 1.0, 'Recall_Train': 1.0, 'F1_Score_Train': 1.0}]\n"
     ]
    }
   ],
   "source": [
    "print(results)"
   ]
  },
  {
   "cell_type": "code",
   "execution_count": 125,
   "id": "53662105-b289-41b8-a198-49abff2ddef6",
   "metadata": {},
   "outputs": [
    {
     "data": {
      "text/html": [
       "<div>\n",
       "<style scoped>\n",
       "    .dataframe tbody tr th:only-of-type {\n",
       "        vertical-align: middle;\n",
       "    }\n",
       "\n",
       "    .dataframe tbody tr th {\n",
       "        vertical-align: top;\n",
       "    }\n",
       "\n",
       "    .dataframe thead th {\n",
       "        text-align: right;\n",
       "    }\n",
       "</style>\n",
       "<table border=\"1\" class=\"dataframe\">\n",
       "  <thead>\n",
       "    <tr style=\"text-align: right;\">\n",
       "      <th></th>\n",
       "      <th>Model Name</th>\n",
       "      <th>Trained Model</th>\n",
       "      <th>Accuracy_Test</th>\n",
       "      <th>Precision_Test</th>\n",
       "      <th>Recall_Test</th>\n",
       "      <th>F1_Score_Test</th>\n",
       "      <th>Accuracy_Train</th>\n",
       "      <th>Precision_Train</th>\n",
       "      <th>Recall_Train</th>\n",
       "      <th>F1_Score_Train</th>\n",
       "      <th>difference_f1_score</th>\n",
       "    </tr>\n",
       "  </thead>\n",
       "  <tbody>\n",
       "    <tr>\n",
       "      <th>0</th>\n",
       "      <td>LinearSVC</td>\n",
       "      <td>(TfidfVectorizer(), LinearSVC(random_state=0, ...</td>\n",
       "      <td>0.901464</td>\n",
       "      <td>0.961875</td>\n",
       "      <td>0.968026</td>\n",
       "      <td>0.964940</td>\n",
       "      <td>0.983950</td>\n",
       "      <td>0.998019</td>\n",
       "      <td>0.993263</td>\n",
       "      <td>0.995635</td>\n",
       "      <td>0.030695</td>\n",
       "    </tr>\n",
       "    <tr>\n",
       "      <th>1</th>\n",
       "      <td>LogisticRegression</td>\n",
       "      <td>(CountVectorizer(), TfidfTransformer(), Logist...</td>\n",
       "      <td>0.871059</td>\n",
       "      <td>0.963533</td>\n",
       "      <td>0.936220</td>\n",
       "      <td>0.949681</td>\n",
       "      <td>0.939899</td>\n",
       "      <td>0.985091</td>\n",
       "      <td>0.975645</td>\n",
       "      <td>0.980345</td>\n",
       "      <td>0.030665</td>\n",
       "    </tr>\n",
       "    <tr>\n",
       "      <th>2</th>\n",
       "      <td>MultinomialNB</td>\n",
       "      <td>(CountVectorizer(), TfidfTransformer(), Multin...</td>\n",
       "      <td>0.668919</td>\n",
       "      <td>1.000000</td>\n",
       "      <td>0.855864</td>\n",
       "      <td>0.922335</td>\n",
       "      <td>0.717486</td>\n",
       "      <td>0.999682</td>\n",
       "      <td>0.867905</td>\n",
       "      <td>0.929145</td>\n",
       "      <td>0.006810</td>\n",
       "    </tr>\n",
       "    <tr>\n",
       "      <th>3</th>\n",
       "      <td>BernoulliNB</td>\n",
       "      <td>(CountVectorizer(), TfidfTransformer(), Bernou...</td>\n",
       "      <td>0.719313</td>\n",
       "      <td>0.955366</td>\n",
       "      <td>0.878603</td>\n",
       "      <td>0.915378</td>\n",
       "      <td>0.811032</td>\n",
       "      <td>0.968690</td>\n",
       "      <td>0.929815</td>\n",
       "      <td>0.948855</td>\n",
       "      <td>0.033477</td>\n",
       "    </tr>\n",
       "    <tr>\n",
       "      <th>4</th>\n",
       "      <td>GradientBoostingClassifier</td>\n",
       "      <td>(CountVectorizer(), TfidfTransformer(), ([Deci...</td>\n",
       "      <td>0.725225</td>\n",
       "      <td>0.976378</td>\n",
       "      <td>0.995984</td>\n",
       "      <td>0.986083</td>\n",
       "      <td>0.740857</td>\n",
       "      <td>0.983748</td>\n",
       "      <td>0.992711</td>\n",
       "      <td>0.988209</td>\n",
       "      <td>0.002125</td>\n",
       "    </tr>\n",
       "    <tr>\n",
       "      <th>5</th>\n",
       "      <td>DecisionTreeClassifier</td>\n",
       "      <td>(CountVectorizer(), TfidfTransformer(), Decisi...</td>\n",
       "      <td>0.827421</td>\n",
       "      <td>0.966148</td>\n",
       "      <td>0.985994</td>\n",
       "      <td>0.975970</td>\n",
       "      <td>1.000000</td>\n",
       "      <td>1.000000</td>\n",
       "      <td>1.000000</td>\n",
       "      <td>1.000000</td>\n",
       "      <td>0.024030</td>\n",
       "    </tr>\n",
       "  </tbody>\n",
       "</table>\n",
       "</div>"
      ],
      "text/plain": [
       "                   Model Name  \\\n",
       "0                   LinearSVC   \n",
       "1          LogisticRegression   \n",
       "2               MultinomialNB   \n",
       "3                 BernoulliNB   \n",
       "4  GradientBoostingClassifier   \n",
       "5      DecisionTreeClassifier   \n",
       "\n",
       "                                       Trained Model  Accuracy_Test  \\\n",
       "0  (TfidfVectorizer(), LinearSVC(random_state=0, ...       0.901464   \n",
       "1  (CountVectorizer(), TfidfTransformer(), Logist...       0.871059   \n",
       "2  (CountVectorizer(), TfidfTransformer(), Multin...       0.668919   \n",
       "3  (CountVectorizer(), TfidfTransformer(), Bernou...       0.719313   \n",
       "4  (CountVectorizer(), TfidfTransformer(), ([Deci...       0.725225   \n",
       "5  (CountVectorizer(), TfidfTransformer(), Decisi...       0.827421   \n",
       "\n",
       "   Precision_Test  Recall_Test  F1_Score_Test  Accuracy_Train  \\\n",
       "0        0.961875     0.968026       0.964940        0.983950   \n",
       "1        0.963533     0.936220       0.949681        0.939899   \n",
       "2        1.000000     0.855864       0.922335        0.717486   \n",
       "3        0.955366     0.878603       0.915378        0.811032   \n",
       "4        0.976378     0.995984       0.986083        0.740857   \n",
       "5        0.966148     0.985994       0.975970        1.000000   \n",
       "\n",
       "   Precision_Train  Recall_Train  F1_Score_Train  difference_f1_score  \n",
       "0         0.998019      0.993263        0.995635             0.030695  \n",
       "1         0.985091      0.975645        0.980345             0.030665  \n",
       "2         0.999682      0.867905        0.929145             0.006810  \n",
       "3         0.968690      0.929815        0.948855             0.033477  \n",
       "4         0.983748      0.992711        0.988209             0.002125  \n",
       "5         1.000000      1.000000        1.000000             0.024030  "
      ]
     },
     "execution_count": 125,
     "metadata": {},
     "output_type": "execute_result"
    }
   ],
   "source": [
    "result_df = pd.DataFrame(results)\n",
    "result_df['difference_f1_score'] = abs(result_df['F1_Score_Test'] - result_df['F1_Score_Train'])\n",
    "# result_df_test = result_df.iloc[: , [0,2,3,4,5]]\n",
    "# result_df_train = result_df.iloc[: , [0,6,7,8,9]]\n",
    "result_df"
   ]
  },
  {
   "cell_type": "markdown",
   "id": "077299d7-8a9b-459c-839b-742709d4929e",
   "metadata": {},
   "source": [
    "# Save Best Model"
   ]
  },
  {
   "cell_type": "code",
   "execution_count": 127,
   "id": "0af8d580-fa4e-4844-b254-e844819410c9",
   "metadata": {},
   "outputs": [],
   "source": [
    "Best_Model_Name = result_df[result_df['difference_f1_score'] == min(result_df['difference_f1_score'])]['Trained Model'].values[0]\n",
    "import pickle\n",
    "with open('financial_news_model_hd.sav', 'wb') as best_model_pickle:\n",
    "    pickle.dump(Best_Model_Name, best_model_pickle)"
   ]
  },
  {
   "cell_type": "code",
   "execution_count": 128,
   "id": "c11274b4-d515-4194-aa2a-8f53d995d314",
   "metadata": {},
   "outputs": [],
   "source": [
    "# Working with test dataset"
   ]
  },
  {
   "cell_type": "code",
   "execution_count": 129,
   "id": "8ac9b4b1-b4db-4b91-ae85-072027215676",
   "metadata": {},
   "outputs": [],
   "source": [
    "# Perform the prediction on the test dataset"
   ]
  },
  {
   "cell_type": "code",
   "execution_count": 130,
   "id": "09ed4b40-e947-41c8-9f8f-fa1b4fbe4c6a",
   "metadata": {},
   "outputs": [
    {
     "data": {
      "text/html": [
       "<div>\n",
       "<style scoped>\n",
       "    .dataframe tbody tr th:only-of-type {\n",
       "        vertical-align: middle;\n",
       "    }\n",
       "\n",
       "    .dataframe tbody tr th {\n",
       "        vertical-align: top;\n",
       "    }\n",
       "\n",
       "    .dataframe thead th {\n",
       "        text-align: right;\n",
       "    }\n",
       "</style>\n",
       "<table border=\"1\" class=\"dataframe\">\n",
       "  <thead>\n",
       "    <tr style=\"text-align: right;\">\n",
       "      <th></th>\n",
       "      <th>0</th>\n",
       "    </tr>\n",
       "  </thead>\n",
       "  <tbody>\n",
       "    <tr>\n",
       "      <th>0</th>\n",
       "      <td>Negative</td>\n",
       "    </tr>\n",
       "    <tr>\n",
       "      <th>1</th>\n",
       "      <td>Negative</td>\n",
       "    </tr>\n",
       "    <tr>\n",
       "      <th>2</th>\n",
       "      <td>Positive</td>\n",
       "    </tr>\n",
       "    <tr>\n",
       "      <th>3</th>\n",
       "      <td>Positive</td>\n",
       "    </tr>\n",
       "    <tr>\n",
       "      <th>4</th>\n",
       "      <td>Positive</td>\n",
       "    </tr>\n",
       "    <tr>\n",
       "      <th>...</th>\n",
       "      <td>...</td>\n",
       "    </tr>\n",
       "    <tr>\n",
       "      <th>3547</th>\n",
       "      <td>Negative</td>\n",
       "    </tr>\n",
       "    <tr>\n",
       "      <th>3548</th>\n",
       "      <td>Positive</td>\n",
       "    </tr>\n",
       "    <tr>\n",
       "      <th>3549</th>\n",
       "      <td>Positive</td>\n",
       "    </tr>\n",
       "    <tr>\n",
       "      <th>3550</th>\n",
       "      <td>Positive</td>\n",
       "    </tr>\n",
       "    <tr>\n",
       "      <th>3551</th>\n",
       "      <td>Positive</td>\n",
       "    </tr>\n",
       "  </tbody>\n",
       "</table>\n",
       "<p>3552 rows × 1 columns</p>\n",
       "</div>"
      ],
      "text/plain": [
       "             0\n",
       "0     Negative\n",
       "1     Negative\n",
       "2     Positive\n",
       "3     Positive\n",
       "4     Positive\n",
       "...        ...\n",
       "3547  Negative\n",
       "3548  Positive\n",
       "3549  Positive\n",
       "3550  Positive\n",
       "3551  Positive\n",
       "\n",
       "[3552 rows x 1 columns]"
      ]
     },
     "execution_count": 130,
     "metadata": {},
     "output_type": "execute_result"
    }
   ],
   "source": [
    "# Perforn the prediction on the test dataset\n",
    "best_model_hd = pickle.load(open('financial_news_model_hd.sav', 'rb'))\n",
    "result = best_model_hd.predict(X_test)\n",
    "pd.DataFrame(result)"
   ]
  },
  {
   "cell_type": "markdown",
   "id": "ba1ce0c2-94f1-4dfe-92fa-4c0f410b0500",
   "metadata": {},
   "source": [
    "# Working on headlines of cnbc, reuters and guardian datasets"
   ]
  },
  {
   "cell_type": "code",
   "execution_count": 131,
   "id": "4ced36a0-3895-4094-977f-4fa7087ae02d",
   "metadata": {},
   "outputs": [],
   "source": [
    "# From the dataset you have copied before delete the column of description"
   ]
  },
  {
   "cell_type": "code",
   "execution_count": 132,
   "id": "b3e75cd2-e91d-4dab-a804-7d739b1b07eb",
   "metadata": {},
   "outputs": [],
   "source": [
    "df_concatened_d_copied = df_concatened_d_copied.drop(['Description'], axis = 1)\n",
    "df_concatened_d_copied = df_concatened_d_copied.drop(['ds_score'], axis = 1)"
   ]
  },
  {
   "cell_type": "code",
   "execution_count": 133,
   "id": "8c164207-531d-4f91-8dc7-07f35ff69cbf",
   "metadata": {},
   "outputs": [],
   "source": [
    "# Concatenate the gaurdian headlines dataset and copy of dataset to get all headlines together"
   ]
  },
  {
   "cell_type": "code",
   "execution_count": 134,
   "id": "751661af-9c03-4c68-87a4-46eca119ca27",
   "metadata": {},
   "outputs": [],
   "source": [
    "df_concatened_h = pd.concat([df_guardian,df_concatened_d_copied], axis = 0).reset_index(drop = True)"
   ]
  },
  {
   "cell_type": "code",
   "execution_count": 135,
   "id": "3cbe7ced-2628-4b01-99ca-68719fa9cccf",
   "metadata": {},
   "outputs": [],
   "source": [
    "# Check the shape of all headlines dataset"
   ]
  },
  {
   "cell_type": "code",
   "execution_count": 136,
   "id": "0e13b680-2f73-4de5-b7a3-88b40ff8267b",
   "metadata": {},
   "outputs": [
    {
     "data": {
      "text/plain": [
       "(53315, 2)"
      ]
     },
     "execution_count": 136,
     "metadata": {},
     "output_type": "execute_result"
    }
   ],
   "source": [
    "df_concatened_h.shape"
   ]
  },
  {
   "cell_type": "code",
   "execution_count": 137,
   "id": "4bd2631a-2216-4481-b792-50b49dcd03e0",
   "metadata": {},
   "outputs": [],
   "source": [
    "# Apply preprocessing to the headlines column in the new dataset"
   ]
  },
  {
   "cell_type": "code",
   "execution_count": 138,
   "id": "61b71a89-1ff4-49e8-a1e6-587b2b979f9b",
   "metadata": {},
   "outputs": [
    {
     "data": {
      "text/html": [
       "<div>\n",
       "<style scoped>\n",
       "    .dataframe tbody tr th:only-of-type {\n",
       "        vertical-align: middle;\n",
       "    }\n",
       "\n",
       "    .dataframe tbody tr th {\n",
       "        vertical-align: top;\n",
       "    }\n",
       "\n",
       "    .dataframe thead th {\n",
       "        text-align: right;\n",
       "    }\n",
       "</style>\n",
       "<table border=\"1\" class=\"dataframe\">\n",
       "  <thead>\n",
       "    <tr style=\"text-align: right;\">\n",
       "      <th></th>\n",
       "      <th>Time</th>\n",
       "      <th>Headlines</th>\n",
       "    </tr>\n",
       "  </thead>\n",
       "  <tbody>\n",
       "    <tr>\n",
       "      <th>0</th>\n",
       "      <td>18-Jul-20</td>\n",
       "      <td>johnson ask santa christma recoveri</td>\n",
       "    </tr>\n",
       "    <tr>\n",
       "      <th>1</th>\n",
       "      <td>18-Jul-20</td>\n",
       "      <td>‘ fear worst ’ four grim tale work life upend ...</td>\n",
       "    </tr>\n",
       "    <tr>\n",
       "      <th>2</th>\n",
       "      <td>18-Jul-20</td>\n",
       "      <td>five key area sunak must tackl serv econom rec...</td>\n",
       "    </tr>\n",
       "    <tr>\n",
       "      <th>3</th>\n",
       "      <td>18-Jul-20</td>\n",
       "      <td>covid19 leav firm ‘ fatal illprepar ’ nodeal b...</td>\n",
       "    </tr>\n",
       "    <tr>\n",
       "      <th>4</th>\n",
       "      <td>18-Jul-20</td>\n",
       "      <td>week patriarchi bacardi ladi vodka latest long...</td>\n",
       "    </tr>\n",
       "  </tbody>\n",
       "</table>\n",
       "</div>"
      ],
      "text/plain": [
       "        Time                                          Headlines\n",
       "0  18-Jul-20                johnson ask santa christma recoveri\n",
       "1  18-Jul-20  ‘ fear worst ’ four grim tale work life upend ...\n",
       "2  18-Jul-20  five key area sunak must tackl serv econom rec...\n",
       "3  18-Jul-20  covid19 leav firm ‘ fatal illprepar ’ nodeal b...\n",
       "4  18-Jul-20  week patriarchi bacardi ladi vodka latest long..."
      ]
     },
     "execution_count": 138,
     "metadata": {},
     "output_type": "execute_result"
    }
   ],
   "source": [
    "df_concatened_h['Headlines'] = df_concatened_h['Headlines'].apply(lambda x : preprocess(x))\n",
    "df_concatened_h.head()"
   ]
  },
  {
   "cell_type": "code",
   "execution_count": 139,
   "id": "628e16f0-66f4-4db1-8bb3-7c9bcfa29a93",
   "metadata": {},
   "outputs": [],
   "source": [
    "# Analyze polarity score of values in headlines and add new column of it in dataset"
   ]
  },
  {
   "cell_type": "code",
   "execution_count": 140,
   "id": "11ce12ef-b8cc-4e9c-8439-9700b39844a5",
   "metadata": {},
   "outputs": [],
   "source": [
    "df_concatened_h['ds_score_headlines'] = df_concatened_h['Headlines'].apply(lambda x: polarity(x))"
   ]
  },
  {
   "cell_type": "code",
   "execution_count": 141,
   "id": "13871a3f-c205-4f0d-a62a-5bfba5aa6291",
   "metadata": {},
   "outputs": [],
   "source": [
    "# Apply the function which decides sentiment to polarity score column"
   ]
  },
  {
   "cell_type": "code",
   "execution_count": 142,
   "id": "019ee338-fd8a-4e46-997a-1294125d6d30",
   "metadata": {},
   "outputs": [],
   "source": [
    "df_concatened_h['ds_score_headlines'] = df_concatened_h['ds_score_headlines'].apply(lambda x : assign_sentiment(x))"
   ]
  },
  {
   "cell_type": "code",
   "execution_count": 143,
   "id": "ee6a8060-6585-40ca-9feb-c8dc36effc0e",
   "metadata": {},
   "outputs": [
    {
     "data": {
      "text/html": [
       "<div>\n",
       "<style scoped>\n",
       "    .dataframe tbody tr th:only-of-type {\n",
       "        vertical-align: middle;\n",
       "    }\n",
       "\n",
       "    .dataframe tbody tr th {\n",
       "        vertical-align: top;\n",
       "    }\n",
       "\n",
       "    .dataframe thead th {\n",
       "        text-align: right;\n",
       "    }\n",
       "</style>\n",
       "<table border=\"1\" class=\"dataframe\">\n",
       "  <thead>\n",
       "    <tr style=\"text-align: right;\">\n",
       "      <th></th>\n",
       "      <th>Time</th>\n",
       "      <th>Headlines</th>\n",
       "      <th>ds_score_headlines</th>\n",
       "    </tr>\n",
       "  </thead>\n",
       "  <tbody>\n",
       "    <tr>\n",
       "      <th>0</th>\n",
       "      <td>18-Jul-20</td>\n",
       "      <td>johnson ask santa christma recoveri</td>\n",
       "      <td>Neutral</td>\n",
       "    </tr>\n",
       "    <tr>\n",
       "      <th>1</th>\n",
       "      <td>18-Jul-20</td>\n",
       "      <td>‘ fear worst ’ four grim tale work life upend ...</td>\n",
       "      <td>Negative</td>\n",
       "    </tr>\n",
       "    <tr>\n",
       "      <th>2</th>\n",
       "      <td>18-Jul-20</td>\n",
       "      <td>five key area sunak must tackl serv econom rec...</td>\n",
       "      <td>Neutral</td>\n",
       "    </tr>\n",
       "    <tr>\n",
       "      <th>3</th>\n",
       "      <td>18-Jul-20</td>\n",
       "      <td>covid19 leav firm ‘ fatal illprepar ’ nodeal b...</td>\n",
       "      <td>Negative</td>\n",
       "    </tr>\n",
       "    <tr>\n",
       "      <th>4</th>\n",
       "      <td>18-Jul-20</td>\n",
       "      <td>week patriarchi bacardi ladi vodka latest long...</td>\n",
       "      <td>Negative</td>\n",
       "    </tr>\n",
       "  </tbody>\n",
       "</table>\n",
       "</div>"
      ],
      "text/plain": [
       "        Time                                          Headlines  \\\n",
       "0  18-Jul-20                johnson ask santa christma recoveri   \n",
       "1  18-Jul-20  ‘ fear worst ’ four grim tale work life upend ...   \n",
       "2  18-Jul-20  five key area sunak must tackl serv econom rec...   \n",
       "3  18-Jul-20  covid19 leav firm ‘ fatal illprepar ’ nodeal b...   \n",
       "4  18-Jul-20  week patriarchi bacardi ladi vodka latest long...   \n",
       "\n",
       "  ds_score_headlines  \n",
       "0            Neutral  \n",
       "1           Negative  \n",
       "2            Neutral  \n",
       "3           Negative  \n",
       "4           Negative  "
      ]
     },
     "execution_count": 143,
     "metadata": {},
     "output_type": "execute_result"
    }
   ],
   "source": [
    "df_concatened_h.head()"
   ]
  },
  {
   "cell_type": "code",
   "execution_count": 144,
   "id": "c0c0c4b5-36e4-402b-a38e-16918930c022",
   "metadata": {},
   "outputs": [],
   "source": [
    "# Create a countplot on headline score column"
   ]
  },
  {
   "cell_type": "code",
   "execution_count": 145,
   "id": "97a7b0af-7017-4792-a4e1-acb6541892ea",
   "metadata": {},
   "outputs": [
    {
     "data": {
      "text/plain": [
       "<Axes: xlabel='count', ylabel='ds_score_headlines'>"
      ]
     },
     "execution_count": 145,
     "metadata": {},
     "output_type": "execute_result"
    },
    {
     "data": {
      "image/png": "[encoded data removed]",
      "text/plain": [
       "<Figure size 640x480 with 1 Axes>"
      ]
     },
     "metadata": {},
     "output_type": "display_data"
    }
   ],
   "source": [
    "sns.countplot(df_concatened_h['ds_score_headlines'])"
   ]
  },
  {
   "cell_type": "code",
   "execution_count": 146,
   "id": "c935c400-25d1-48e0-a982-d59eb8264c7d",
   "metadata": {},
   "outputs": [],
   "source": [
    "# Observation:\n",
    "#     Headlines contains approximately:\n",
    "#         14000 positive statment\n",
    "#         16000 negative statment\n",
    "#         24000 neutral statment"
   ]
  },
  {
   "cell_type": "code",
   "execution_count": 147,
   "id": "117fa8c7-be7d-4df4-ac97-dfe6e2495411",
   "metadata": {},
   "outputs": [],
   "source": [
    "# Create a pie digram on headline score column"
   ]
  },
  {
   "cell_type": "code",
   "execution_count": 148,
   "id": "84c5c52f-e895-4b54-89f4-2dec847e2172",
   "metadata": {},
   "outputs": [
    {
     "data": {
      "image/png": "[encoded data removed]",
      "text/plain": [
       "<Figure size 2000x500 with 1 Axes>"
      ]
     },
     "metadata": {},
     "output_type": "display_data"
    }
   ],
   "source": [
    "# plotting data on chart\n",
    "plt.figure(figsize = (20,5))\n",
    "plt.pie(df_concatened_h['ds_score_headlines'].value_counts(normalize = True), autopct='%.2f%%')\n",
    "plt.legend(['Positive', 'Negative', 'Neutral'])\n",
    "# displaying chart\n",
    "plt.show()"
   ]
  },
  {
   "cell_type": "code",
   "execution_count": 149,
   "id": "f07b3032-09aa-41ce-9047-919e3e085c64",
   "metadata": {},
   "outputs": [],
   "source": [
    "# Observation:\n",
    "#     Headlines contains:\n",
    "#         24.8% positive statments\n",
    "#         30.3% negtive statements\n",
    "#         44.9% neutral statments"
   ]
  },
  {
   "cell_type": "code",
   "execution_count": 150,
   "id": "55c6cdde-9512-49f0-b333-5e9a9cf41200",
   "metadata": {},
   "outputs": [],
   "source": [
    "# Spliting in Independent and Dependent Features"
   ]
  },
  {
   "cell_type": "code",
   "execution_count": 151,
   "id": "cc3df2ab-cd5c-4982-8411-e6931fa7f330",
   "metadata": {},
   "outputs": [],
   "source": [
    "X = df_concatened_h['Headlines']\n",
    "y = df_concatened_h['ds_score_headlines']"
   ]
  },
  {
   "cell_type": "code",
   "execution_count": 152,
   "id": "6053a923-2335-4985-866d-066b30528507",
   "metadata": {},
   "outputs": [],
   "source": [
    "# Train test split"
   ]
  },
  {
   "cell_type": "code",
   "execution_count": 153,
   "id": "2a1220b6-7f94-42a0-bfe3-75e6e371f8c2",
   "metadata": {},
   "outputs": [],
   "source": [
    "# Split the dataset into test and train\n",
    "# 90% train , 10% test and random state 212"
   ]
  },
  {
   "cell_type": "code",
   "execution_count": 154,
   "id": "b74cbd2c-ce3d-48bd-a629-69e174503f7f",
   "metadata": {},
   "outputs": [],
   "source": [
    "X_train, X_test, y_train, y_test = train_test_split(X, y, test_size=0.10, random_state = 212)"
   ]
  },
  {
   "cell_type": "markdown",
   "id": "12b456af-5ddb-4948-943f-f31fe449642b",
   "metadata": {},
   "source": [
    "# Modeling on headlines"
   ]
  },
  {
   "cell_type": "code",
   "execution_count": 155,
   "id": "76c138b7-eee3-4552-b5a0-4c7ee44e3a65",
   "metadata": {},
   "outputs": [],
   "source": [
    " '''All Models'''\n",
    "models = {\n",
    "1 : make_pipeline(TfidfVectorizer(),LinearSVC(random_state=0, tol=1e-5)),\n",
    "2 : make_pipeline(CountVectorizer(),TfidfTransformer(),LogisticRegression()),\n",
    "3 : make_pipeline(CountVectorizer(),TfidfTransformer(),MultinomialNB()),\n",
    "4 : make_pipeline(CountVectorizer(),TfidfTransformer(),BernoulliNB()),\n",
    "5 : make_pipeline(CountVectorizer(),TfidfTransformer(),GradientBoostingClassifier()),\n",
    "6 : make_pipeline(CountVectorizer(),TfidfTransformer(),xg.XGBClassifier()),\n",
    "7 : make_pipeline(CountVectorizer(),TfidfTransformer(),DecisionTreeClassifier()),\n",
    "8 : make_pipeline(CountVectorizer(),TfidfTransformer(),KNeighborsClassifier())\n",
    "}\n",
    "map_keys = list(models.keys())"
   ]
  },
  {
   "cell_type": "code",
   "execution_count": 156,
   "id": "ef72f2a5-ec86-426d-8a13-fab564d8b32a",
   "metadata": {},
   "outputs": [],
   "source": [
    "def get_model_building_technique_name(num):\n",
    "    if num == 1:\n",
    "     return 'LinearSVC'\n",
    "    if num == 2:\n",
    "     return 'LogisticRegression'\n",
    "    if num == 3:\n",
    "     return 'MultinomialNB'\n",
    "    if num == 4:\n",
    "     return 'BernoulliNB'\n",
    "    if num == 5:\n",
    "     return 'GradientBoostingClassifier'\n",
    "    if num == 6:\n",
    "     return 'XGBClassifier'\n",
    "    if num == 7:\n",
    "     return 'DecisionTreeClassifier'\n",
    "    if num == 8:\n",
    "     return 'KNeighborsClassifier'\n",
    "    return ''"
   ]
  },
  {
   "cell_type": "code",
   "execution_count": 166,
   "id": "fa6cb9d4-dec7-4135-a5a3-0c6a6c744d72",
   "metadata": {},
   "outputs": [
    {
     "name": "stdout",
     "output_type": "stream",
     "text": [
      "1\n",
      "2\n",
      "3\n",
      "4\n",
      "5\n",
      "6\n",
      "Error\n",
      "7\n",
      "8\n",
      "Error\n"
     ]
    }
   ],
   "source": [
    "results = []\n",
    "for key_index in range(len(map_keys)):\n",
    "    try:\n",
    "        key = map_keys[key_index]\n",
    "        model = models[key]\n",
    "        print(key)\n",
    "        model.fit(X_train, y_train)\n",
    "        \n",
    "        '''Test Accuracy'''\n",
    "        y_pred = model.predict(X_test)\n",
    "        Accuracy_Test = accuracy_score(y_test, y_pred)\n",
    "        conf_mat_Test = confusion_matrix(y_test, y_pred)\n",
    "        true_positive_Test = conf_mat_Test[0][0]\n",
    "        false_positive_Test = conf_mat_Test[0][1]\n",
    "        false_negative_Test = conf_mat_Test[1][0]\n",
    "        true_negative_Test = conf_mat_Test[1][1]\n",
    "        Precision_Test = true_positive_Test / (true_positive_Test + false_positive_Test)\n",
    "        Recall_Test = true_positive_Test / (true_positive_Test + false_negative_Test)\n",
    "        F1_Score_Test = 2 * (Recall_Test * Precision_Test) / (Recall_Test + Precision_Test)\n",
    "        \n",
    "        '''Train Accuracy'''\n",
    "        y_pred_train = model.predict(X_train)\n",
    "        Accuracy_Train = accuracy_score(y_train, y_pred_train)\n",
    "        conf_mat_Train = confusion_matrix(y_train, y_pred_train)\n",
    "        true_positive_Train = conf_mat_Train[0][0]\n",
    "        false_positive_Train = conf_mat_Train[0][1]\n",
    "        false_negative_Train = conf_mat_Train[1][0]\n",
    "        true_negative_Train = conf_mat_Train[1][1]\n",
    "        Precision_Train = true_positive_Train / (true_positive_Train + false_positive_Train)\n",
    "        Recall_Train = true_positive_Train / (true_positive_Train + false_negative_Train)\n",
    "        F1_Score_Train = 2 * (Recall_Train * Precision_Train) / (Recall_Train + Precision_Train)\n",
    "        \n",
    "        results.append({\n",
    "            'Model Name': get_model_building_technique_name(key),\n",
    "            'Trained Model': model,\n",
    "            'Accuracy_Test': Accuracy_Test,\n",
    "            'Precision_Test': Precision_Test,\n",
    "            'Recall_Test': Recall_Test,\n",
    "            'F1_Score_Test': F1_Score_Test,\n",
    "            # 'AUC_Test': AUC_Test,\n",
    "            'Accuracy_Train': Accuracy_Train,\n",
    "            'Precision_Train': Precision_Train,\n",
    "            'Recall_Train': Recall_Train,\n",
    "            'F1_Score_Train': F1_Score_Train\n",
    "            # 'AUC_Train': AUC_Train\n",
    "        })\n",
    "    except:\n",
    "        print('Error')\n"
   ]
  },
  {
   "cell_type": "code",
   "execution_count": 158,
   "id": "fc8700be-32e1-4c77-a509-d90dd2923b3c",
   "metadata": {},
   "outputs": [
    {
     "data": {
      "text/html": [
       "<div>\n",
       "<style scoped>\n",
       "    .dataframe tbody tr th:only-of-type {\n",
       "        vertical-align: middle;\n",
       "    }\n",
       "\n",
       "    .dataframe tbody tr th {\n",
       "        vertical-align: top;\n",
       "    }\n",
       "\n",
       "    .dataframe thead th {\n",
       "        text-align: right;\n",
       "    }\n",
       "</style>\n",
       "<table border=\"1\" class=\"dataframe\">\n",
       "  <thead>\n",
       "    <tr style=\"text-align: right;\">\n",
       "      <th></th>\n",
       "      <th>Model Name</th>\n",
       "      <th>Trained Model</th>\n",
       "      <th>Accuracy_Test</th>\n",
       "      <th>Precision_Test</th>\n",
       "      <th>Recall_Test</th>\n",
       "      <th>F1_Score_Test</th>\n",
       "      <th>Accuracy_Train</th>\n",
       "      <th>Precision_Train</th>\n",
       "      <th>Recall_Train</th>\n",
       "      <th>F1_Score_Train</th>\n",
       "      <th>difference_f1_score</th>\n",
       "    </tr>\n",
       "  </thead>\n",
       "  <tbody>\n",
       "    <tr>\n",
       "      <th>0</th>\n",
       "      <td>LinearSVC</td>\n",
       "      <td>(TfidfVectorizer(), LinearSVC(random_state=0, ...</td>\n",
       "      <td>0.901464</td>\n",
       "      <td>0.961875</td>\n",
       "      <td>0.968026</td>\n",
       "      <td>0.964940</td>\n",
       "      <td>0.983950</td>\n",
       "      <td>0.998019</td>\n",
       "      <td>0.993263</td>\n",
       "      <td>0.995635</td>\n",
       "      <td>0.030695</td>\n",
       "    </tr>\n",
       "    <tr>\n",
       "      <th>1</th>\n",
       "      <td>LogisticRegression</td>\n",
       "      <td>(CountVectorizer(), TfidfTransformer(), Logist...</td>\n",
       "      <td>0.871059</td>\n",
       "      <td>0.963533</td>\n",
       "      <td>0.936220</td>\n",
       "      <td>0.949681</td>\n",
       "      <td>0.939899</td>\n",
       "      <td>0.985091</td>\n",
       "      <td>0.975645</td>\n",
       "      <td>0.980345</td>\n",
       "      <td>0.030665</td>\n",
       "    </tr>\n",
       "    <tr>\n",
       "      <th>2</th>\n",
       "      <td>MultinomialNB</td>\n",
       "      <td>(CountVectorizer(), TfidfTransformer(), Multin...</td>\n",
       "      <td>0.668919</td>\n",
       "      <td>1.000000</td>\n",
       "      <td>0.855864</td>\n",
       "      <td>0.922335</td>\n",
       "      <td>0.717486</td>\n",
       "      <td>0.999682</td>\n",
       "      <td>0.867905</td>\n",
       "      <td>0.929145</td>\n",
       "      <td>0.006810</td>\n",
       "    </tr>\n",
       "    <tr>\n",
       "      <th>3</th>\n",
       "      <td>BernoulliNB</td>\n",
       "      <td>(CountVectorizer(), TfidfTransformer(), Bernou...</td>\n",
       "      <td>0.719313</td>\n",
       "      <td>0.955366</td>\n",
       "      <td>0.878603</td>\n",
       "      <td>0.915378</td>\n",
       "      <td>0.811032</td>\n",
       "      <td>0.968690</td>\n",
       "      <td>0.929815</td>\n",
       "      <td>0.948855</td>\n",
       "      <td>0.033477</td>\n",
       "    </tr>\n",
       "    <tr>\n",
       "      <th>4</th>\n",
       "      <td>GradientBoostingClassifier</td>\n",
       "      <td>(CountVectorizer(), TfidfTransformer(), ([Deci...</td>\n",
       "      <td>0.725225</td>\n",
       "      <td>0.976378</td>\n",
       "      <td>0.995984</td>\n",
       "      <td>0.986083</td>\n",
       "      <td>0.740857</td>\n",
       "      <td>0.983748</td>\n",
       "      <td>0.992711</td>\n",
       "      <td>0.988209</td>\n",
       "      <td>0.002125</td>\n",
       "    </tr>\n",
       "    <tr>\n",
       "      <th>5</th>\n",
       "      <td>DecisionTreeClassifier</td>\n",
       "      <td>(CountVectorizer(), TfidfTransformer(), Decisi...</td>\n",
       "      <td>0.827421</td>\n",
       "      <td>0.966148</td>\n",
       "      <td>0.985994</td>\n",
       "      <td>0.975970</td>\n",
       "      <td>1.000000</td>\n",
       "      <td>1.000000</td>\n",
       "      <td>1.000000</td>\n",
       "      <td>1.000000</td>\n",
       "      <td>0.024030</td>\n",
       "    </tr>\n",
       "  </tbody>\n",
       "</table>\n",
       "</div>"
      ],
      "text/plain": [
       "                   Model Name  \\\n",
       "0                   LinearSVC   \n",
       "1          LogisticRegression   \n",
       "2               MultinomialNB   \n",
       "3                 BernoulliNB   \n",
       "4  GradientBoostingClassifier   \n",
       "5      DecisionTreeClassifier   \n",
       "\n",
       "                                       Trained Model  Accuracy_Test  \\\n",
       "0  (TfidfVectorizer(), LinearSVC(random_state=0, ...       0.901464   \n",
       "1  (CountVectorizer(), TfidfTransformer(), Logist...       0.871059   \n",
       "2  (CountVectorizer(), TfidfTransformer(), Multin...       0.668919   \n",
       "3  (CountVectorizer(), TfidfTransformer(), Bernou...       0.719313   \n",
       "4  (CountVectorizer(), TfidfTransformer(), ([Deci...       0.725225   \n",
       "5  (CountVectorizer(), TfidfTransformer(), Decisi...       0.827421   \n",
       "\n",
       "   Precision_Test  Recall_Test  F1_Score_Test  Accuracy_Train  \\\n",
       "0        0.961875     0.968026       0.964940        0.983950   \n",
       "1        0.963533     0.936220       0.949681        0.939899   \n",
       "2        1.000000     0.855864       0.922335        0.717486   \n",
       "3        0.955366     0.878603       0.915378        0.811032   \n",
       "4        0.976378     0.995984       0.986083        0.740857   \n",
       "5        0.966148     0.985994       0.975970        1.000000   \n",
       "\n",
       "   Precision_Train  Recall_Train  F1_Score_Train  difference_f1_score  \n",
       "0         0.998019      0.993263        0.995635             0.030695  \n",
       "1         0.985091      0.975645        0.980345             0.030665  \n",
       "2         0.999682      0.867905        0.929145             0.006810  \n",
       "3         0.968690      0.929815        0.948855             0.033477  \n",
       "4         0.983748      0.992711        0.988209             0.002125  \n",
       "5         1.000000      1.000000        1.000000             0.024030  "
      ]
     },
     "execution_count": 158,
     "metadata": {},
     "output_type": "execute_result"
    }
   ],
   "source": [
    "result_df['difference_f1_score'] = abs(result_df['F1_Score_Test'] - result_df['F1_Score_Train'])\n",
    "# result_df_test = result_df.iloc[: , [0,2,3,4,5]]\n",
    "# result_df_train = result_df.iloc[: , [0,6,7,8,9]]\n",
    "result_df"
   ]
  },
  {
   "cell_type": "code",
   "execution_count": 159,
   "id": "2f6f998b-9cc0-41c5-88cd-1162af972d52",
   "metadata": {},
   "outputs": [],
   "source": [
    "Best_Model_Name = result_df[result_df['difference_f1_score'] == min(result_df['difference_f1_score'])]['Trained Model'].values[0]\n",
    "import pickle\n",
    "with open('financial_news_model_h.sav', 'wb') as best_model_pickle:\n",
    "    pickle.dump(Best_Model_Name, best_model_pickle)"
   ]
  },
  {
   "cell_type": "markdown",
   "id": "410fe8d5-7af4-4fa3-9759-a382838f0ce4",
   "metadata": {},
   "source": [
    "# Working with test dataset"
   ]
  },
  {
   "cell_type": "code",
   "execution_count": 160,
   "id": "1d99c07c-d459-4f1d-8f7c-0ede1542a9cb",
   "metadata": {},
   "outputs": [],
   "source": [
    "# Perforn the prediction on the test dataset"
   ]
  },
  {
   "cell_type": "code",
   "execution_count": 161,
   "id": "26b8431d-538c-4da5-80d8-fdfedb224e7a",
   "metadata": {},
   "outputs": [
    {
     "data": {
      "text/html": [
       "<div>\n",
       "<style scoped>\n",
       "    .dataframe tbody tr th:only-of-type {\n",
       "        vertical-align: middle;\n",
       "    }\n",
       "\n",
       "    .dataframe tbody tr th {\n",
       "        vertical-align: top;\n",
       "    }\n",
       "\n",
       "    .dataframe thead th {\n",
       "        text-align: right;\n",
       "    }\n",
       "</style>\n",
       "<table border=\"1\" class=\"dataframe\">\n",
       "  <thead>\n",
       "    <tr style=\"text-align: right;\">\n",
       "      <th></th>\n",
       "      <th>0</th>\n",
       "    </tr>\n",
       "  </thead>\n",
       "  <tbody>\n",
       "    <tr>\n",
       "      <th>0</th>\n",
       "      <td>Positive</td>\n",
       "    </tr>\n",
       "    <tr>\n",
       "      <th>1</th>\n",
       "      <td>Positive</td>\n",
       "    </tr>\n",
       "    <tr>\n",
       "      <th>2</th>\n",
       "      <td>Positive</td>\n",
       "    </tr>\n",
       "    <tr>\n",
       "      <th>3</th>\n",
       "      <td>Positive</td>\n",
       "    </tr>\n",
       "    <tr>\n",
       "      <th>4</th>\n",
       "      <td>Negative</td>\n",
       "    </tr>\n",
       "    <tr>\n",
       "      <th>...</th>\n",
       "      <td>...</td>\n",
       "    </tr>\n",
       "    <tr>\n",
       "      <th>5327</th>\n",
       "      <td>Positive</td>\n",
       "    </tr>\n",
       "    <tr>\n",
       "      <th>5328</th>\n",
       "      <td>Positive</td>\n",
       "    </tr>\n",
       "    <tr>\n",
       "      <th>5329</th>\n",
       "      <td>Positive</td>\n",
       "    </tr>\n",
       "    <tr>\n",
       "      <th>5330</th>\n",
       "      <td>Positive</td>\n",
       "    </tr>\n",
       "    <tr>\n",
       "      <th>5331</th>\n",
       "      <td>Positive</td>\n",
       "    </tr>\n",
       "  </tbody>\n",
       "</table>\n",
       "<p>5332 rows × 1 columns</p>\n",
       "</div>"
      ],
      "text/plain": [
       "             0\n",
       "0     Positive\n",
       "1     Positive\n",
       "2     Positive\n",
       "3     Positive\n",
       "4     Negative\n",
       "...        ...\n",
       "5327  Positive\n",
       "5328  Positive\n",
       "5329  Positive\n",
       "5330  Positive\n",
       "5331  Positive\n",
       "\n",
       "[5332 rows x 1 columns]"
      ]
     },
     "execution_count": 161,
     "metadata": {},
     "output_type": "execute_result"
    }
   ],
   "source": [
    "best_model_h = pickle.load(open('financial_news_model_h.sav', 'rb'))\n",
    "result = best_model_h.predict(X_test)\n",
    "pd.DataFrame(result)"
   ]
  },
  {
   "cell_type": "markdown",
   "id": "eeab08a0-43b3-45b8-b4f0-d4430ee7896a",
   "metadata": {},
   "source": [
    "# Prediction"
   ]
  },
  {
   "cell_type": "code",
   "execution_count": 162,
   "id": "fa9d5021-7d04-45e9-a690-76d638de61ef",
   "metadata": {},
   "outputs": [],
   "source": [
    "# You can check the result on real time news headlines\n",
    "# Here i have used two fiancial news headlines and predicted its sentiment\n",
    "# You can try more"
   ]
  },
  {
   "cell_type": "code",
   "execution_count": 163,
   "id": "7abc708d-2945-47a3-9e3f-2875340ffd2b",
   "metadata": {},
   "outputs": [
    {
     "data": {
      "text/plain": [
       "array(['Negative'], dtype=object)"
      ]
     },
     "execution_count": 163,
     "metadata": {},
     "output_type": "execute_result"
    }
   ],
   "source": [
    "sent1 = ['GST officers detect Rs 4,000 crore of ITC fraud in April-June']\n",
    "y_predict = best_model_h.predict(sent1)\n",
    "y_predict"
   ]
  },
  {
   "cell_type": "code",
   "execution_count": 164,
   "id": "279761ca-2455-46e3-87af-fe8272a54758",
   "metadata": {},
   "outputs": [
    {
     "data": {
      "text/plain": [
       "array(['Positive'], dtype=object)"
      ]
     },
     "execution_count": 164,
     "metadata": {},
     "output_type": "execute_result"
    }
   ],
   "source": [
    "sent2 = [\"Finance Ministry releases Rs 9,871 crore to 17 states as grant\"]\n",
    "y_predict = best_model_h.predict(sent2)\n",
    "y_predict"
   ]
  },
  {
   "cell_type": "markdown",
   "id": "2c7b9d09-3f9d-404d-9c1c-b02deb08ea72",
   "metadata": {},
   "source": [
    "# Conclusion"
   ]
  },
  {
   "cell_type": "code",
   "execution_count": 165,
   "id": "a800b74f-600a-4413-9c40-ce96b6893938",
   "metadata": {},
   "outputs": [],
   "source": [
    "# We learn about NLTK and classification ML model, sentiment analysis in this assigment. \n",
    "# We conclude that using nltk it is easy to classify financial news and more we improve the traning data more we can get accurate"
   ]
  },
  {
   "cell_type": "code",
   "execution_count": null,
   "id": "2bfd7888-1b0c-4a41-9bbb-b66ece0d168a",
   "metadata": {},
   "outputs": [],
   "source": []
  },
  {
   "cell_type": "code",
   "execution_count": null,
   "id": "608f484e-c3f8-4083-97f0-1c33c736cd26",
   "metadata": {},
   "outputs": [],
   "source": []
  },
  {
   "cell_type": "code",
   "execution_count": null,
   "id": "9ab78e89-161b-4143-8ae8-083369a87922",
   "metadata": {},
   "outputs": [],
   "source": []
  },
  {
   "cell_type": "code",
   "execution_count": null,
   "id": "b04e6379-7169-4e0a-9190-0dc61a765206",
   "metadata": {},
   "outputs": [],
   "source": []
  }
 ],
 "metadata": {
  "kernelspec": {
   "display_name": "Python 3 (ipykernel)",
   "language": "python",
   "name": "python3"
  },
  "language_info": {
   "codemirror_mode": {
    "name": "ipython",
    "version": 3
   },
   "file_extension": ".py",
   "mimetype": "text/x-python",
   "name": "python",
   "nbconvert_exporter": "python",
   "pygments_lexer": "ipython3",
   "version": "3.11.4"
  }
 },
 "nbformat": 4,
 "nbformat_minor": 5
}
