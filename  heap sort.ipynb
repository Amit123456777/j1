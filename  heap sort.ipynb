{
 "cells": [
  {
   "cell_type": "code",
   "execution_count": 49,
   "id": "e2e976c2",
   "metadata": {
    "scrolled": true
   },
   "outputs": [
    {
     "name": "stdout",
     "output_type": "stream",
     "text": [
      "Original array: array('i', [45, 60, 20, 10, 50, 30, 55])\n",
      "0 45\n",
      "1 60\n",
      "2 20\n",
      "3 10\n",
      "4 50\n",
      "5 30\n",
      "6 55\n",
      "\n",
      "Max heap: array('i', [60, 50, 55, 10, 45, 30, 20])\n"
     ]
    }
   ],
   "source": [
    "import array\n",
    "\n",
    "def max_heapify(arr, n, i):\n",
    "    largest = i  # Initialize largest as the root\n",
    "    left_child = 2 * i + 1\n",
    "    right_child = 2 * i + 2\n",
    "\n",
    "    # Check if the left child exists and is greater than the root\n",
    "    if left_child < n and arr[left_child] > arr[largest]:\n",
    "        largest = left_child\n",
    "\n",
    "    # Check if the right child exists and is greater than the current largest\n",
    "    if right_child < n and arr[right_child] > arr[largest]:\n",
    "        largest = right_child\n",
    "\n",
    "    # If the largest is not the root, swap them\n",
    "    if largest != i:\n",
    "        arr[i], arr[largest] = arr[largest], arr[i]\n",
    "        # Recursively heapify the affected sub-tree\n",
    "        max_heapify(arr, n, largest)\n",
    "\n",
    "arr = array.array('i', [45, 60, 20, 10, 50, 30, 55])\n",
    "\n",
    "print(\"Original array:\", arr)\n",
    "\n",
    "for index, element in enumerate(arr):\n",
    "    print(index, element)\n",
    "\n",
    "print()\n",
    "\n",
    "# Convert the array to a max heap\n",
    "for i in range(len(arr) // 2 - 1, -1, -1):\n",
    "    max_heapify(arr, len(arr), i)\n",
    "\n",
    "print(\"Max heap:\", arr)\n"
   ]
  },
  {
   "cell_type": "markdown",
   "id": "a039fced",
   "metadata": {},
   "source": [
    " "
   ]
  },
  {
   "cell_type": "code",
   "execution_count": 47,
   "id": "655abfa9",
   "metadata": {},
   "outputs": [
    {
     "name": "stdout",
     "output_type": "stream",
     "text": [
      "Max heap: [60, 50, 55, 10, 45, 30, 20]\n"
     ]
    }
   ],
   "source": [
    "import heapq\n",
    "\n",
    "# Input array\n",
    "arr = [45, 60, 20, 10, 50, 30, 55]\n",
    "\n",
    "# Convert the array to a max heap\n",
    "heapq._heapify_max(arr)\n",
    "\n",
    "# Print the resulting max heap\n",
    "print(\"Max heap:\", arr)\n"
   ]
  },
  {
   "cell_type": "code",
   "execution_count": null,
   "id": "13f4749e",
   "metadata": {},
   "outputs": [],
   "source": []
  },
  {
   "cell_type": "code",
   "execution_count": null,
   "id": "8c5bd2e3",
   "metadata": {},
   "outputs": [],
   "source": []
  },
  {
   "cell_type": "code",
   "execution_count": null,
   "id": "096c41a1",
   "metadata": {},
   "outputs": [],
   "source": []
  },
  {
   "cell_type": "code",
   "execution_count": null,
   "id": "01148e2e",
   "metadata": {},
   "outputs": [],
   "source": []
  },
  {
   "cell_type": "code",
   "execution_count": null,
   "id": "cb40ed46",
   "metadata": {},
   "outputs": [],
   "source": []
  },
  {
   "cell_type": "code",
   "execution_count": null,
   "id": "d3c59719",
   "metadata": {},
   "outputs": [],
   "source": []
  },
  {
   "cell_type": "code",
   "execution_count": null,
   "id": "dbb20de6",
   "metadata": {},
   "outputs": [],
   "source": []
  },
  {
   "cell_type": "code",
   "execution_count": null,
   "id": "a4bc3cd0",
   "metadata": {},
   "outputs": [],
   "source": []
  },
  {
   "cell_type": "code",
   "execution_count": null,
   "id": "202c5045-c216-4a96-a08b-eeceaa99ea6a",
   "metadata": {},
   "outputs": [],
   "source": []
  },
  {
   "cell_type": "code",
   "execution_count": null,
   "id": "fac8ae53-925e-4370-9e50-86b268c73e77",
   "metadata": {},
   "outputs": [],
   "source": []
  },
  {
   "cell_type": "code",
   "execution_count": 46,
   "id": "5ba9fdea-1911-434b-b90a-7c8800bc4b15",
   "metadata": {},
   "outputs": [
    {
     "name": "stdout",
     "output_type": "stream",
     "text": [
      "Max heap: [60, 50, 55, 10, 45, 30, 20]\n"
     ]
    }
   ],
   "source": []
  },
  {
   "cell_type": "code",
   "execution_count": null,
   "id": "aaca63bb-f9ae-4843-8b74-5be74b52fb30",
   "metadata": {},
   "outputs": [],
   "source": []
  }
 ],
 "metadata": {
  "kernelspec": {
   "display_name": "Python 3 (ipykernel)",
   "language": "python",
   "name": "python3"
  },
  "language_info": {
   "codemirror_mode": {
    "name": "ipython",
    "version": 3
   },
   "file_extension": ".py",
   "mimetype": "text/x-python",
   "name": "python",
   "nbconvert_exporter": "python",
   "pygments_lexer": "ipython3",
   "version": "3.11.4"
  }
 },
 "nbformat": 4,
 "nbformat_minor": 5
}
