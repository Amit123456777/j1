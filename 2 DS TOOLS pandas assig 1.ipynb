{
 "cells": [
  {
   "cell_type": "markdown",
   "id": "9e189df8-35bb-4e4c-b466-dd475a3b759d",
   "metadata": {},
   "source": [
    "# Data Science tools and Techniques\n",
    "# Assignment I\n",
    "\n",
    "# Assignment: Pandas Operations\n",
    "\n",
    "                                    \n"
   ]
  },
  {
   "cell_type": "code",
   "execution_count": 8,
   "id": "0a49be3d-7dd7-4d45-b552-6bdfd2988951",
   "metadata": {},
   "outputs": [],
   "source": [
    "# Question 1:\n",
    "# Consider a scenario where you have two separate dictionaries, sales and expenses, \n",
    "# each representing the quarterly sales and expenses of a company. \n",
    "# The data is organized with respect to different products. Create a Pandas DataFrame named financial_data by combining these two dictionaries.\n",
    "# Set appropriate row and column labels. Finally, print the DataFrame.\n"
   ]
  },
  {
   "cell_type": "code",
   "execution_count": 9,
   "id": "3a6b4d66-2245-47d1-8147-8afc828a6966",
   "metadata": {},
   "outputs": [
    {
     "data": {
      "text/plain": [
       "{'jan': [9000, 1000, 3000],\n",
       " 'feb': [5000, 3000, 1000],\n",
       " 'mar': [1000, 4000, 2000],\n",
       " 'apr': [5000, 4000, 6000]}"
      ]
     },
     "execution_count": 9,
     "metadata": {},
     "output_type": "execute_result"
    }
   ],
   "source": [
    "sales = {\"jan\" : [9000,1000,3000],\n",
    "         \"feb\" : [5000,3000,1000],\n",
    "         \"mar\" : [1000,4000,2000],\n",
    "         \"apr\" : [5000,4000,6000]\n",
    "        }\n",
    "sales\n"
   ]
  },
  {
   "cell_type": "code",
   "execution_count": 10,
   "id": "c4613f19-4050-4bf3-805f-e41d726ed658",
   "metadata": {},
   "outputs": [
    {
     "data": {
      "text/plain": [
       "{'jan': [3000, 1000, 2000],\n",
       " 'feb': [4000, 2000, 1000],\n",
       " 'mar': [7000, 3000, 2000],\n",
       " 'apr': [4000, 2000, 1000]}"
      ]
     },
     "execution_count": 10,
     "metadata": {},
     "output_type": "execute_result"
    }
   ],
   "source": [
    "expenses = {\"jan\" : [3000,1000,2000],\n",
    "            \"feb\" : [4000,2000,1000],\n",
    "            \"mar\" : [7000,3000,2000],\n",
    "            \"apr\" : [4000,2000,1000]\n",
    "           }\n",
    "expenses"
   ]
  },
  {
   "cell_type": "code",
   "execution_count": 11,
   "id": "59c95f3d-0581-4a01-8327-4a5e11b2b804",
   "metadata": {
    "scrolled": true
   },
   "outputs": [
    {
     "data": {
      "text/html": [
       "<div>\n",
       "<style scoped>\n",
       "    .dataframe tbody tr th:only-of-type {\n",
       "        vertical-align: middle;\n",
       "    }\n",
       "\n",
       "    .dataframe tbody tr th {\n",
       "        vertical-align: top;\n",
       "    }\n",
       "\n",
       "    .dataframe thead th {\n",
       "        text-align: right;\n",
       "    }\n",
       "</style>\n",
       "<table border=\"1\" class=\"dataframe\">\n",
       "  <thead>\n",
       "    <tr style=\"text-align: right;\">\n",
       "      <th></th>\n",
       "      <th>jan</th>\n",
       "      <th>feb</th>\n",
       "      <th>mar</th>\n",
       "      <th>apr</th>\n",
       "    </tr>\n",
       "  </thead>\n",
       "  <tbody>\n",
       "    <tr>\n",
       "      <th>p1</th>\n",
       "      <td>9000</td>\n",
       "      <td>5000</td>\n",
       "      <td>1000</td>\n",
       "      <td>5000</td>\n",
       "    </tr>\n",
       "    <tr>\n",
       "      <th>p2</th>\n",
       "      <td>1000</td>\n",
       "      <td>3000</td>\n",
       "      <td>4000</td>\n",
       "      <td>4000</td>\n",
       "    </tr>\n",
       "    <tr>\n",
       "      <th>p3</th>\n",
       "      <td>3000</td>\n",
       "      <td>1000</td>\n",
       "      <td>2000</td>\n",
       "      <td>6000</td>\n",
       "    </tr>\n",
       "  </tbody>\n",
       "</table>\n",
       "</div>"
      ],
      "text/plain": [
       "     jan   feb   mar   apr\n",
       "p1  9000  5000  1000  5000\n",
       "p2  1000  3000  4000  4000\n",
       "p3  3000  1000  2000  6000"
      ]
     },
     "execution_count": 11,
     "metadata": {},
     "output_type": "execute_result"
    }
   ],
   "source": [
    "import pandas as pd\n",
    "sales_df = pd.DataFrame(sales, index = [\"p1\", \"p2\", \"p3\"])\n",
    "sales_df"
   ]
  },
  {
   "cell_type": "code",
   "execution_count": 12,
   "id": "f3f201e7-6d10-4467-8a07-42d225ddcdc1",
   "metadata": {},
   "outputs": [
    {
     "data": {
      "text/html": [
       "<div>\n",
       "<style scoped>\n",
       "    .dataframe tbody tr th:only-of-type {\n",
       "        vertical-align: middle;\n",
       "    }\n",
       "\n",
       "    .dataframe tbody tr th {\n",
       "        vertical-align: top;\n",
       "    }\n",
       "\n",
       "    .dataframe thead th {\n",
       "        text-align: right;\n",
       "    }\n",
       "</style>\n",
       "<table border=\"1\" class=\"dataframe\">\n",
       "  <thead>\n",
       "    <tr style=\"text-align: right;\">\n",
       "      <th></th>\n",
       "      <th>jan</th>\n",
       "      <th>feb</th>\n",
       "      <th>mar</th>\n",
       "      <th>apr</th>\n",
       "    </tr>\n",
       "  </thead>\n",
       "  <tbody>\n",
       "    <tr>\n",
       "      <th>p1</th>\n",
       "      <td>9000</td>\n",
       "      <td>5000</td>\n",
       "      <td>1000</td>\n",
       "      <td>5000</td>\n",
       "    </tr>\n",
       "    <tr>\n",
       "      <th>p2</th>\n",
       "      <td>1000</td>\n",
       "      <td>3000</td>\n",
       "      <td>4000</td>\n",
       "      <td>4000</td>\n",
       "    </tr>\n",
       "    <tr>\n",
       "      <th>p3</th>\n",
       "      <td>3000</td>\n",
       "      <td>1000</td>\n",
       "      <td>2000</td>\n",
       "      <td>6000</td>\n",
       "    </tr>\n",
       "  </tbody>\n",
       "</table>\n",
       "</div>"
      ],
      "text/plain": [
       "     jan   feb   mar   apr\n",
       "p1  9000  5000  1000  5000\n",
       "p2  1000  3000  4000  4000\n",
       "p3  3000  1000  2000  6000"
      ]
     },
     "execution_count": 12,
     "metadata": {},
     "output_type": "execute_result"
    }
   ],
   "source": [
    "expenses_df = pd.DataFrame(sales, index = [\"p1\", \"p2\", \"p3\"])\n",
    "expenses_df"
   ]
  },
  {
   "cell_type": "code",
   "execution_count": 13,
   "id": "13c4f478-e13f-4317-a6a6-0936acff16e4",
   "metadata": {},
   "outputs": [
    {
     "data": {
      "text/html": [
       "<div>\n",
       "<style scoped>\n",
       "    .dataframe tbody tr th:only-of-type {\n",
       "        vertical-align: middle;\n",
       "    }\n",
       "\n",
       "    .dataframe tbody tr th {\n",
       "        vertical-align: top;\n",
       "    }\n",
       "\n",
       "    .dataframe thead tr th {\n",
       "        text-align: left;\n",
       "    }\n",
       "</style>\n",
       "<table border=\"1\" class=\"dataframe\">\n",
       "  <thead>\n",
       "    <tr>\n",
       "      <th></th>\n",
       "      <th colspan=\"4\" halign=\"left\">Sales</th>\n",
       "      <th colspan=\"4\" halign=\"left\">Expenses</th>\n",
       "    </tr>\n",
       "    <tr>\n",
       "      <th></th>\n",
       "      <th>jan</th>\n",
       "      <th>feb</th>\n",
       "      <th>mar</th>\n",
       "      <th>apr</th>\n",
       "      <th>jan</th>\n",
       "      <th>feb</th>\n",
       "      <th>mar</th>\n",
       "      <th>apr</th>\n",
       "    </tr>\n",
       "  </thead>\n",
       "  <tbody>\n",
       "    <tr>\n",
       "      <th>p1</th>\n",
       "      <td>9000</td>\n",
       "      <td>5000</td>\n",
       "      <td>1000</td>\n",
       "      <td>5000</td>\n",
       "      <td>9000</td>\n",
       "      <td>5000</td>\n",
       "      <td>1000</td>\n",
       "      <td>5000</td>\n",
       "    </tr>\n",
       "    <tr>\n",
       "      <th>p2</th>\n",
       "      <td>1000</td>\n",
       "      <td>3000</td>\n",
       "      <td>4000</td>\n",
       "      <td>4000</td>\n",
       "      <td>1000</td>\n",
       "      <td>3000</td>\n",
       "      <td>4000</td>\n",
       "      <td>4000</td>\n",
       "    </tr>\n",
       "    <tr>\n",
       "      <th>p3</th>\n",
       "      <td>3000</td>\n",
       "      <td>1000</td>\n",
       "      <td>2000</td>\n",
       "      <td>6000</td>\n",
       "      <td>3000</td>\n",
       "      <td>1000</td>\n",
       "      <td>2000</td>\n",
       "      <td>6000</td>\n",
       "    </tr>\n",
       "  </tbody>\n",
       "</table>\n",
       "</div>"
      ],
      "text/plain": [
       "   Sales                   Expenses                  \n",
       "     jan   feb   mar   apr      jan   feb   mar   apr\n",
       "p1  9000  5000  1000  5000     9000  5000  1000  5000\n",
       "p2  1000  3000  4000  4000     1000  3000  4000  4000\n",
       "p3  3000  1000  2000  6000     3000  1000  2000  6000"
      ]
     },
     "execution_count": 13,
     "metadata": {},
     "output_type": "execute_result"
    }
   ],
   "source": [
    "financial_data = pd.concat([sales_df, expenses_df], keys = [\"Sales\", \"Expenses\"],axis=1)\n",
    "financial_data\n",
    "\n",
    "# axis = 1 (concate along column -> means concate left side)\n",
    "# axis = 0 (concate along row    -> means concate below"
   ]
  },
  {
   "cell_type": "code",
   "execution_count": null,
   "id": "285a1ea1-d0fc-4b8e-b952-1bc80dda2a47",
   "metadata": {},
   "outputs": [],
   "source": []
  },
  {
   "cell_type": "code",
   "execution_count": 14,
   "id": "ceb6872c-88f8-42cb-8a83-cafee4d35b76",
   "metadata": {},
   "outputs": [],
   "source": [
    "# Question 2:\n",
    "# Now, imagine that you have a DataFrame named employee_data containing information about employees, \n",
    "# such as their names, ages, and departments. Your task is to filter this DataFrame to display only the\n",
    "# employees who are older than 30 years. Write the code to achieve this and print the resulting DataFrame.\n"
   ]
  },
  {
   "cell_type": "code",
   "execution_count": 15,
   "id": "b4eb16ec-2ef2-4830-abf6-2d66bf89c0f3",
   "metadata": {},
   "outputs": [
    {
     "data": {
      "text/html": [
       "<div>\n",
       "<style scoped>\n",
       "    .dataframe tbody tr th:only-of-type {\n",
       "        vertical-align: middle;\n",
       "    }\n",
       "\n",
       "    .dataframe tbody tr th {\n",
       "        vertical-align: top;\n",
       "    }\n",
       "\n",
       "    .dataframe thead th {\n",
       "        text-align: right;\n",
       "    }\n",
       "</style>\n",
       "<table border=\"1\" class=\"dataframe\">\n",
       "  <thead>\n",
       "    <tr style=\"text-align: right;\">\n",
       "      <th></th>\n",
       "      <th>emp_names</th>\n",
       "      <th>ages</th>\n",
       "      <th>departments</th>\n",
       "    </tr>\n",
       "  </thead>\n",
       "  <tbody>\n",
       "    <tr>\n",
       "      <th>0</th>\n",
       "      <td>ram</td>\n",
       "      <td>37</td>\n",
       "      <td>sales</td>\n",
       "    </tr>\n",
       "    <tr>\n",
       "      <th>1</th>\n",
       "      <td>shyam</td>\n",
       "      <td>30</td>\n",
       "      <td>purchase</td>\n",
       "    </tr>\n",
       "    <tr>\n",
       "      <th>2</th>\n",
       "      <td>sita</td>\n",
       "      <td>35</td>\n",
       "      <td>food</td>\n",
       "    </tr>\n",
       "    <tr>\n",
       "      <th>3</th>\n",
       "      <td>nikki</td>\n",
       "      <td>24</td>\n",
       "      <td>hr</td>\n",
       "    </tr>\n",
       "  </tbody>\n",
       "</table>\n",
       "</div>"
      ],
      "text/plain": [
       "  emp_names  ages departments\n",
       "0       ram    37       sales\n",
       "1     shyam    30    purchase\n",
       "2      sita    35        food\n",
       "3     nikki    24          hr"
      ]
     },
     "execution_count": 15,
     "metadata": {},
     "output_type": "execute_result"
    }
   ],
   "source": [
    "import pandas as pd\n",
    "employee_data = pd.DataFrame({\"emp_names\": [\"ram\",\"shyam\", \"sita\",\"nikki\"], \"ages\":[37,30,35, 24], \"departments\":[\"sales\", \"purchase\",\"food\", \"hr\"]})\n",
    "employee_data"
   ]
  },
  {
   "cell_type": "code",
   "execution_count": 16,
   "id": "818cef56-7217-46ed-9bfd-1ade03ce93b8",
   "metadata": {},
   "outputs": [
    {
     "data": {
      "text/html": [
       "<div>\n",
       "<style scoped>\n",
       "    .dataframe tbody tr th:only-of-type {\n",
       "        vertical-align: middle;\n",
       "    }\n",
       "\n",
       "    .dataframe tbody tr th {\n",
       "        vertical-align: top;\n",
       "    }\n",
       "\n",
       "    .dataframe thead th {\n",
       "        text-align: right;\n",
       "    }\n",
       "</style>\n",
       "<table border=\"1\" class=\"dataframe\">\n",
       "  <thead>\n",
       "    <tr style=\"text-align: right;\">\n",
       "      <th></th>\n",
       "      <th>emp_names</th>\n",
       "      <th>ages</th>\n",
       "      <th>departments</th>\n",
       "    </tr>\n",
       "  </thead>\n",
       "  <tbody>\n",
       "    <tr>\n",
       "      <th>0</th>\n",
       "      <td>ram</td>\n",
       "      <td>37</td>\n",
       "      <td>sales</td>\n",
       "    </tr>\n",
       "    <tr>\n",
       "      <th>2</th>\n",
       "      <td>sita</td>\n",
       "      <td>35</td>\n",
       "      <td>food</td>\n",
       "    </tr>\n",
       "  </tbody>\n",
       "</table>\n",
       "</div>"
      ],
      "text/plain": [
       "  emp_names  ages departments\n",
       "0       ram    37       sales\n",
       "2      sita    35        food"
      ]
     },
     "execution_count": 16,
     "metadata": {},
     "output_type": "execute_result"
    }
   ],
   "source": [
    "employee_data.loc[employee_data['ages'] > 30]"
   ]
  },
  {
   "cell_type": "code",
   "execution_count": 17,
   "id": "4228eac8-2282-4c68-a6de-5b304defe664",
   "metadata": {},
   "outputs": [
    {
     "data": {
      "text/html": [
       "<div>\n",
       "<style scoped>\n",
       "    .dataframe tbody tr th:only-of-type {\n",
       "        vertical-align: middle;\n",
       "    }\n",
       "\n",
       "    .dataframe tbody tr th {\n",
       "        vertical-align: top;\n",
       "    }\n",
       "\n",
       "    .dataframe thead th {\n",
       "        text-align: right;\n",
       "    }\n",
       "</style>\n",
       "<table border=\"1\" class=\"dataframe\">\n",
       "  <thead>\n",
       "    <tr style=\"text-align: right;\">\n",
       "      <th></th>\n",
       "      <th>emp_names</th>\n",
       "    </tr>\n",
       "  </thead>\n",
       "  <tbody>\n",
       "    <tr>\n",
       "      <th>0</th>\n",
       "      <td>ram</td>\n",
       "    </tr>\n",
       "    <tr>\n",
       "      <th>2</th>\n",
       "      <td>sita</td>\n",
       "    </tr>\n",
       "  </tbody>\n",
       "</table>\n",
       "</div>"
      ],
      "text/plain": [
       "  emp_names\n",
       "0       ram\n",
       "2      sita"
      ]
     },
     "execution_count": 17,
     "metadata": {},
     "output_type": "execute_result"
    }
   ],
   "source": [
    "# to show only emp_names column \n",
    "\n",
    "employee_data.loc[employee_data['ages'] > 30, ['emp_names']]"
   ]
  },
  {
   "cell_type": "code",
   "execution_count": null,
   "id": "fda46c06-0002-4f80-aba9-573a1326314b",
   "metadata": {},
   "outputs": [],
   "source": []
  },
  {
   "cell_type": "code",
   "execution_count": 18,
   "id": "50914685-776e-4dd4-b1ca-3889723dd7d9",
   "metadata": {},
   "outputs": [],
   "source": [
    "# Question 3:\n",
    "# In a hypothetical scenario, you have a DataFrame named sales_data that represents the monthly sales figures for different products.\n",
    "# Your goal is to calculate and print the total sales for each product across all months.\n",
    "# Write the code to accomplish this.\n"
   ]
  },
  {
   "cell_type": "code",
   "execution_count": 19,
   "id": "5ccc1a35-cabe-4c51-907d-e00a2b45f6d1",
   "metadata": {},
   "outputs": [
    {
     "data": {
      "text/html": [
       "<div>\n",
       "<style scoped>\n",
       "    .dataframe tbody tr th:only-of-type {\n",
       "        vertical-align: middle;\n",
       "    }\n",
       "\n",
       "    .dataframe tbody tr th {\n",
       "        vertical-align: top;\n",
       "    }\n",
       "\n",
       "    .dataframe thead th {\n",
       "        text-align: right;\n",
       "    }\n",
       "</style>\n",
       "<table border=\"1\" class=\"dataframe\">\n",
       "  <thead>\n",
       "    <tr style=\"text-align: right;\">\n",
       "      <th></th>\n",
       "      <th>jan</th>\n",
       "      <th>feb</th>\n",
       "      <th>mar</th>\n",
       "      <th>total</th>\n",
       "    </tr>\n",
       "  </thead>\n",
       "  <tbody>\n",
       "    <tr>\n",
       "      <th>p1</th>\n",
       "      <td>1000</td>\n",
       "      <td>5000</td>\n",
       "      <td>7000</td>\n",
       "      <td>13000</td>\n",
       "    </tr>\n",
       "    <tr>\n",
       "      <th>p2</th>\n",
       "      <td>2000</td>\n",
       "      <td>2000</td>\n",
       "      <td>2000</td>\n",
       "      <td>6000</td>\n",
       "    </tr>\n",
       "    <tr>\n",
       "      <th>p3</th>\n",
       "      <td>3000</td>\n",
       "      <td>1000</td>\n",
       "      <td>1000</td>\n",
       "      <td>5000</td>\n",
       "    </tr>\n",
       "  </tbody>\n",
       "</table>\n",
       "</div>"
      ],
      "text/plain": [
       "     jan   feb   mar  total\n",
       "p1  1000  5000  7000  13000\n",
       "p2  2000  2000  2000   6000\n",
       "p3  3000  1000  1000   5000"
      ]
     },
     "execution_count": 19,
     "metadata": {},
     "output_type": "execute_result"
    }
   ],
   "source": [
    "sales_data = pd.DataFrame({\"jan\": [1000, 2000, 3000], \n",
    "                           \"feb\": [5000, 2000, 1000], \n",
    "                           \"mar\": [7000, 2000, 1000]}, \n",
    "                          index=[\"p1\", \"p2\", \"p3\"])\n",
    "\n",
    "# Add a new column for total sales\n",
    "sales_data['total'] = sales_data.sum(axis=1)\n",
    "sales_data\n"
   ]
  },
  {
   "cell_type": "code",
   "execution_count": null,
   "id": "43fad353-d929-45d1-9f9a-84709bfb3de1",
   "metadata": {},
   "outputs": [],
   "source": []
  },
  {
   "cell_type": "markdown",
   "id": "9bffe3ee-4c63-4bee-a87a-6b96dbe0118b",
   "metadata": {},
   "source": [
    "# question 3 : alternative method (using groupby)"
   ]
  },
  {
   "cell_type": "code",
   "execution_count": 20,
   "id": "8ad149e5-096e-443f-943b-64c40ce96772",
   "metadata": {},
   "outputs": [
    {
     "name": "stdout",
     "output_type": "stream",
     "text": [
      "     Product     Month  Sales\n",
      "0  Product A   January  10000\n",
      "1  Product B   January  15000\n",
      "2  Product A  February  12000\n",
      "3  Product B  February  18000\n",
      "Product\n",
      "Product A    22000\n",
      "Product B    33000\n",
      "Name: Sales, dtype: int64\n"
     ]
    }
   ],
   "source": [
    "\n",
    "# Create a DataFrame named sales_data with monthly sales figures for different products\n",
    "data = {\n",
    "    'Product': ['Product A', 'Product B', 'Product A', 'Product B'],\n",
    "    'Month': ['January', 'January', 'February', 'February'],\n",
    "    'Sales': [10000, 15000, 12000, 18000]\n",
    "}\n",
    "\n",
    "sales_data = pd.DataFrame(data)\n",
    "print(sales_data)\n",
    "# Calculate and print the total sales for each product across all months\n",
    "total_sales_per_product = sales_data.groupby('Product')['Sales'].sum()\n",
    "print(total_sales_per_product)"
   ]
  },
  {
   "cell_type": "code",
   "execution_count": null,
   "id": "d9acac0c-1457-48c4-bb68-4e2daeff1af1",
   "metadata": {},
   "outputs": [],
   "source": []
  }
 ],
 "metadata": {
  "kernelspec": {
   "display_name": "Python 3 (ipykernel)",
   "language": "python",
   "name": "python3"
  },
  "language_info": {
   "codemirror_mode": {
    "name": "ipython",
    "version": 3
   },
   "file_extension": ".py",
   "mimetype": "text/x-python",
   "name": "python",
   "nbconvert_exporter": "python",
   "pygments_lexer": "ipython3",
   "version": "3.11.4"
  }
 },
 "nbformat": 4,
 "nbformat_minor": 5
}
