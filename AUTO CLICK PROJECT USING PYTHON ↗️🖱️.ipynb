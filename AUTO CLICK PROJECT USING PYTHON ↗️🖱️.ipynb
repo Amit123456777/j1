{
 "cells": [
  {
   "cell_type": "code",
   "execution_count": 1,
   "id": "daa5de18-3686-4ac1-80c1-55200d5f3b28",
   "metadata": {},
   "outputs": [],
   "source": [
    "# DATAE : 17 FEB 2024\n",
    "# AUTO CLICK USING PYTHON  🖱️↗️\n",
    "\n",
    "from pyautogui import *\n",
    "import time\n",
    "\n",
    "def simulate_clicks(clicks):\n",
    "    # Wait for 5 seconds before initiating tapping action\n",
    "    time.sleep(10)\n",
    "\n",
    "    # Simulate mouse clicks\n",
    "    for _ in range(clicks):\n",
    "        click()\n",
    "\n",
    "# Call the function to simulate mouse clicks\n",
    "simulate_clicks(100)"
   ]
  },
  {
   "cell_type": "code",
   "execution_count": 2,
   "id": "fbac1469-0c51-4e69-ab2f-289f24216791",
   "metadata": {},
   "outputs": [],
   "source": []
  },
  {
   "cell_type": "code",
   "execution_count": 3,
   "id": "6832eec2-7da9-4b1c-b348-9244947c2ef7",
   "metadata": {},
   "outputs": [],
   "source": [
    "# Note 1:🚗\n",
    "\n",
    "# pip install pyautogui    --> if not run in jupyter then use cmd.\n",
    "# !pip install pyautiogui  --> we can also use this for jupyter"
   ]
  },
  {
   "cell_type": "code",
   "execution_count": null,
   "id": "701fead1-aef8-4aa5-9e00-ba69f0626b68",
   "metadata": {},
   "outputs": [],
   "source": []
  },
  {
   "cell_type": "code",
   "execution_count": null,
   "id": "223ae712-46c6-49a7-9016-2b1f724da5bf",
   "metadata": {},
   "outputs": [],
   "source": [
    "# Note 2: ❤️"
   ]
  },
  {
   "cell_type": "code",
   "execution_count": 4,
   "id": "a695363e-d9ed-4b2c-8d7a-89bff1d90f55",
   "metadata": {},
   "outputs": [],
   "source": [
    "# for loop syntax\n",
    "# for item in iterable:\n",
    "#     # Body of the loop\n",
    "#     # Code to execute for each item in the iterable\n",
    "\n",
    "# iterable jo iterate ho ske like, list, tup etc:"
   ]
  },
  {
   "cell_type": "code",
   "execution_count": 5,
   "id": "ba13d683-bdf9-4f32-9a69-773bb4319465",
   "metadata": {},
   "outputs": [],
   "source": [
    "# NOTE 3: \n",
    "# from library_name import *    \n",
    "# krne se use library ke sare cheez import ho jata hai.\n",
    "# to hme bar bar pyautogui.click() ese ni likhna pdta.\n"
   ]
  },
  {
   "cell_type": "code",
   "execution_count": null,
   "id": "98d1c5c1-de70-4f3c-bf05-986b2c187b63",
   "metadata": {},
   "outputs": [],
   "source": [
    "# I hope this explanation is useful to you. 🤖🤖👩‍💻🚗❤️❤️"
   ]
  }
 ],
 "metadata": {
  "kernelspec": {
   "display_name": "Python 3 (ipykernel)",
   "language": "python",
   "name": "python3"
  },
  "language_info": {
   "codemirror_mode": {
    "name": "ipython",
    "version": 3
   },
   "file_extension": ".py",
   "mimetype": "text/x-python",
   "name": "python",
   "nbconvert_exporter": "python",
   "pygments_lexer": "ipython3",
   "version": "3.11.4"
  }
 },
 "nbformat": 4,
 "nbformat_minor": 5
}
