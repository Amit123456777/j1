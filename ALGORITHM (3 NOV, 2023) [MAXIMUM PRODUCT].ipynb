{
 "cells": [
  {
   "cell_type": "code",
   "execution_count": 19,
   "id": "a9bc193a",
   "metadata": {},
   "outputs": [
    {
     "name": "stdout",
     "output_type": "stream",
     "text": [
      "Enter space-separated integers: -1 -2 -3\n",
      "Max product: 6\n",
      "<class 'array.array'>\n"
     ]
    }
   ],
   "source": [
    "# Construct an array containing 3 integers. find the max. product possible of the integers.\n",
    "\n",
    "# conditions\n",
    "# 1. if all 3 elements is +ve, then multiply all\n",
    "# 2. if length of -ve elements is even, then here also multiply all.\n",
    "# 3. if length of -ve elements is odd then multiply all the elements, (ignore larger). ex: -1,-2,-3  = -2*-3 = 6\n",
    "\n",
    "from array import *\n",
    "\n",
    "def find_max_product(arr):\n",
    "    positive_nums = [x for x in arr if x > 0]\n",
    "    negative_nums = [x for x in arr if x < 0]\n",
    "\n",
    "    if len(positive_nums) == len(arr):\n",
    "        return prod(positive_nums)\n",
    "    elif len(negative_nums) % 2 == 0:\n",
    "        return prod(arr)\n",
    "    else:\n",
    "        max_negative = max(negative_nums)\n",
    "        product = 1\n",
    "        for num in arr:\n",
    "            if num != max_negative:\n",
    "                product *= num\n",
    "        return product\n",
    "\n",
    "def prod(arr):\n",
    "    result = 1\n",
    "    for num in arr:\n",
    "        result *= num\n",
    "    return result\n",
    "\n",
    "# User input for the array\n",
    "arr1 = array('i', [int(x) for x in input(\"Enter space-separated integers: \").split()])\n",
    "\n",
    "result = find_max_product(arr1)\n",
    "print(\"Max product:\", result)\n",
    "print(type(arr1))\n"
   ]
  },
  {
   "cell_type": "code",
   "execution_count": 18,
   "id": "5347814e",
   "metadata": {},
   "outputs": [
    {
     "name": "stdout",
     "output_type": "stream",
     "text": [
      "Max product: 48\n",
      "<class 'array.array'>\n"
     ]
    }
   ],
   "source": [
    "from array import *\n",
    "def find_max_product(arr):\n",
    "    positive_nums = [x for x in arr if x > 0]\n",
    "    negative_nums = [x for x in arr if x < 0]\n",
    "\n",
    "    if len(positive_nums) == len(arr):\n",
    "        return prod(positive_nums)\n",
    "    elif len(negative_nums) % 2 == 0:\n",
    "        return prod(arr)\n",
    "    else:\n",
    "        max_negative = max(negative_nums)\n",
    "        product = 1\n",
    "        for num in arr:\n",
    "            if num != max_negative:\n",
    "                product *= num\n",
    "        return product\n",
    "\n",
    "def prod(arr):\n",
    "    result = 1\n",
    "    for num in arr:\n",
    "        result *= num\n",
    "    return result\n",
    "\n",
    "# Example usage:\n",
    "arr1 = array('i',[-1,-2,-3,8])\n",
    "result = find_max_product(arr)\n",
    "print(\"Max product:\", result)\n",
    "print(type(arr1))"
   ]
  },
  {
   "cell_type": "code",
   "execution_count": null,
   "id": "c2426b9a",
   "metadata": {},
   "outputs": [],
   "source": []
  },
  {
   "cell_type": "code",
   "execution_count": null,
   "id": "0186a7ce",
   "metadata": {},
   "outputs": [],
   "source": []
  }
 ],
 "metadata": {
  "kernelspec": {
   "display_name": "Python 3 (ipykernel)",
   "language": "python",
   "name": "python3"
  },
  "language_info": {
   "codemirror_mode": {
    "name": "ipython",
    "version": 3
   },
   "file_extension": ".py",
   "mimetype": "text/x-python",
   "name": "python",
   "nbconvert_exporter": "python",
   "pygments_lexer": "ipython3",
   "version": "3.11.4"
  }
 },
 "nbformat": 4,
 "nbformat_minor": 5
}
