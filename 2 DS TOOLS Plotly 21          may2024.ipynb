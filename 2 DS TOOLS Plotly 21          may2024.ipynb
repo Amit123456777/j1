{
 "cells": [
  {
   "cell_type": "code",
   "execution_count": 1,
   "id": "141302a5-ea28-47f8-b3f7-cf2e27b67bc4",
   "metadata": {},
   "outputs": [],
   "source": [
    "# plotly can use for dashboards"
   ]
  },
  {
   "cell_type": "code",
   "execution_count": 2,
   "id": "4a44bed2-2746-429b-be5f-cf9edf74a157",
   "metadata": {},
   "outputs": [],
   "source": [
    "# seaborn is an extended version of matplotlib\n",
    "# "
   ]
  },
  {
   "cell_type": "code",
   "execution_count": null,
   "id": "86bef325-a5ab-43d5-9a77-e4c0d2637be9",
   "metadata": {},
   "outputs": [],
   "source": [
    "import pandas as pd\n",
    "import numpy as np\n",
    "import matplotlib.pyplot as plt\n",
    "import plotly.offline as pyo"
   ]
  },
  {
   "cell_type": "code",
   "execution_count": null,
   "id": "b773fd85-ee97-4cd1-a6d8-1444ad3c8f08",
   "metadata": {
    "scrolled": true
   },
   "outputs": [],
   "source": [
    "df = pd.read_excel(r\"C:\\Users\\Rahul\\Downloads\\sales.xlsx\")\n",
    "df"
   ]
  },
  {
   "cell_type": "markdown",
   "id": "af8082a5-b733-48fe-8b66-fcb369bd13c1",
   "metadata": {},
   "source": [
    "# Basic Plot"
   ]
  },
  {
   "cell_type": "code",
   "execution_count": null,
   "id": "d2e88482-6f39-4e5b-b8b7-7c084943e90d",
   "metadata": {},
   "outputs": [],
   "source": [
    "plt.plot(df.Sales)\n",
    "plt.show()"
   ]
  },
  {
   "cell_type": "markdown",
   "id": "0dd096f6-8f2f-4051-a7df-4eb243edc1f6",
   "metadata": {},
   "source": [
    "# interactive plot"
   ]
  },
  {
   "cell_type": "code",
   "execution_count": 11,
   "id": "a619f28a-8b9d-4be4-bec2-5a052d5262b1",
   "metadata": {},
   "outputs": [
    {
     "data": {
      "text/plain": [
       "'temp-plot.html'"
      ]
     },
     "execution_count": 11,
     "metadata": {},
     "output_type": "execute_result"
    }
   ],
   "source": [
    "pyo.plot([{\n",
    "    'x': df.index,\n",
    "    'y': df.Sales\n",
    "}])"
   ]
  },
  {
   "cell_type": "code",
   "execution_count": 12,
   "id": "dc251b96-57fd-4e1b-bb4e-198a4ac027e3",
   "metadata": {},
   "outputs": [
    {
     "data": {
      "text/html": [
       "<div>\n",
       "<style scoped>\n",
       "    .dataframe tbody tr th:only-of-type {\n",
       "        vertical-align: middle;\n",
       "    }\n",
       "\n",
       "    .dataframe tbody tr th {\n",
       "        vertical-align: top;\n",
       "    }\n",
       "\n",
       "    .dataframe thead th {\n",
       "        text-align: right;\n",
       "    }\n",
       "</style>\n",
       "<table border=\"1\" class=\"dataframe\">\n",
       "  <thead>\n",
       "    <tr style=\"text-align: right;\">\n",
       "      <th></th>\n",
       "      <th>Sales</th>\n",
       "      <th>Profit</th>\n",
       "    </tr>\n",
       "  </thead>\n",
       "  <tbody>\n",
       "    <tr>\n",
       "      <th>0</th>\n",
       "      <td>261.5400</td>\n",
       "      <td>-213.2500</td>\n",
       "    </tr>\n",
       "    <tr>\n",
       "      <th>1</th>\n",
       "      <td>10123.0200</td>\n",
       "      <td>457.8100</td>\n",
       "    </tr>\n",
       "    <tr>\n",
       "      <th>2</th>\n",
       "      <td>244.5700</td>\n",
       "      <td>46.7075</td>\n",
       "    </tr>\n",
       "    <tr>\n",
       "      <th>3</th>\n",
       "      <td>4965.7595</td>\n",
       "      <td>1198.9710</td>\n",
       "    </tr>\n",
       "    <tr>\n",
       "      <th>4</th>\n",
       "      <td>394.2700</td>\n",
       "      <td>30.9400</td>\n",
       "    </tr>\n",
       "  </tbody>\n",
       "</table>\n",
       "</div>"
      ],
      "text/plain": [
       "        Sales     Profit\n",
       "0    261.5400  -213.2500\n",
       "1  10123.0200   457.8100\n",
       "2    244.5700    46.7075\n",
       "3   4965.7595  1198.9710\n",
       "4    394.2700    30.9400"
      ]
     },
     "execution_count": 12,
     "metadata": {},
     "output_type": "execute_result"
    }
   ],
   "source": [
    "df_sf = df[['Sales', 'Profit']]\n",
    "df_sf.head()\n",
    "    "
   ]
  },
  {
   "cell_type": "code",
   "execution_count": null,
   "id": "7ff9c840-9a9b-4d2b-b825-05433c9ef568",
   "metadata": {},
   "outputs": [],
   "source": []
  },
  {
   "cell_type": "code",
   "execution_count": 13,
   "id": "660d6a1b-05d6-4fb3-9e92-40f65905142b",
   "metadata": {},
   "outputs": [
    {
     "data": {
      "text/plain": [
       "'temp-plot.html'"
      ]
     },
     "execution_count": 13,
     "metadata": {},
     "output_type": "execute_result"
    }
   ],
   "source": [
    "pyo.plot([{\n",
    "    'x':df_sf.index,\n",
    "    'y':df_sf[col],\n",
    "    'name':col\n",
    "} for col in df_sf.columns])"
   ]
  },
  {
   "cell_type": "markdown",
   "id": "ee770fd4-c34d-45a4-aa7c-ada6b57dfead",
   "metadata": {},
   "source": [
    "# scatter plot"
   ]
  },
  {
   "cell_type": "code",
   "execution_count": 20,
   "id": "466cb873-ac8d-4a0f-b95a-aa300c35990a",
   "metadata": {},
   "outputs": [
    {
     "data": {
      "text/plain": [
       "'temp-plot.html'"
      ]
     },
     "execution_count": 20,
     "metadata": {},
     "output_type": "execute_result"
    }
   ],
   "source": [
    "import plotly.graph_objs as go\n",
    "pyo.plot([\n",
    "    go.Scatter(\n",
    "        x = df_sf.Sales,\n",
    "        y = df_sf.Profit,\n",
    "        mode= 'markers'\n",
    "        )\n",
    "])\n"
   ]
  },
  {
   "cell_type": "code",
   "execution_count": 25,
   "id": "21f0586f-b3c7-4ad6-88a7-713f5df7d805",
   "metadata": {},
   "outputs": [],
   "source": [
    "data = go.Scatter(\n",
    "    x = df_sf.Sales,\n",
    "    y = df_sf.Profit,\n",
    "    mode = 'markers'\n",
    ")\n"
   ]
  },
  {
   "cell_type": "code",
   "execution_count": 26,
   "id": "5abcf714-ff81-41f5-81a1-d988f6de5cef",
   "metadata": {},
   "outputs": [
    {
     "data": {
      "text/plain": [
       "'temp-plot.html'"
      ]
     },
     "execution_count": 26,
     "metadata": {},
     "output_type": "execute_result"
    }
   ],
   "source": [
    "pyo.plot([data])"
   ]
  },
  {
   "cell_type": "code",
   "execution_count": 19,
   "id": "e6c215dc-f64f-4299-8919-4815ea814d4b",
   "metadata": {},
   "outputs": [],
   "source": [
    "#customization"
   ]
  },
  {
   "cell_type": "code",
   "execution_count": null,
   "id": "8786799e-a2e7-4b5a-8803-f8a249bc0923",
   "metadata": {},
   "outputs": [],
   "source": [
    "import plotly.graph_objs as go\n",
    "pyo.plot([\n",
    "    go.Scatter(\n",
    "        x = df_sf.Sales,\n",
    "        y = df_sf.Profit,\n",
    "        mode= 'markers',\n",
    "        marker = dict(\n",
    "        size = 14,\n",
    "        color = 'rgb(120,150,180)',\n",
    "        symbol = 'square',\n",
    "        line = dict(\n",
    "            width=2))\n",
    "        )\n",
    "])\n"
   ]
  },
  {
   "cell_type": "code",
   "execution_count": null,
   "id": "059f8d09-9257-4e39-9c90-c179218665a3",
   "metadata": {},
   "outputs": [],
   "source": [
    "#Adding labels"
   ]
  },
  {
   "cell_type": "code",
   "execution_count": 30,
   "id": "4d23149c-f739-4432-9dc3-0115f7eecc03",
   "metadata": {},
   "outputs": [],
   "source": [
    "data = go.Scatter(\n",
    "    x = df_sf.Sales,\n",
    "    y = df_sf.Profit,\n",
    "    mode = 'markers'\n",
    ")\n"
   ]
  },
  {
   "cell_type": "code",
   "execution_count": 31,
   "id": "13212cd9-c55d-4799-9caa-0432e638a808",
   "metadata": {},
   "outputs": [],
   "source": [
    "layout = go.Layout(\n",
    "title = 'Sales versus Profit',\n",
    "xaxis = dict(title = 'Sales in k'),\n",
    "yaxis = dict(title = 'Profit in k')\n",
    ")"
   ]
  },
  {
   "cell_type": "code",
   "execution_count": 32,
   "id": "d1515295-fe61-4f59-b466-66fd86f51b11",
   "metadata": {},
   "outputs": [],
   "source": [
    "figure = go.Figure(data= data, layout = layout)"
   ]
  },
  {
   "cell_type": "code",
   "execution_count": 33,
   "id": "f0f42664-ddc1-429e-9362-70befd157ecf",
   "metadata": {},
   "outputs": [
    {
     "data": {
      "text/plain": [
       "'temp-plot.html'"
      ]
     },
     "execution_count": 33,
     "metadata": {},
     "output_type": "execute_result"
    }
   ],
   "source": [
    "pyo.plot(figure)"
   ]
  },
  {
   "cell_type": "code",
   "execution_count": null,
   "id": "31983f5f-49c3-496d-91ac-a4ea84e781b6",
   "metadata": {},
   "outputs": [],
   "source": []
  }
 ],
 "metadata": {
  "kernelspec": {
   "display_name": "Python 3 (ipykernel)",
   "language": "python",
   "name": "python3"
  },
  "language_info": {
   "codemirror_mode": {
    "name": "ipython",
    "version": 3
   },
   "file_extension": ".py",
   "mimetype": "text/x-python",
   "name": "python",
   "nbconvert_exporter": "python",
   "pygments_lexer": "ipython3",
   "version": "3.11.4"
  }
 },
 "nbformat": 4,
 "nbformat_minor": 5
}
