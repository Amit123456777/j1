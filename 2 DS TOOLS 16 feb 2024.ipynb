{
 "cells": [
  {
   "cell_type": "code",
   "execution_count": 1,
   "id": "5dd3be68-0890-4bf4-ad0a-eb4c26515a6c",
   "metadata": {},
   "outputs": [],
   "source": [
    "# consider a scenario where you have a dictionary named scores, containing the exam scores of\n",
    "# student subjects. Math and physics. The dat is organized in a nested dictionay structure.\n",
    "\n",
    "# 1. Using the data, create a Pandas DataFrame"
   ]
  },
  {
   "cell_type": "code",
   "execution_count": 42,
   "id": "706cd4e6-7ca4-4ba9-a087-2d084baaa521",
   "metadata": {
    "scrolled": true
   },
   "outputs": [
    {
     "name": "stdout",
     "output_type": "stream",
     "text": [
      "lesson  maths  Physics\n",
      "name                  \n",
      "a          85       90\n",
      "b          90       80\n",
      "c          95       75\n"
     ]
    }
   ],
   "source": [
    "import pandas as pd\n",
    "\n",
    "scores = {\"maths\":{\"a\":85,\"b\":90,\"c\":95},\"Physics\":{\"a\":90,\"b\":80,\"c\":75}}\n",
    "scores_df = pd.DataFrame(scores)\n",
    "# print(scores_df)\n",
    "scores_df.index.name = \"name\"\n",
    "scores_df.columns.name = \"lesson\"\n",
    "print(scores_df)"
   ]
  },
  {
   "cell_type": "code",
   "execution_count": 43,
   "id": "0d0368f5-558b-447d-b96d-0c07b24e415a",
   "metadata": {},
   "outputs": [
    {
     "ename": "SyntaxError",
     "evalue": "invalid syntax (2816824228.py, line 1)",
     "output_type": "error",
     "traceback": [
      "\u001b[1;36m  Cell \u001b[1;32mIn[43], line 1\u001b[1;36m\u001b[0m\n\u001b[1;33m    add = lamda a,b : a+ b\u001b[0m\n\u001b[1;37m                ^\u001b[0m\n\u001b[1;31mSyntaxError\u001b[0m\u001b[1;31m:\u001b[0m invalid syntax\n"
     ]
    }
   ],
   "source": [
    "add = lamda a,b : a+ b\n",
    "print(add)"
   ]
  },
  {
   "cell_type": "code",
   "execution_count": 7,
   "id": "7af9c2ad-8c64-4d2e-9fd4-f731ac1b9a51",
   "metadata": {},
   "outputs": [
    {
     "data": {
      "text/html": [
       "<div>\n",
       "<style scoped>\n",
       "    .dataframe tbody tr th:only-of-type {\n",
       "        vertical-align: middle;\n",
       "    }\n",
       "\n",
       "    .dataframe tbody tr th {\n",
       "        vertical-align: top;\n",
       "    }\n",
       "\n",
       "    .dataframe thead th {\n",
       "        text-align: right;\n",
       "    }\n",
       "</style>\n",
       "<table border=\"1\" class=\"dataframe\">\n",
       "  <thead>\n",
       "    <tr style=\"text-align: right;\">\n",
       "      <th></th>\n",
       "      <th>maths</th>\n",
       "      <th>Physics</th>\n",
       "    </tr>\n",
       "  </thead>\n",
       "  <tbody>\n",
       "    <tr>\n",
       "      <th>a</th>\n",
       "      <td>85</td>\n",
       "      <td>90</td>\n",
       "    </tr>\n",
       "    <tr>\n",
       "      <th>b</th>\n",
       "      <td>90</td>\n",
       "      <td>80</td>\n",
       "    </tr>\n",
       "    <tr>\n",
       "      <th>c</th>\n",
       "      <td>95</td>\n",
       "      <td>75</td>\n",
       "    </tr>\n",
       "  </tbody>\n",
       "</table>\n",
       "</div>"
      ],
      "text/plain": [
       "   maths  Physics\n",
       "a     85       90\n",
       "b     90       80\n",
       "c     95       75"
      ]
     },
     "execution_count": 7,
     "metadata": {},
     "output_type": "execute_result"
    }
   ],
   "source": [
    "import pandas as pd\n",
    "\n",
    "scores = {\"maths\":[85,90,95], \"Physics\":[90,80,75]}\n",
    "scores_df = pd.DataFrame(scores,index = [\"a\",\"b\",\"c\"])\n",
    "scores_df"
   ]
  },
  {
   "cell_type": "code",
   "execution_count": null,
   "id": "83cdc8b2-6a2e-4e90-8a5a-832744883fad",
   "metadata": {},
   "outputs": [],
   "source": []
  }
 ],
 "metadata": {
  "kernelspec": {
   "display_name": "Python 3 (ipykernel)",
   "language": "python",
   "name": "python3"
  },
  "language_info": {
   "codemirror_mode": {
    "name": "ipython",
    "version": 3
   },
   "file_extension": ".py",
   "mimetype": "text/x-python",
   "name": "python",
   "nbconvert_exporter": "python",
   "pygments_lexer": "ipython3",
   "version": "3.11.4"
  }
 },
 "nbformat": 4,
 "nbformat_minor": 5
}
