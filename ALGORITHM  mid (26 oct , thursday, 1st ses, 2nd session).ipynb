{
 "cells": [
  {
   "cell_type": "code",
   "execution_count": 4,
   "id": "f854a895",
   "metadata": {},
   "outputs": [
    {
     "name": "stdout",
     "output_type": "stream",
     "text": [
      "10\n",
      "3\n",
      "array('i', [5, 6, 7])\n",
      "array('i', [3, 4, 5])\n",
      "array('i', [1, 2, 3, 7])\n",
      "<class 'array.array'>\n",
      "<class 'array.array'>\n",
      "<class 'array.array'>\n"
     ]
    }
   ],
   "source": [
    "# DIVIDE THE ARRAY INTO THREE PARTS\n",
    "\n",
    "\n",
    "from array import *\n",
    "\n",
    "\n",
    "\n",
    "arr4 = array('i',[5,6,7,3,4,5,1,2,3,7])\n",
    "n=len(arr4)\n",
    "print(n)\n",
    "\n",
    "mid=n//3\n",
    "print(mid)\n",
    "part1 = arr4[:mid]\n",
    "part2=arr4[mid:mid*2]\n",
    "part3=arr4[mid*2:]\n",
    "print(part1)\n",
    "print(part2)\n",
    "print(part3)\n",
    "\n",
    "print(type(part1))\n",
    "print(type(part2))\n",
    "print(type(part3))"
   ]
  },
  {
   "cell_type": "code",
   "execution_count": 20,
   "id": "7b9d21bd",
   "metadata": {},
   "outputs": [
    {
     "name": "stdout",
     "output_type": "stream",
     "text": [
      "10\n",
      "2\n",
      "array('i', [1, 2])\n",
      "array('i', [3, 4])\n",
      "array('i', [5, 6])\n",
      "array('i', [7, 8])\n",
      "array('i', [9, 10])\n"
     ]
    }
   ],
   "source": [
    "# DIVIDE THE ARRAY INTO TWO PARTS\n",
    "\n",
    "\n",
    "\n",
    "from array import*\n",
    "arr5 = array('i',[1,2,3,4,5,6,7,8,9,10])\n",
    "l = len(arr5)\n",
    "print(l)\n",
    "\n",
    "mid=n//5\n",
    "print(mid)\n",
    "\n",
    "part1 = arr5[:mid]\n",
    "part2 = arr5[mid:mid*2]\n",
    "part3 = arr5[mid*2:mid*3]\n",
    "part4 = arr5[mid*3:mid*4]\n",
    "part5 = arr5[mid*4:]\n",
    "\n",
    "print(part1)\n",
    "print(part2)\n",
    "print(part3)\n",
    "print(part4)\n",
    "print(part5)\n",
    "\n"
   ]
  },
  {
   "cell_type": "code",
   "execution_count": 5,
   "id": "3be39832",
   "metadata": {},
   "outputs": [
    {
     "name": "stdout",
     "output_type": "stream",
     "text": [
      "array('i', [1, 2, 3, 4, 5, 6])\n"
     ]
    }
   ],
   "source": [
    "# SORT THE FOLLOWING ARRAY USING SELECTION SORT.\n",
    "\n",
    "# EXPLANATION NOTES IN KHUSI'S NOTEBOOK\n",
    "\n",
    "# QUEST 1\n",
    "\n",
    "import array\n",
    "from array import*\n",
    "def selection_sort(array):\n",
    "    n = len(arr)\n",
    "    for i in range(0,n-1):\n",
    "        min_value = i\n",
    "        for j in range(i+1,n):\n",
    "            if arr[j]< arr[min_value]:\n",
    "                min_value = j\n",
    "        arr[i],arr[min_value]=arr[min_value],arr[i]\n",
    "arr = array('i',[2,6,5,1,3,4])\n",
    "selection_sort(arr)\n",
    "print(arr)"
   ]
  },
  {
   "cell_type": "code",
   "execution_count": null,
   "id": "c44af137",
   "metadata": {},
   "outputs": [],
   "source": [
    "import array\n",
    "from array import*"
   ]
  }
 ],
 "metadata": {
  "kernelspec": {
   "display_name": "Python 3 (ipykernel)",
   "language": "python",
   "name": "python3"
  },
  "language_info": {
   "codemirror_mode": {
    "name": "ipython",
    "version": 3
   },
   "file_extension": ".py",
   "mimetype": "text/x-python",
   "name": "python",
   "nbconvert_exporter": "python",
   "pygments_lexer": "ipython3",
   "version": "3.11.4"
  }
 },
 "nbformat": 4,
 "nbformat_minor": 5
}
