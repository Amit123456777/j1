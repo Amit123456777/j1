{
 "cells": [
  {
   "cell_type": "code",
   "execution_count": 9,
   "id": "5bc15ebf",
   "metadata": {},
   "outputs": [
    {
     "name": "stdout",
     "output_type": "stream",
     "text": [
      "4\n",
      "10\n"
     ]
    }
   ],
   "source": [
    "num = int(input(\"\"))\n",
    "sum = 0\n",
    "i = 1\n",
    "while(i<=num):\n",
    "    sum = sum + i\n",
    "    i=i+1\n",
    "print(sum)\n"
   ]
  },
  {
   "cell_type": "code",
   "execution_count": null,
   "id": "cb4bdf03",
   "metadata": {},
   "outputs": [
    {
     "name": "stdout",
     "output_type": "stream",
     "text": [
      "4\n"
     ]
    }
   ],
   "source": [
    "num = int(input(\"\"))\n",
    "i =0\n",
    "sum = 0\n",
    "while(i<=num):\n",
    "    sum = sum + num\n",
    "print(sum)"
   ]
  },
  {
   "cell_type": "markdown",
   "id": "5d8cca59",
   "metadata": {},
   "source": []
  },
  {
   "cell_type": "code",
   "execution_count": null,
   "id": "25c1372f",
   "metadata": {},
   "outputs": [],
   "source": [
    "# ques 1 sum of n natural no.\n",
    "# ques 2 product"
   ]
  },
  {
   "cell_type": "code",
   "execution_count": 2,
   "id": "bb7534c9",
   "metadata": {},
   "outputs": [
    {
     "name": "stdout",
     "output_type": "stream",
     "text": [
      "enter any value : 4\n",
      "the sum is : 10\n"
     ]
    }
   ],
   "source": [
    "# build a program to claculate sum of first n natural numbers using while loop where n is user input prompt.\n",
    "\n",
    "n = int(input(\"enter any value : \"))\n",
    "sum = 0\n",
    "while (n>0):\n",
    "    sum = sum + n\n",
    "    n = n-1\n",
    "print(\"the sum is :\", sum)"
   ]
  },
  {
   "cell_type": "code",
   "execution_count": 12,
   "id": "06ae9f5d",
   "metadata": {},
   "outputs": [
    {
     "name": "stdout",
     "output_type": "stream",
     "text": [
      "enter any value : 6\n",
      "the sum is : 720\n"
     ]
    }
   ],
   "source": [
    "# factorial function (product of first n natural no.)\n",
    "\n",
    "n = int(input(\"enter any value : \"))\n",
    "product = 1\n",
    "while (n>0):\n",
    "    product = product * n\n",
    "    n = n-1\n",
    "print(\"the sum is :\", product)"
   ]
  },
  {
   "cell_type": "code",
   "execution_count": 1,
   "id": "f975cac9",
   "metadata": {},
   "outputs": [
    {
     "name": "stdout",
     "output_type": "stream",
     "text": [
      "enter a number : 2\n",
      "enter a number :3\n",
      "enter a number :4\n",
      "enter a number :5\n",
      "enter a number :-1\n"
     ]
    }
   ],
   "source": [
    "#  number = input(enter any value(-1 to exit;))\n",
    "num = int(input(\"enter a number : \"))\n",
    "while num!= -1:\n",
    "    num = int(input(\"enter a number :\"))"
   ]
  },
  {
   "cell_type": "code",
   "execution_count": null,
   "id": "093d263c",
   "metadata": {},
   "outputs": [],
   "source": []
  },
  {
   "cell_type": "code",
   "execution_count": null,
   "id": "8acc18d1",
   "metadata": {},
   "outputs": [],
   "source": []
  }
 ],
 "metadata": {
  "kernelspec": {
   "display_name": "Python 3 (ipykernel)",
   "language": "python",
   "name": "python3"
  },
  "language_info": {
   "codemirror_mode": {
    "name": "ipython",
    "version": 3
   },
   "file_extension": ".py",
   "mimetype": "text/x-python",
   "name": "python",
   "nbconvert_exporter": "python",
   "pygments_lexer": "ipython3",
   "version": "3.11.4"
  }
 },
 "nbformat": 4,
 "nbformat_minor": 5
}
