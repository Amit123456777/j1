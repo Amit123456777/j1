{
 "cells": [
  {
   "cell_type": "code",
   "execution_count": 21,
   "id": "5f400274-0083-4fcf-915b-3c5e28e63dfc",
   "metadata": {},
   "outputs": [
    {
     "name": "stdout",
     "output_type": "stream",
     "text": [
      "Hello, My name is Amit\n"
     ]
    }
   ],
   "source": [
    "# Arbitary arguments (*args)\n",
    "\n",
    "def name(*name):\n",
    "    print(\"Hello,\", name[0], name[1], name[2])\n",
    "\n",
    "name(\"My name\", \"is\", \"Amit\")\n"
   ]
  },
  {
   "cell_type": "code",
   "execution_count": null,
   "id": "c99a8a00-08e5-4e00-95c4-841cd85fdf2d",
   "metadata": {},
   "outputs": [],
   "source": []
  },
  {
   "cell_type": "code",
   "execution_count": 23,
   "id": "2490fe9a-1aa2-4aff-8cf2-61e42c1aa118",
   "metadata": {},
   "outputs": [
    {
     "name": "stdout",
     "output_type": "stream",
     "text": [
      "Hello, alva Thomas edison\n"
     ]
    }
   ],
   "source": [
    "# Keyword Arbitrary Arguments ( kwarks)\n",
    "\n",
    "def name(**name):\n",
    "    print(\"Hello,\", name[\"fname\"], name[\"mname\"], name[\"lname\"])\n",
    "\n",
    "name(mname = \"Thomas\", lname = \"edison\" , fname = \"alva\")"
   ]
  },
  {
   "cell_type": "code",
   "execution_count": 24,
   "id": "7ce5bbf7-b2cd-452a-985e-8503490b8e0b",
   "metadata": {},
   "outputs": [],
   "source": [
    "# using both args and kwrags : write a python function called libaray display _ info that takes \n",
    "# in a person name (positional argument),their age (keyword argument), and any additional infornmtin\n",
    "# (using args and kwargs) and the display infrormaion"
   ]
  },
  {
   "cell_type": "code",
   "execution_count": 26,
   "id": "77713022-6b04-4d85-91e8-87a3fafdd6c3",
   "metadata": {},
   "outputs": [
    {
     "data": {
      "text/plain": [
       "'apple-mango-orange'"
      ]
     },
     "execution_count": 26,
     "metadata": {},
     "output_type": "execute_result"
    }
   ],
   "source": [
    "def concatenate_strings(separator = \" \", *args):\n",
    "    return separator.join(args)\n",
    "concatenate_strings(\"-\", \"apple\", \"mango\", \"orange\")"
   ]
  },
  {
   "cell_type": "code",
   "execution_count": 35,
   "id": "a7285fb0-ae07-4175-923e-955a73efcf30",
   "metadata": {},
   "outputs": [
    {
     "data": {
      "text/plain": [
       "7"
      ]
     },
     "execution_count": 35,
     "metadata": {},
     "output_type": "execute_result"
    }
   ],
   "source": [
    "def largest_number(*numbers):\n",
    "    return max(numbers)\n",
    "largest_number(4,5,6,7)"
   ]
  },
  {
   "cell_type": "code",
   "execution_count": null,
   "id": "61704957-2549-4eea-ab5f-dcdea61cd416",
   "metadata": {},
   "outputs": [],
   "source": []
  },
  {
   "cell_type": "code",
   "execution_count": null,
   "id": "13995cbf-21a5-4250-b2bc-edd82a5c45b7",
   "metadata": {},
   "outputs": [],
   "source": []
  },
  {
   "cell_type": "code",
   "execution_count": null,
   "id": "0d093ff6-fa7f-4cc4-8372-fa3526a2ad82",
   "metadata": {},
   "outputs": [],
   "source": []
  }
 ],
 "metadata": {
  "kernelspec": {
   "display_name": "Python 3 (ipykernel)",
   "language": "python",
   "name": "python3"
  },
  "language_info": {
   "codemirror_mode": {
    "name": "ipython",
    "version": 3
   },
   "file_extension": ".py",
   "mimetype": "text/x-python",
   "name": "python",
   "nbconvert_exporter": "python",
   "pygments_lexer": "ipython3",
   "version": "3.11.4"
  }
 },
 "nbformat": 4,
 "nbformat_minor": 5
}
