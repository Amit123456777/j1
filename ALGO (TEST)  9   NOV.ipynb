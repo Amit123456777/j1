{
 "cells": [
  {
   "cell_type": "code",
   "execution_count": 1,
   "id": "6fa90db7",
   "metadata": {},
   "outputs": [],
   "source": [
    "# ALGO (TEST) 9 NOV. # create 2 random array each containing 4 number sort both the arrays and club them (combine them)."
   ]
  },
  {
   "cell_type": "code",
   "execution_count": 5,
   "id": "84517541",
   "metadata": {},
   "outputs": [
    {
     "data": {
      "text/plain": [
       "[3, 2, 1, 4, 8]"
      ]
     },
     "execution_count": 5,
     "metadata": {},
     "output_type": "execute_result"
    }
   ],
   "source": [
    "import random\n",
    "a=[1,2,3,4]\n",
    "random.shuffle(a)\n",
    "a\n",
    "import random\n",
    "b=[1,2,3,4,8]\n",
    "random.shuffle(b)\n",
    "b"
   ]
  },
  {
   "cell_type": "code",
   "execution_count": null,
   "id": "0ff8c33f",
   "metadata": {},
   "outputs": [],
   "source": []
  },
  {
   "cell_type": "code",
   "execution_count": null,
   "id": "b2485d44",
   "metadata": {
    "scrolled": true
   },
   "outputs": [],
   "source": []
  },
  {
   "cell_type": "markdown",
   "id": "13487c48",
   "metadata": {},
   "source": []
  },
  {
   "cell_type": "code",
   "execution_count": 33,
   "id": "f1170960",
   "metadata": {},
   "outputs": [
    {
     "name": "stdout",
     "output_type": "stream",
     "text": [
      "array('i', [1, 2, 6, 7])\n",
      "<class 'array.array'>\n",
      "array('i', [5, 3, 4, 1])\n",
      "<class 'array.array'>\n",
      "array('i', [1, 2, 6, 7, 5, 3, 4, 1])\n"
     ]
    }
   ],
   "source": [
    "# create 2 random array each containing 4 number sort both the arrays and club them (combine them).\n",
    "\n",
    "import array\n",
    "from array import *\n",
    "\n",
    "#defining a funtion\n",
    "def pairwise_swap(arr):\n",
    "    n=len(arr)\n",
    "    for i in range(0, n-1):\n",
    "        for j in range (0, n-i-1):\n",
    "            if arr[j]>arr[j+1]:\n",
    "                arr[j],arr[j+1]=arr[j+1],arr[j]        \n",
    "#ending the definition\n",
    "#defining the array\n",
    "arr1 = array('i',[6,7,1,2])\n",
    "# calling the fucntion\n",
    "pairwise_swap(arr1)\n",
    "print(arr1)\n",
    "print(type(arr1))\n",
    "\n",
    "\n",
    "\n",
    "\n",
    "import array\n",
    "from array import *\n",
    "#defining a funtion\n",
    "def pairwise_swap(arr):\n",
    "    n=len(arr)\n",
    "    for i in range(0, n-1):\n",
    "        for j in range (0, n-i-1):\n",
    "            if arr[j]>arr[j+1]:\n",
    "                arr[j],arr[j+1]=arr[j+1],arr[j]    \n",
    "#ending the definition\n",
    "#defining the array\n",
    "arr2 = array('i',[5,3,4,1])\n",
    "# calling the fucntion\n",
    "pairwise_swap(arr1)\n",
    "print(arr2)\n",
    "print(type(arr2))\n",
    "\n",
    "combine = arr1 + arr2\n",
    "print(combine)"
   ]
  },
  {
   "cell_type": "code",
   "execution_count": 32,
   "id": "e8011d31",
   "metadata": {},
   "outputs": [
    {
     "name": "stdout",
     "output_type": "stream",
     "text": [
      "Enter space-separated values: 2 3\n"
     ]
    }
   ],
   "source": [
    "import array\n",
    "from array import *\n",
    "input_str = input(\"Enter space-separated values: \")\n",
    "array = input_str.split()  # Splits the input by spaces\n"
   ]
  },
  {
   "cell_type": "code",
   "execution_count": null,
   "id": "bdc41768",
   "metadata": {},
   "outputs": [],
   "source": []
  }
 ],
 "metadata": {
  "kernelspec": {
   "display_name": "Python 3 (ipykernel)",
   "language": "python",
   "name": "python3"
  },
  "language_info": {
   "codemirror_mode": {
    "name": "ipython",
    "version": 3
   },
   "file_extension": ".py",
   "mimetype": "text/x-python",
   "name": "python",
   "nbconvert_exporter": "python",
   "pygments_lexer": "ipython3",
   "version": "3.11.4"
  }
 },
 "nbformat": 4,
 "nbformat_minor": 5
}
