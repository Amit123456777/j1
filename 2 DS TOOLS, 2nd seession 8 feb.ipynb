{
 "cells": [
  {
   "cell_type": "code",
   "execution_count": 1,
   "id": "985499c2-06dd-4f61-8910-9752539a633c",
   "metadata": {},
   "outputs": [
    {
     "data": {
      "text/plain": [
       "' \\nnumpy \\npandas \\nmatplotlib\\nseaborn\\nscipy\\n'"
      ]
     },
     "execution_count": 1,
     "metadata": {},
     "output_type": "execute_result"
    }
   ],
   "source": [
    "\"\"\" \n",
    "numpy \n",
    "pandas \n",
    "matplotlib\n",
    "seaborn\n",
    "scipy\n",
    "\"\"\""
   ]
  },
  {
   "cell_type": "code",
   "execution_count": 2,
   "id": "c659443c-70d2-4ee0-b714-77f458b4bc82",
   "metadata": {},
   "outputs": [],
   "source": [
    "import pandas as pd\n",
    "import numpy as np"
   ]
  },
  {
   "cell_type": "code",
   "execution_count": null,
   "id": "fc9e2d05-d7c9-4ec2-b1b9-802d861bb3b4",
   "metadata": {},
   "outputs": [],
   "source": []
  },
  {
   "cell_type": "code",
   "execution_count": 6,
   "id": "abb3b8f0-01af-4d85-92a3-585e97a8fecf",
   "metadata": {},
   "outputs": [
    {
     "name": "stdout",
     "output_type": "stream",
     "text": [
      "7\n"
     ]
    }
   ],
   "source": [
    "def add(num1, num2):  \n",
    "    sum = num1 + num2\n",
    "    print(sum)\n",
    "add(5,2)\n",
    "    "
   ]
  },
  {
   "cell_type": "code",
   "execution_count": 5,
   "id": "b38db42e-a28a-40b9-89d8-bfdf91159e86",
   "metadata": {},
   "outputs": [
    {
     "name": "stdout",
     "output_type": "stream",
     "text": [
      "3\n"
     ]
    }
   ],
   "source": [
    "def sub(a,b):\n",
    "    sub = a - b\n",
    "    print(sub)\n",
    "sub(5,2)"
   ]
  },
  {
   "cell_type": "code",
   "execution_count": 7,
   "id": "65753f5a-00dc-46cd-b810-c51f46aac484",
   "metadata": {},
   "outputs": [],
   "source": [
    "# range - built in onward 3.1"
   ]
  },
  {
   "cell_type": "code",
   "execution_count": 10,
   "id": "bb398196-6899-4b39-bbaf-655bb431b9e4",
   "metadata": {},
   "outputs": [
    {
     "data": {
      "text/plain": [
       "range(0, 5)"
      ]
     },
     "execution_count": 10,
     "metadata": {},
     "output_type": "execute_result"
    }
   ],
   "source": [
    "range(5)"
   ]
  },
  {
   "cell_type": "code",
   "execution_count": 19,
   "id": "51d0f39f-9081-4310-9323-d87d0464bc4a",
   "metadata": {},
   "outputs": [
    {
     "name": "stdout",
     "output_type": "stream",
     "text": [
      "0\n",
      "1\n",
      "2\n",
      "3\n",
      "4\n"
     ]
    }
   ],
   "source": [
    "for i in range(5):\n",
    "    print(i)"
   ]
  },
  {
   "cell_type": "code",
   "execution_count": 15,
   "id": "0ca14cde-2e2a-4d94-bd34-eb5567b5b015",
   "metadata": {},
   "outputs": [
    {
     "data": {
      "text/plain": [
       "3"
      ]
     },
     "execution_count": 15,
     "metadata": {},
     "output_type": "execute_result"
    }
   ],
   "source": [
    "# range and index both start from 0\n",
    "range(5)[3]"
   ]
  },
  {
   "cell_type": "code",
   "execution_count": 21,
   "id": "7a90ec87-56e2-4bfa-8418-ea82b8cc1fe4",
   "metadata": {},
   "outputs": [
    {
     "data": {
      "text/plain": [
       "3"
      ]
     },
     "execution_count": 21,
     "metadata": {},
     "output_type": "execute_result"
    }
   ],
   "source": [
    "range(5)[3]"
   ]
  },
  {
   "cell_type": "code",
   "execution_count": 24,
   "id": "e8725f7b-14d3-4f50-bc87-26bfd9646d49",
   "metadata": {},
   "outputs": [
    {
     "data": {
      "text/plain": [
       "2"
      ]
     },
     "execution_count": 24,
     "metadata": {},
     "output_type": "execute_result"
    }
   ],
   "source": [
    "range(5)[0]\n",
    "range(5)[1]\n",
    "range(5)[2]"
   ]
  },
  {
   "cell_type": "code",
   "execution_count": 25,
   "id": "a66ba671-cff3-463d-a358-894fbe4107ee",
   "metadata": {},
   "outputs": [
    {
     "data": {
      "text/plain": [
       "range(3, 10)"
      ]
     },
     "execution_count": 25,
     "metadata": {},
     "output_type": "execute_result"
    }
   ],
   "source": [
    "range(3,10,1)"
   ]
  },
  {
   "cell_type": "code",
   "execution_count": 26,
   "id": "e18550e9-0449-448d-a6a9-ea7a4ac4b820",
   "metadata": {},
   "outputs": [
    {
     "name": "stdout",
     "output_type": "stream",
     "text": [
      "3\n",
      "4\n",
      "5\n",
      "6\n",
      "7\n",
      "8\n",
      "9\n"
     ]
    }
   ],
   "source": [
    "for i in range(3, 10,1):\n",
    "    print(i)"
   ]
  },
  {
   "cell_type": "code",
   "execution_count": 36,
   "id": "dea24777-8236-49bd-b50c-d65c690414ec",
   "metadata": {},
   "outputs": [
    {
     "name": "stdout",
     "output_type": "stream",
     "text": [
      "10\n",
      "12\n",
      "14\n",
      "16\n",
      "18\n",
      "20\n",
      "22\n",
      "24\n",
      "26\n",
      "28\n",
      "30\n",
      "32\n",
      "34\n",
      "36\n",
      "38\n",
      "40\n",
      "42\n",
      "44\n",
      "46\n",
      "48\n",
      "50\n",
      "52\n",
      "54\n",
      "56\n",
      "58\n",
      "60\n",
      "62\n",
      "64\n",
      "66\n",
      "68\n",
      "70\n",
      "72\n",
      "74\n",
      "76\n",
      "78\n",
      "80\n",
      "82\n",
      "84\n",
      "86\n",
      "88\n"
     ]
    }
   ],
   "source": [
    "# 10 to 90 even\n",
    "for i in range(10,90,2):\n",
    "   print(i)\n"
   ]
  },
  {
   "cell_type": "code",
   "execution_count": null,
   "id": "19c258ba-d6cf-4c23-9557-632378784023",
   "metadata": {},
   "outputs": [],
   "source": []
  },
  {
   "cell_type": "code",
   "execution_count": 42,
   "id": "5b0bec57-b5d5-4936-bacb-b08a5c6e43e9",
   "metadata": {},
   "outputs": [
    {
     "ename": "TypeError",
     "evalue": "'float' object cannot be interpreted as an integer",
     "output_type": "error",
     "traceback": [
      "\u001b[1;31m---------------------------------------------------------------------------\u001b[0m",
      "\u001b[1;31mTypeError\u001b[0m                                 Traceback (most recent call last)",
      "Cell \u001b[1;32mIn[42], line 3\u001b[0m\n\u001b[0;32m      1\u001b[0m \u001b[38;5;66;03m# 4 to 6 0.2\u001b[39;00m\n\u001b[1;32m----> 3\u001b[0m \u001b[38;5;28;01mfor\u001b[39;00m i \u001b[38;5;129;01min\u001b[39;00m \u001b[38;5;28;43mrange\u001b[39;49m\u001b[43m(\u001b[49m\u001b[38;5;241;43m4.0\u001b[39;49m\u001b[43m,\u001b[49m\u001b[38;5;241;43m6.0\u001b[39;49m\u001b[43m,\u001b[49m\u001b[38;5;241;43m0.2\u001b[39;49m\u001b[43m)\u001b[49m:\n\u001b[0;32m      4\u001b[0m     \u001b[38;5;28mprint\u001b[39m(i)\n",
      "\u001b[1;31mTypeError\u001b[0m: 'float' object cannot be interpreted as an integer"
     ]
    }
   ],
   "source": [
    "# make a series 4 to 6    step = 0.2\n",
    "\n",
    "for i in range(4.0,6.0,0.2):\n",
    "    print(i)"
   ]
  },
  {
   "cell_type": "code",
   "execution_count": 7,
   "id": "d25c6f43-5a2b-4a52-b981-abd1c62182d7",
   "metadata": {},
   "outputs": [
    {
     "name": "stdout",
     "output_type": "stream",
     "text": [
      "4.0\n"
     ]
    },
    {
     "ename": "TypeError",
     "evalue": "'float' object cannot be interpreted as an integer",
     "output_type": "error",
     "traceback": [
      "\u001b[1;31m---------------------------------------------------------------------------\u001b[0m",
      "\u001b[1;31mTypeError\u001b[0m                                 Traceback (most recent call last)",
      "Cell \u001b[1;32mIn[7], line 5\u001b[0m\n\u001b[0;32m      3\u001b[0m c \u001b[38;5;241m=\u001b[39m \u001b[38;5;28mfloat\u001b[39m(\u001b[38;5;241m6\u001b[39m)\n\u001b[0;32m      4\u001b[0m \u001b[38;5;28mprint\u001b[39m(a)\n\u001b[1;32m----> 5\u001b[0m \u001b[38;5;28;01mfor\u001b[39;00m i \u001b[38;5;129;01min\u001b[39;00m \u001b[38;5;28;43mrange\u001b[39;49m\u001b[43m(\u001b[49m\u001b[43ma\u001b[49m\u001b[43m,\u001b[49m\u001b[43mb\u001b[49m\u001b[43m,\u001b[49m\u001b[43mc\u001b[49m\u001b[43m)\u001b[49m:\n\u001b[0;32m      6\u001b[0m     \u001b[38;5;28mprint\u001b[39m(i)\n",
      "\u001b[1;31mTypeError\u001b[0m: 'float' object cannot be interpreted as an integer"
     ]
    }
   ],
   "source": []
  },
  {
   "cell_type": "code",
   "execution_count": null,
   "id": "46d62032-e9d9-4cc2-a893-8bb240af12cd",
   "metadata": {},
   "outputs": [],
   "source": []
  },
  {
   "cell_type": "code",
   "execution_count": 54,
   "id": "ad790659-c80f-423e-8f2f-112b62e6d8b2",
   "metadata": {},
   "outputs": [
    {
     "name": "stdout",
     "output_type": "stream",
     "text": [
      "<class 'range'>\n"
     ]
    }
   ],
   "source": [
    "print(type(range(5)))"
   ]
  },
  {
   "cell_type": "code",
   "execution_count": 70,
   "id": "e27acd54-bda9-4037-92f1-4c5f60100b1f",
   "metadata": {},
   "outputs": [
    {
     "name": "stdout",
     "output_type": "stream",
     "text": [
      "[0, 1, 2, 3, 4]\n",
      "65\n",
      "66\n",
      "103\n"
     ]
    }
   ],
   "source": [
    "print(list(range(5)))\n",
    "print(ord('A'))\n",
    "print(ord('B'))\n",
    "print(ord('g'))"
   ]
  },
  {
   "cell_type": "code",
   "execution_count": 79,
   "id": "2fcc1fc7-487b-4b37-9019-0a87f2fc2988",
   "metadata": {},
   "outputs": [
    {
     "name": "stdout",
     "output_type": "stream",
     "text": [
      "103\n"
     ]
    }
   ],
   "source": [
    "print(ord('g'))\n",
    "\n",
    "\n",
    "# this order (ord) funtion convert the character into number.  "
   ]
  },
  {
   "cell_type": "code",
   "execution_count": null,
   "id": "a2ce3a8c-79e7-432d-8d07-4c0ea40ddbd3",
   "metadata": {},
   "outputs": [],
   "source": []
  },
  {
   "cell_type": "code",
   "execution_count": 76,
   "id": "cbbb0432-e12f-4a0d-adcb-e0520802e710",
   "metadata": {},
   "outputs": [
    {
     "name": "stdout",
     "output_type": "stream",
     "text": [
      "['a', 'b', 'c', 'd', 'e', 'f', 'g']\n"
     ]
    }
   ],
   "source": [
    "def get_alphabets(startletter, stopletter, step):\n",
    "    for c in range(ord(startletter.lower()), ord(stopletter.lower()), step):\n",
    "        yield chr(c)\n",
    "\n",
    "print(list(get_alphabets(\"a\", \"h\", 1)))"
   ]
  },
  {
   "cell_type": "code",
   "execution_count": 2,
   "id": "2f2e11c2-9b55-4db1-b981-ff26d880b6fc",
   "metadata": {},
   "outputs": [],
   "source": [
    "\n",
    "\n",
    "# user defined funtion\n",
    "# generator function\n",
    "\n",
    " # yeild command jb bhi do data structure se kuch big create krna hai then we use yeild command funtion\n",
    "# yeild mtlb kuch bda bnana"
   ]
  },
  {
   "cell_type": "code",
   "execution_count": 11,
   "id": "b2bf01e5-1f6e-44e2-8f95-2720d250f6a8",
   "metadata": {},
   "outputs": [],
   "source": [
    "def alphabets(letter1, letter2):\n",
    "    print(letter1)\n",
    "    print(letter2)\n",
    "\n"
   ]
  },
  {
   "cell_type": "code",
   "execution_count": 13,
   "id": "88ddf49d-447a-4f1a-8321-6111d4cbe4a8",
   "metadata": {},
   "outputs": [],
   "source": [
    "def alphabet(letter1, letter2):\n",
    "    for i in range(ord(letter),ord(letter2), step):\n",
    "        yeild(i)"
   ]
  },
  {
   "cell_type": "code",
   "execution_count": null,
   "id": "5740a215-0d84-4dcf-a8d4-bee034811e09",
   "metadata": {},
   "outputs": [],
   "source": []
  }
 ],
 "metadata": {
  "kernelspec": {
   "display_name": "Python 3 (ipykernel)",
   "language": "python",
   "name": "python3"
  },
  "language_info": {
   "codemirror_mode": {
    "name": "ipython",
    "version": 3
   },
   "file_extension": ".py",
   "mimetype": "text/x-python",
   "name": "python",
   "nbconvert_exporter": "python",
   "pygments_lexer": "ipython3",
   "version": "3.11.4"
  }
 },
 "nbformat": 4,
 "nbformat_minor": 5
}
