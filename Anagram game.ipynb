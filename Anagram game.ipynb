{
 "cells": [
  {
   "cell_type": "code",
   "execution_count": 1,
   "id": "0d961e8c",
   "metadata": {},
   "outputs": [
    {
     "name": "stdout",
     "output_type": "stream",
     "text": [
      "thor\n",
      "~~~~~~~~~~~~~~~~~~~~~~~~~~~~~~\n",
      "~~~ Avengers jumble Bumble\n",
      "~*30\n",
      "the word is rhot\n",
      "enter your guessed word: thor\n",
      "Correct Guess!!\n",
      "you won!\n",
      "thank you for playing\n"
     ]
    }
   ],
   "source": [
    "import random\n",
    "words = [\"ironman\", \"thor\", \"hawkeye\", \"wanda\", \"vision\"]\n",
    "word = random.choice(words)\n",
    "print(word)\n",
    "\n",
    "jumble = \"\".join(random.sample(word,len(word)))\n",
    "# print(jumble)\n",
    "\n",
    "chances = 3\n",
    "\n",
    "print(\"~\"*30)\n",
    "print(\"~~~ Avengers jumble Bumble\")\n",
    "print(\"~*30\")\n",
    "\n",
    "while chances!=0:\n",
    "    print(\"the word is\", jumble)\n",
    "    \n",
    "    guess = input(\"enter your guessed word: \").lower()\n",
    "    if guess == word:\n",
    "        print(\"Correct Guess!!\")\n",
    "        print(\"you won!\")\n",
    "        break\n",
    "        \n",
    "    else:\n",
    "        chances -= 1\n",
    "        print(\"Incorrect Guess!!\")\n",
    "        print(\"Remaining chances are:, chances\")\n",
    "else:\n",
    "    print(\"all you chances are exhauseted\")\n",
    "    print(\"you lose\")\n",
    "    print(\"the correct word is\",word)\n",
    "\n",
    "print(\"thank you for playing\")"
   ]
  },
  {
   "cell_type": "code",
   "execution_count": null,
   "id": "dfced855",
   "metadata": {},
   "outputs": [],
   "source": []
  },
  {
   "cell_type": "code",
   "execution_count": 4,
   "id": "afb6a8f3",
   "metadata": {},
   "outputs": [],
   "source": []
  },
  {
   "cell_type": "code",
   "execution_count": 5,
   "id": "880edd26",
   "metadata": {},
   "outputs": [
    {
     "name": "stdout",
     "output_type": "stream",
     "text": [
      "~~~~~~~~~~~~~~~~~~~~~~~~~~~~~~\n",
      "~~~ Avengers jumble Bumble\n",
      "~*30\n"
     ]
    }
   ],
   "source": []
  },
  {
   "cell_type": "code",
   "execution_count": 1,
   "id": "fdb9bfc0",
   "metadata": {},
   "outputs": [
    {
     "ename": "NameError",
     "evalue": "name 'chances' is not defined",
     "output_type": "error",
     "traceback": [
      "\u001b[1;31m---------------------------------------------------------------------------\u001b[0m",
      "\u001b[1;31mNameError\u001b[0m                                 Traceback (most recent call last)",
      "Cell \u001b[1;32mIn[1], line 1\u001b[0m\n\u001b[1;32m----> 1\u001b[0m \u001b[38;5;28;01mwhile\u001b[39;00m chances\u001b[38;5;241m!=\u001b[39m\u001b[38;5;241m0\u001b[39m:\n\u001b[0;32m      2\u001b[0m     \u001b[38;5;28mprint\u001b[39m(\u001b[38;5;124m\"\u001b[39m\u001b[38;5;124mthe word is\u001b[39m\u001b[38;5;124m\"\u001b[39m, jumble)\n\u001b[0;32m      4\u001b[0m     guess \u001b[38;5;241m=\u001b[39m \u001b[38;5;28minput\u001b[39m(\u001b[38;5;124m\"\u001b[39m\u001b[38;5;124menter your guessed word: \u001b[39m\u001b[38;5;124m\"\u001b[39m)\u001b[38;5;241m.\u001b[39mlower()\n",
      "\u001b[1;31mNameError\u001b[0m: name 'chances' is not defined"
     ]
    }
   ],
   "source": []
  },
  {
   "cell_type": "code",
   "execution_count": null,
   "id": "785edb92",
   "metadata": {},
   "outputs": [],
   "source": []
  }
 ],
 "metadata": {
  "kernelspec": {
   "display_name": "Python 3 (ipykernel)",
   "language": "python",
   "name": "python3"
  },
  "language_info": {
   "codemirror_mode": {
    "name": "ipython",
    "version": 3
   },
   "file_extension": ".py",
   "mimetype": "text/x-python",
   "name": "python",
   "nbconvert_exporter": "python",
   "pygments_lexer": "ipython3",
   "version": "3.11.4"
  }
 },
 "nbformat": 4,
 "nbformat_minor": 5
}
