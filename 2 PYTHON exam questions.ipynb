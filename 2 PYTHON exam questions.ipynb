{
 "cells": [
  {
   "cell_type": "code",
   "execution_count": 10,
   "id": "12a3eb3f-f912-499c-a4db-be5b8c1995a7",
   "metadata": {},
   "outputs": [
    {
     "name": "stdout",
     "output_type": "stream",
     "text": [
      "5\n",
      "4\n"
     ]
    },
    {
     "ename": "NameError",
     "evalue": "name 'y' is not defined",
     "output_type": "error",
     "traceback": [
      "\u001b[1;31m---------------------------------------------------------------------------\u001b[0m",
      "\u001b[1;31mNameError\u001b[0m                                 Traceback (most recent call last)",
      "Cell \u001b[1;32mIn[10], line 11\u001b[0m\n\u001b[0;32m      9\u001b[0m my_function()\n\u001b[0;32m     10\u001b[0m \u001b[38;5;28mprint\u001b[39m(x)\n\u001b[1;32m---> 11\u001b[0m \u001b[38;5;28mprint\u001b[39m(\u001b[43my\u001b[49m)\n",
      "\u001b[1;31mNameError\u001b[0m: name 'y' is not defined"
     ]
    }
   ],
   "source": [
    "# x = 10 # global variable\n",
    "\n",
    "def my_function():\n",
    "    global x\n",
    "    x = 4\n",
    "    y = 5 # local variable\n",
    "    print(y)\n",
    "\n",
    "my_function()\n",
    "print(x)\n",
    "# print(y) it shows error "
   ]
  },
  {
   "cell_type": "code",
   "execution_count": null,
   "id": "f1aca618-57d9-4f30-acd0-9e7f20ec9e70",
   "metadata": {},
   "outputs": [],
   "source": []
  },
  {
   "cell_type": "code",
   "execution_count": 4,
   "id": "9d555b68-143e-459b-b971-ee8bc6486540",
   "metadata": {},
   "outputs": [],
   "source": [
    "# without creating an intance we can use method using @staticmethod.\n",
    "# we can asses static using clas sname only not instances"
   ]
  },
  {
   "cell_type": "code",
   "execution_count": 5,
   "id": "b7413ca0-22ad-4de8-9fda-7f2b02163f63",
   "metadata": {},
   "outputs": [],
   "source": [
    "# Class methods are used when we need to access or modify class-level attributes, or when we need to create new \n",
    "# instances of the class. Static methods are used when we have a utility\n",
    "# function that does not depend on any state from the class or the instance."
   ]
  },
  {
   "cell_type": "code",
   "execution_count": 6,
   "id": "90989427-27ad-4bce-91ba-9f9c702152e5",
   "metadata": {},
   "outputs": [],
   "source": [
    "# class person:\n",
    "#     num_people = \n",
    "#     def "
   ]
  },
  {
   "cell_type": "code",
   "execution_count": 7,
   "id": "492399c5-2e0a-4d89-bf4d-90d3905cdc8b",
   "metadata": {},
   "outputs": [],
   "source": [
    "# static method use when we want to access it inside and outside the class."
   ]
  },
  {
   "cell_type": "code",
   "execution_count": null,
   "id": "274bc7b2-b5dc-437c-961e-d3a90a2fe9aa",
   "metadata": {},
   "outputs": [],
   "source": []
  },
  {
   "cell_type": "code",
   "execution_count": 8,
   "id": "ac39ca31-a4da-4460-92c1-f3d6bbcd0f13",
   "metadata": {},
   "outputs": [],
   "source": [
    "# statics --> class name through access kr skte hai.                   \n",
    "# class method --> iska use hm class ke variable ke through use kr skte hai."
   ]
  },
  {
   "cell_type": "code",
   "execution_count": null,
   "id": "45f4c33c-afd2-40c3-b313-73225f3b1005",
   "metadata": {},
   "outputs": [],
   "source": []
  },
  {
   "cell_type": "code",
   "execution_count": null,
   "id": "314081ce-7672-42ae-aa05-79d65883487c",
   "metadata": {},
   "outputs": [],
   "source": []
  },
  {
   "cell_type": "code",
   "execution_count": null,
   "id": "46af0be8-5873-448d-ae90-9e13929c7db0",
   "metadata": {},
   "outputs": [],
   "source": []
  },
  {
   "cell_type": "code",
   "execution_count": 36,
   "id": "db3846a4-9452-44c5-9ce3-7c89d6615cd4",
   "metadata": {},
   "outputs": [
    {
     "name": "stdout",
     "output_type": "stream",
     "text": [
      "6\n"
     ]
    }
   ],
   "source": [
    "\n",
    "def my_function():\n",
    "    global a\n",
    "    a = 6\n",
    "print(a)"
   ]
  },
  {
   "cell_type": "markdown",
   "id": "07473e52-afa2-4627-a984-93781f1c478d",
   "metadata": {},
   "source": [
    "# EXAM QUES"
   ]
  },
  {
   "cell_type": "code",
   "execution_count": 19,
   "id": "2051bcd8-2111-4939-a2b5-f185ac10c126",
   "metadata": {},
   "outputs": [],
   "source": [
    "# exception error - means kis kis treke se error aa skta hai"
   ]
  },
  {
   "cell_type": "code",
   "execution_count": 21,
   "id": "07f62974-f944-4fe2-8ec8-ff91db5f5575",
   "metadata": {},
   "outputs": [],
   "source": [
    "# what is run time error ( very important)"
   ]
  },
  {
   "cell_type": "code",
   "execution_count": null,
   "id": "1d009e23-0046-470f-bb8c-f8913b4b4d84",
   "metadata": {},
   "outputs": [],
   "source": [
    "# 5 markssa"
   ]
  },
  {
   "cell_type": "code",
   "execution_count": 22,
   "id": "bf764390-cb66-4df5-96a1-2d387ef238f0",
   "metadata": {},
   "outputs": [],
   "source": [
    "# exam question\n",
    "# 1 what is error handling\n",
    "# 1 componenets of error \n",
    "# ans try except finally"
   ]
  },
  {
   "cell_type": "code",
   "execution_count": 23,
   "id": "c606669d-407d-4c92-bd22-d33780866e94",
   "metadata": {},
   "outputs": [],
   "source": [
    "# 2 list comprehension question in 5 marks."
   ]
  },
  {
   "cell_type": "code",
   "execution_count": 24,
   "id": "b8c2bf84-9e89-45e1-882d-ff01a1d59bb5",
   "metadata": {},
   "outputs": [],
   "source": [
    "# 3 classes static method. [1marks]"
   ]
  },
  {
   "cell_type": "code",
   "execution_count": null,
   "id": "34203371-72b2-4c4b-b353-5cca135cfffd",
   "metadata": {},
   "outputs": [],
   "source": [
    "# 1 marks define functions  [1mark]"
   ]
  }
 ],
 "metadata": {
  "kernelspec": {
   "display_name": "Python 3 (ipykernel)",
   "language": "python",
   "name": "python3"
  },
  "language_info": {
   "codemirror_mode": {
    "name": "ipython",
    "version": 3
   },
   "file_extension": ".py",
   "mimetype": "text/x-python",
   "name": "python",
   "nbconvert_exporter": "python",
   "pygments_lexer": "ipython3",
   "version": "3.11.4"
  }
 },
 "nbformat": 4,
 "nbformat_minor": 5
}
