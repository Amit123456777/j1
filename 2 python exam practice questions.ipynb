{
 "cells": [
  {
   "cell_type": "code",
   "execution_count": 1,
   "id": "c7a3dd83-2a51-485d-8699-319ddb6c141a",
   "metadata": {},
   "outputs": [
    {
     "name": "stdout",
     "output_type": "stream",
     "text": [
      "even: [2, 4, 6, 8, 10]\n",
      "odd:  [1, 3, 5, 7, 9]\n"
     ]
    }
   ],
   "source": [
    "# write a program to filter even and odd number from list.\n",
    "even = []\n",
    "odd = []\n",
    "l = [1,2,3,4,5,6,7,8,9,10]\n",
    "for i in l:\n",
    "    if i%2==0:\n",
    "        even.append(i)\n",
    "    elif i%2!=0:\n",
    "        odd.append(i)\n",
    "\n",
    "print(f\"even: {even}\")\n",
    "print(f\"odd:  {odd}\")"
   ]
  },
  {
   "cell_type": "code",
   "execution_count": 2,
   "id": "7267db58-5989-4896-8d53-c5e634f2a29a",
   "metadata": {},
   "outputs": [
    {
     "name": "stdout",
     "output_type": "stream",
     "text": [
      "[1, 2, 10, 3, 4]\n"
     ]
    }
   ],
   "source": [
    "# insert()\n",
    "l1 = [1,2,3,4]\n",
    "l1.insert(2,10) # 2nd index pe 10 insert\n",
    "print(l1)"
   ]
  },
  {
   "cell_type": "code",
   "execution_count": 4,
   "id": "bbfe7ee1-4f37-4c23-af24-7f4110d83b7b",
   "metadata": {},
   "outputs": [
    {
     "name": "stdout",
     "output_type": "stream",
     "text": [
      " total: 10\n"
     ]
    }
   ],
   "source": [
    "# sum of list elements\n",
    "l2 = [1,2,3,4]\n",
    "sum = 0\n",
    "for i in l2:\n",
    "    sum = sum + i\n",
    "print(f\" total: {sum}\")"
   ]
  },
  {
   "cell_type": "code",
   "execution_count": 5,
   "id": "c8172e38-8a78-4136-96fb-fa35ebf34575",
   "metadata": {},
   "outputs": [
    {
     "name": "stdout",
     "output_type": "stream",
     "text": [
      "sum of even numbers: 12\n"
     ]
    }
   ],
   "source": [
    "# sum of even numbers\n",
    "\n",
    "l3 = [1,2,3,4,5,6]\n",
    "sum = 0\n",
    "for i in l3:\n",
    "    if i %2==0:\n",
    "        sum = sum + i\n",
    "\n",
    "print(f\"sum of even numbers: {sum}\")"
   ]
  },
  {
   "cell_type": "code",
   "execution_count": 6,
   "id": "543f7248-0f72-4ded-aa45-63a46c436ef9",
   "metadata": {},
   "outputs": [
    {
     "name": "stdout",
     "output_type": "stream",
     "text": [
      "3\n",
      "6\n",
      "9\n",
      "12\n",
      "15\n",
      "18\n",
      "21\n",
      "24\n",
      "27\n",
      "30\n"
     ]
    }
   ],
   "source": [
    "# print the table of any number using loop\n",
    "# method 1\n",
    "for i in range(1,11):\n",
    "    print(3*i)"
   ]
  },
  {
   "cell_type": "code",
   "execution_count": 7,
   "id": "637497b6-d8fa-4064-a8eb-f99e9809c551",
   "metadata": {},
   "outputs": [
    {
     "name": "stdout",
     "output_type": "stream",
     "text": [
      "3 x 1 = 3\n",
      "3 x 2 = 6\n",
      "3 x 3 = 9\n",
      "3 x 4 = 12\n",
      "3 x 5 = 15\n",
      "3 x 6 = 18\n",
      "3 x 7 = 21\n",
      "3 x 8 = 24\n",
      "3 x 9 = 27\n",
      "3 x 10 = 30\n"
     ]
    }
   ],
   "source": [
    "# method 2\n",
    "for i in range(1,11):\n",
    "    print(\"3\",\"x\",i, \"=\", (3*i))"
   ]
  },
  {
   "cell_type": "code",
   "execution_count": null,
   "id": "4e37821c-da12-4201-a9d5-3991b3a15f72",
   "metadata": {},
   "outputs": [],
   "source": []
  }
 ],
 "metadata": {
  "kernelspec": {
   "display_name": "Python 3 (ipykernel)",
   "language": "python",
   "name": "python3"
  },
  "language_info": {
   "codemirror_mode": {
    "name": "ipython",
    "version": 3
   },
   "file_extension": ".py",
   "mimetype": "text/x-python",
   "name": "python",
   "nbconvert_exporter": "python",
   "pygments_lexer": "ipython3",
   "version": "3.11.4"
  }
 },
 "nbformat": 4,
 "nbformat_minor": 5
}
