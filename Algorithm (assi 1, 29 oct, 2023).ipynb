{
 "cells": [
  {
   "cell_type": "code",
   "execution_count": 1,
   "id": "f037dd42",
   "metadata": {},
   "outputs": [
    {
     "name": "stdout",
     "output_type": "stream",
     "text": [
      "array('i', [1, 2, 3, 4, 5, 6, 7, 8, 9, 10])\n",
      "<class 'array.array'>\n"
     ]
    }
   ],
   "source": [
    "# Question 1: Array Operations\n",
    "\n",
    "# a) Create an array named numbers containing 10 integer values.\n",
    "\n",
    "import array\n",
    "from array import *\n",
    "\n",
    "arr1 = array('i',[1,2,3,4,5,6,7,8,9,10])\n",
    "print(arr1)\n",
    "\n",
    "print(type(arr1))"
   ]
  },
  {
   "cell_type": "code",
   "execution_count": 2,
   "id": "b1071ede",
   "metadata": {},
   "outputs": [
    {
     "name": "stdout",
     "output_type": "stream",
     "text": [
      "The sum is :  15\n"
     ]
    }
   ],
   "source": [
    "# b) Calculate and display the sum of all the numbers in the array.\n",
    "\n",
    "import array\n",
    "from array import *\n",
    "arr2 = array('i',[1,2,3,4,5])\n",
    "sum = 0\n",
    "for elements in arr2:\n",
    "    sum = sum + elements\n",
    "print(\"The sum is : \", sum)"
   ]
  },
  {
   "cell_type": "code",
   "execution_count": 3,
   "id": "ffb1ae65",
   "metadata": {},
   "outputs": [
    {
     "name": "stdout",
     "output_type": "stream",
     "text": [
      "150\n",
      "5\n",
      "THE AVERAGE IS :  150\n"
     ]
    }
   ],
   "source": [
    "# c) Calculate and display the average of the numbers\n",
    "\n",
    "import array\n",
    "from array import *\n",
    "arr3 = array('i',[10,20,30,40,50])\n",
    "\n",
    "sum = 0\n",
    "for elements in arr3:\n",
    "    sum += elements\n",
    "print(sum)\n",
    "n = len(arr3)   # can also use, print(len(arr3))\n",
    "print(n)\n",
    "\n",
    "print(\"THE AVERAGE IS : \", sum)"
   ]
  },
  {
   "cell_type": "code",
   "execution_count": 4,
   "id": "818ad6d4",
   "metadata": {},
   "outputs": [
    {
     "name": "stdout",
     "output_type": "stream",
     "text": [
      "array('i', [21, 23, 34, 45, 54, 56, 58, 78, 99, 100])\n",
      "min is :  21\n",
      "max is :  100\n"
     ]
    }
   ],
   "source": [
    "# d) Find and display the maximum and minimum values in the array\n",
    "\n",
    "# how to solve this ques.\n",
    "# step 1 : sort array\n",
    "# step 2 : print 1 element\n",
    "# conclusion : In this way the first element in array is always min AND LAST IS MAX.\n",
    "\n",
    "\n",
    "import array\n",
    "from array import *\n",
    "#defining a funtion\n",
    "def pairwise_swap(arr):\n",
    "    n=len(arr)\n",
    "    for i in range(0, n-1):\n",
    "        for j in range (0, n-i-1):\n",
    "            if arr[j]>arr[j+1]:\n",
    "                arr[j],arr[j+1]=arr[j+1],arr[j]\n",
    "\n",
    "\n",
    "# ending the function\n",
    "# Defining the array\n",
    "\n",
    "arr1 = array('i',[100,99,58,45,34,21,23,56,78,54])\n",
    "\n",
    "# calling the function\n",
    "\n",
    "pairwise_swap(arr1)\n",
    "print(arr1)\n",
    "\n",
    "print(\"min is : \",arr1[0])\n",
    "print(\"max is : \",arr1[-1])"
   ]
  },
  {
   "cell_type": "code",
   "execution_count": 5,
   "id": "931e41df",
   "metadata": {},
   "outputs": [
    {
     "name": "stdout",
     "output_type": "stream",
     "text": [
      "The original array :  array('i', [1, 2, 3, 4, 5, 6, 7, 8])\n",
      "\n",
      "After add two elements :  array('i', [1, 2, 3, 4, 5, 6, 7, 8, 9, 10])\n",
      "\n",
      "After replace 4th item :  array('i', [1, 2, 3, 5, 6, 7, 8, 9, 10])\n",
      "\n",
      "After remove last element :  array('i', [1, 2, 3, 5, 6, 7, 8, 9])\n",
      "\n",
      "The final array is :  array('i', [1, 2, 3, 5, 6, 7, 8, 9])\n"
     ]
    }
   ],
   "source": [
    "# Question 2: Array Manipulation\n",
    "\n",
    "# a) Create an array of 8 names\n",
    "\n",
    "import array\n",
    "from array import *\n",
    "arr8 = array('i',[1,2,3,4,5,6,7,8])\n",
    "print(\"The original array : \",arr8)\n",
    "\n",
    "\n",
    "# b) Add two more names to the array.\n",
    "\n",
    "arr8.append(9)\n",
    "arr8.append(10)\n",
    "print(\"\\nAfter add two elements : \", arr8)\n",
    "\n",
    "\n",
    "# c) Replace the 4th name in the array with a new name\n",
    "\n",
    "arr8.pop(3)\n",
    "print(\"\\nAfter replace 4th item : \", arr8)\n",
    "\n",
    "\n",
    "# d) Remove the last name from the array.\n",
    "\n",
    "arr8.pop(-1)\n",
    "print(\"\\nAfter remove last element : \", arr8)\n",
    "\n",
    "\n",
    "# e) Display the final array of names.\n",
    "\n",
    "print(\"\\nThe final array is : \",arr8)"
   ]
  },
  {
   "cell_type": "code",
   "execution_count": 30,
   "id": "30a71e67",
   "metadata": {},
   "outputs": [
    {
     "name": "stdout",
     "output_type": "stream",
     "text": [
      "15\n",
      "Enter a number to search for in the array: 48545\n",
      "48545\n",
      "48545 is not in the array.\n"
     ]
    }
   ],
   "source": [
    "# Question 3: Searching in Arrays\n",
    "\n",
    "#a) Create an array of 15 random integers.\n",
    "\n",
    "import array\n",
    "import random\n",
    "\n",
    "# Create an array of 12 integers in random order\n",
    "original_array = array.array('i', [random.randint(1, 100) for _ in range(15)])\n",
    "print(len(original_array))\n",
    "\n",
    "# b) Prompt the user to enter a number to search for in the array.\n",
    "\n",
    "search_number = int(input(\"Enter a number to search for in the array: \"))\n",
    "print(search_number)\n",
    "\n",
    "# c) Check if the user's input exists in the array and display an appropriate message.\n",
    "\n",
    "if search_number in arr8:\n",
    "    print(f\"{search_number} is in the array.\")\n",
    "    #ALSO USE, print(search_number, \"is in the array.\")\n",
    "else:\n",
    "    print(f\"{search_number} is not in the array.\")\n",
    "    #ALSO USE, print(search_number, \"is not in the array.\")\n",
    "\n",
    "\n",
    "# NOTE : The f\"{search_number} is in the array.\" is an f-string.\n",
    "# It dynamically inserts the value of the search_number variable into the string."
   ]
  },
  {
   "cell_type": "code",
   "execution_count": null,
   "id": "33354529",
   "metadata": {},
   "outputs": [],
   "source": []
  },
  {
   "cell_type": "code",
   "execution_count": null,
   "id": "d5ccf193",
   "metadata": {},
   "outputs": [],
   "source": []
  },
  {
   "cell_type": "code",
   "execution_count": 1,
   "id": "5a611540",
   "metadata": {},
   "outputs": [
    {
     "name": "stdout",
     "output_type": "stream",
     "text": [
      "Original Array: array('i', [41, 100, 33, 49, 14, 88, 17, 99, 28, 5, 1, 80])\n",
      "Reversed Array: array('i', [80, 1, 5, 28, 99, 17, 88, 14, 49, 33, 100, 41])\n",
      "<class 'array.array'>\n"
     ]
    }
   ],
   "source": [
    "# Question 4: Array Sorting\n",
    "\n",
    "\n",
    "# a) Create an array of 12 integers in random order.\n",
    "\n",
    "import array\n",
    "import random\n",
    "\n",
    "# Create an array of 12 integers in random order\n",
    "original_array = array.array('i', [random.randint(1, 100) for _ in range(12)])\n",
    "\n",
    "\n",
    "# b) Arrange the array in reverse order.\n",
    "\n",
    "original_array.reverse()\n",
    "\n",
    "\n",
    "# c) Display both the arrays.\n",
    "\n",
    "print(\"Original Array:\", original_array)\n",
    "reversed_array = array.array('i', original_array)\n",
    "reversed_array.reverse()\n",
    "print(\"Reversed Array:\", reversed_array)\n",
    "print(type(original_array))"
   ]
  },
  {
   "cell_type": "code",
   "execution_count": null,
   "id": "a502ad54",
   "metadata": {},
   "outputs": [],
   "source": []
  },
  {
   "cell_type": "code",
   "execution_count": null,
   "id": "b10d0352",
   "metadata": {},
   "outputs": [],
   "source": []
  },
  {
   "cell_type": "code",
   "execution_count": null,
   "id": "45ea30f0",
   "metadata": {},
   "outputs": [],
   "source": []
  },
  {
   "cell_type": "code",
   "execution_count": null,
   "id": "5476a34d",
   "metadata": {},
   "outputs": [],
   "source": []
  }
 ],
 "metadata": {
  "kernelspec": {
   "display_name": "Python 3 (ipykernel)",
   "language": "python",
   "name": "python3"
  },
  "language_info": {
   "codemirror_mode": {
    "name": "ipython",
    "version": 3
   },
   "file_extension": ".py",
   "mimetype": "text/x-python",
   "name": "python",
   "nbconvert_exporter": "python",
   "pygments_lexer": "ipython3",
   "version": "3.11.4"
  }
 },
 "nbformat": 4,
 "nbformat_minor": 5
}
