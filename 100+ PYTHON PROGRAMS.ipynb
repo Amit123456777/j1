{
 "cells": [
  {
   "cell_type": "code",
   "execution_count": 1,
   "id": "b7392904",
   "metadata": {},
   "outputs": [],
   "source": [
    "# 1. python program to add two numbers"
   ]
  },
  {
   "cell_type": "code",
   "execution_count": 6,
   "id": "d5302548",
   "metadata": {},
   "outputs": [
    {
     "name": "stdout",
     "output_type": "stream",
     "text": [
      "the sum of given two number is 70\n"
     ]
    }
   ],
   "source": [
    "# Solution-1 (with pre-defined variables)\n",
    "num1 = 30\n",
    "num2 = 40\n",
    "sum = num1+num2\n",
    "print(\"the sum of given two number is\", sum)"
   ]
  },
  {
   "cell_type": "code",
   "execution_count": 7,
   "id": "65eb52ad",
   "metadata": {},
   "outputs": [
    {
     "name": "stdout",
     "output_type": "stream",
     "text": [
      "enter a number here: 12\n",
      "enter another number here: 13\n",
      "the sum of the provided two numbers is 25.0\n"
     ]
    }
   ],
   "source": [
    "# Solution-2 (with user-inputs)\n",
    "\n",
    "num1 = float(input(\"enter a number here: \"))\n",
    "num2 = float(input(\"enter another number here: \"))\n",
    "\n",
    "sum = num1 + num2\n",
    "print (\"the sum of the provided two numbers is\", sum)"
   ]
  },
  {
   "cell_type": "code",
   "execution_count": null,
   "id": "027c74c2",
   "metadata": {},
   "outputs": [],
   "source": []
  },
  {
   "cell_type": "code",
   "execution_count": 8,
   "id": "a92e8bce",
   "metadata": {},
   "outputs": [],
   "source": [
    "# 2.\n",
    "# Python Program to Print Hello World"
   ]
  },
  {
   "cell_type": "code",
   "execution_count": 10,
   "id": "214b49ab",
   "metadata": {},
   "outputs": [
    {
     "name": "stdout",
     "output_type": "stream",
     "text": [
      "hello world\n"
     ]
    }
   ],
   "source": [
    "print(\"hello world\")"
   ]
  },
  {
   "cell_type": "code",
   "execution_count": null,
   "id": "e77e007b",
   "metadata": {},
   "outputs": [],
   "source": []
  },
  {
   "cell_type": "code",
   "execution_count": 11,
   "id": "b5e7c5bd",
   "metadata": {},
   "outputs": [],
   "source": [
    "# 3.\n",
    "# Python Program to Find The Square Root"
   ]
  },
  {
   "cell_type": "code",
   "execution_count": null,
   "id": "8b54536d",
   "metadata": {},
   "outputs": [],
   "source": [
    "# Solution-1 (Using Exponentiation)\n",
    "# num = 64 without input\n",
    "num1 = int(input(\"enter a number here: \"))\n",
    "sr = num1**(1/2)\n",
    "print(\"the square root of the given number is\",sr)"
   ]
  },
  {
   "cell_type": "code",
   "execution_count": 2,
   "id": "5ab7768f",
   "metadata": {},
   "outputs": [
    {
     "name": "stdout",
     "output_type": "stream",
     "text": [
      "enter a number here: 49\n",
      "the square root of the given number is 7.0\n"
     ]
    }
   ],
   "source": [
    "#Solution-2 (Using Math Module)\n",
    "import math\n",
    "num = int(input(\"enter a number here: \"))\n",
    "sr = math.sqrt(num)\n",
    "print(\"the square root of the given number is\",sr)\n"
   ]
  },
  {
   "cell_type": "code",
   "execution_count": 3,
   "id": "641e1f6a",
   "metadata": {},
   "outputs": [],
   "source": [
    "# program 4\n",
    "# Python Program to Calculate the Area of a Triangle"
   ]
  },
  {
   "cell_type": "code",
   "execution_count": 7,
   "id": "01751d2c",
   "metadata": {},
   "outputs": [
    {
     "name": "stdout",
     "output_type": "stream",
     "text": [
      "enter the height of the triangle: 6\n",
      "enter the height of the triangle: 4\n",
      "the area of triangle is 12.0\n"
     ]
    }
   ],
   "source": [
    "height = float(input(\"enter the height of the triangle: \"))\n",
    "base = float(input(\"enter the height of the triangle: \"))\n",
    "\n",
    "area = (0.5)*base*height\n",
    "print('the area of triangle is',area)"
   ]
  },
  {
   "cell_type": "code",
   "execution_count": null,
   "id": "1151b14c",
   "metadata": {},
   "outputs": [],
   "source": []
  },
  {
   "cell_type": "code",
   "execution_count": 8,
   "id": "b7913930",
   "metadata": {},
   "outputs": [],
   "source": [
    "# program 5\n",
    "# Python Program to Swap to Variables"
   ]
  },
  {
   "cell_type": "code",
   "execution_count": 11,
   "id": "73cef1bf",
   "metadata": {},
   "outputs": [
    {
     "name": "stdout",
     "output_type": "stream",
     "text": [
      "12\n",
      "13\n"
     ]
    }
   ],
   "source": [
    "# Solution-1 (Using third variable)\n",
    "x = 13\n",
    "y = 12\n",
    "temp = x\n",
    "x = y\n",
    "y = temp\n",
    "print(x)\n",
    "print(y)"
   ]
  },
  {
   "cell_type": "code",
   "execution_count": 12,
   "id": "68a5f7ea",
   "metadata": {},
   "outputs": [
    {
     "name": "stdout",
     "output_type": "stream",
     "text": [
      "the value of x is 13\n",
      "the value of y is 12\n"
     ]
    }
   ],
   "source": [
    "#Solution2 (without using third variable)\n",
    "x = 12\n",
    "y = 13\n",
    "\n",
    "x,y = y,x\n",
    "\n",
    "print(\"the value of x is\",x)\n",
    "print(\"the value of y is\",y)"
   ]
  },
  {
   "cell_type": "code",
   "execution_count": null,
   "id": "68a8a082",
   "metadata": {},
   "outputs": [],
   "source": []
  },
  {
   "cell_type": "code",
   "execution_count": 13,
   "id": "bb739a84",
   "metadata": {},
   "outputs": [],
   "source": [
    "# program 6\n",
    "# Python Program to Convert Kilometers to Miles"
   ]
  },
  {
   "cell_type": "code",
   "execution_count": 14,
   "id": "9a417266",
   "metadata": {},
   "outputs": [],
   "source": [
    "# 1 Kilometre = 0.621371 Mile\n",
    "# 5 km = 5*(0.621371)"
   ]
  },
  {
   "cell_type": "code",
   "execution_count": 17,
   "id": "2d205fec",
   "metadata": {},
   "outputs": [
    {
     "name": "stdout",
     "output_type": "stream",
     "text": [
      "enter your value in kms: 5\n",
      "5.0 kms will be 3.106855 miles\n"
     ]
    }
   ],
   "source": [
    "km = float(input(\"enter your value in kms: \"))\n",
    "miles = (0.621371)*km\n",
    "print(km, \"kms will be\", miles, \"miles\") # print me strings likhna jruri ni hai. but it makes effective our program\n"
   ]
  },
  {
   "cell_type": "code",
   "execution_count": null,
   "id": "6a40979d",
   "metadata": {},
   "outputs": [],
   "source": []
  },
  {
   "cell_type": "code",
   "execution_count": 19,
   "id": "953514eb",
   "metadata": {},
   "outputs": [],
   "source": [
    "# program 7\n",
    "# Python Program to Check if a Number is Positive, Negative or Zero:"
   ]
  },
  {
   "cell_type": "code",
   "execution_count": 25,
   "id": "0f4247bf",
   "metadata": {},
   "outputs": [
    {
     "name": "stdout",
     "output_type": "stream",
     "text": [
      "enter a number here: 12\n",
      "It is a positive\n"
     ]
    }
   ],
   "source": [
    "# num = 12\n",
    "num = int(input(\"enter a number here: \"))\n",
    "if num > 0:\n",
    "    print(\"It is a positive\")\n",
    "elif num == 0:\n",
    "    print(\"It is zero\")\n",
    "else:\n",
    "    print(\"It is a negative\")"
   ]
  },
  {
   "cell_type": "code",
   "execution_count": null,
   "id": "a1bb4c46",
   "metadata": {},
   "outputs": [],
   "source": []
  },
  {
   "cell_type": "code",
   "execution_count": 26,
   "id": "e9c23d7d",
   "metadata": {},
   "outputs": [],
   "source": [
    "# program 8\n",
    "# Python Program to Check if a Number is Odd or Even\n",
    "# note zero is also even\n"
   ]
  },
  {
   "cell_type": "code",
   "execution_count": 29,
   "id": "4498b288",
   "metadata": {},
   "outputs": [
    {
     "name": "stdout",
     "output_type": "stream",
     "text": [
      "enter a number here : 12\n",
      "It is an even number\n"
     ]
    }
   ],
   "source": [
    "# num = 12  # without input\n",
    "num = int(input(\"enter a number here : \")) # with input\n",
    "\n",
    "if num%2==0:          # modulu/remainder operator\n",
    "    print(\"It is an even number\")\n",
    "else:\n",
    "    print(\"It is an odd number\")"
   ]
  },
  {
   "cell_type": "code",
   "execution_count": null,
   "id": "2e183058",
   "metadata": {},
   "outputs": [],
   "source": []
  },
  {
   "cell_type": "code",
   "execution_count": 30,
   "id": "cceedbe8",
   "metadata": {},
   "outputs": [],
   "source": [
    "# program 10\n",
    "# Python Program to Check Leap Year\n",
    "# explanation in video"
   ]
  },
  {
   "cell_type": "code",
   "execution_count": 36,
   "id": "07c57ec9",
   "metadata": {},
   "outputs": [
    {
     "name": "stdout",
     "output_type": "stream",
     "text": [
      "enter year here: 3000\n",
      "leap year\n"
     ]
    }
   ],
   "source": [
    "n = int(input(\"enter year here: \"))\n",
    "if n % 4 ==0:\n",
    "    print(\"leap year\")\n",
    "else:\n",
    "    print(\"not leap year\")"
   ]
  },
  {
   "cell_type": "code",
   "execution_count": 40,
   "id": "59dd1073",
   "metadata": {},
   "outputs": [
    {
     "name": "stdout",
     "output_type": "stream",
     "text": [
      "enter a year: 3000\n",
      "3000 year is not leap year\n"
     ]
    }
   ],
   "source": [
    "year = int(input(\"enter a year: \"))\n",
    "\n",
    "if (year % 400 == 0) and (year % 100 == 0):\n",
    "    print(year, \"is a leap year\")\n",
    "elif(year % 4 == 0) and (year % 100 != 0):\n",
    "    print(year, \"is a leap year\")\n",
    "else:\n",
    "    print(year, \"year is not leap year\")"
   ]
  },
  {
   "cell_type": "code",
   "execution_count": null,
   "id": "48ef0146",
   "metadata": {},
   "outputs": [],
   "source": []
  }
 ],
 "metadata": {
  "kernelspec": {
   "display_name": "Python 3 (ipykernel)",
   "language": "python",
   "name": "python3"
  },
  "language_info": {
   "codemirror_mode": {
    "name": "ipython",
    "version": 3
   },
   "file_extension": ".py",
   "mimetype": "text/x-python",
   "name": "python",
   "nbconvert_exporter": "python",
   "pygments_lexer": "ipython3",
   "version": "3.11.4"
  }
 },
 "nbformat": 4,
 "nbformat_minor": 5
}
