{
 "cells": [
  {
   "cell_type": "code",
   "execution_count": 6,
   "id": "9e918b17-331e-4a41-8c2a-db0efd8f2b22",
   "metadata": {},
   "outputs": [
    {
     "name": "stdout",
     "output_type": "stream",
     "text": [
      "<class 'tuple'>\n",
      "0\n"
     ]
    }
   ],
   "source": [
    "# Tuple"
   ]
  },
  {
   "cell_type": "code",
   "execution_count": 38,
   "id": "9cbdc608-c7cd-4eac-846e-62d84c19e63c",
   "metadata": {},
   "outputs": [
    {
     "name": "stdout",
     "output_type": "stream",
     "text": [
      "<class 'tuple'>\n",
      "0\n"
     ]
    }
   ],
   "source": [
    "tup = (1,2,5,6,7,7,9,7,3,4,6,7,3)\n",
    "print(type(tup))\n",
    "print(tup.count(\"c\"))"
   ]
  },
  {
   "cell_type": "code",
   "execution_count": 15,
   "id": "753e9d29-5eaa-4e5a-bddc-4f3f645b8fac",
   "metadata": {},
   "outputs": [
    {
     "data": {
      "text/plain": [
       "4"
      ]
     },
     "execution_count": 15,
     "metadata": {},
     "output_type": "execute_result"
    }
   ],
   "source": [
    "tup.index(7)"
   ]
  },
  {
   "cell_type": "code",
   "execution_count": 22,
   "id": "d5c73f81-b9bc-4a12-82dc-b3cd8e148aff",
   "metadata": {},
   "outputs": [
    {
     "data": {
      "text/plain": [
       "0"
      ]
     },
     "execution_count": 22,
     "metadata": {},
     "output_type": "execute_result"
    }
   ],
   "source": [
    "# negative indexing\n",
    "tup.count(-3)"
   ]
  },
  {
   "cell_type": "code",
   "execution_count": 33,
   "id": "aa72d0d9-4f7f-4224-bed4-9e2cf7851d78",
   "metadata": {},
   "outputs": [
    {
     "data": {
      "text/plain": [
       "4"
      ]
     },
     "execution_count": 33,
     "metadata": {},
     "output_type": "execute_result"
    }
   ],
   "source": [
    "tup.index(7,3,6) # (element,start,end)"
   ]
  },
  {
   "cell_type": "code",
   "execution_count": 37,
   "id": "832f0ff5-285e-4f1a-86bd-73e28454d419",
   "metadata": {},
   "outputs": [
    {
     "data": {
      "text/plain": [
       "7"
      ]
     },
     "execution_count": 37,
     "metadata": {},
     "output_type": "execute_result"
    }
   ],
   "source": [
    "tup = (1,2,5,6,7,7,9,7,3,4,6,7,3)\n",
    "print(type(tup))\n",
    "\n",
    "tup.index(7,6)"
   ]
  },
  {
   "cell_type": "code",
   "execution_count": 19,
   "id": "630a646e-e8b2-4868-9148-06a15b966856",
   "metadata": {},
   "outputs": [
    {
     "name": "stdout",
     "output_type": "stream",
     "text": [
      "<class 'tuple'>\n"
     ]
    }
   ],
   "source": [
    "tup1 = (\"a\",\"b\",\"c\")\n",
    "print(type(tup1))"
   ]
  },
  {
   "cell_type": "code",
   "execution_count": null,
   "id": "8049fa42-764a-4dab-b822-eb50e7562ce9",
   "metadata": {},
   "outputs": [],
   "source": []
  },
  {
   "cell_type": "code",
   "execution_count": null,
   "id": "109b1225-f09b-4cc3-a109-443631b568b2",
   "metadata": {},
   "outputs": [],
   "source": []
  },
  {
   "cell_type": "code",
   "execution_count": null,
   "id": "9dfd36e5-7494-4b0c-bd7a-d800445b9707",
   "metadata": {},
   "outputs": [],
   "source": []
  },
  {
   "cell_type": "code",
   "execution_count": 109,
   "id": "d8bc7199-4646-4382-91f1-0d5dd439fc00",
   "metadata": {},
   "outputs": [
    {
     "name": "stdout",
     "output_type": "stream",
     "text": [
      "{1, 2, 3, 4, 5}\n",
      "<class 'set'>\n"
     ]
    }
   ],
   "source": [
    "# set\n",
    "\n",
    "set1 = {1,2,5,4,3}\n",
    "print(set1)\n",
    "print(type(set1))\n"
   ]
  },
  {
   "cell_type": "code",
   "execution_count": 110,
   "id": "c1772833-4dba-4ff6-8ba8-1fd5ce180693",
   "metadata": {},
   "outputs": [
    {
     "name": "stdout",
     "output_type": "stream",
     "text": [
      "{1, 2, 3, 4, 5, 6}\n"
     ]
    }
   ],
   "source": [
    "# add\n",
    "set1.add(6)  # element\n",
    "print(set1)"
   ]
  },
  {
   "cell_type": "code",
   "execution_count": 111,
   "id": "d052af4e-2010-4596-9d46-21e14d56ba7e",
   "metadata": {},
   "outputs": [
    {
     "name": "stdout",
     "output_type": "stream",
     "text": [
      "{1, 2, 3, 4, 5}\n"
     ]
    }
   ],
   "source": [
    "# discard\n",
    "# pop \n",
    "# remove\n",
    "# clear\n",
    "set1.discard(6) # element\n",
    "print(set1)"
   ]
  },
  {
   "cell_type": "code",
   "execution_count": 112,
   "id": "5d9cd0cb-0a03-4e0e-a1d4-a784886fda55",
   "metadata": {},
   "outputs": [
    {
     "data": {
      "text/plain": [
       "1"
      ]
     },
     "execution_count": 112,
     "metadata": {},
     "output_type": "execute_result"
    }
   ],
   "source": [
    "set1.pop()\n"
   ]
  },
  {
   "cell_type": "code",
   "execution_count": 113,
   "id": "e33168f8-784e-4b06-aba7-75f3086f3eab",
   "metadata": {},
   "outputs": [
    {
     "data": {
      "text/plain": [
       "{2, 3, 4, 5}"
      ]
     },
     "execution_count": 113,
     "metadata": {},
     "output_type": "execute_result"
    }
   ],
   "source": [
    "set1"
   ]
  },
  {
   "cell_type": "code",
   "execution_count": 114,
   "id": "e12a42f3-8cfa-49e0-9c60-05b4729ca1d9",
   "metadata": {},
   "outputs": [
    {
     "name": "stdout",
     "output_type": "stream",
     "text": [
      "{3, 4, 5}\n"
     ]
    }
   ],
   "source": [
    "set1.remove(2)  # element\n",
    "print(set1)"
   ]
  },
  {
   "cell_type": "code",
   "execution_count": null,
   "id": "45780452-dbbd-4b18-96fb-8e13e661c460",
   "metadata": {},
   "outputs": [],
   "source": []
  },
  {
   "cell_type": "code",
   "execution_count": 99,
   "id": "e5afd6f9-7e67-45e8-aa32-3d1effa8b90a",
   "metadata": {},
   "outputs": [],
   "source": [
    "# DICTIONARY = python dictionary is like a map , it is a collection of key value pairs"
   ]
  },
  {
   "cell_type": "code",
   "execution_count": 118,
   "id": "be146049-8ab7-425c-bd9d-121a6d108148",
   "metadata": {},
   "outputs": [
    {
     "name": "stdout",
     "output_type": "stream",
     "text": [
      "{'maths': [90, 60, 80, 77], 'science': [60, 70, 90, 98], 'english': [70, 40, 99, 97]}\n",
      "<class 'dict'>\n"
     ]
    }
   ],
   "source": [
    "dic = {\"maths\":[90,60,80,77], \"science\" : [60,70,90,98], \"english\":[70,40,99,97]}\n",
    "print(dic)\n",
    "print(type(dic))"
   ]
  },
  {
   "cell_type": "code",
   "execution_count": 121,
   "id": "41c5a5b4-d9d0-4597-b580-f5f799961560",
   "metadata": {},
   "outputs": [
    {
     "name": "stdout",
     "output_type": "stream",
     "text": [
      "{}\n"
     ]
    }
   ],
   "source": [
    "dic.clear()\n",
    "print(dic)"
   ]
  },
  {
   "cell_type": "code",
   "execution_count": 125,
   "id": "a48c5a46-2039-48df-ac56-cccf9a98e5c1",
   "metadata": {},
   "outputs": [
    {
     "name": "stdout",
     "output_type": "stream",
     "text": [
      "<class 'dict'>\n",
      "[90, 60, 80, 77]\n"
     ]
    }
   ],
   "source": [
    "# get method\n",
    "# is used to access particular values\n",
    "\n",
    "\n",
    "dic = {\"maths\":[90,60,80,77], \"science\" : [60,70,90,98], \"english\":[70,40,99,97]}\n",
    "print(type(dic))\n",
    "\n",
    "print(dic.get(\"maths\"))   \n",
    "\n",
    "\n",
    "# NOTE: get is syntax and maths is parameter"
   ]
  },
  {
   "cell_type": "code",
   "execution_count": 129,
   "id": "aa17e1f4-33e0-472e-8579-f087e6efb058",
   "metadata": {},
   "outputs": [
    {
     "name": "stdout",
     "output_type": "stream",
     "text": [
      "<class 'dict'>\n"
     ]
    },
    {
     "data": {
      "text/plain": [
       "dict_items([('maths', [90, 60, 80, 77]), ('science', [60, 70, 90, 98]), ('english', [70, 40, 99, 97])])"
      ]
     },
     "execution_count": 129,
     "metadata": {},
     "output_type": "execute_result"
    }
   ],
   "source": [
    "# item\n",
    "\n",
    "dic = {\"maths\":[90,60,80,77], \"science\" : [60,70,90,98], \"english\":[70,40,99,97]}\n",
    "dic.items()"
   ]
  },
  {
   "cell_type": "code",
   "execution_count": 134,
   "id": "f35e36e3-990a-4c8c-ab32-8af8039fba02",
   "metadata": {},
   "outputs": [
    {
     "data": {
      "text/plain": [
       "[('maths', [90, 60, 80, 77]),\n",
       " ('science', [60, 70, 90, 98]),\n",
       " ('english', [70, 40, 99, 97])]"
      ]
     },
     "execution_count": 134,
     "metadata": {},
     "output_type": "execute_result"
    }
   ],
   "source": [
    "list(dic.items())"
   ]
  },
  {
   "cell_type": "code",
   "execution_count": 140,
   "id": "b37e64ab-adc7-4c95-81b3-81dd3f854204",
   "metadata": {},
   "outputs": [
    {
     "data": {
      "text/plain": [
       "[90, 60, 80, 77]"
      ]
     },
     "execution_count": 140,
     "metadata": {},
     "output_type": "execute_result"
    }
   ],
   "source": [
    "list(dic.items())[0][1]  "
   ]
  },
  {
   "cell_type": "code",
   "execution_count": 136,
   "id": "f1e1c622-3abf-4d0b-bb11-b4cb545a8d5a",
   "metadata": {},
   "outputs": [
    {
     "data": {
      "text/plain": [
       "dict_keys(['maths', 'science', 'english'])"
      ]
     },
     "execution_count": 136,
     "metadata": {},
     "output_type": "execute_result"
    }
   ],
   "source": [
    "dic = {\"maths\":[90,60,80,77], \"science\" : [60,70,90,98], \"english\":[70,40,99,97]}\n",
    "dic.keys()\n"
   ]
  },
  {
   "cell_type": "code",
   "execution_count": null,
   "id": "570aa131-4a8a-427a-ba38-b99af293c6be",
   "metadata": {},
   "outputs": [],
   "source": []
  }
 ],
 "metadata": {
  "kernelspec": {
   "display_name": "Python 3 (ipykernel)",
   "language": "python",
   "name": "python3"
  },
  "language_info": {
   "codemirror_mode": {
    "name": "ipython",
    "version": 3
   },
   "file_extension": ".py",
   "mimetype": "text/x-python",
   "name": "python",
   "nbconvert_exporter": "python",
   "pygments_lexer": "ipython3",
   "version": "3.11.4"
  }
 },
 "nbformat": 4,
 "nbformat_minor": 5
}
